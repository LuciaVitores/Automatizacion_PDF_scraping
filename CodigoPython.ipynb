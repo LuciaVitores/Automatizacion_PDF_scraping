{
 "cells": [
  {
   "cell_type": "markdown",
   "metadata": {},
   "source": [
    "<img style=\"float:left\" width=\"40%\" src=\"ubugrado.png\">\n",
    "<img style=\"float:right\" width=\"8%\" src=\"gradoingenieriasalud.png\">\n",
    "<br style=\"clear:both;\">\n",
    "\n",
    "## Automatización de extracción de datos de informes de secuenciación masiva del software _Oncomine Reporter_\n",
    "\n",
    "\n",
    "####  Tutor: Antonio Jesús Canepa Oneto.\n",
    "#### Alumna: Lucía Vítores López\n",
    "\n",
    "##### Julio de 2023."
   ]
  },
  {
   "cell_type": "markdown",
   "metadata": {},
   "source": [
    "## ÍNDICE:\n",
    "1. [Importaciones](#1)\n",
    "\n",
    "\n",
    "\n",
    "2. [Desarrollo código](#2)\n",
    "\n",
    "    2.1. [Definición de funciones](#2.1.)\n",
    "    \n",
    "    2.2. [Importación de ficheros Excel](#2.2)\n",
    "    \n",
    "    2.3. [Definición de algunas variables](#2.3)\n",
    "    \n",
    "    2.4. [Diagnóstico](#2.3.1)\n",
    "    \n",
    "    2.5. [NHC](#2.3.2)\n",
    "    \n",
    "    2.6. [Biopsia](#2.3.3)\n",
    "    \n",
    "    2.7. [Biopsia sólida](#2.3.4)\n",
    "    \n",
    "    2.8. [Fecha](#2.3.5)\n",
    "    \n",
    "    2.9. [Definimos el resto de las variables](#2.4)\n",
    "    \n",
    "    2.10. [Ensayos clínicos y tratamientos disponibles](#2.4.1)\n",
    "    \n",
    "    2.11. [Número de chip y de paciente](#2.4.2)\n",
    "    \n",
    "    2.12. [Mutaciones y derivados](#2.4.3)\n",
    "    \n",
    "    2.13. [Mutaciones totales](#2.4.3.1)\n",
    "    \n",
    "    2.14. [Genes patogénicos](#2.4.3.2)\n",
    "    \n",
    "    2.15. [Variables de interés](#2.5)\n",
    "    \n",
    "    \n",
    "    \n",
    "3. [Creación de DataFrame](#3)\n",
    "\n",
    "\n",
    "4. [Exportación](#4)"
   ]
  },
  {
   "cell_type": "markdown",
   "metadata": {},
   "source": [
    "## 1. Importaciones. <a id = \"1\"></a><a href=\"#index\"><i class=\"fa fa-list-alt\" aria-hidden=\"true\"></i></a>"
   ]
  },
  {
   "cell_type": "markdown",
   "metadata": {},
   "source": [
    "Hacemos las importaciones necesarias para que funcione el código.\n",
    "\n",
    "Cada una de las bibliotecas estará correctamente explicada en la memoria disponible en GitHub. "
   ]
  },
  {
   "cell_type": "code",
   "execution_count": 1,
   "metadata": {},
   "outputs": [],
   "source": [
    "import fitz \n",
    "import re\n",
    "import pandas as pd\n",
    "import os\n",
    "import numpy as np"
   ]
  },
  {
   "cell_type": "markdown",
   "metadata": {},
   "source": [
    "## 2. Desarrollo código. <a id = \"2\"></a><a href=\"#index\"><i class=\"fa fa-list-alt\" aria-hidden=\"true\"></i></a>"
   ]
  },
  {
   "cell_type": "code",
   "execution_count": 2,
   "metadata": {},
   "outputs": [],
   "source": [
    "CarpetaEntrada = \"INPUT\"\n",
    "CarpetaDatos = \"DATOS\"\n",
    "CarpetaInformes = \"INFORMES\"\n",
    "CarpetaSalida = \"OUTPUT\"\n",
    "CarpetaResultados = \"RESULTADOS\"\n",
    "PathBase = os.getcwd()"
   ]
  },
  {
   "cell_type": "markdown",
   "metadata": {},
   "source": [
    "## 2.1. Definición de funciones. <a id = \"2.1.\"></a><a href=\"#index\"><i class=\"fa fa-list-alt\" aria-hidden=\"true\"></i></a>"
   ]
  },
  {
   "cell_type": "markdown",
   "metadata": {},
   "source": [
    "Para la función `LeerFicherosPDF` se crea una lista vacía llamada **ficheros** y otra llamada **subcarpetas** que almacena las subcarpetas encontradas dentro de la ruta determinada por **os.walk(ruta)**. \n",
    "\n",
    "Se ordenan con **sorted()** usando el argumento **key** para hacerlo de forma numérica, sin tener en cuenta los valores no numéricos del nombre de cada carpeta. \n",
    "\n",
    "\n",
    "Se itera sobre las subcarpetas ordenadas y se lee cada archivo PDF dentro de ellas, agregándolos a la lista ficheros junto con su ruta completa.\n",
    "\n",
    "La función devuelve la lista ficheros que contiene las rutas de todos los archivos PDF encontrados en las subcarpetas ordenadas."
   ]
  },
  {
   "cell_type": "code",
   "execution_count": null,
   "metadata": {},
   "outputs": [
    {
     "data": {
      "text/plain": [
       "\"def LeerFicherosPDF(ruta):\\n    ficheros = []\\n\\n    for raiz, directorios, archivos in os.walk(ruta):\\n        for archivo in archivos:\\n            if archivo.endswith('.pdf'):\\n                ficheros.append(os.path.join(raiz,archivo))\\n\\n    return ficheros\\n\""
      ]
     },
     "execution_count": 32,
     "metadata": {},
     "output_type": "execute_result"
    }
   ],
   "source": [
    "'''def LeerFicherosPDF(ruta):\n",
    "    ficheros = []\n",
    "\n",
    "    for raiz, directorios, archivos in os.walk(ruta):\n",
    "        for archivo in archivos:\n",
    "            if archivo.endswith('.pdf'):\n",
    "                ficheros.append(os.path.join(raiz,archivo))\n",
    "\n",
    "    return ficheros\n",
    "'''"
   ]
  },
  {
   "cell_type": "code",
   "execution_count": 3,
   "metadata": {},
   "outputs": [],
   "source": [
    "def LeerFicherosPDF(ruta):\n",
    "    ficheros = []\n",
    "    subcarpetas = []\n",
    "\n",
    "    for raiz, directorios, archivos in os.walk(ruta):\n",
    "        # Obtener las subcarpetas y ordenarlas por nombre de forma numérica\n",
    "        subcarpetas = sorted(directorios, key=lambda x: int(re.sub('\\D', '', x)))\n",
    "\n",
    "        for subcarpeta in subcarpetas:\n",
    "            subcarpeta_ruta = os.path.normpath(os.path.join(raiz, subcarpeta))\n",
    "            for archivo in os.listdir(subcarpeta_ruta):\n",
    "                if archivo.endswith('.pdf'):\n",
    "                    ficheros.append(os.path.normpath(os.path.join(subcarpeta_ruta, archivo)))\n",
    "                    \n",
    "    for archivo in os.listdir(ruta):\n",
    "        if archivo.endswith('.pdf'):\n",
    "            ficheros.append(os.path.normpath(os.path.join(ruta, archivo)))\n",
    "\n",
    "    return ficheros\n"
   ]
  },
  {
   "cell_type": "markdown",
   "metadata": {},
   "source": [
    "La función `LeerDocumento` lee el contenido de un documento usando la libreria **PyMuPDF** (fitz). \n",
    "\n",
    "Con **fitz.open()** abre el documento denominado **nombreFichero** e inicializa la variable **text** como cadena vacía.\n",
    "\n",
    "El bucle for nos permite recorrer cada página del documento y obtener el texto que lo forma. \n",
    "\n",
    "Finalmente, la función devuelve el texto dividido con el separador \\n."
   ]
  },
  {
   "cell_type": "code",
   "execution_count": 4,
   "metadata": {},
   "outputs": [],
   "source": [
    "def LeerDocumento(nombreFichero):\n",
    "    with fitz.open(nombreFichero) as doc:\n",
    "        text=\"\"\n",
    "        for page in doc:\n",
    "            text = text + page.get_text()\n",
    "    return text.split('\\n')"
   ]
  },
  {
   "cell_type": "markdown",
   "metadata": {},
   "source": [
    "La función `BuscarValor` nos permite buscar una palabra determinada en el texto de cada fichero. \n",
    "\n",
    "Busca la palabra definida en la cadena **textoBuscar** en la lista de cadenas **lines**, para ello usamos la biblioteca **re**. Se recorren las posiciones en busca de los valores definidos en **textoBuscar** y en caso de encontrar, la nueva variable **valores** almacenará un valor 1, en caso de que no esté almacena un 0. \n",
    "\n",
    "Con el bucle for recorremos cada uno de los elementos almacenados en **valores** y se usa la técnica slicing [:] para extraer la subcadena que hay tras la última vez que aparece la palabra, almacenando los resultados en la nueva variable **Encontrados**. Strip permite eliminar los espacios en blanco."
   ]
  },
  {
   "cell_type": "code",
   "execution_count": 5,
   "metadata": {},
   "outputs": [],
   "source": [
    "def BuscarValor(textoBuscar, lines):\n",
    "    Encontrados = []\n",
    "\n",
    "    valores = [1 if re.search(textoBuscar, line) else 0 for line in lines]\n",
    "    valores = [i for i, s in enumerate(valores)  if s==1 in valores]\n",
    "\n",
    "    posiciones = len(textoBuscar)\n",
    "    \n",
    "    for i in valores:\n",
    "        Encontrados.append(lines[i][lines[i].rfind(textoBuscar)+posiciones:].strip())\n",
    "\n",
    "    return Encontrados"
   ]
  },
  {
   "cell_type": "markdown",
   "metadata": {},
   "source": [
    "Esta función `GenerarImagen` es un extra que sirve para crear imágenes partiendo de los documentos. De cada hoja del fichero PDF se obtiene una imagen con su contenido.\n",
    "\n",
    "En caso de querer usarla solo hay que descomentar (eliminar ''')"
   ]
  },
  {
   "cell_type": "code",
   "execution_count": null,
   "metadata": {},
   "outputs": [
    {
     "data": {
      "text/plain": [
       "' def GenerarImagen(ruta, fichero):\\n    i = 0   \\n    zoom = 4\\n    mat = fitz.Matrix(zoom, zoom)\\n    with fitz.open(os.path.join(ruta,fichero)) as doc:\\n        for page in doc:\\n            i+=1\\n            val = f\"image_{i+1}.png\"\\n            pix = page.get_pixmap(matrix=mat)\\n            pix.save(os.path.join(ruta,fichero + \"_\" + val)) '"
      ]
     },
     "execution_count": 36,
     "metadata": {},
     "output_type": "execute_result"
    }
   ],
   "source": [
    "''' def GenerarImagen(ruta, fichero):\n",
    "    i = 0   \n",
    "    zoom = 4\n",
    "    mat = fitz.Matrix(zoom, zoom)\n",
    "    with fitz.open(os.path.join(ruta,fichero)) as doc:\n",
    "        for page in doc:\n",
    "            i+=1\n",
    "            val = f\"image_{i+1}.png\"\n",
    "            pix = page.get_pixmap(matrix=mat)\n",
    "            pix.save(os.path.join(ruta,fichero + \"_\" + val)) '''\n"
   ]
  },
  {
   "cell_type": "markdown",
   "metadata": {},
   "source": [
    "## 2.2. Importación de ficheros Excel. <a id = \"2.2\"></a><a href=\"#index\"><i class=\"fa fa-list-alt\" aria-hidden=\"true\"></i></a>"
   ]
  },
  {
   "cell_type": "code",
   "execution_count": 24,
   "metadata": {},
   "outputs": [
    {
     "name": "stdout",
     "output_type": "stream",
     "text": [
      "Carcinoma del tracto biliar 1.0\n",
      "Colangiocarcinoma 1.1\n",
      "Carcinoma de la vesícula biliar 1.2\n",
      "Cáncer de vejiga 2.0\n",
      "Carcinoma vesicular uroterial 2.1\n",
      "Cáncer de mama 3.0\n",
      "Triple negativo de mama 3.1\n",
      "Neoplasia del sistema nervioso central 4.0\n",
      "Glioma 4.1\n",
      "Cáncer cervical 5.0\n",
      "Condrosarcoma 6.0\n",
      "Cáncer colorrectal 7.0\n",
      "Carcinoma de células escamosas cutáneas 8.0\n",
      "Carcinoma endometrial 9.0\n",
      " Cáncer esofágico 10.0\n",
      "Cáncer gástrico 11.0\n",
      "Tumor del estroma gastrointestinal 11.1\n",
      "Cáncer de cabeza y cuello 12.0\n",
      "Cáncer de riñón 13.0\n",
      "Cáncer de hígado 14.0\n",
      "Carcinoma hepatocelular 14.1\n",
      "Cáncer de pulmón/pulmonar 15.0\n",
      "Carcinoma pulmonar no microcítico 15.1\n",
      "Carcinoma pulmonar microcítico 15.2\n",
      "Melanoma 16.0\n",
      "Carcinoma de células Merkel 17.0\n",
      "Mesotelioma 18.0\n",
      "Neoplasia mixto neuroendocrino no- neuroendocrino 19.0\n",
      "Carcinoma neuroendocrino 20.0\n",
      "Carcinoma neuroendocrino de células pequeñas 20.1\n",
      "Tumor neuroendocrino 21.0\n",
      "Osteosarcoma 22.0\n",
      "Cáncer de ovario 23.0\n",
      "Cáncer de páncreas 24.0\n",
      "Paraganglioma 25.0\n",
      "Cáncer de próstata 26.0\n",
      "Carcinoma de células basales de la piel 27.0\n",
      "Sarcoma de tejidos blandos 28.0\n",
      "Cáncer testicular 29.0\n",
      "Cáncer tiroideo 30.0\n",
      "Sarcoma uterino 31.0\n",
      "Melanoma uveal 32.0\n",
      "Origen primario desconocido 33.0\n",
      "Otro tumor sólido 34.0\n",
      "Linfoma 35.0\n"
     ]
    }
   ],
   "source": [
    "# Importamos el fichero que almacena los nombres del diagnóstico y su número correspondiente.\n",
    "# La ruta corresponde al lugar donde se encuentra el fichero Diagnostico.xlsx\n",
    "fichero = os.path.normpath(os.path.join(PathBase, CarpetaEntrada, CarpetaDatos, \"Diagnostico.xlsx\"))\n",
    "\n",
    "diagnostico = pd.read_excel(\"INPUT/DATOS/Diagnostico.xlsx\")\n",
    "#print(diagnostico)\n",
    "\n",
    "#Creo un diccionario con los valores del fichero importado. \n",
    "diagnosticos_dic = dict(zip(diagnostico[\"DIAGNÓSTICO\"], diagnostico[\"NÚMERO DIAGNÓSTICO\"]))\n",
    "\n",
    "# En cada iteración, almacena el diagnóstico y si valos correspondiente, almacenándolo en valor, lo que nos permite imprimir el diccionario en filas separadas. \n",
    "for diagnostico in diagnosticos_dic:\n",
    "    valor = diagnosticos_dic.get(diagnostico)\n",
    "    print(diagnostico, valor)\n"
   ]
  },
  {
   "cell_type": "code",
   "execution_count": 22,
   "metadata": {},
   "outputs": [
    {
     "name": "stdout",
     "output_type": "stream",
     "text": [
      "ABL1 1\n",
      "AKT1 2\n",
      "AKT3 3\n",
      "ALK 4\n",
      "AR 5\n",
      "AXL 6\n",
      "BRAF 7\n",
      "CCND1 8\n",
      "CDK4 9\n",
      "CDK6 10\n",
      "CTNNB1 11\n",
      "DDR2 12\n",
      "EGFR 13\n",
      "ERBB2 14\n",
      "ERBB3 15\n",
      "ERBB4 16\n",
      "ERG 17\n",
      "ESR1 18\n",
      "ETV1 19\n",
      "ETV4 20\n",
      "ETV5 21\n",
      "FGFR1 22\n",
      "FGFR2 23\n",
      "FGFR3 24\n",
      "FGFR4 25\n",
      "GNA11 26\n",
      "GNAQ 27\n",
      "HRAS 28\n",
      "IDH1 29\n",
      "IDH2 30\n",
      "JAK1 31\n",
      "JAK2 32\n",
      "JAK3 33\n",
      "KIT 34\n",
      "KRAS 35\n",
      "MAP2K1 36\n",
      "MAP2K2 37\n",
      "MET 38\n",
      "MTOR 39\n",
      "MYC 40\n",
      "MYCN 41\n",
      "NRAS 42\n",
      "NTRK1 43\n",
      "NTRK2 44\n",
      "NTRK3 45\n",
      "PDGFRA 46\n",
      "PIK3CA 47\n",
      "PPARG 48\n",
      "RAF1 49\n",
      "RET 50\n",
      "ROS1 51\n",
      "SMO 52\n"
     ]
    }
   ],
   "source": [
    "# Importamos el fichero Excel con la información tanto de los genes como de su número correspondiente. \n",
    "# La ruta corresponde a la posición donde se encuentra almacenado el fichero Genes.xlsx\n",
    "fichero = os.path.normpath(os.path.join(PathBase, CarpetaEntrada, CarpetaDatos, \"Genes.xlsx\"))\n",
    "\n",
    "genes = pd.read_excel(fichero)\n",
    "#print(genes)\n",
    "\n",
    "# Creamos una variable que contenga solo los nombres de los genes.\n",
    "mutaciones = genes[\"GEN\"].unique()\n",
    "#print(mutaciones)\n",
    "\n",
    "#Creo un diccionario con los valores del fichero.\n",
    "mutaciones_dic = dict(zip(genes[\"GEN\"], genes[\"Número gen\"]))\n",
    "mutaciones_dic\n",
    "\n",
    "# Usamos items() para recorrer los elementos del diccionario, devolviendo el gen con su respectivo valor.\n",
    "# Es otra forma de recorrer el diccionario para obtener su contenido.\n",
    "for gen, valor in mutaciones_dic.items():\n",
    "    print(gen, valor)"
   ]
  },
  {
   "cell_type": "markdown",
   "metadata": {},
   "source": [
    "## 2.3. Definición de algunas variables. <a id = \"2.3\"></a><a href=\"#index\"><i class=\"fa fa-list-alt\" aria-hidden=\"true\"></i></a>"
   ]
  },
  {
   "cell_type": "code",
   "execution_count": 25,
   "metadata": {},
   "outputs": [],
   "source": [
    "rutaEntrada = os.path.normpath(os.path.join(PathBase, CarpetaEntrada, CarpetaInformes))"
   ]
  },
  {
   "cell_type": "code",
   "execution_count": 26,
   "metadata": {},
   "outputs": [
    {
     "name": "stdout",
     "output_type": "stream",
     "text": [
      "[['00021', '00021', '00021'], ['00022', '00022', '00022'], ['00023', '00023'], ['00024', '00024'], ['00025', '00025', '00025'], ['00026', '00026', '00026'], ['00027', '00027'], ['00028', '00028'], ['1234567', '1234567', '1234567'], ['1234567', '1234567']]\n",
      "[['23B00021-A1', '23B00021-A1', '23B00021-A1'], ['22B00022-A2', '22B00022-A2', '22B00022-A2'], ['21B00023-A1', '21B00023-A1'], ['23B00024-A1', '23B00024-A1'], ['23C00025-A1', '23C00025-A1', '23C00025-A1'], ['23P00026', '23P00026', '23P00026'], ['22B00027-C4', '22B00027-C4'], ['23B00028-A2', '23B00028-A2'], ['23B000000-A1/CHIP100.1', '23B000000-A1/CHIP100.1', '23B000000-A1/CHIP100.1'], ['23B00000-A1/CHIP100.2', '23B00000-A1/CHIP100.2']]\n",
      "[['24-mar-2023', '24-mar-2023', '24-mar-2023'], ['24-mar-2023', '24-mar-2023', '24-mar-2023'], ['24-mar-2023', '24-mar-2023'], ['24-mar-2023', '24-mar-2023'], ['24-mar-2023', '24-mar-2023', '24-mar-2023'], ['24-mar-2023', '24-mar-2023', '24-mar-2023'], ['24-mar-2023', '24-mar-2023'], ['24-mar-2023', '24-mar-2023'], ['25-may-2023', '25-may-2023', '25-may-2023'], ['25-may-2023', '25-may-2023']]\n",
      "[['Carcinoma pulmonar no microcítico'], ['Carcinoma pulmonar no microcítico'], ['Carcinoma pulmonar no microcítico'], ['Carcinoma pulmonar no microcítico'], ['Carcinoma pulmonar no microcítico'], ['Carcinoma pulmonar no microcítico'], ['Cáncer tiroideo'], ['Cáncer gástrico'], ['Carcinoma pulmonar no microcítico', ''], ['Carcinoma pulmonar no microcítico', '']]\n"
     ]
    }
   ],
   "source": [
    "#Se inicializan las variables como listas vacías.\n",
    "fecha_Data = []\n",
    "NHC_Data = [] \n",
    "Nbiopsia_Data = [] \n",
    "texto_Data = []\n",
    "#Los resultados de la función LeerFicherosPDF se almacenan en ficheros.\n",
    "\n",
    "ficheros = LeerFicherosPDF(rutaEntrada)\n",
    "\n",
    "for ficheroPDF in ficheros:\n",
    "    #os.path.normpath() normaliza la ruta resultante eliminando cualquier redundancia en la ruta y asegura que esté en un formato estandarizado.\n",
    "    #os.path.join() une la ruta Ruta y el nombre del archivo ficheroPDF en una ruta completa. \n",
    "    lines = LeerDocumento(os.path.normpath(os.path.join(rutaEntrada,ficheroPDF)))\n",
    "\n",
    "    #print(lines)\n",
    "    #Aplicamos la función BuscarValor para almacenar distintas palabras dentro de distintas variables\n",
    "    NHC_Data.append(BuscarValor(\"NHC:\", lines))\n",
    "    Nbiopsia_Data.append(BuscarValor(\"biopsia:\", lines))\n",
    "    fecha_Data.append(BuscarValor(\"Fecha:\", lines))\n",
    "    texto_Data.append(BuscarValor(\"de la muestra:\", lines))\n",
    "    #GenerarImagen(Ruta, ficheroPDF)\n",
    "print(NHC_Data)\n",
    "print(Nbiopsia_Data)\n",
    "print(fecha_Data)\n",
    "print(texto_Data)"
   ]
  },
  {
   "cell_type": "markdown",
   "metadata": {},
   "source": [
    "## 2.3.1. Diagnóstico. <a id = \"2.3.1\"></a><a href=\"#index\"><i class=\"fa fa-list-alt\" aria-hidden=\"true\"></i></a>"
   ]
  },
  {
   "cell_type": "code",
   "execution_count": 27,
   "metadata": {},
   "outputs": [
    {
     "name": "stdout",
     "output_type": "stream",
     "text": [
      "['Carcinoma pulmonar no microcítico', 'Carcinoma pulmonar no microcítico', 'Carcinoma pulmonar no microcítico', 'Carcinoma pulmonar no microcítico', 'Carcinoma pulmonar no microcítico', 'Carcinoma pulmonar no microcítico', 'Cáncer tiroideo', 'Cáncer gástrico', 'Carcinoma pulmonar no microcítico', 'Carcinoma pulmonar no microcítico']\n",
      "[15.1]\n",
      "[15.1, 15.1]\n",
      "[15.1, 15.1, 15.1]\n",
      "[15.1, 15.1, 15.1, 15.1]\n",
      "[15.1, 15.1, 15.1, 15.1, 15.1]\n",
      "[15.1, 15.1, 15.1, 15.1, 15.1, 15.1]\n",
      "[15.1, 15.1, 15.1, 15.1, 15.1, 15.1, 30.0]\n",
      "[15.1, 15.1, 15.1, 15.1, 15.1, 15.1, 30.0, 11.0]\n",
      "[15.1, 15.1, 15.1, 15.1, 15.1, 15.1, 30.0, 11.0, 15.1]\n",
      "[15.1, 15.1, 15.1, 15.1, 15.1, 15.1, 30.0, 11.0, 15.1, 15.1]\n"
     ]
    }
   ],
   "source": [
    "# Definimos las variables que vamos a usar. \n",
    "textoDiag = []\n",
    "numeroDiag = []\n",
    "\n",
    "# Recorremos los resultados alamacenados en la variable texto_Data para crear una variable sin repeticiones donde almacene los resultados. \n",
    "# Texto_Data almacena los resultados obtenidos en la funcion BuscarValor. Lo que queremos es crear una variable que almacene solo una vez cada uno de los resultados obtenidos en las listas. \n",
    "for i in texto_Data:\n",
    "    sinduplicados = list(set(i))\n",
    "    textoDiag.append([x for x in i if x in sinduplicados][0])\n",
    "print(textoDiag)\n",
    "    \n",
    "# Teniendo importado ya el fichero de los diagnósticos, puedo usar este para recorrer la variable anterior textoDiag y en caso de que coincida\n",
    "# con algún elemento del diccionario, nos devuelve su valor en una nueva variable llamada numeroDiag.\n",
    "for diagnostico in textoDiag:\n",
    "    valor = diagnosticos_dic.get(diagnostico)\n",
    "    numeroDiag.append(valor)\n",
    "    print(numeroDiag)\n"
   ]
  },
  {
   "cell_type": "markdown",
   "metadata": {},
   "source": [
    "## 2.3.2 NHC. <a id = \"2.3.2\"></a><a href=\"#index\"><i class=\"fa fa-list-alt\" aria-hidden=\"true\"></i></a>"
   ]
  },
  {
   "cell_type": "code",
   "execution_count": 28,
   "metadata": {},
   "outputs": [
    {
     "name": "stdout",
     "output_type": "stream",
     "text": [
      "['00021', '00022', '00023', '00024', '00025', '00026', '00027', '00028', '1234567', '1234567']\n"
     ]
    }
   ],
   "source": [
    "# Definimos una nueva variable. \n",
    "NHC = []\n",
    "\n",
    "#Recorremos cada uno de los elementos de NHC_Data para crear una variable nueva que almacene únicamente uno de los resultados de cada fichero.\n",
    "for i in NHC_Data:\n",
    "    sinduplicadosNHC = list(set(i))\n",
    "    NHC.append([x for x in i if x in sinduplicadosNHC][0])\n",
    "print(NHC)"
   ]
  },
  {
   "cell_type": "markdown",
   "metadata": {},
   "source": [
    "## 2.3.3 Biopsia. <a id = \"2.3.3\"></a><a href=\"#index\"><i class=\"fa fa-list-alt\" aria-hidden=\"true\"></i></a>"
   ]
  },
  {
   "cell_type": "code",
   "execution_count": 29,
   "metadata": {},
   "outputs": [
    {
     "name": "stdout",
     "output_type": "stream",
     "text": [
      "[['23B00021-A1'], ['22B00022-A2'], ['21B00023-A1'], ['23B00024-A1'], ['23C00025-A1'], ['23P00026'], ['22B00027-C4'], ['23B00028-A2'], ['23B000000-A1/CHIP100.1'], ['23B00000-A1/CHIP100.2']]\n",
      "['23B00021-A1', '22B00022-A2', '21B00023-A1', '23B00024-A1', '23C00025-A1', '23P00026', '22B00027-C4', '23B00028-A2', '23B000000-A1/CHIP100.1', '23B00000-A1/CHIP100.2']\n"
     ]
    }
   ],
   "source": [
    "lista_resultante =  []\n",
    "elementos_vistos = set()\n",
    "\n",
    "# Recorremos los valores de Nbiopsia_Data para crear una variable sin duplicados y así asegurarnos de que solo existe una copia del total de resultados obtenidos. \n",
    "for sublist in Nbiopsia_Data:\n",
    "    sublist_sin_duplicados = []\n",
    "    for elemento in sublist:\n",
    "        if elemento not in elementos_vistos:\n",
    "            sublist_sin_duplicados.append(elemento)\n",
    "            elementos_vistos.add(elemento)\n",
    "    lista_resultante.append(sublist_sin_duplicados)\n",
    "\n",
    "print(lista_resultante)\n",
    "\n",
    "NB_values = [elemento for sublist in lista_resultante for elemento in sublist]\n",
    "print(NB_values)"
   ]
  },
  {
   "cell_type": "code",
   "execution_count": 30,
   "metadata": {},
   "outputs": [
    {
     "data": {
      "text/plain": [
       "['B', 'B', 'B', 'B', 'C', 'P', 'B', 'B', 'B', 'B']"
      ]
     },
     "execution_count": 30,
     "metadata": {},
     "output_type": "execute_result"
    }
   ],
   "source": [
    "# Nos interesa saber el valor del tercer elemento de cada uno de los valore de biopsia, ya que van a determinar sin son biopsia, citología o punción. \n",
    "biopsia = [x[2] for x in NB_values]\n",
    "biopsia"
   ]
  },
  {
   "cell_type": "markdown",
   "metadata": {},
   "source": [
    "## 2.3.4 Biopsia sólida. <a id = \"2.3.4\"></a><a href=\"#index\"><i class=\"fa fa-list-alt\" aria-hidden=\"true\"></i></a>"
   ]
  },
  {
   "cell_type": "code",
   "execution_count": 31,
   "metadata": {},
   "outputs": [
    {
     "name": "stdout",
     "output_type": "stream",
     "text": [
      "1\n",
      "1\n",
      "1\n",
      "1\n",
      "3\n",
      "2\n",
      "1\n",
      "1\n",
      "1\n",
      "1\n",
      "['1', '1', '1', '1', '3', '2', '1', '1', '1', '1']\n"
     ]
    }
   ],
   "source": [
    "# Para cada una de las posibles letras que pueden aparecer en esa posición, se le ha asignado un número\n",
    "#B de biopsia = 1\n",
    "#C de citología = 3\n",
    "#P de punción = 2\n",
    "B = \"1\"\n",
    "C = \"3\"\n",
    "P = \"2\"\n",
    "Biopsia_solida = []\n",
    "\n",
    "# Cada vez que encuentre una de las tres letras, almacenará su número correspondiente definido arriba en la nueva variable Biopsia_solida\n",
    "for i in biopsia:\n",
    "    if i == \"B\":\n",
    "        Biopsia_solida.append(B)\n",
    "        print(\"1\")\n",
    "    elif i == \"P\":\n",
    "        Biopsia_solida.append(P)\n",
    "        print(\"2\")\n",
    "    else:\n",
    "        Biopsia_solida.append(C)\n",
    "        print(\"3\")\n",
    "        \n",
    "print(Biopsia_solida)"
   ]
  },
  {
   "cell_type": "markdown",
   "metadata": {},
   "source": [
    "## 2.3.5.Fecha. <a id = \"2.3.5\"></a><a href=\"#index\"><i class=\"fa fa-list-alt\" aria-hidden=\"true\"></i></a>"
   ]
  },
  {
   "cell_type": "code",
   "execution_count": 32,
   "metadata": {},
   "outputs": [
    {
     "name": "stdout",
     "output_type": "stream",
     "text": [
      "['24-mar-2023', '24-mar-2023', '24-mar-2023', '24-mar-2023', '24-mar-2023', '24-mar-2023', '24-mar-2023', '24-mar-2023', '25-may-2023', '25-may-2023']\n"
     ]
    }
   ],
   "source": [
    "# Como con fechas nos pasa lo mismo (que aparecen repetidas veces el mismo resultado y solo nos intersa una vez). Creamos una nueva variable para almacenar solo un resultado cada vez.\n",
    "fechas = []\n",
    "for i in fecha_Data:\n",
    "    sinduplicados = list(set(i))\n",
    "    fechas.append([x for x in i if x in sinduplicados][0])\n",
    "\n",
    "print(fechas)"
   ]
  },
  {
   "cell_type": "markdown",
   "metadata": {},
   "source": [
    "## 2.4. Definimos el resto de las variables. <a id = \"2.4\"></a><a href=\"#index\"><i class=\"fa fa-list-alt\" aria-hidden=\"true\"></i></a>"
   ]
  },
  {
   "cell_type": "markdown",
   "metadata": {},
   "source": [
    "## 2.4.1. Ensayos clínicos y tratamientos disponibles. <a id = \"2.4.1\"></a><a href=\"#index\"><i class=\"fa fa-list-alt\" aria-hidden=\"true\"></i></a>"
   ]
  },
  {
   "cell_type": "markdown",
   "metadata": {},
   "source": [
    "A la hora de obtener el número de ensayos clínicos y tratamientos disponibles, lo hacemos de la misma forma. Como vemos, el número de ensayos/tratamientos se encuentra justo delante de la palabra. \n",
    "\n",
    "Aprovechamos ese método para crear un patrón que usando expresiones regulares, nos pueda devolver dicho valor. Para ello especificamos con r\"(\\d+)\\s* que nos interesa la cadena de texto que contenga cualquier número de 0-9 ambos incluidos y que se encuentre justo antes de la palabra definida posteriormente (Ensayos clínicos y tratamientos disponibles). \n",
    "Tras determinar las variables de interés que vamos a usar, recorremos el texto de cada uno de los ficheros para buscar el patrón usando el método **re.search()**. Una vez encontrado, se convierte en entero (int()) para poder ser almacenado en la variable ensayos/tratamientos y usando group(1) para obtener solo el número. \n",
    "Añadimos con append los valores almacenados en ensayos/tratamientos a la variable definida arriba ensayos_finales/tratamientos_finales. \n",
    "\n",
    "Posteriormente se ha desarrollado una función que nos permite modificar los valores. En caso de no haber obtenido ningún número de ensayos/tratamientos, añadimos un 0 a la nueva variable. En caso de haber obtenido uno o más resultados, añadimos un 1. De esta forma estamos binarizando los resultados."
   ]
  },
  {
   "cell_type": "code",
   "execution_count": 36,
   "metadata": {},
   "outputs": [
    {
     "name": "stdout",
     "output_type": "stream",
     "text": [
      "[6, 5, 0, 0, 3, 5, 1, 0]\n",
      "[1, 1, 0, 0, 1, 1, 1, 0]\n"
     ]
    }
   ],
   "source": [
    "#Definimos el patrón de búsqueda\n",
    "patron = r\"(\\d+)\\s* Ensayos clínicos\"\n",
    "ficheros = LeerFicherosPDF(rutaEntrada)\n",
    "#También las variables como lsitas vacías\n",
    "lista_ensayos = []\n",
    "ensayos_finales = []\n",
    "\n",
    "for ficheroPDF in ficheros:\n",
    "    lines = LeerDocumento(os.path.normpath(os.path.join(rutaEntrada,ficheroPDF)))\n",
    "    \n",
    "    ensayos = 0\n",
    "    #Recorremos lines\n",
    "    for line in lines:\n",
    "        resultado = re.search(patron, line)\n",
    "        #Cuando aparece el resultado, añadimos el entero a la variable \n",
    "        if resultado:\n",
    "            ensayos = int(resultado.group(1))\n",
    "            \n",
    "    #Añadimos lista_ensayos a ensayos\n",
    "    lista_ensayos.append(ensayos)   \n",
    "    \n",
    "    #print(ficheroPDF + \" -> Ensayos: \" + str(ensayos))\n",
    "print(lista_ensayos) \n",
    "\n",
    "#Binarizamos la variable\n",
    "for i in lista_ensayos:\n",
    "    if i == 0:\n",
    "        ensayos_finales.append(0)\n",
    "    else:\n",
    "        ensayos_finales.append(1)\n",
    "        \n",
    "print(ensayos_finales)"
   ]
  },
  {
   "cell_type": "code",
   "execution_count": 37,
   "metadata": {},
   "outputs": [
    {
     "name": "stdout",
     "output_type": "stream",
     "text": [
      "[6, 1, 0, 0, 3, 0, 0, 1]\n",
      "[1, 1, 0, 0, 1, 0, 0, 1]\n"
     ]
    }
   ],
   "source": [
    "patron2 = r\"(\\d+)\\s* Tratamientos disponibles\"\n",
    "ficheros = LeerFicherosPDF(rutaEntrada)\n",
    "\n",
    "lista_tratamientos = []\n",
    "tratamientos_finales = []\n",
    "\n",
    "for ficheroPDF in ficheros:\n",
    "    lines = LeerDocumento(os.path.normpath(os.path.join(rutaEntrada, ficheroPDF)))\n",
    "    tratamientos = 0\n",
    "    \n",
    "    for line in lines:\n",
    "        resultado = re.search(patron2, line)\n",
    "        if resultado:\n",
    "            tratamientos = int(resultado.group(1))\n",
    "    \n",
    "    lista_tratamientos.append(tratamientos)\n",
    "    #print(ficheroPDF + \" -> Tratamientos: \" + str(tratamientos))\n",
    "    \n",
    "print(lista_tratamientos)\n",
    "\n",
    "#Binarizamos la variable\n",
    "for i in lista_tratamientos:\n",
    "    if i == 0:\n",
    "        tratamientos_finales.append(0)\n",
    "    else:\n",
    "        tratamientos_finales.append(1)\n",
    "print(tratamientos_finales)"
   ]
  },
  {
   "cell_type": "markdown",
   "metadata": {},
   "source": [
    "## 2.4.2. Número de chip y de paciente. <a id = \"2.4.2\"></a><a href=\"#index\"><i class=\"fa fa-list-alt\" aria-hidden=\"true\"></i></a>"
   ]
  },
  {
   "cell_type": "code",
   "execution_count": 38,
   "metadata": {},
   "outputs": [
    {
     "name": "stdout",
     "output_type": "stream",
     "text": [
      "C:\\Users\\luciv\\OneDrive\\Documentos\\TFG_Lucia\\GitHub\\Automatizacion_PDF_scraping\\Automatizacion_PDF_scraping\\INPUT\\INFORMES\\Sample_1_v100_ec96983e-d816-4baf-8544-ca0572acc9fa_2023-03-02_11-57-06-352_All.pdf\n",
      "C:\\Users\\luciv\\OneDrive\\Documentos\\TFG_Lucia\\GitHub\\Automatizacion_PDF_scraping\\Automatizacion_PDF_scraping\\INPUT\\INFORMES\\Sample_2_v100_dc008f2f-9bc7-4ac2-89d2-7f3ba6fdb04d_2023-03-02_11-56-10-540_All.pdf\n",
      "C:\\Users\\luciv\\OneDrive\\Documentos\\TFG_Lucia\\GitHub\\Automatizacion_PDF_scraping\\Automatizacion_PDF_scraping\\INPUT\\INFORMES\\Sample_3_v100_50c27cd1-3ee7-490c-8ec6-30091039bb9c_2023-03-02_11-55-40-900_All.pdf\n",
      "C:\\Users\\luciv\\OneDrive\\Documentos\\TFG_Lucia\\GitHub\\Automatizacion_PDF_scraping\\Automatizacion_PDF_scraping\\INPUT\\INFORMES\\Sample_4_v100_03eb528b-ded2-4db9-81fe-e1553385db88_2023-03-02_11-54-08-761_All.pdf\n",
      "C:\\Users\\luciv\\OneDrive\\Documentos\\TFG_Lucia\\GitHub\\Automatizacion_PDF_scraping\\Automatizacion_PDF_scraping\\INPUT\\INFORMES\\Sample_5_v100_da86c58e-d529-400b-8812-506948d0c3ed_2023-03-02_11-53-07-777_All.pdf\n",
      "C:\\Users\\luciv\\OneDrive\\Documentos\\TFG_Lucia\\GitHub\\Automatizacion_PDF_scraping\\Automatizacion_PDF_scraping\\INPUT\\INFORMES\\Sample_6_v100_52c1af10-c6e1-4f44-85d8-bfa7260fb9ff_2023-03-02_11-52-19-927_All.pdf\n",
      "C:\\Users\\luciv\\OneDrive\\Documentos\\TFG_Lucia\\GitHub\\Automatizacion_PDF_scraping\\Automatizacion_PDF_scraping\\INPUT\\INFORMES\\Sample_7_v100_869cc724-f5f4-4d61-a708-c818a6c062ef_2023-03-02_11-50-41-677_All.pdf\n",
      "C:\\Users\\luciv\\OneDrive\\Documentos\\TFG_Lucia\\GitHub\\Automatizacion_PDF_scraping\\Automatizacion_PDF_scraping\\INPUT\\INFORMES\\Sample_8_v100_14451fbc-44ce-480e-9107-c6ab537a1fda_2023-03-02_11-49-41-641_All.pdf\n"
     ]
    }
   ],
   "source": [
    "#Iteramos sobre cada fichero de la variable ficheros\n",
    "for ficheroPDF in ficheros:\n",
    "    #os.path.isfile() para verificar si la ruta corresponde a un archivo existente\n",
    "    #os.path.join() y os.path.normpath() crean una ruta junto con el nombre del archivo ficheroPDF y que sea formato PDF\n",
    "    if os.path.isfile(os.path.normpath(os.path.join(rutaEntrada, ficheroPDF))) and ficheroPDF.endswith(\".pdf\"):\n",
    "        print(ficheroPDF)"
   ]
  },
  {
   "cell_type": "code",
   "execution_count": 39,
   "metadata": {},
   "outputs": [
    {
     "name": "stdout",
     "output_type": "stream",
     "text": [
      "['1']\n",
      "['1', '2']\n",
      "['1', '2', '3']\n",
      "['1', '2', '3', '4']\n",
      "['1', '2', '3', '4', '5']\n",
      "['1', '2', '3', '4', '5', '6']\n",
      "['1', '2', '3', '4', '5', '6', '7']\n",
      "['1', '2', '3', '4', '5', '6', '7', '8']\n"
     ]
    }
   ],
   "source": [
    "numero_paciente = [] \n",
    "\n",
    "for ficheroPDF in ficheros:\n",
    "    if os.path.isfile(os.path.normpath(os.path.join(rutaEntrada, ficheroPDF))) and ficheroPDF.endswith(\".pdf\"):\n",
    "        #se separa la ruta del nombre del archivo siendo ruta1 la ruta y fichero1 el fichero\n",
    "        ruta1, fichero1 = os.path.split(ficheroPDF)\n",
    "        #Se divide el nombre del archivo en nombre y extensión. Con [0] obtenemos solo el nombre\n",
    "        paciente = os.path.splitext(fichero1)[0]\n",
    "        #Dentro del nombre, obtenemos el séptimo valor\n",
    "        pacientes = paciente[7]\n",
    "        #Agrega el número el paciente a la lista definida anteriormente\n",
    "        numero_paciente.append(pacientes)\n",
    "        print(numero_paciente)"
   ]
  },
  {
   "cell_type": "code",
   "execution_count": 40,
   "metadata": {},
   "outputs": [
    {
     "name": "stdout",
     "output_type": "stream",
     "text": [
      "['100', '100', '100', '100', '100', '100', '100', '100']\n"
     ]
    }
   ],
   "source": [
    "chip2 = []\n",
    "for ficheroPDF in ficheros:\n",
    "    if os.path.isfile(os.path.normpath(os.path.join(rutaEntrada, ficheroPDF))) and ficheroPDF.endswith(\".pdf\"):\n",
    "        # Esta expresión regular nos permite obtener el valor numérico (una o más cifras numéricas) siempre que estén entre v y _ (en este caso v100_)\n",
    "        patron = r\"v(\\d+)_\"\n",
    "        resultado = re.search(patron, ficheroPDF)\n",
    "        # Si aparece, almacenamos el valor en numero_chip para posteriormente añadir los valores a una nueva variable chip2.\n",
    "        if resultado:\n",
    "            numero_chip = resultado.group(1)\n",
    "            chip2.append(numero_chip)\n",
    "print(chip2)"
   ]
  },
  {
   "cell_type": "markdown",
   "metadata": {},
   "source": [
    "## 2.4.3. Mutaciones y derivados. <a id = \"2.4.3\"></a><a href=\"#index\"><i class=\"fa fa-list-alt\" aria-hidden=\"true\"></i></a>"
   ]
  },
  {
   "cell_type": "markdown",
   "metadata": {},
   "source": [
    "## 2.4.3.1. Mutaciones totales. <a id = \"2.4.3.1\"></a><a href=\"#index\"><i class=\"fa fa-list-alt\" aria-hidden=\"true\"></i></a>"
   ]
  },
  {
   "cell_type": "code",
   "execution_count": 41,
   "metadata": {},
   "outputs": [
    {
     "name": "stdout",
     "output_type": "stream",
     "text": [
      "C:\\Users\\luciv\\OneDrive\\Documentos\\TFG_Lucia\\GitHub\\Automatizacion_PDF_scraping\\Automatizacion_PDF_scraping\\INPUT\\INFORMES\\Sample_1_v100_ec96983e-d816-4baf-8544-ca0572acc9fa_2023-03-02_11-57-06-352_All.pdf - Existe: MYC\n",
      "C:\\Users\\luciv\\OneDrive\\Documentos\\TFG_Lucia\\GitHub\\Automatizacion_PDF_scraping\\Automatizacion_PDF_scraping\\INPUT\\INFORMES\\Sample_2_v100_dc008f2f-9bc7-4ac2-89d2-7f3ba6fdb04d_2023-03-02_11-56-10-540_All.pdf - Existe: KRAS\n",
      "C:\\Users\\luciv\\OneDrive\\Documentos\\TFG_Lucia\\GitHub\\Automatizacion_PDF_scraping\\Automatizacion_PDF_scraping\\INPUT\\INFORMES\\Sample_4_v100_03eb528b-ded2-4db9-81fe-e1553385db88_2023-03-02_11-54-08-761_All.pdf - Existe: FGFR1\n",
      "C:\\Users\\luciv\\OneDrive\\Documentos\\TFG_Lucia\\GitHub\\Automatizacion_PDF_scraping\\Automatizacion_PDF_scraping\\INPUT\\INFORMES\\Sample_4_v100_03eb528b-ded2-4db9-81fe-e1553385db88_2023-03-02_11-54-08-761_All.pdf - Existe: PIK3CA\n",
      "C:\\Users\\luciv\\OneDrive\\Documentos\\TFG_Lucia\\GitHub\\Automatizacion_PDF_scraping\\Automatizacion_PDF_scraping\\INPUT\\INFORMES\\Sample_5_v100_da86c58e-d529-400b-8812-506948d0c3ed_2023-03-02_11-53-07-777_All.pdf - Existe: CDK6\n",
      "C:\\Users\\luciv\\OneDrive\\Documentos\\TFG_Lucia\\GitHub\\Automatizacion_PDF_scraping\\Automatizacion_PDF_scraping\\INPUT\\INFORMES\\Sample_5_v100_da86c58e-d529-400b-8812-506948d0c3ed_2023-03-02_11-53-07-777_All.pdf - Existe: MET\n",
      "C:\\Users\\luciv\\OneDrive\\Documentos\\TFG_Lucia\\GitHub\\Automatizacion_PDF_scraping\\Automatizacion_PDF_scraping\\INPUT\\INFORMES\\Sample_6_v100_52c1af10-c6e1-4f44-85d8-bfa7260fb9ff_2023-03-02_11-52-19-927_All.pdf - Existe: CTNNB1\n",
      "C:\\Users\\luciv\\OneDrive\\Documentos\\TFG_Lucia\\GitHub\\Automatizacion_PDF_scraping\\Automatizacion_PDF_scraping\\INPUT\\INFORMES\\Sample_6_v100_52c1af10-c6e1-4f44-85d8-bfa7260fb9ff_2023-03-02_11-52-19-927_All.pdf - Existe: EGFR\n",
      "C:\\Users\\luciv\\OneDrive\\Documentos\\TFG_Lucia\\GitHub\\Automatizacion_PDF_scraping\\Automatizacion_PDF_scraping\\INPUT\\INFORMES\\Sample_7_v100_869cc724-f5f4-4d61-a708-c818a6c062ef_2023-03-02_11-50-41-677_All.pdf - Existe: HRAS\n",
      "C:\\Users\\luciv\\OneDrive\\Documentos\\TFG_Lucia\\GitHub\\Automatizacion_PDF_scraping\\Automatizacion_PDF_scraping\\INPUT\\INFORMES\\Sample_8_v100_14451fbc-44ce-480e-9107-c6ab537a1fda_2023-03-02_11-49-41-641_All.pdf - Existe: KIT\n",
      "C:\\Users\\luciv\\OneDrive\\Documentos\\TFG_Lucia\\GitHub\\Automatizacion_PDF_scraping\\Automatizacion_PDF_scraping\\INPUT\\INFORMES\\Sample_8_v100_14451fbc-44ce-480e-9107-c6ab537a1fda_2023-03-02_11-49-41-641_All.pdf - Existe: MYC\n"
     ]
    }
   ],
   "source": [
    "ficheros = LeerFicherosPDF(rutaEntrada) \n",
    "max_mut = 0\n",
    "genes_mut2 = {}\n",
    "frecuencias_totales = []\n",
    "patron_frecuencia = re.compile(r\"\\d{2}\\.\\d{2}\")\n",
    "\n",
    "for ficheroPDF in ficheros:\n",
    "    nombreFichero = os.path.normpath(os.path.join(rutaEntrada, ficheroPDF))\n",
    "    lines = LeerDocumento(nombreFichero)\n",
    "    total_mut = 0\n",
    "    encontrados2 = []\n",
    "    lista_frec = []\n",
    "    \n",
    "    for mutacion in mutaciones:\n",
    "        if mutacion in lines:\n",
    "            posicion = lines.index(mutacion)\n",
    "            if mutacion == \"FGFR4\": \n",
    "                # Comprobamos que la siguiente posición a la del gen no sea p.(P136L). Si lo es pasamos, si no lo es añadimos un 1 a la variable total, añadimos la mutación a la variable encontrados 2 e imprimimos el valor.\n",
    "                if (posicion < len(lines)-1 and lines[posicion + 1] == \"p.(P136L)\"):\n",
    "                    pass\n",
    "                else:\n",
    "                    total_mut += 1\n",
    "                    encontrados2.append(mutacion)\n",
    "                    #print(ficheroPDF + \" - Existe: \" + mutacion)\n",
    "        \n",
    "            else:\n",
    "                #Asumimos que la variable benigno es False usando boleanos. \n",
    "                benigno = False\n",
    "                # Recorremos todas las posiciones\n",
    "                for a in range(posicion+1, posicion+10):\n",
    "                    #Si aparece Benign en las líneas, la variable definida anteriormente como False para a ser True.\n",
    "                    if \"Benign\" in lines[a]:\n",
    "                        benigno = True\n",
    "                # Como las benignas no interesan, nos quedamos con las que siguen teniendo valor False\n",
    "                if benigno == False:\n",
    "                    # Añadimos 1 a la variable total_mut y añadimos la mutación a encontrados2. Imprimimos las mutaciones con sus respectivos ficheros\n",
    "                    total_mut += 1\n",
    "                    encontrados2.append(mutacion)\n",
    "                    print(nombreFichero + \" - Existe: \" + mutacion)\n",
    "                if not benigno:\n",
    "                    for i in lines[posicion:posicion+10]:\n",
    "                        #Usamos el patron definido anteriormente para obtener el porcentaje alélico de cada gen\n",
    "                        resultado = re.search(patron_frecuencia, i)\n",
    "                        if resultado:\n",
    "                            frec = resultado.group()\n",
    "                            lista_frec.append(frec)\n",
    "                            \n",
    "                    \n",
    "\n",
    "    genes_mut2[ficheroPDF.replace(\"\\\\\",\"_\")] = encontrados2\n",
    "    if total_mut > max_mut:\n",
    "        max_mut = total_mut\n",
    "        \n",
    "    frecuencias_totales.append(lista_frec)\n",
    "    \n",
    "    #print(f\"{ficheroPDF} - Número total de mutaciones : {total_mut}\")\n",
    "    #print(f\"{ficheroPDF} - Frecuencias: {lista_frec}\")\n"
   ]
  },
  {
   "cell_type": "code",
   "execution_count": 42,
   "metadata": {},
   "outputs": [
    {
     "data": {
      "text/plain": [
       "[['49.56'],\n",
       " ['66.50'],\n",
       " [],\n",
       " [],\n",
       " ['21.75', '21.75'],\n",
       " ['27.51', '35.40'],\n",
       " ['46.17'],\n",
       " ['53.12', '60.64']]"
      ]
     },
     "execution_count": 42,
     "metadata": {},
     "output_type": "execute_result"
    }
   ],
   "source": [
    "frecuencias_totales"
   ]
  },
  {
   "cell_type": "code",
   "execution_count": 43,
   "metadata": {},
   "outputs": [
    {
     "data": {
      "text/plain": [
       "[['MYC'],\n",
       " ['KRAS'],\n",
       " [],\n",
       " ['FGFR1', 'PIK3CA'],\n",
       " ['CDK6', 'MET'],\n",
       " ['CTNNB1', 'EGFR'],\n",
       " ['HRAS'],\n",
       " ['KIT', 'MYC']]"
      ]
     },
     "execution_count": 43,
     "metadata": {},
     "output_type": "execute_result"
    }
   ],
   "source": [
    "# Creamos una nueva variable para almacenar solo los genes (valores) de la variable genes_mut2, ya que almacenaba tanto el nombre del fichero como los genes de interés que se modificaban.\n",
    "mut = list(genes_mut2.values())\n",
    "mut"
   ]
  },
  {
   "cell_type": "code",
   "execution_count": 44,
   "metadata": {},
   "outputs": [
    {
     "name": "stdout",
     "output_type": "stream",
     "text": [
      "[1, 1, 0, 2, 2, 2, 1, 2]\n"
     ]
    }
   ],
   "source": [
    "# Creamos una nueva función para que almacene el número de mutaciones que hay en cada fichero, para ello aplicamos la función len sobre la variable mut.\n",
    "num_mutaciones = [len(i) for i in mut]\n",
    "print(num_mutaciones)"
   ]
  },
  {
   "cell_type": "code",
   "execution_count": 45,
   "metadata": {},
   "outputs": [
    {
     "name": "stdout",
     "output_type": "stream",
     "text": [
      "[[40], [35], [], [22, 47], [10, 38], [11, 13], [28], [34, 40]]\n"
     ]
    }
   ],
   "source": [
    "# Como ya tenemos un diccionario con las mutaciones y sus números correspondientes, podemos usarlo. \n",
    "numero_iden = []\n",
    "for i in mut:\n",
    "    # Se busca en el diccionario el valor asociado al gen, devolviéndolo. En caso de no encontrar ninguno, se devuelve 0.\n",
    "    valores = [mutaciones_dic.get(gen, 0) for gen in i]\n",
    "    # Los números obtenidos se agregan a la variable numero_iden\n",
    "    numero_iden.append(valores)\n",
    "\n",
    "print(numero_iden)"
   ]
  },
  {
   "cell_type": "code",
   "execution_count": 46,
   "metadata": {},
   "outputs": [
    {
     "data": {
      "text/plain": [
       "[['EML4-ALK.E6aA20.AB374361', 'EML4-ALK.E6bA20.AB374362'],\n",
       " [],\n",
       " [],\n",
       " [],\n",
       " [],\n",
       " [],\n",
       " [],\n",
       " []]"
      ]
     },
     "execution_count": 46,
     "metadata": {},
     "output_type": "execute_result"
    }
   ],
   "source": [
    "fusiones = []\n",
    "for ficheroPDF in ficheros:\n",
    "    lines = LeerDocumento(os.path.normpath(os.path.join(rutaEntrada,ficheroPDF)))\n",
    "    variantes = []\n",
    "    \n",
    "    for linea in lines:\n",
    "        for mutacion in mutaciones:\n",
    "            # Nos interesa tener las fusiones de los genes. \n",
    "            # Definimos el patrón: cuaalquier letra (mayúsculas) o número que aparezca una o más veces seguida de - y cualquier valor que aparezca en la variable mutación.\n",
    "            patronGen = re.compile(r\"[A-Z0-9]{1,}-\" + mutacion)\n",
    "            # En caso de encontrar el patrón, se almacenan las fusiones en la variable resultados.\n",
    "            resultado = re.search(patronGen, linea)\n",
    "            if resultado:\n",
    "                # En caso afirmativo, se crea una nueva expresión regular para obtener el ID de cada una de las fusiones.\n",
    "                gen = resultado.group()\n",
    "                patronVariante = re.compile(gen + \"[.][A-Za-z0-9]{1,}[.][A-Za-z0-9]{1,}\")\n",
    "                resultadoVariante = re.search(patronVariante,linea)\n",
    "                if resultadoVariante:\n",
    "                    variante = resultadoVariante.group(0)\n",
    "                    variantes.append(variante)\n",
    "    fusiones.append(variantes)\n",
    "    #print(ficheroPDF)\n",
    "    #print(variantes)\n",
    "                    \n",
    "fusiones\n"
   ]
  },
  {
   "cell_type": "markdown",
   "metadata": {},
   "source": [
    "## 2.4.3.2. Genes patogénicos. <a id = \"2.4.3.2\"></a><a href=\"#index\"><i class=\"fa fa-list-alt\" aria-hidden=\"true\"></i></a>"
   ]
  },
  {
   "cell_type": "code",
   "execution_count": 47,
   "metadata": {},
   "outputs": [
    {
     "name": "stdout",
     "output_type": "stream",
     "text": [
      "C:\\Users\\luciv\\OneDrive\\Documentos\\TFG_Lucia\\GitHub\\Automatizacion_PDF_scraping\\Automatizacion_PDF_scraping\\INPUT\\INFORMES\\Sample_2_v100_dc008f2f-9bc7-4ac2-89d2-7f3ba6fdb04d_2023-03-02_11-56-10-540_All.pdf - Existe: KRAS - Pathogenic\n",
      "C:\\Users\\luciv\\OneDrive\\Documentos\\TFG_Lucia\\GitHub\\Automatizacion_PDF_scraping\\Automatizacion_PDF_scraping\\INPUT\\INFORMES\\Sample_6_v100_52c1af10-c6e1-4f44-85d8-bfa7260fb9ff_2023-03-02_11-52-19-927_All.pdf - Existe: CTNNB1 - Pathogenic\n"
     ]
    }
   ],
   "source": [
    "for ficheroPDF in ficheros:\n",
    "    nombreFichero = os.path.normpath(os.path.join(rutaEntrada, ficheroPDF))\n",
    "    lines = LeerDocumento(nombreFichero)\n",
    "    \n",
    "    for mutacion in mutaciones:\n",
    "        if mutacion in lines:\n",
    "            posicion = lines.index(mutacion)\n",
    "\n",
    "            for a in range(posicion+1, min(posicion+10, len(lines))):\n",
    "                # En caso de que aparezca la palabra Pathogeni en el archivo,imprime el fichero, la mutación y Pathogenic.\n",
    "                if \"Pathogeni\" in lines[a]:\n",
    "                    print(nombreFichero + \" - Existe: \" + mutacion + \" - Pathogenic\")\n",
    "                "
   ]
  },
  {
   "cell_type": "code",
   "execution_count": 48,
   "metadata": {},
   "outputs": [
    {
     "name": "stdout",
     "output_type": "stream",
     "text": [
      "C:\\Users\\luciv\\OneDrive\\Documentos\\TFG_Lucia\\GitHub\\Automatizacion_PDF_scraping\\Automatizacion_PDF_scraping\\INPUT\\INFORMES\\Sample_2_v100_dc008f2f-9bc7-4ac2-89d2-7f3ba6fdb04d_2023-03-02_11-56-10-540_All.pdf- Existe: KRAS- Pathogenic\n",
      "C:\\Users\\luciv\\OneDrive\\Documentos\\TFG_Lucia\\GitHub\\Automatizacion_PDF_scraping\\Automatizacion_PDF_scraping\\INPUT\\INFORMES\\Sample_6_v100_52c1af10-c6e1-4f44-85d8-bfa7260fb9ff_2023-03-02_11-52-19-927_All.pdf- Existe: CTNNB1- Pathogenic\n"
     ]
    },
    {
     "data": {
      "text/plain": [
       "[[], ['66.50'], [], [], [], ['27.51'], [], []]"
      ]
     },
     "execution_count": 48,
     "metadata": {},
     "output_type": "execute_result"
    }
   ],
   "source": [
    "patron_frecuencia = re.compile(r\"\\d{2}\\.\\d{2}\")\n",
    "frecuenciasPato = []\n",
    "\n",
    "for ficheroPDF in ficheros:\n",
    "    nombreFichero = os.path.normpath(os.path.join(rutaEntrada, ficheroPDF))\n",
    "    lines = LeerDocumento(nombreFichero)\n",
    "    lista_frec = []\n",
    "    \n",
    "    for mutacion in mutaciones:\n",
    "        if mutacion in lines:\n",
    "            posicion = lines.index(mutacion)\n",
    "            \n",
    "            for a in range(posicion+1, min(posicion+10, len(lines))):\n",
    "                if \"Pathogeni\" in lines[a]:\n",
    "                    print(nombreFichero + \"- Existe: \" + mutacion + \"- Pathogenic\")\n",
    "            \n",
    "                    for i in lines[posicion:posicion+10]:\n",
    "                        resultado = re.search(patron_frecuencia, i)\n",
    "                        if resultado:\n",
    "                            frec = resultado.group()\n",
    "                            lista_frec.append(frec)\n",
    "                            #frecuencias.append(frec)\n",
    "    frecuenciasPato.append(lista_frec)\n",
    "                            #print(f\"   Frecuencia: {frec}\")\n",
    "        \n",
    "    #print(f\"{ficheroPDF} - Frecuencias: {lista_frec}\")\n",
    "    \n",
    "frecuenciasPato\n"
   ]
  },
  {
   "cell_type": "code",
   "execution_count": 50,
   "metadata": {},
   "outputs": [
    {
     "data": {
      "text/plain": [
       "{'C:\\\\Users\\\\luciv\\\\OneDrive\\\\Documentos\\\\TFG_Lucia\\\\GitHub\\\\Automatizacion_PDF_scraping\\\\Automatizacion_PDF_scraping\\\\INPUT\\\\INFORMES\\\\Sample_1_v100_ec96983e-d816-4baf-8544-ca0572acc9fa_2023-03-02_11-57-06-352_All.pdf': [],\n",
       " 'C:\\\\Users\\\\luciv\\\\OneDrive\\\\Documentos\\\\TFG_Lucia\\\\GitHub\\\\Automatizacion_PDF_scraping\\\\Automatizacion_PDF_scraping\\\\INPUT\\\\INFORMES\\\\Sample_2_v100_dc008f2f-9bc7-4ac2-89d2-7f3ba6fdb04d_2023-03-02_11-56-10-540_All.pdf': ['KRAS'],\n",
       " 'C:\\\\Users\\\\luciv\\\\OneDrive\\\\Documentos\\\\TFG_Lucia\\\\GitHub\\\\Automatizacion_PDF_scraping\\\\Automatizacion_PDF_scraping\\\\INPUT\\\\INFORMES\\\\Sample_3_v100_50c27cd1-3ee7-490c-8ec6-30091039bb9c_2023-03-02_11-55-40-900_All.pdf': [],\n",
       " 'C:\\\\Users\\\\luciv\\\\OneDrive\\\\Documentos\\\\TFG_Lucia\\\\GitHub\\\\Automatizacion_PDF_scraping\\\\Automatizacion_PDF_scraping\\\\INPUT\\\\INFORMES\\\\Sample_4_v100_03eb528b-ded2-4db9-81fe-e1553385db88_2023-03-02_11-54-08-761_All.pdf': [],\n",
       " 'C:\\\\Users\\\\luciv\\\\OneDrive\\\\Documentos\\\\TFG_Lucia\\\\GitHub\\\\Automatizacion_PDF_scraping\\\\Automatizacion_PDF_scraping\\\\INPUT\\\\INFORMES\\\\Sample_5_v100_da86c58e-d529-400b-8812-506948d0c3ed_2023-03-02_11-53-07-777_All.pdf': [],\n",
       " 'C:\\\\Users\\\\luciv\\\\OneDrive\\\\Documentos\\\\TFG_Lucia\\\\GitHub\\\\Automatizacion_PDF_scraping\\\\Automatizacion_PDF_scraping\\\\INPUT\\\\INFORMES\\\\Sample_6_v100_52c1af10-c6e1-4f44-85d8-bfa7260fb9ff_2023-03-02_11-52-19-927_All.pdf': ['CTNNB1'],\n",
       " 'C:\\\\Users\\\\luciv\\\\OneDrive\\\\Documentos\\\\TFG_Lucia\\\\GitHub\\\\Automatizacion_PDF_scraping\\\\Automatizacion_PDF_scraping\\\\INPUT\\\\INFORMES\\\\Sample_7_v100_869cc724-f5f4-4d61-a708-c818a6c062ef_2023-03-02_11-50-41-677_All.pdf': [],\n",
       " 'C:\\\\Users\\\\luciv\\\\OneDrive\\\\Documentos\\\\TFG_Lucia\\\\GitHub\\\\Automatizacion_PDF_scraping\\\\Automatizacion_PDF_scraping\\\\INPUT\\\\INFORMES\\\\Sample_8_v100_14451fbc-44ce-480e-9107-c6ab537a1fda_2023-03-02_11-49-41-641_All.pdf': []}"
      ]
     },
     "execution_count": 50,
     "metadata": {},
     "output_type": "execute_result"
    }
   ],
   "source": [
    "patogen = {}\n",
    "\n",
    "for ficheroPDF in ficheros:\n",
    "    lines = LeerDocumento(os.path.normpath(os.path.join(rutaEntrada,ficheroPDF)))\n",
    "    genpato2 = []\n",
    "    \n",
    "    for mutacion in mutaciones:\n",
    "        if mutacion in lines:\n",
    "            posicion = lines.index(mutacion)\n",
    "            \n",
    "            for a in range(posicion+1, min(posicion+10, len(lines))):\n",
    "                if \"Pathogeni\" in lines[a]:\n",
    "                    genpato2.append(mutacion)\n",
    "                    #print(ficheroPDF + \" - Existe: \" + mutacion + \" - Pathogenic\")\n",
    "            \n",
    "                    \n",
    "    \n",
    "    patogen[ficheroPDF] = genpato2\n",
    "    \n",
    "patogen"
   ]
  },
  {
   "cell_type": "code",
   "execution_count": 51,
   "metadata": {},
   "outputs": [
    {
     "data": {
      "text/plain": [
       "[[], ['KRAS'], [], [], [], ['CTNNB1'], [], []]"
      ]
     },
     "execution_count": 51,
     "metadata": {},
     "output_type": "execute_result"
    }
   ],
   "source": [
    "# Creamos una lista con los valores que son patogénicos.\n",
    "patologicos = list(patogen.values())\n",
    "patologicos"
   ]
  },
  {
   "cell_type": "code",
   "execution_count": 52,
   "metadata": {},
   "outputs": [
    {
     "data": {
      "text/plain": [
       "[[], [35], [], [], [], [11], [], []]"
      ]
     },
     "execution_count": 52,
     "metadata": {},
     "output_type": "execute_result"
    }
   ],
   "source": [
    "# Como en el caso anterior, a cada una de las mutaciones patogénicas le corresponde un valor numérico.\n",
    "numero_iden_pato = []\n",
    "for i in patologicos:\n",
    "    valores = [mutaciones_dic.get(gen, 0) for gen in i]\n",
    "    numero_iden_pato.append(valores)\n",
    "\n",
    "numero_iden_pato"
   ]
  },
  {
   "cell_type": "code",
   "execution_count": 53,
   "metadata": {},
   "outputs": [
    {
     "name": "stdout",
     "output_type": "stream",
     "text": [
      "[0, 1, 0, 0, 0, 1, 0, 0]\n"
     ]
    }
   ],
   "source": [
    "# Contamos el número de mutaciones patogénicas hay en cada fichero.\n",
    "num_mutacionesPato = [len(i) for i in numero_iden_pato]\n",
    "print(num_mutacionesPato)"
   ]
  },
  {
   "cell_type": "markdown",
   "metadata": {},
   "source": [
    "## 2.5. Variables de interés. <a id = \"2.5\"></a><a href=\"#index\"><i class=\"fa fa-list-alt\" aria-hidden=\"true\"></i></a>"
   ]
  },
  {
   "cell_type": "code",
   "execution_count": 54,
   "metadata": {},
   "outputs": [
    {
     "data": {
      "text/plain": [
       "['100', '100', '100', '100', '100', '100', '100', '100']"
      ]
     },
     "execution_count": 54,
     "metadata": {},
     "output_type": "execute_result"
    }
   ],
   "source": [
    "# Número de chip \n",
    "chip2"
   ]
  },
  {
   "cell_type": "code",
   "execution_count": 55,
   "metadata": {},
   "outputs": [
    {
     "data": {
      "text/plain": [
       "['1', '2', '3', '4', '5', '6', '7', '8']"
      ]
     },
     "execution_count": 55,
     "metadata": {},
     "output_type": "execute_result"
    }
   ],
   "source": [
    "# Número de paciente \n",
    "numero_paciente"
   ]
  },
  {
   "cell_type": "code",
   "execution_count": 56,
   "metadata": {},
   "outputs": [
    {
     "data": {
      "text/plain": [
       "['00021', '00022', '00023', '00024', '00025', '00026', '00027', '00028']"
      ]
     },
     "execution_count": 56,
     "metadata": {},
     "output_type": "execute_result"
    }
   ],
   "source": [
    "# NHC\n",
    "NHC"
   ]
  },
  {
   "cell_type": "code",
   "execution_count": 57,
   "metadata": {},
   "outputs": [
    {
     "data": {
      "text/plain": [
       "['23B00021-A1',\n",
       " '22B00022-A2',\n",
       " '21B00023-A1',\n",
       " '23B00024-A1',\n",
       " '23C00025-A1',\n",
       " '23P00026',\n",
       " '22B00027-C4',\n",
       " '23B00028-A2']"
      ]
     },
     "execution_count": 57,
     "metadata": {},
     "output_type": "execute_result"
    }
   ],
   "source": [
    "# Número de biopsia \n",
    "NB_values"
   ]
  },
  {
   "cell_type": "code",
   "execution_count": 58,
   "metadata": {},
   "outputs": [
    {
     "data": {
      "text/plain": [
       "['1', '1', '1', '1', '3', '2', '1', '1']"
      ]
     },
     "execution_count": 58,
     "metadata": {},
     "output_type": "execute_result"
    }
   ],
   "source": [
    "# Biopsia sólida \n",
    "Biopsia_solida"
   ]
  },
  {
   "cell_type": "code",
   "execution_count": 59,
   "metadata": {},
   "outputs": [
    {
     "name": "stdout",
     "output_type": "stream",
     "text": [
      "[['24-mar-2023', '24-mar-2023', '24-mar-2023'], ['24-mar-2023', '24-mar-2023', '24-mar-2023'], ['24-mar-2023', '24-mar-2023'], ['24-mar-2023', '24-mar-2023'], ['24-mar-2023', '24-mar-2023', '24-mar-2023'], ['24-mar-2023', '24-mar-2023', '24-mar-2023'], ['24-mar-2023', '24-mar-2023'], ['24-mar-2023', '24-mar-2023']]\n",
      "---------------------------------------------------------------------------------------------------------------------\n",
      "['24-mar-2023', '24-mar-2023', '24-mar-2023', '24-mar-2023', '24-mar-2023', '24-mar-2023', '24-mar-2023', '24-mar-2023']\n"
     ]
    }
   ],
   "source": [
    "# Fecha de informe\n",
    "print(fecha_Data)\n",
    "print(\"---------------------------------------------------------------------------------------------------------------------\")\n",
    "print(fechas)"
   ]
  },
  {
   "cell_type": "code",
   "execution_count": 60,
   "metadata": {},
   "outputs": [
    {
     "name": "stdout",
     "output_type": "stream",
     "text": [
      "[['Carcinoma pulmonar no microcítico'], ['Carcinoma pulmonar no microcítico'], ['Carcinoma pulmonar no microcítico'], ['Carcinoma pulmonar no microcítico'], ['Carcinoma pulmonar no microcítico'], ['Carcinoma pulmonar no microcítico'], ['Cáncer tiroideo'], ['Cáncer gástrico']]\n",
      "------------------------------------------------------------------------------------------------------------------\n",
      "['Carcinoma pulmonar no microcítico', 'Carcinoma pulmonar no microcítico', 'Carcinoma pulmonar no microcítico', 'Carcinoma pulmonar no microcítico', 'Carcinoma pulmonar no microcítico', 'Carcinoma pulmonar no microcítico', 'Cáncer tiroideo', 'Cáncer gástrico']\n"
     ]
    }
   ],
   "source": [
    "# Diagnóstico \n",
    "print(texto_Data)\n",
    "print(\"------------------------------------------------------------------------------------------------------------------\")\n",
    "print(textoDiag)"
   ]
  },
  {
   "cell_type": "code",
   "execution_count": 61,
   "metadata": {},
   "outputs": [
    {
     "data": {
      "text/plain": [
       "[15.1, 15.1, 15.1, 15.1, 15.1, 15.1, 30.0, 11.0]"
      ]
     },
     "execution_count": 61,
     "metadata": {},
     "output_type": "execute_result"
    }
   ],
   "source": [
    "# Número de diagnóstico \n",
    "numeroDiag"
   ]
  },
  {
   "cell_type": "code",
   "execution_count": 62,
   "metadata": {},
   "outputs": [
    {
     "data": {
      "text/plain": [
       "[1, 1, 0, 2, 2, 2, 1, 2]"
      ]
     },
     "execution_count": 62,
     "metadata": {},
     "output_type": "execute_result"
    }
   ],
   "source": [
    "# Total del número de mutaciones\n",
    "num_mutaciones"
   ]
  },
  {
   "cell_type": "code",
   "execution_count": 63,
   "metadata": {},
   "outputs": [
    {
     "data": {
      "text/plain": [
       "[0, 1, 0, 0, 0, 1, 0, 0]"
      ]
     },
     "execution_count": 63,
     "metadata": {},
     "output_type": "execute_result"
    }
   ],
   "source": [
    "# Número de mutaciones patogénicas\n",
    "num_mutacionesPato"
   ]
  },
  {
   "cell_type": "code",
   "execution_count": 64,
   "metadata": {},
   "outputs": [
    {
     "data": {
      "text/plain": [
       "[['MYC'],\n",
       " ['KRAS'],\n",
       " [],\n",
       " ['FGFR1', 'PIK3CA'],\n",
       " ['CDK6', 'MET'],\n",
       " ['CTNNB1', 'EGFR'],\n",
       " ['HRAS'],\n",
       " ['KIT', 'MYC']]"
      ]
     },
     "execution_count": 64,
     "metadata": {},
     "output_type": "execute_result"
    }
   ],
   "source": [
    "# Mutaciones detectadas totales \n",
    "mut"
   ]
  },
  {
   "cell_type": "code",
   "execution_count": 65,
   "metadata": {},
   "outputs": [
    {
     "data": {
      "text/plain": [
       "[['EML4-ALK.E6aA20.AB374361', 'EML4-ALK.E6bA20.AB374362'],\n",
       " [],\n",
       " [],\n",
       " [],\n",
       " [],\n",
       " [],\n",
       " [],\n",
       " []]"
      ]
     },
     "execution_count": 65,
     "metadata": {},
     "output_type": "execute_result"
    }
   ],
   "source": [
    "# Fusiones\n",
    "fusiones"
   ]
  },
  {
   "cell_type": "code",
   "execution_count": 66,
   "metadata": {},
   "outputs": [
    {
     "data": {
      "text/plain": [
       "[['49.56'],\n",
       " ['66.50'],\n",
       " [],\n",
       " [],\n",
       " ['21.75', '21.75'],\n",
       " ['27.51', '35.40'],\n",
       " ['46.17'],\n",
       " ['53.12', '60.64']]"
      ]
     },
     "execution_count": 66,
     "metadata": {},
     "output_type": "execute_result"
    }
   ],
   "source": [
    "# % de frecuencia alélica\n",
    "frecuencias_totales"
   ]
  },
  {
   "cell_type": "code",
   "execution_count": 67,
   "metadata": {},
   "outputs": [
    {
     "data": {
      "text/plain": [
       "[[], ['66.50'], [], [], [], ['27.51'], [], []]"
      ]
     },
     "execution_count": 67,
     "metadata": {},
     "output_type": "execute_result"
    }
   ],
   "source": [
    "# % frecuencias alélicas patológicas \n",
    "frecuenciasPato"
   ]
  },
  {
   "cell_type": "code",
   "execution_count": 68,
   "metadata": {},
   "outputs": [
    {
     "data": {
      "text/plain": [
       "[[40], [35], [], [22, 47], [10, 38], [11, 13], [28], [34, 40]]"
      ]
     },
     "execution_count": 68,
     "metadata": {},
     "output_type": "execute_result"
    }
   ],
   "source": [
    "# Nº de la mutación específica detectada \n",
    "numero_iden"
   ]
  },
  {
   "cell_type": "code",
   "execution_count": 69,
   "metadata": {},
   "outputs": [
    {
     "name": "stdout",
     "output_type": "stream",
     "text": [
      "[6, 5, 0, 0, 3, 5, 1, 0]\n",
      "-----------------------------------------------------------------------------------------------------------------\n",
      "[1, 1, 0, 0, 1, 1, 1, 0]\n"
     ]
    }
   ],
   "source": [
    "# Ensayos clínicos \n",
    "print(lista_ensayos)\n",
    "print(\"-----------------------------------------------------------------------------------------------------------------\")\n",
    "print(ensayos_finales)"
   ]
  },
  {
   "cell_type": "code",
   "execution_count": 70,
   "metadata": {},
   "outputs": [
    {
     "name": "stdout",
     "output_type": "stream",
     "text": [
      "[6, 1, 0, 0, 3, 0, 0, 1]\n",
      "-----------------------------------------------------------------------------------------------------------------\n",
      "[1, 1, 0, 0, 1, 0, 0, 1]\n"
     ]
    }
   ],
   "source": [
    "# Fármaco aprobado \n",
    "print(lista_tratamientos)\n",
    "print(\"-----------------------------------------------------------------------------------------------------------------\")\n",
    "print(tratamientos_finales)"
   ]
  },
  {
   "cell_type": "markdown",
   "metadata": {},
   "source": [
    "## 3. Creación de DataFrame. <a id = \"3\"></a><a href=\"#index\"><i class=\"fa fa-list-alt\" aria-hidden=\"true\"></i></a>"
   ]
  },
  {
   "cell_type": "markdown",
   "metadata": {},
   "source": [
    "Join y merge son dos formas distintas de unir datos en Python usando la biblioteca pandas. \n",
    "Sin embargo, en este caso se ha usado JOIN porque nos garantiza que no se crearán filas ni columnas espurias al unir los PDF, esto se debe a que une los DF por índices en lugar de por columnas (este tipo de unión es característico de merge, por lo que es capaz de crear resultados espurios). \n",
    "En merge si se producen resultados espurios, esto ocurre cuando los datos tienen valores duplicados o vacíos o si los nombres de las columnas no coinciden en ambas tablas. Solo une los valores coincidentes de aquellas columnas con mismo nombre, eliminando el resto de las filas."
   ]
  },
  {
   "cell_type": "code",
   "execution_count": 71,
   "metadata": {},
   "outputs": [],
   "source": [
    "# PACIENTES\n",
    "T1 = pd.DataFrame({'Número de chip': chip2, 'Número de paciente': numero_paciente, 'NHC': NHC, \n",
    "                    'Número de biopsia': NB_values, 'Biopsia sólida': Biopsia_solida, 'Fecha de informe': fechas})"
   ]
  },
  {
   "cell_type": "code",
   "execution_count": 72,
   "metadata": {},
   "outputs": [],
   "source": [
    "# DIAGNOSTICO\n",
    "T2 = pd.DataFrame({'Número de chip': chip2,'Número de biopsia': NB_values,'Diagnóstico': textoDiag, \n",
    "                   'Número del diagnóstico': numeroDiag})"
   ]
  },
  {
   "cell_type": "code",
   "execution_count": 73,
   "metadata": {},
   "outputs": [],
   "source": [
    "# MUTACIONES\n",
    "T3 = pd.DataFrame({'Número de chip': chip2, 'Número de biopsia': NB_values,'Mutaciones detectadas':mut, \n",
    "                   'Número de la mutación específica':numero_iden, 'Total del número de mutaciones': num_mutaciones, \n",
    "                   'Porcentaje de frecuencia alélica (ADN)': frecuencias_totales, 'Fusiones ID':fusiones})"
   ]
  },
  {
   "cell_type": "code",
   "execution_count": 74,
   "metadata": {},
   "outputs": [],
   "source": [
    "# PATOGENICAS\n",
    "T4 = pd.DataFrame({'Número de chip': chip2, 'Número de biopsia': NB_values,\n",
    "                'Genes patogénicos': patologicos, 'Número de la mutación específica':numero_iden_pato, \n",
    "                '% frecuencia alélica':frecuenciasPato, 'Total de mutaciones patogénicas': num_mutacionesPato})"
   ]
  },
  {
   "cell_type": "code",
   "execution_count": 75,
   "metadata": {},
   "outputs": [],
   "source": [
    "# INFORMACION\n",
    "T5 = pd.DataFrame({'Número de chip': chip2, 'Número de biopsia': NB_values,'Ensayos clínicos': lista_ensayos,\n",
    "                   'SI/NO ensayo':ensayos_finales, 'Fármaco aprobado': lista_tratamientos, 'SI/NO fármacos': tratamientos_finales})"
   ]
  },
  {
   "cell_type": "code",
   "execution_count": 76,
   "metadata": {
    "scrolled": true
   },
   "outputs": [
    {
     "data": {
      "text/html": [
       "<div>\n",
       "<style scoped>\n",
       "    .dataframe tbody tr th:only-of-type {\n",
       "        vertical-align: middle;\n",
       "    }\n",
       "\n",
       "    .dataframe tbody tr th {\n",
       "        vertical-align: top;\n",
       "    }\n",
       "\n",
       "    .dataframe thead th {\n",
       "        text-align: right;\n",
       "    }\n",
       "</style>\n",
       "<table border=\"1\" class=\"dataframe\">\n",
       "  <thead>\n",
       "    <tr style=\"text-align: right;\">\n",
       "      <th></th>\n",
       "      <th>Número de chip</th>\n",
       "      <th>Número de paciente</th>\n",
       "      <th>NHC</th>\n",
       "      <th>Número de biopsia</th>\n",
       "      <th>Biopsia sólida</th>\n",
       "      <th>Fecha de informe</th>\n",
       "      <th>Diagnóstico</th>\n",
       "      <th>Número del diagnóstico</th>\n",
       "    </tr>\n",
       "  </thead>\n",
       "  <tbody>\n",
       "    <tr>\n",
       "      <th>0</th>\n",
       "      <td>100</td>\n",
       "      <td>1</td>\n",
       "      <td>00021</td>\n",
       "      <td>23B00021-A1</td>\n",
       "      <td>1</td>\n",
       "      <td>24-mar-2023</td>\n",
       "      <td>Carcinoma pulmonar no microcítico</td>\n",
       "      <td>15.1</td>\n",
       "    </tr>\n",
       "    <tr>\n",
       "      <th>1</th>\n",
       "      <td>100</td>\n",
       "      <td>2</td>\n",
       "      <td>00022</td>\n",
       "      <td>22B00022-A2</td>\n",
       "      <td>1</td>\n",
       "      <td>24-mar-2023</td>\n",
       "      <td>Carcinoma pulmonar no microcítico</td>\n",
       "      <td>15.1</td>\n",
       "    </tr>\n",
       "    <tr>\n",
       "      <th>2</th>\n",
       "      <td>100</td>\n",
       "      <td>3</td>\n",
       "      <td>00023</td>\n",
       "      <td>21B00023-A1</td>\n",
       "      <td>1</td>\n",
       "      <td>24-mar-2023</td>\n",
       "      <td>Carcinoma pulmonar no microcítico</td>\n",
       "      <td>15.1</td>\n",
       "    </tr>\n",
       "    <tr>\n",
       "      <th>3</th>\n",
       "      <td>100</td>\n",
       "      <td>4</td>\n",
       "      <td>00024</td>\n",
       "      <td>23B00024-A1</td>\n",
       "      <td>1</td>\n",
       "      <td>24-mar-2023</td>\n",
       "      <td>Carcinoma pulmonar no microcítico</td>\n",
       "      <td>15.1</td>\n",
       "    </tr>\n",
       "    <tr>\n",
       "      <th>4</th>\n",
       "      <td>100</td>\n",
       "      <td>5</td>\n",
       "      <td>00025</td>\n",
       "      <td>23C00025-A1</td>\n",
       "      <td>3</td>\n",
       "      <td>24-mar-2023</td>\n",
       "      <td>Carcinoma pulmonar no microcítico</td>\n",
       "      <td>15.1</td>\n",
       "    </tr>\n",
       "    <tr>\n",
       "      <th>5</th>\n",
       "      <td>100</td>\n",
       "      <td>6</td>\n",
       "      <td>00026</td>\n",
       "      <td>23P00026</td>\n",
       "      <td>2</td>\n",
       "      <td>24-mar-2023</td>\n",
       "      <td>Carcinoma pulmonar no microcítico</td>\n",
       "      <td>15.1</td>\n",
       "    </tr>\n",
       "    <tr>\n",
       "      <th>6</th>\n",
       "      <td>100</td>\n",
       "      <td>7</td>\n",
       "      <td>00027</td>\n",
       "      <td>22B00027-C4</td>\n",
       "      <td>1</td>\n",
       "      <td>24-mar-2023</td>\n",
       "      <td>Cáncer tiroideo</td>\n",
       "      <td>30.0</td>\n",
       "    </tr>\n",
       "    <tr>\n",
       "      <th>7</th>\n",
       "      <td>100</td>\n",
       "      <td>8</td>\n",
       "      <td>00028</td>\n",
       "      <td>23B00028-A2</td>\n",
       "      <td>1</td>\n",
       "      <td>24-mar-2023</td>\n",
       "      <td>Cáncer gástrico</td>\n",
       "      <td>11.0</td>\n",
       "    </tr>\n",
       "  </tbody>\n",
       "</table>\n",
       "</div>"
      ],
      "text/plain": [
       "  Número de chip Número de paciente    NHC Número de biopsia Biopsia sólida  \\\n",
       "0            100                  1  00021       23B00021-A1              1   \n",
       "1            100                  2  00022       22B00022-A2              1   \n",
       "2            100                  3  00023       21B00023-A1              1   \n",
       "3            100                  4  00024       23B00024-A1              1   \n",
       "4            100                  5  00025       23C00025-A1              3   \n",
       "5            100                  6  00026          23P00026              2   \n",
       "6            100                  7  00027       22B00027-C4              1   \n",
       "7            100                  8  00028       23B00028-A2              1   \n",
       "\n",
       "  Fecha de informe                        Diagnóstico  Número del diagnóstico  \n",
       "0      24-mar-2023  Carcinoma pulmonar no microcítico                    15.1  \n",
       "1      24-mar-2023  Carcinoma pulmonar no microcítico                    15.1  \n",
       "2      24-mar-2023  Carcinoma pulmonar no microcítico                    15.1  \n",
       "3      24-mar-2023  Carcinoma pulmonar no microcítico                    15.1  \n",
       "4      24-mar-2023  Carcinoma pulmonar no microcítico                    15.1  \n",
       "5      24-mar-2023  Carcinoma pulmonar no microcítico                    15.1  \n",
       "6      24-mar-2023                    Cáncer tiroideo                    30.0  \n",
       "7      24-mar-2023                    Cáncer gástrico                    11.0  "
      ]
     },
     "execution_count": 76,
     "metadata": {},
     "output_type": "execute_result"
    }
   ],
   "source": [
    "tabla_unida = T1.join(T2.set_index([\"Número de chip\", \"Número de biopsia\"]), on=[\"Número de chip\", \"Número de biopsia\"])\n",
    "tabla_unida"
   ]
  },
  {
   "cell_type": "code",
   "execution_count": 86,
   "metadata": {},
   "outputs": [
    {
     "data": {
      "text/html": [
       "<div>\n",
       "<style scoped>\n",
       "    .dataframe tbody tr th:only-of-type {\n",
       "        vertical-align: middle;\n",
       "    }\n",
       "\n",
       "    .dataframe tbody tr th {\n",
       "        vertical-align: top;\n",
       "    }\n",
       "\n",
       "    .dataframe thead th {\n",
       "        text-align: right;\n",
       "    }\n",
       "</style>\n",
       "<table border=\"1\" class=\"dataframe\">\n",
       "  <thead>\n",
       "    <tr style=\"text-align: right;\">\n",
       "      <th></th>\n",
       "      <th>Número de chip</th>\n",
       "      <th>Número de paciente</th>\n",
       "      <th>NHC</th>\n",
       "      <th>Número de biopsia</th>\n",
       "      <th>Biopsia sólida</th>\n",
       "      <th>Fecha de informe</th>\n",
       "      <th>Diagnóstico</th>\n",
       "      <th>Número del diagnóstico</th>\n",
       "      <th>Mutaciones detectadas</th>\n",
       "      <th>Número de la mutación específica</th>\n",
       "      <th>Total del número de mutaciones</th>\n",
       "      <th>Porcentaje de frecuencia alélica (ADN)</th>\n",
       "      <th>Fusiones ID</th>\n",
       "    </tr>\n",
       "  </thead>\n",
       "  <tbody>\n",
       "    <tr>\n",
       "      <th>0</th>\n",
       "      <td>100</td>\n",
       "      <td>1</td>\n",
       "      <td>00021</td>\n",
       "      <td>23B00021-A1</td>\n",
       "      <td>1</td>\n",
       "      <td>24-mar-2023</td>\n",
       "      <td>Carcinoma pulmonar no microcítico</td>\n",
       "      <td>15.1</td>\n",
       "      <td>[MYC]</td>\n",
       "      <td>[40]</td>\n",
       "      <td>1</td>\n",
       "      <td>[49.56]</td>\n",
       "      <td>[EML4-ALK.E6aA20.AB374361, EML4-ALK.E6bA20.AB3...</td>\n",
       "    </tr>\n",
       "    <tr>\n",
       "      <th>1</th>\n",
       "      <td>100</td>\n",
       "      <td>2</td>\n",
       "      <td>00022</td>\n",
       "      <td>22B00022-A2</td>\n",
       "      <td>1</td>\n",
       "      <td>24-mar-2023</td>\n",
       "      <td>Carcinoma pulmonar no microcítico</td>\n",
       "      <td>15.1</td>\n",
       "      <td>[KRAS]</td>\n",
       "      <td>[35]</td>\n",
       "      <td>1</td>\n",
       "      <td>[66.50]</td>\n",
       "      <td>[]</td>\n",
       "    </tr>\n",
       "    <tr>\n",
       "      <th>2</th>\n",
       "      <td>100</td>\n",
       "      <td>3</td>\n",
       "      <td>00023</td>\n",
       "      <td>21B00023-A1</td>\n",
       "      <td>1</td>\n",
       "      <td>24-mar-2023</td>\n",
       "      <td>Carcinoma pulmonar no microcítico</td>\n",
       "      <td>15.1</td>\n",
       "      <td>[]</td>\n",
       "      <td>[]</td>\n",
       "      <td>0</td>\n",
       "      <td>[]</td>\n",
       "      <td>[]</td>\n",
       "    </tr>\n",
       "    <tr>\n",
       "      <th>3</th>\n",
       "      <td>100</td>\n",
       "      <td>4</td>\n",
       "      <td>00024</td>\n",
       "      <td>23B00024-A1</td>\n",
       "      <td>1</td>\n",
       "      <td>24-mar-2023</td>\n",
       "      <td>Carcinoma pulmonar no microcítico</td>\n",
       "      <td>15.1</td>\n",
       "      <td>[FGFR1, PIK3CA]</td>\n",
       "      <td>[22, 47]</td>\n",
       "      <td>2</td>\n",
       "      <td>[]</td>\n",
       "      <td>[]</td>\n",
       "    </tr>\n",
       "    <tr>\n",
       "      <th>4</th>\n",
       "      <td>100</td>\n",
       "      <td>5</td>\n",
       "      <td>00025</td>\n",
       "      <td>23C00025-A1</td>\n",
       "      <td>3</td>\n",
       "      <td>24-mar-2023</td>\n",
       "      <td>Carcinoma pulmonar no microcítico</td>\n",
       "      <td>15.1</td>\n",
       "      <td>[CDK6, MET]</td>\n",
       "      <td>[10, 38]</td>\n",
       "      <td>2</td>\n",
       "      <td>[21.75, 21.75]</td>\n",
       "      <td>[]</td>\n",
       "    </tr>\n",
       "    <tr>\n",
       "      <th>5</th>\n",
       "      <td>100</td>\n",
       "      <td>6</td>\n",
       "      <td>00026</td>\n",
       "      <td>23P00026</td>\n",
       "      <td>2</td>\n",
       "      <td>24-mar-2023</td>\n",
       "      <td>Carcinoma pulmonar no microcítico</td>\n",
       "      <td>15.1</td>\n",
       "      <td>[CTNNB1, EGFR]</td>\n",
       "      <td>[11, 13]</td>\n",
       "      <td>2</td>\n",
       "      <td>[27.51, 35.40]</td>\n",
       "      <td>[]</td>\n",
       "    </tr>\n",
       "    <tr>\n",
       "      <th>6</th>\n",
       "      <td>100</td>\n",
       "      <td>7</td>\n",
       "      <td>00027</td>\n",
       "      <td>22B00027-C4</td>\n",
       "      <td>1</td>\n",
       "      <td>24-mar-2023</td>\n",
       "      <td>Cáncer tiroideo</td>\n",
       "      <td>30.0</td>\n",
       "      <td>[HRAS]</td>\n",
       "      <td>[28]</td>\n",
       "      <td>1</td>\n",
       "      <td>[46.17]</td>\n",
       "      <td>[]</td>\n",
       "    </tr>\n",
       "    <tr>\n",
       "      <th>7</th>\n",
       "      <td>100</td>\n",
       "      <td>8</td>\n",
       "      <td>00028</td>\n",
       "      <td>23B00028-A2</td>\n",
       "      <td>1</td>\n",
       "      <td>24-mar-2023</td>\n",
       "      <td>Cáncer gástrico</td>\n",
       "      <td>11.0</td>\n",
       "      <td>[KIT, MYC]</td>\n",
       "      <td>[34, 40]</td>\n",
       "      <td>2</td>\n",
       "      <td>[53.12, 60.64]</td>\n",
       "      <td>[]</td>\n",
       "    </tr>\n",
       "  </tbody>\n",
       "</table>\n",
       "</div>"
      ],
      "text/plain": [
       "  Número de chip Número de paciente    NHC Número de biopsia Biopsia sólida  \\\n",
       "0            100                  1  00021       23B00021-A1              1   \n",
       "1            100                  2  00022       22B00022-A2              1   \n",
       "2            100                  3  00023       21B00023-A1              1   \n",
       "3            100                  4  00024       23B00024-A1              1   \n",
       "4            100                  5  00025       23C00025-A1              3   \n",
       "5            100                  6  00026          23P00026              2   \n",
       "6            100                  7  00027       22B00027-C4              1   \n",
       "7            100                  8  00028       23B00028-A2              1   \n",
       "\n",
       "  Fecha de informe                        Diagnóstico  Número del diagnóstico  \\\n",
       "0      24-mar-2023  Carcinoma pulmonar no microcítico                    15.1   \n",
       "1      24-mar-2023  Carcinoma pulmonar no microcítico                    15.1   \n",
       "2      24-mar-2023  Carcinoma pulmonar no microcítico                    15.1   \n",
       "3      24-mar-2023  Carcinoma pulmonar no microcítico                    15.1   \n",
       "4      24-mar-2023  Carcinoma pulmonar no microcítico                    15.1   \n",
       "5      24-mar-2023  Carcinoma pulmonar no microcítico                    15.1   \n",
       "6      24-mar-2023                    Cáncer tiroideo                    30.0   \n",
       "7      24-mar-2023                    Cáncer gástrico                    11.0   \n",
       "\n",
       "  Mutaciones detectadas Número de la mutación específica  \\\n",
       "0                 [MYC]                             [40]   \n",
       "1                [KRAS]                             [35]   \n",
       "2                    []                               []   \n",
       "3       [FGFR1, PIK3CA]                         [22, 47]   \n",
       "4           [CDK6, MET]                         [10, 38]   \n",
       "5        [CTNNB1, EGFR]                         [11, 13]   \n",
       "6                [HRAS]                             [28]   \n",
       "7            [KIT, MYC]                         [34, 40]   \n",
       "\n",
       "   Total del número de mutaciones Porcentaje de frecuencia alélica (ADN)  \\\n",
       "0                               1                                [49.56]   \n",
       "1                               1                                [66.50]   \n",
       "2                               0                                     []   \n",
       "3                               2                                     []   \n",
       "4                               2                         [21.75, 21.75]   \n",
       "5                               2                         [27.51, 35.40]   \n",
       "6                               1                                [46.17]   \n",
       "7                               2                         [53.12, 60.64]   \n",
       "\n",
       "                                         Fusiones ID  \n",
       "0  [EML4-ALK.E6aA20.AB374361, EML4-ALK.E6bA20.AB3...  \n",
       "1                                                 []  \n",
       "2                                                 []  \n",
       "3                                                 []  \n",
       "4                                                 []  \n",
       "5                                                 []  \n",
       "6                                                 []  \n",
       "7                                                 []  "
      ]
     },
     "execution_count": 86,
     "metadata": {},
     "output_type": "execute_result"
    }
   ],
   "source": [
    "tabla_unida2 = tabla_unida.join(T3.set_index([\"Número de chip\", \"Número de biopsia\"]), on=[\"Número de chip\", \"Número de biopsia\"])\n",
    "tabla_unida2"
   ]
  },
  {
   "cell_type": "code",
   "execution_count": 87,
   "metadata": {},
   "outputs": [
    {
     "data": {
      "text/html": [
       "<div>\n",
       "<style scoped>\n",
       "    .dataframe tbody tr th:only-of-type {\n",
       "        vertical-align: middle;\n",
       "    }\n",
       "\n",
       "    .dataframe tbody tr th {\n",
       "        vertical-align: top;\n",
       "    }\n",
       "\n",
       "    .dataframe thead th {\n",
       "        text-align: right;\n",
       "    }\n",
       "</style>\n",
       "<table border=\"1\" class=\"dataframe\">\n",
       "  <thead>\n",
       "    <tr style=\"text-align: right;\">\n",
       "      <th></th>\n",
       "      <th>Número de chip</th>\n",
       "      <th>Número de paciente</th>\n",
       "      <th>NHC</th>\n",
       "      <th>Número de biopsia</th>\n",
       "      <th>Biopsia sólida</th>\n",
       "      <th>Fecha de informe</th>\n",
       "      <th>Diagnóstico</th>\n",
       "      <th>Número del diagnóstico</th>\n",
       "      <th>Mutaciones detectadas</th>\n",
       "      <th>Número de la mutación específica</th>\n",
       "      <th>Total del número de mutaciones</th>\n",
       "      <th>Porcentaje de frecuencia alélica (ADN)</th>\n",
       "      <th>Fusiones ID</th>\n",
       "      <th>Ensayos clínicos</th>\n",
       "      <th>SI/NO ensayo</th>\n",
       "      <th>Fármaco aprobado</th>\n",
       "      <th>SI/NO fármacos</th>\n",
       "    </tr>\n",
       "  </thead>\n",
       "  <tbody>\n",
       "    <tr>\n",
       "      <th>0</th>\n",
       "      <td>100</td>\n",
       "      <td>1</td>\n",
       "      <td>00021</td>\n",
       "      <td>23B00021-A1</td>\n",
       "      <td>1</td>\n",
       "      <td>24-mar-2023</td>\n",
       "      <td>Carcinoma pulmonar no microcítico</td>\n",
       "      <td>15.1</td>\n",
       "      <td>[MYC]</td>\n",
       "      <td>[40]</td>\n",
       "      <td>1</td>\n",
       "      <td>[49.56]</td>\n",
       "      <td>[EML4-ALK.E6aA20.AB374361, EML4-ALK.E6bA20.AB3...</td>\n",
       "      <td>6</td>\n",
       "      <td>1</td>\n",
       "      <td>6</td>\n",
       "      <td>1</td>\n",
       "    </tr>\n",
       "    <tr>\n",
       "      <th>1</th>\n",
       "      <td>100</td>\n",
       "      <td>2</td>\n",
       "      <td>00022</td>\n",
       "      <td>22B00022-A2</td>\n",
       "      <td>1</td>\n",
       "      <td>24-mar-2023</td>\n",
       "      <td>Carcinoma pulmonar no microcítico</td>\n",
       "      <td>15.1</td>\n",
       "      <td>[KRAS]</td>\n",
       "      <td>[35]</td>\n",
       "      <td>1</td>\n",
       "      <td>[66.50]</td>\n",
       "      <td>[]</td>\n",
       "      <td>5</td>\n",
       "      <td>1</td>\n",
       "      <td>1</td>\n",
       "      <td>1</td>\n",
       "    </tr>\n",
       "    <tr>\n",
       "      <th>2</th>\n",
       "      <td>100</td>\n",
       "      <td>3</td>\n",
       "      <td>00023</td>\n",
       "      <td>21B00023-A1</td>\n",
       "      <td>1</td>\n",
       "      <td>24-mar-2023</td>\n",
       "      <td>Carcinoma pulmonar no microcítico</td>\n",
       "      <td>15.1</td>\n",
       "      <td>[]</td>\n",
       "      <td>[]</td>\n",
       "      <td>0</td>\n",
       "      <td>[]</td>\n",
       "      <td>[]</td>\n",
       "      <td>0</td>\n",
       "      <td>0</td>\n",
       "      <td>0</td>\n",
       "      <td>0</td>\n",
       "    </tr>\n",
       "    <tr>\n",
       "      <th>3</th>\n",
       "      <td>100</td>\n",
       "      <td>4</td>\n",
       "      <td>00024</td>\n",
       "      <td>23B00024-A1</td>\n",
       "      <td>1</td>\n",
       "      <td>24-mar-2023</td>\n",
       "      <td>Carcinoma pulmonar no microcítico</td>\n",
       "      <td>15.1</td>\n",
       "      <td>[FGFR1, PIK3CA]</td>\n",
       "      <td>[22, 47]</td>\n",
       "      <td>2</td>\n",
       "      <td>[]</td>\n",
       "      <td>[]</td>\n",
       "      <td>0</td>\n",
       "      <td>0</td>\n",
       "      <td>0</td>\n",
       "      <td>0</td>\n",
       "    </tr>\n",
       "    <tr>\n",
       "      <th>4</th>\n",
       "      <td>100</td>\n",
       "      <td>5</td>\n",
       "      <td>00025</td>\n",
       "      <td>23C00025-A1</td>\n",
       "      <td>3</td>\n",
       "      <td>24-mar-2023</td>\n",
       "      <td>Carcinoma pulmonar no microcítico</td>\n",
       "      <td>15.1</td>\n",
       "      <td>[CDK6, MET]</td>\n",
       "      <td>[10, 38]</td>\n",
       "      <td>2</td>\n",
       "      <td>[21.75, 21.75]</td>\n",
       "      <td>[]</td>\n",
       "      <td>3</td>\n",
       "      <td>1</td>\n",
       "      <td>3</td>\n",
       "      <td>1</td>\n",
       "    </tr>\n",
       "    <tr>\n",
       "      <th>5</th>\n",
       "      <td>100</td>\n",
       "      <td>6</td>\n",
       "      <td>00026</td>\n",
       "      <td>23P00026</td>\n",
       "      <td>2</td>\n",
       "      <td>24-mar-2023</td>\n",
       "      <td>Carcinoma pulmonar no microcítico</td>\n",
       "      <td>15.1</td>\n",
       "      <td>[CTNNB1, EGFR]</td>\n",
       "      <td>[11, 13]</td>\n",
       "      <td>2</td>\n",
       "      <td>[27.51, 35.40]</td>\n",
       "      <td>[]</td>\n",
       "      <td>5</td>\n",
       "      <td>1</td>\n",
       "      <td>0</td>\n",
       "      <td>0</td>\n",
       "    </tr>\n",
       "    <tr>\n",
       "      <th>6</th>\n",
       "      <td>100</td>\n",
       "      <td>7</td>\n",
       "      <td>00027</td>\n",
       "      <td>22B00027-C4</td>\n",
       "      <td>1</td>\n",
       "      <td>24-mar-2023</td>\n",
       "      <td>Cáncer tiroideo</td>\n",
       "      <td>30.0</td>\n",
       "      <td>[HRAS]</td>\n",
       "      <td>[28]</td>\n",
       "      <td>1</td>\n",
       "      <td>[46.17]</td>\n",
       "      <td>[]</td>\n",
       "      <td>1</td>\n",
       "      <td>1</td>\n",
       "      <td>0</td>\n",
       "      <td>0</td>\n",
       "    </tr>\n",
       "    <tr>\n",
       "      <th>7</th>\n",
       "      <td>100</td>\n",
       "      <td>8</td>\n",
       "      <td>00028</td>\n",
       "      <td>23B00028-A2</td>\n",
       "      <td>1</td>\n",
       "      <td>24-mar-2023</td>\n",
       "      <td>Cáncer gástrico</td>\n",
       "      <td>11.0</td>\n",
       "      <td>[KIT, MYC]</td>\n",
       "      <td>[34, 40]</td>\n",
       "      <td>2</td>\n",
       "      <td>[53.12, 60.64]</td>\n",
       "      <td>[]</td>\n",
       "      <td>0</td>\n",
       "      <td>0</td>\n",
       "      <td>1</td>\n",
       "      <td>1</td>\n",
       "    </tr>\n",
       "  </tbody>\n",
       "</table>\n",
       "</div>"
      ],
      "text/plain": [
       "  Número de chip Número de paciente    NHC Número de biopsia Biopsia sólida  \\\n",
       "0            100                  1  00021       23B00021-A1              1   \n",
       "1            100                  2  00022       22B00022-A2              1   \n",
       "2            100                  3  00023       21B00023-A1              1   \n",
       "3            100                  4  00024       23B00024-A1              1   \n",
       "4            100                  5  00025       23C00025-A1              3   \n",
       "5            100                  6  00026          23P00026              2   \n",
       "6            100                  7  00027       22B00027-C4              1   \n",
       "7            100                  8  00028       23B00028-A2              1   \n",
       "\n",
       "  Fecha de informe                        Diagnóstico  Número del diagnóstico  \\\n",
       "0      24-mar-2023  Carcinoma pulmonar no microcítico                    15.1   \n",
       "1      24-mar-2023  Carcinoma pulmonar no microcítico                    15.1   \n",
       "2      24-mar-2023  Carcinoma pulmonar no microcítico                    15.1   \n",
       "3      24-mar-2023  Carcinoma pulmonar no microcítico                    15.1   \n",
       "4      24-mar-2023  Carcinoma pulmonar no microcítico                    15.1   \n",
       "5      24-mar-2023  Carcinoma pulmonar no microcítico                    15.1   \n",
       "6      24-mar-2023                    Cáncer tiroideo                    30.0   \n",
       "7      24-mar-2023                    Cáncer gástrico                    11.0   \n",
       "\n",
       "  Mutaciones detectadas Número de la mutación específica  \\\n",
       "0                 [MYC]                             [40]   \n",
       "1                [KRAS]                             [35]   \n",
       "2                    []                               []   \n",
       "3       [FGFR1, PIK3CA]                         [22, 47]   \n",
       "4           [CDK6, MET]                         [10, 38]   \n",
       "5        [CTNNB1, EGFR]                         [11, 13]   \n",
       "6                [HRAS]                             [28]   \n",
       "7            [KIT, MYC]                         [34, 40]   \n",
       "\n",
       "   Total del número de mutaciones Porcentaje de frecuencia alélica (ADN)  \\\n",
       "0                               1                                [49.56]   \n",
       "1                               1                                [66.50]   \n",
       "2                               0                                     []   \n",
       "3                               2                                     []   \n",
       "4                               2                         [21.75, 21.75]   \n",
       "5                               2                         [27.51, 35.40]   \n",
       "6                               1                                [46.17]   \n",
       "7                               2                         [53.12, 60.64]   \n",
       "\n",
       "                                         Fusiones ID  Ensayos clínicos  \\\n",
       "0  [EML4-ALK.E6aA20.AB374361, EML4-ALK.E6bA20.AB3...                 6   \n",
       "1                                                 []                 5   \n",
       "2                                                 []                 0   \n",
       "3                                                 []                 0   \n",
       "4                                                 []                 3   \n",
       "5                                                 []                 5   \n",
       "6                                                 []                 1   \n",
       "7                                                 []                 0   \n",
       "\n",
       "   SI/NO ensayo  Fármaco aprobado  SI/NO fármacos  \n",
       "0             1                 6               1  \n",
       "1             1                 1               1  \n",
       "2             0                 0               0  \n",
       "3             0                 0               0  \n",
       "4             1                 3               1  \n",
       "5             1                 0               0  \n",
       "6             1                 0               0  \n",
       "7             0                 1               1  "
      ]
     },
     "execution_count": 87,
     "metadata": {},
     "output_type": "execute_result"
    }
   ],
   "source": [
    "tabla_final = tabla_unida2.join(T5.set_index([\"Número de chip\", \"Número de biopsia\"]), on=[\"Número de chip\", \"Número de biopsia\"])\n",
    "tabla_final"
   ]
  },
  {
   "cell_type": "code",
   "execution_count": 79,
   "metadata": {},
   "outputs": [
    {
     "data": {
      "text/html": [
       "<div>\n",
       "<style scoped>\n",
       "    .dataframe tbody tr th:only-of-type {\n",
       "        vertical-align: middle;\n",
       "    }\n",
       "\n",
       "    .dataframe tbody tr th {\n",
       "        vertical-align: top;\n",
       "    }\n",
       "\n",
       "    .dataframe thead th {\n",
       "        text-align: right;\n",
       "    }\n",
       "</style>\n",
       "<table border=\"1\" class=\"dataframe\">\n",
       "  <thead>\n",
       "    <tr style=\"text-align: right;\">\n",
       "      <th></th>\n",
       "      <th>Número de chip</th>\n",
       "      <th>Número de paciente</th>\n",
       "      <th>NHC</th>\n",
       "      <th>Número de biopsia</th>\n",
       "      <th>Biopsia sólida</th>\n",
       "      <th>Fecha de informe</th>\n",
       "      <th>Diagnóstico</th>\n",
       "      <th>Número del diagnóstico</th>\n",
       "      <th>Genes patogénicos</th>\n",
       "      <th>Número de la mutación específica</th>\n",
       "      <th>% frecuencia alélica</th>\n",
       "      <th>Total de mutaciones patogénicas</th>\n",
       "    </tr>\n",
       "  </thead>\n",
       "  <tbody>\n",
       "    <tr>\n",
       "      <th>0</th>\n",
       "      <td>100</td>\n",
       "      <td>1</td>\n",
       "      <td>00021</td>\n",
       "      <td>23B00021-A1</td>\n",
       "      <td>1</td>\n",
       "      <td>24-mar-2023</td>\n",
       "      <td>Carcinoma pulmonar no microcítico</td>\n",
       "      <td>15.1</td>\n",
       "      <td>[]</td>\n",
       "      <td>[]</td>\n",
       "      <td>[]</td>\n",
       "      <td>0</td>\n",
       "    </tr>\n",
       "    <tr>\n",
       "      <th>1</th>\n",
       "      <td>100</td>\n",
       "      <td>2</td>\n",
       "      <td>00022</td>\n",
       "      <td>22B00022-A2</td>\n",
       "      <td>1</td>\n",
       "      <td>24-mar-2023</td>\n",
       "      <td>Carcinoma pulmonar no microcítico</td>\n",
       "      <td>15.1</td>\n",
       "      <td>[KRAS]</td>\n",
       "      <td>[35]</td>\n",
       "      <td>[66.50]</td>\n",
       "      <td>1</td>\n",
       "    </tr>\n",
       "    <tr>\n",
       "      <th>2</th>\n",
       "      <td>100</td>\n",
       "      <td>3</td>\n",
       "      <td>00023</td>\n",
       "      <td>21B00023-A1</td>\n",
       "      <td>1</td>\n",
       "      <td>24-mar-2023</td>\n",
       "      <td>Carcinoma pulmonar no microcítico</td>\n",
       "      <td>15.1</td>\n",
       "      <td>[]</td>\n",
       "      <td>[]</td>\n",
       "      <td>[]</td>\n",
       "      <td>0</td>\n",
       "    </tr>\n",
       "    <tr>\n",
       "      <th>3</th>\n",
       "      <td>100</td>\n",
       "      <td>4</td>\n",
       "      <td>00024</td>\n",
       "      <td>23B00024-A1</td>\n",
       "      <td>1</td>\n",
       "      <td>24-mar-2023</td>\n",
       "      <td>Carcinoma pulmonar no microcítico</td>\n",
       "      <td>15.1</td>\n",
       "      <td>[]</td>\n",
       "      <td>[]</td>\n",
       "      <td>[]</td>\n",
       "      <td>0</td>\n",
       "    </tr>\n",
       "    <tr>\n",
       "      <th>4</th>\n",
       "      <td>100</td>\n",
       "      <td>5</td>\n",
       "      <td>00025</td>\n",
       "      <td>23C00025-A1</td>\n",
       "      <td>3</td>\n",
       "      <td>24-mar-2023</td>\n",
       "      <td>Carcinoma pulmonar no microcítico</td>\n",
       "      <td>15.1</td>\n",
       "      <td>[]</td>\n",
       "      <td>[]</td>\n",
       "      <td>[]</td>\n",
       "      <td>0</td>\n",
       "    </tr>\n",
       "    <tr>\n",
       "      <th>5</th>\n",
       "      <td>100</td>\n",
       "      <td>6</td>\n",
       "      <td>00026</td>\n",
       "      <td>23P00026</td>\n",
       "      <td>2</td>\n",
       "      <td>24-mar-2023</td>\n",
       "      <td>Carcinoma pulmonar no microcítico</td>\n",
       "      <td>15.1</td>\n",
       "      <td>[CTNNB1]</td>\n",
       "      <td>[11]</td>\n",
       "      <td>[27.51]</td>\n",
       "      <td>1</td>\n",
       "    </tr>\n",
       "    <tr>\n",
       "      <th>6</th>\n",
       "      <td>100</td>\n",
       "      <td>7</td>\n",
       "      <td>00027</td>\n",
       "      <td>22B00027-C4</td>\n",
       "      <td>1</td>\n",
       "      <td>24-mar-2023</td>\n",
       "      <td>Cáncer tiroideo</td>\n",
       "      <td>30.0</td>\n",
       "      <td>[]</td>\n",
       "      <td>[]</td>\n",
       "      <td>[]</td>\n",
       "      <td>0</td>\n",
       "    </tr>\n",
       "    <tr>\n",
       "      <th>7</th>\n",
       "      <td>100</td>\n",
       "      <td>8</td>\n",
       "      <td>00028</td>\n",
       "      <td>23B00028-A2</td>\n",
       "      <td>1</td>\n",
       "      <td>24-mar-2023</td>\n",
       "      <td>Cáncer gástrico</td>\n",
       "      <td>11.0</td>\n",
       "      <td>[]</td>\n",
       "      <td>[]</td>\n",
       "      <td>[]</td>\n",
       "      <td>0</td>\n",
       "    </tr>\n",
       "  </tbody>\n",
       "</table>\n",
       "</div>"
      ],
      "text/plain": [
       "  Número de chip Número de paciente    NHC Número de biopsia Biopsia sólida  \\\n",
       "0            100                  1  00021       23B00021-A1              1   \n",
       "1            100                  2  00022       22B00022-A2              1   \n",
       "2            100                  3  00023       21B00023-A1              1   \n",
       "3            100                  4  00024       23B00024-A1              1   \n",
       "4            100                  5  00025       23C00025-A1              3   \n",
       "5            100                  6  00026          23P00026              2   \n",
       "6            100                  7  00027       22B00027-C4              1   \n",
       "7            100                  8  00028       23B00028-A2              1   \n",
       "\n",
       "  Fecha de informe                        Diagnóstico  Número del diagnóstico  \\\n",
       "0      24-mar-2023  Carcinoma pulmonar no microcítico                    15.1   \n",
       "1      24-mar-2023  Carcinoma pulmonar no microcítico                    15.1   \n",
       "2      24-mar-2023  Carcinoma pulmonar no microcítico                    15.1   \n",
       "3      24-mar-2023  Carcinoma pulmonar no microcítico                    15.1   \n",
       "4      24-mar-2023  Carcinoma pulmonar no microcítico                    15.1   \n",
       "5      24-mar-2023  Carcinoma pulmonar no microcítico                    15.1   \n",
       "6      24-mar-2023                    Cáncer tiroideo                    30.0   \n",
       "7      24-mar-2023                    Cáncer gástrico                    11.0   \n",
       "\n",
       "  Genes patogénicos Número de la mutación específica % frecuencia alélica  \\\n",
       "0                []                               []                   []   \n",
       "1            [KRAS]                             [35]              [66.50]   \n",
       "2                []                               []                   []   \n",
       "3                []                               []                   []   \n",
       "4                []                               []                   []   \n",
       "5          [CTNNB1]                             [11]              [27.51]   \n",
       "6                []                               []                   []   \n",
       "7                []                               []                   []   \n",
       "\n",
       "   Total de mutaciones patogénicas  \n",
       "0                                0  \n",
       "1                                1  \n",
       "2                                0  \n",
       "3                                0  \n",
       "4                                0  \n",
       "5                                1  \n",
       "6                                0  \n",
       "7                                0  "
      ]
     },
     "execution_count": 79,
     "metadata": {},
     "output_type": "execute_result"
    }
   ],
   "source": [
    "tabla_unida3 = tabla_unida.join(T4.set_index([\"Número de chip\", \"Número de biopsia\"]), on=[\"Número de chip\", \"Número de biopsia\"])\n",
    "tabla_unida3"
   ]
  },
  {
   "cell_type": "code",
   "execution_count": 80,
   "metadata": {
    "scrolled": true
   },
   "outputs": [
    {
     "data": {
      "text/html": [
       "<div>\n",
       "<style scoped>\n",
       "    .dataframe tbody tr th:only-of-type {\n",
       "        vertical-align: middle;\n",
       "    }\n",
       "\n",
       "    .dataframe tbody tr th {\n",
       "        vertical-align: top;\n",
       "    }\n",
       "\n",
       "    .dataframe thead th {\n",
       "        text-align: right;\n",
       "    }\n",
       "</style>\n",
       "<table border=\"1\" class=\"dataframe\">\n",
       "  <thead>\n",
       "    <tr style=\"text-align: right;\">\n",
       "      <th></th>\n",
       "      <th>Número de chip</th>\n",
       "      <th>Número de paciente</th>\n",
       "      <th>NHC</th>\n",
       "      <th>Número de biopsia</th>\n",
       "      <th>Biopsia sólida</th>\n",
       "      <th>Fecha de informe</th>\n",
       "      <th>Diagnóstico</th>\n",
       "      <th>Número del diagnóstico</th>\n",
       "      <th>Genes patogénicos</th>\n",
       "      <th>Número de la mutación específica</th>\n",
       "      <th>% frecuencia alélica</th>\n",
       "      <th>Total de mutaciones patogénicas</th>\n",
       "      <th>Ensayos clínicos</th>\n",
       "      <th>SI/NO ensayo</th>\n",
       "      <th>Fármaco aprobado</th>\n",
       "      <th>SI/NO fármacos</th>\n",
       "    </tr>\n",
       "  </thead>\n",
       "  <tbody>\n",
       "    <tr>\n",
       "      <th>0</th>\n",
       "      <td>100</td>\n",
       "      <td>1</td>\n",
       "      <td>00021</td>\n",
       "      <td>23B00021-A1</td>\n",
       "      <td>1</td>\n",
       "      <td>24-mar-2023</td>\n",
       "      <td>Carcinoma pulmonar no microcítico</td>\n",
       "      <td>15.1</td>\n",
       "      <td>[]</td>\n",
       "      <td>[]</td>\n",
       "      <td>[]</td>\n",
       "      <td>0</td>\n",
       "      <td>6</td>\n",
       "      <td>1</td>\n",
       "      <td>6</td>\n",
       "      <td>1</td>\n",
       "    </tr>\n",
       "    <tr>\n",
       "      <th>1</th>\n",
       "      <td>100</td>\n",
       "      <td>2</td>\n",
       "      <td>00022</td>\n",
       "      <td>22B00022-A2</td>\n",
       "      <td>1</td>\n",
       "      <td>24-mar-2023</td>\n",
       "      <td>Carcinoma pulmonar no microcítico</td>\n",
       "      <td>15.1</td>\n",
       "      <td>[KRAS]</td>\n",
       "      <td>[35]</td>\n",
       "      <td>[66.50]</td>\n",
       "      <td>1</td>\n",
       "      <td>5</td>\n",
       "      <td>1</td>\n",
       "      <td>1</td>\n",
       "      <td>1</td>\n",
       "    </tr>\n",
       "    <tr>\n",
       "      <th>2</th>\n",
       "      <td>100</td>\n",
       "      <td>3</td>\n",
       "      <td>00023</td>\n",
       "      <td>21B00023-A1</td>\n",
       "      <td>1</td>\n",
       "      <td>24-mar-2023</td>\n",
       "      <td>Carcinoma pulmonar no microcítico</td>\n",
       "      <td>15.1</td>\n",
       "      <td>[]</td>\n",
       "      <td>[]</td>\n",
       "      <td>[]</td>\n",
       "      <td>0</td>\n",
       "      <td>0</td>\n",
       "      <td>0</td>\n",
       "      <td>0</td>\n",
       "      <td>0</td>\n",
       "    </tr>\n",
       "    <tr>\n",
       "      <th>3</th>\n",
       "      <td>100</td>\n",
       "      <td>4</td>\n",
       "      <td>00024</td>\n",
       "      <td>23B00024-A1</td>\n",
       "      <td>1</td>\n",
       "      <td>24-mar-2023</td>\n",
       "      <td>Carcinoma pulmonar no microcítico</td>\n",
       "      <td>15.1</td>\n",
       "      <td>[]</td>\n",
       "      <td>[]</td>\n",
       "      <td>[]</td>\n",
       "      <td>0</td>\n",
       "      <td>0</td>\n",
       "      <td>0</td>\n",
       "      <td>0</td>\n",
       "      <td>0</td>\n",
       "    </tr>\n",
       "    <tr>\n",
       "      <th>4</th>\n",
       "      <td>100</td>\n",
       "      <td>5</td>\n",
       "      <td>00025</td>\n",
       "      <td>23C00025-A1</td>\n",
       "      <td>3</td>\n",
       "      <td>24-mar-2023</td>\n",
       "      <td>Carcinoma pulmonar no microcítico</td>\n",
       "      <td>15.1</td>\n",
       "      <td>[]</td>\n",
       "      <td>[]</td>\n",
       "      <td>[]</td>\n",
       "      <td>0</td>\n",
       "      <td>3</td>\n",
       "      <td>1</td>\n",
       "      <td>3</td>\n",
       "      <td>1</td>\n",
       "    </tr>\n",
       "    <tr>\n",
       "      <th>5</th>\n",
       "      <td>100</td>\n",
       "      <td>6</td>\n",
       "      <td>00026</td>\n",
       "      <td>23P00026</td>\n",
       "      <td>2</td>\n",
       "      <td>24-mar-2023</td>\n",
       "      <td>Carcinoma pulmonar no microcítico</td>\n",
       "      <td>15.1</td>\n",
       "      <td>[CTNNB1]</td>\n",
       "      <td>[11]</td>\n",
       "      <td>[27.51]</td>\n",
       "      <td>1</td>\n",
       "      <td>5</td>\n",
       "      <td>1</td>\n",
       "      <td>0</td>\n",
       "      <td>0</td>\n",
       "    </tr>\n",
       "    <tr>\n",
       "      <th>6</th>\n",
       "      <td>100</td>\n",
       "      <td>7</td>\n",
       "      <td>00027</td>\n",
       "      <td>22B00027-C4</td>\n",
       "      <td>1</td>\n",
       "      <td>24-mar-2023</td>\n",
       "      <td>Cáncer tiroideo</td>\n",
       "      <td>30.0</td>\n",
       "      <td>[]</td>\n",
       "      <td>[]</td>\n",
       "      <td>[]</td>\n",
       "      <td>0</td>\n",
       "      <td>1</td>\n",
       "      <td>1</td>\n",
       "      <td>0</td>\n",
       "      <td>0</td>\n",
       "    </tr>\n",
       "    <tr>\n",
       "      <th>7</th>\n",
       "      <td>100</td>\n",
       "      <td>8</td>\n",
       "      <td>00028</td>\n",
       "      <td>23B00028-A2</td>\n",
       "      <td>1</td>\n",
       "      <td>24-mar-2023</td>\n",
       "      <td>Cáncer gástrico</td>\n",
       "      <td>11.0</td>\n",
       "      <td>[]</td>\n",
       "      <td>[]</td>\n",
       "      <td>[]</td>\n",
       "      <td>0</td>\n",
       "      <td>0</td>\n",
       "      <td>0</td>\n",
       "      <td>1</td>\n",
       "      <td>1</td>\n",
       "    </tr>\n",
       "  </tbody>\n",
       "</table>\n",
       "</div>"
      ],
      "text/plain": [
       "  Número de chip Número de paciente    NHC Número de biopsia Biopsia sólida  \\\n",
       "0            100                  1  00021       23B00021-A1              1   \n",
       "1            100                  2  00022       22B00022-A2              1   \n",
       "2            100                  3  00023       21B00023-A1              1   \n",
       "3            100                  4  00024       23B00024-A1              1   \n",
       "4            100                  5  00025       23C00025-A1              3   \n",
       "5            100                  6  00026          23P00026              2   \n",
       "6            100                  7  00027       22B00027-C4              1   \n",
       "7            100                  8  00028       23B00028-A2              1   \n",
       "\n",
       "  Fecha de informe                        Diagnóstico  Número del diagnóstico  \\\n",
       "0      24-mar-2023  Carcinoma pulmonar no microcítico                    15.1   \n",
       "1      24-mar-2023  Carcinoma pulmonar no microcítico                    15.1   \n",
       "2      24-mar-2023  Carcinoma pulmonar no microcítico                    15.1   \n",
       "3      24-mar-2023  Carcinoma pulmonar no microcítico                    15.1   \n",
       "4      24-mar-2023  Carcinoma pulmonar no microcítico                    15.1   \n",
       "5      24-mar-2023  Carcinoma pulmonar no microcítico                    15.1   \n",
       "6      24-mar-2023                    Cáncer tiroideo                    30.0   \n",
       "7      24-mar-2023                    Cáncer gástrico                    11.0   \n",
       "\n",
       "  Genes patogénicos Número de la mutación específica % frecuencia alélica  \\\n",
       "0                []                               []                   []   \n",
       "1            [KRAS]                             [35]              [66.50]   \n",
       "2                []                               []                   []   \n",
       "3                []                               []                   []   \n",
       "4                []                               []                   []   \n",
       "5          [CTNNB1]                             [11]              [27.51]   \n",
       "6                []                               []                   []   \n",
       "7                []                               []                   []   \n",
       "\n",
       "   Total de mutaciones patogénicas  Ensayos clínicos  SI/NO ensayo  \\\n",
       "0                                0                 6             1   \n",
       "1                                1                 5             1   \n",
       "2                                0                 0             0   \n",
       "3                                0                 0             0   \n",
       "4                                0                 3             1   \n",
       "5                                1                 5             1   \n",
       "6                                0                 1             1   \n",
       "7                                0                 0             0   \n",
       "\n",
       "   Fármaco aprobado  SI/NO fármacos  \n",
       "0                 6               1  \n",
       "1                 1               1  \n",
       "2                 0               0  \n",
       "3                 0               0  \n",
       "4                 3               1  \n",
       "5                 0               0  \n",
       "6                 0               0  \n",
       "7                 1               1  "
      ]
     },
     "execution_count": 80,
     "metadata": {},
     "output_type": "execute_result"
    }
   ],
   "source": [
    "tabla_final_pato = tabla_unida3.join(T5.set_index([\"Número de chip\", \"Número de biopsia\"]), on=[\"Número de chip\", \"Número de biopsia\"])\n",
    "tabla_final_pato"
   ]
  },
  {
   "cell_type": "markdown",
   "metadata": {},
   "source": [
    "## 4. Exportación. <a id = \"4\"></a><a href=\"#index\"><i class=\"fa fa-list-alt\" aria-hidden=\"true\"></i></a>"
   ]
  },
  {
   "cell_type": "code",
   "execution_count": 90,
   "metadata": {},
   "outputs": [],
   "source": [
    "rutaSalida = os.path.normpath(os.path.join(PathBase, CarpetaSalida))\n",
    "\n",
    "if os.path.exists(rutaSalida) == False:\n",
    "    os.makedirs(rutaSalida)\n",
    "    \n",
    "rutaResultados = os.path.normpath(os.path.join(rutaSalida, CarpetaResultados))\n",
    "\n",
    "if os.path.exists(rutaResultados) == False:\n",
    "    os.makedirs(rutaResultados)"
   ]
  },
  {
   "cell_type": "code",
   "execution_count": 84,
   "metadata": {},
   "outputs": [],
   "source": [
    "# Exportar el dataframe a un archivo Excel con índices\n",
    "fichero = os.path.normpath(os.path.join(rutaSalida, \"TablaPato.xlsx\"))\n",
    "\n",
    "tabla_final_pato.to_excel(fichero)"
   ]
  },
  {
   "cell_type": "code",
   "execution_count": 88,
   "metadata": {},
   "outputs": [],
   "source": [
    "# Exportar el dataframe a un archivo Excel con índices\n",
    "fichero = os.path.normpath(os.path.join(rutaSalida, \"TablaGeneral.xlsx\"))\n",
    "\n",
    "tabla_final.to_excel(fichero)"
   ]
  },
  {
   "cell_type": "code",
   "execution_count": 91,
   "metadata": {},
   "outputs": [
    {
     "name": "stdout",
     "output_type": "stream",
     "text": [
      "Archivo tabla_final0.xlsx guardado correctamente.\n"
     ]
    }
   ],
   "source": [
    "# Divide el DataFrame en fragmentos de 80 líneas\n",
    "fragmentos = np.array_split(tabla_final, len(tabla_final) // 80 + 1)\n",
    "\n",
    "# Guarda cada fragmento en un archivo Excel separado\n",
    "for i, fragmento in enumerate(fragmentos):\n",
    "    nombre_archivo = f\"tabla_final{i}.xlsx\"\n",
    "    ruta_archivo = os.path.normpath(os.path.join(rutaResultados, nombre_archivo))\n",
    "    fragmento.to_excel(ruta_archivo, index=False)\n",
    "    print(f\"Archivo {nombre_archivo} guardado correctamente.\")\n"
   ]
  },
  {
   "cell_type": "code",
   "execution_count": 92,
   "metadata": {},
   "outputs": [
    {
     "name": "stdout",
     "output_type": "stream",
     "text": [
      "Archivo patogenicos_0.xlsx guardado correctamente.\n"
     ]
    }
   ],
   "source": [
    "# Divide el DataFrame en fragmentos de 80 líneas\n",
    "fragmentos = np.array_split(tabla_final_pato, len(tabla_final_pato) // 80 + 1)\n",
    "\n",
    "# Guarda cada fragmento en un archivo Excel separado\n",
    "for i, fragmento in enumerate(fragmentos):\n",
    "    nombre_archivo = f\"patogenicos_{i}.xlsx\"\n",
    "    ruta_archivo = os.path.join(rutaResultados, nombre_archivo)\n",
    "    fragmento.to_excel(ruta_archivo, index=False)\n",
    "    print(f\"Archivo {nombre_archivo} guardado correctamente.\")\n"
   ]
  },
  {
   "cell_type": "code",
   "execution_count": null,
   "metadata": {},
   "outputs": [],
   "source": []
  }
 ],
 "metadata": {
  "kernelspec": {
   "display_name": "Python 3",
   "language": "python",
   "name": "python3"
  },
  "language_info": {
   "codemirror_mode": {
    "name": "ipython",
    "version": 3
   },
   "file_extension": ".py",
   "mimetype": "text/x-python",
   "name": "python",
   "nbconvert_exporter": "python",
   "pygments_lexer": "ipython3",
   "version": "3.7.4"
  }
 },
 "nbformat": 4,
 "nbformat_minor": 2
}
