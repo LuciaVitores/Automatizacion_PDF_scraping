{
 "cells": [
  {
   "cell_type": "code",
   "execution_count": 2,
   "metadata": {},
   "outputs": [],
   "source": [
    "%matplotlib inline\n",
    "#ESC + Z para recuperar celdas borradas!!!!!!!!!!"
   ]
  },
  {
   "cell_type": "code",
   "execution_count": 158,
   "metadata": {},
   "outputs": [
    {
     "data": {
      "text/plain": [
       "str"
      ]
     },
     "execution_count": 158,
     "metadata": {},
     "output_type": "execute_result"
    }
   ],
   "source": [
    "file = 'Sample_3_v88.pdf'\n",
    "type(file)"
   ]
  },
  {
   "cell_type": "markdown",
   "metadata": {},
   "source": [
    "file = 'Sample_3_v88.pdf'\n",
    "type(file) "
   ]
  },
  {
   "cell_type": "code",
   "execution_count": 20,
   "metadata": {},
   "outputs": [],
   "source": [
    "df = tb.read_pdf(file, pages = '3', area = (300, 0, 600, 800), columns = [200, 200, 0, 300])"
   ]
  },
  {
   "cell_type": "code",
   "execution_count": 14,
   "metadata": {},
   "outputs": [
    {
     "name": "stdout",
     "output_type": "stream",
     "text": [
      "[   Unnamed: 0      2022.09(005)). Los datos aquí presentados  Unnamed: 1  \\\n",
      "0         NaN     pero puede que no sean exhaustivos. La inf         NaN   \n",
      "1         NaN        de NCCN se obtuvo en www.nccn.org con f         NaN   \n",
      "2         NaN     con fecha de 2022-08-17. La información de         NaN   \n",
      "3         NaN     ensayos clínicos tiene fecha de 2022-08-01         NaN   \n",
      "4         NaN     www.clinicaltrials.gov por ID NCT o busque         NaN   \n",
      "5         NaN  identificadores\". Las variantes se indican de         NaN   \n",
      "6         NaN   (Li et al. 2017). Basándose en las fuentes d         NaN   \n",
      "7         NaN     informe se enumeran en orden de posible re         NaN   \n",
      "\n",
      "      proceden de una base de  \\\n",
      "0     ormación de FDA se obtu   \n",
      "1   echa de 2022-08-01. La in   \n",
      "2        ESMO se obtuvo en ww   \n",
      "3   . Para obtener informació   \n",
      "4  en el sitio web de referen   \n",
      "5      acuerdo con la nomencl   \n",
      "6   e datos seleccionadas, la   \n",
      "7    levancia clínica pero no   \n",
      "\n",
      "  conocimientos seleccionada con información de acceso público,  \n",
      "0  vo en www.fda.gov con fecha de 2022-08-17. La ...             \n",
      "1  formación de EMA se obtuvo en www.ema.europa.e...             \n",
      "2  w.esmo.org con fecha de 2022-08-01. La informa...             \n",
      "3  n más actualizada sobre un ensayo específico, ...             \n",
      "4  cia de ensayos clínicos segun identificador lo...             \n",
      "5  atura HGVS y se clasifican según las directric...             \n",
      "6  s variantes, las terapias y los ensayos que se...             \n",
      "7     en orden de eficacia prevista de las terapias.             ]\n"
     ]
    }
   ],
   "source": [
    "print(df)"
   ]
  },
  {
   "cell_type": "code",
   "execution_count": 51,
   "metadata": {},
   "outputs": [
    {
     "ename": "NameError",
     "evalue": "name 'df' is not defined",
     "output_type": "error",
     "traceback": [
      "\u001b[1;31m---------------------------------------------------------------------------\u001b[0m",
      "\u001b[1;31mNameError\u001b[0m                                 Traceback (most recent call last)",
      "\u001b[1;32m<ipython-input-51-e64936b3176e>\u001b[0m in \u001b[0;36m<module>\u001b[1;34m\u001b[0m\n\u001b[1;32m----> 1\u001b[1;33m \u001b[0mdf\u001b[0m \u001b[1;33m=\u001b[0m \u001b[0mdf\u001b[0m\u001b[1;33m.\u001b[0m\u001b[0mapply\u001b[0m\u001b[1;33m(\u001b[0m\u001b[1;32mlambda\u001b[0m \u001b[0mx\u001b[0m\u001b[1;33m:\u001b[0m \u001b[1;36m1\u001b[0m \u001b[1;32mif\u001b[0m \u001b[0mre\u001b[0m\u001b[1;33m.\u001b[0m\u001b[0mfindall\u001b[0m\u001b[1;33m(\u001b[0m\u001b[1;34m'^[A-Z].*[a-z]$'\u001b[0m\u001b[1;33m,\u001b[0m \u001b[0mstr\u001b[0m\u001b[1;33m(\u001b[0m\u001b[0mx\u001b[0m\u001b[1;33m[\u001b[0m\u001b[1;36m0\u001b[0m\u001b[1;33m]\u001b[0m\u001b[1;33m)\u001b[0m\u001b[1;33m)\u001b[0m \u001b[1;32melse\u001b[0m \u001b[1;36m0\u001b[0m\u001b[1;33m,\u001b[0m \u001b[0maxis\u001b[0m \u001b[1;33m=\u001b[0m \u001b[1;36m1\u001b[0m\u001b[1;33m)\u001b[0m\u001b[1;33m\u001b[0m\u001b[1;33m\u001b[0m\u001b[0m\n\u001b[0m",
      "\u001b[1;31mNameError\u001b[0m: name 'df' is not defined"
     ]
    }
   ],
   "source": [
    "df = df.apply(lambda x: 1 if re.findall('^[A-Z].*[a-z]$', str(x[0])) else 0, axis = 1)"
   ]
  },
  {
   "cell_type": "code",
   "execution_count": 6,
   "metadata": {},
   "outputs": [
    {
     "ename": "TypeError",
     "evalue": "list indices must be integers or slices, not str",
     "output_type": "error",
     "traceback": [
      "\u001b[1;31m---------------------------------------------------------------------------\u001b[0m",
      "\u001b[1;31mTypeError\u001b[0m                                 Traceback (most recent call last)",
      "\u001b[1;32m<ipython-input-6-08ca6f43eb01>\u001b[0m in \u001b[0;36m<module>\u001b[1;34m\u001b[0m\n\u001b[1;32m----> 1\u001b[1;33m \u001b[0mdf\u001b[0m\u001b[1;33m[\u001b[0m\u001b[1;34m'row'\u001b[0m\u001b[1;33m]\u001b[0m \u001b[1;33m=\u001b[0m \u001b[0mdf\u001b[0m\u001b[1;33m[\u001b[0m\u001b[1;34m'border'\u001b[0m\u001b[1;33m]\u001b[0m\u001b[1;33m.\u001b[0m\u001b[0mtransform\u001b[0m\u001b[1;33m(\u001b[0m\u001b[1;34m'cumsum'\u001b[0m\u001b[1;33m)\u001b[0m\u001b[1;33m\u001b[0m\u001b[1;33m\u001b[0m\u001b[0m\n\u001b[0m",
      "\u001b[1;31mTypeError\u001b[0m: list indices must be integers or slices, not str"
     ]
    }
   ],
   "source": [
    "df['row'] = df['border'].transform('cumsum')"
   ]
  },
  {
   "cell_type": "code",
   "execution_count": null,
   "metadata": {},
   "outputs": [],
   "source": []
  },
  {
   "cell_type": "code",
   "execution_count": 5,
   "metadata": {},
   "outputs": [
    {
     "name": "stdout",
     "output_type": "stream",
     "text": [
      "Requirement already up-to-date: pypdf2 in c:\\users\\luciv\\anaconda3\\lib\\site-packages (3.0.1)\n",
      "Requirement already satisfied, skipping upgrade: typing_extensions>=3.10.0.0; python_version < \"3.10\" in c:\\users\\luciv\\anaconda3\\lib\\site-packages (from pypdf2) (4.4.0)\n"
     ]
    }
   ],
   "source": [
    "!pip install pypdf2 --upgrade"
   ]
  },
  {
   "cell_type": "code",
   "execution_count": 1,
   "metadata": {},
   "outputs": [
    {
     "ename": "ModuleNotFoundError",
     "evalue": "No module named 'pypdf2'",
     "output_type": "error",
     "traceback": [
      "\u001b[1;31m---------------------------------------------------------------------------\u001b[0m",
      "\u001b[1;31mModuleNotFoundError\u001b[0m                       Traceback (most recent call last)",
      "\u001b[1;32m<ipython-input-1-9c18244d5a44>\u001b[0m in \u001b[0;36m<module>\u001b[1;34m\u001b[0m\n\u001b[1;32m----> 1\u001b[1;33m \u001b[1;32mimport\u001b[0m \u001b[0mpypdf2\u001b[0m\u001b[1;33m\u001b[0m\u001b[1;33m\u001b[0m\u001b[0m\n\u001b[0m",
      "\u001b[1;31mModuleNotFoundError\u001b[0m: No module named 'pypdf2'"
     ]
    }
   ],
   "source": [
    "import pypdf2"
   ]
  },
  {
   "cell_type": "code",
   "execution_count": 2,
   "metadata": {},
   "outputs": [],
   "source": [
    "import fitz  # Esta es la librería pymupdf que habéis instalado\n",
    "import re\n",
    "import pandas\n",
    "import matplotlib.pyplot as plt"
   ]
  },
  {
   "cell_type": "markdown",
   "metadata": {},
   "source": [
    "CÓDIGO PRUEBA"
   ]
  },
  {
   "cell_type": "code",
   "execution_count": 251,
   "metadata": {},
   "outputs": [],
   "source": [
    "chip_Data = [] #carpeta\n",
    "paciente_Data = [] #carpeta\n",
    "fecha_Data = []\n",
    "NHC_Data = []\n",
    "Nbiopsia_Data = []\n",
    "biopsia_Data = []\n",
    "texto_Data = []\n",
    "mutaciones_Data = []\n",
    "frecuencia_Data = []\n",
    "NM_Data = []\n",
    "espe_Data = []\n",
    "farmaco_Data = []\n",
    "ensayo_Data = []\n",
    "BM_Data = []\n",
    "Ndiagnostico_Data = []\n",
    "\n",
    "with fitz.open(\"Sample_3_v88.pdf\") as doc:\n",
    "    text = \"\"\n",
    "    for page in doc:\n",
    "        text = text + page.get_text()"
   ]
  },
  {
   "cell_type": "code",
   "execution_count": 32,
   "metadata": {},
   "outputs": [
    {
     "name": "stdout",
     "output_type": "stream",
     "text": [
      "['Servicio de Anatomía Patológica', 'Laboratorio de Patología Molecular', 'Tel. 947 256 533 ext. 35517', 'Datos paciente: NHC: ', 'Nº biopsia: ', 'Fecha: 16-sep-2022', '1 de 3', 'Tipo de cáncer de la muestra: Carcinoma pulmonar no microcítico', 'Resultados del informe', '1 Biomarcadores relevantes', '3 Tratamientos disponibles', '5 Ensayos clínicos', 'Biomarcadores relevantes', 'Nivel', 'Alteración genómica', 'Tratamientos relevantes', '(En este tipo de cáncer)', 'Tratamientos relevantes', '(En otro tipo de cáncer)', 'Ensayos', 'clínicos', 'IIC', 'BRAF p.(N581S) c.1742A>G', 'B-Raf proto-oncogene, serine/threonine kinase', 'Frecuencia de alelo: 36.65%', 'Ninguno', 'dabrafenib', 'ipilimumab + nivolumab', 'vemurafenib', '5', 'Fuentes de datos públicos incluidas en tratamientos pertinentes:\\xa0FDA1, NCCN, EMA2, ESMO', 'Gen', 'Cambio de', 'aminoácidos', 'Codificación', 'Exón', 'Frecuencia', 'de alelo', 'Locus', 'Transcripto', 'ID de la variante', 'Efecto de la', 'variante', 'ClinVar1', 'BRAF', 'p.(N581S)', 'c.1742A>G', '15', '36.65%', 'chr7:140453193', 'NM_004333.4', '.', 'missense', 'Likely', 'pathogeni', 'ALK', 'p.(D1529E)', 'c.4587C>G', '29', '47.67%', 'chr2:29416366', 'NM_004304.4', '.', 'missense', 'Benign', 'ALK', 'p.(I1461V)', 'c.4381A>G', '29', '99.85%', 'chr2:29416572', 'NM_004304.4', '.', 'missense', 'Benign', 'FGFR4', 'p.(P136L)', 'c.407C>T', '4', '44.51%', 'chr5:176517797', 'NM_213647.2', '.', 'missense', 'Variantes de secuencia de ADN', '1 Basado en la versión ClinVar 20180225', 'Detalles de la variante', '\\uf111 En este tipo de cáncer', '\\uf10c En otro tipo de cáncer', '\\uf042 En este tipo de cáncer y en otros tipos de cáncer \\uf00d Sin pruebas (sin indicios)', 'Tratamiento correspondiente', 'FDA', 'NCCN', 'EMA', 'ESMO', 'Ensayos', 'clínicos*', 'dabrafenib', '\\uf00d', '\\uf10c', '\\uf00d', '\\uf00d', '\\uf00d', 'vemurafenib', '\\uf00d', '\\uf10c', '\\uf00d', '\\uf00d', '\\uf00d', 'ipilimumab + nivolumab', '\\uf00d', '\\uf00d', '\\uf00d', '\\uf10c', '\\uf00d', 'BRAF p.(N581S) c.1742A>G', 'Resumen del tratamiento correspondiente', '* Se muestra la fase más avanzada (IV, III, II/III, II, I/II, I) y puede haber varios ensayos clínicos disponibles.', 'Fdo. Dra. Saiz López, Patricia (Bióloga Molecular) /', 'Dr. García Toro, Enrique (Jefe de Servicio)', 'Declaración: Los datos aquí presentados proceden de una base de conocimientos seleccionada con información de acceso público, pero puede que no sean exhaustivos. La', 'versión de datos es 2022.09(005).El contenido de este informe no ha sido evaluado ni aprobado por la FDA ni por otras autoridades de registro sanitario.', 'Servicio de Anatomía Patológica', 'Laboratorio de Patología Molecular', 'Tel. 947 256 533 ext. 35517', 'Datos paciente: NHC: ', 'Nº biopsia: ', 'Fecha: 16-sep-2022', '2 de 3', '\\uf111 En este tipo de cáncer', '\\uf10c En otro tipo de cáncer', '\\uf042 En este tipo de cáncer y en otros tipos de cáncer \\uf00d Sin pruebas (sin indicios)', 'Tratamiento correspondiente', 'FDA', 'NCCN', 'EMA', 'ESMO', 'Ensayos', 'clínicos*', 'belvarafenib', '\\uf00d', '\\uf00d', '\\uf00d', '\\uf00d', '\\uf111 (II)', 'RO-5126766, defactinib', '\\uf00d', '\\uf00d', '\\uf00d', '\\uf00d', '\\uf111 (II)', 'ASTX029', '\\uf00d', '\\uf00d', '\\uf00d', '\\uf00d', '\\uf111 (I/II)', 'RMC-4630, pembrolizumab', '\\uf00d', '\\uf00d', '\\uf00d', '\\uf00d', '\\uf111 (I/II)', 'KIN-2787, binimetinib', '\\uf00d', '\\uf00d', '\\uf00d', '\\uf00d', '\\uf111 (I)', 'BRAF p.(N581S) c.1742A>G (continuación)', 'Resumen del tratamiento correspondiente (continuación)', '* Se muestra la fase más avanzada (IV, III, II/III, II, I/II, I) y puede haber varios ensayos clínicos disponibles.', 'ID NCT', 'Título', 'Fase', 'NCT04620330', 'A Phase 2 Study of VS-6766 (Dual RAF/MEK Inhibitor) as a Single Agent and In Combination With', 'Defactinib (FAK Inhibitor) in Recurrent KRAS-Mutant (KRAS-MT) and BRAF-Mutant (BRAF-MT) Non-', 'Small Cell Lung Cancer (NSCLC) (RAMP 202)', 'II', 'NCT04418661', 'A Phase 1/2, Open-label, Multicenter, Dose Escalation and Dose Expansion Study of SAR442720 in', 'Combination With Pembrolizumab in Patients With Advanced Malignancies', 'I/II', 'NCT04589845', 'Tumor-Agnostic Precision Immunooncology and Somatic Targeting Rational for You (TAPISTRY) Phase', 'II Platform Trial', 'II', 'NCT04913285', 'A Phase 1/1b Open-label, Multicenter Study to Investigate the Safety, Tolerability, Pharmacokinetics,', 'and Antitumor Activity of KIN-2787 in Participants With BRAF and/or NRAS Mutation-positive Solid', 'Tumors.', 'I', 'NCT03520075', 'A Phase I/II Study of the Safety, Pharmacokinetics, and Activity of ASTX029 in Subjects With Advanced', 'Solid Tumors', 'I/II', 'BRAF p.(N581S) c.1742A>G', 'Resumen de los ensayos clínicos', 'AKT1, ALK, AR, BRAF, CDK4, CTNNB1, DDR2, EGFR, ERBB2, ERBB3, ERBB4, ESR1, FGFR2, FGFR3, GNA11, GNAQ, HRAS, IDH1, IDH2,', 'JAK1, JAK2, JAK3, KIT, KRAS, MAP2K1, MAP2K2, MET, MTOR, NRAS, PDGFRA, PIK3CA, RAF1, RET, ROS1, SMO', 'Genes Assayed for the Detection of DNA Sequence Variants', 'Genes analizados', 'Fdo. Dra. Saiz López, Patricia (Bióloga Molecular) /', 'Dr. García Toro, Enrique (Jefe de Servicio)', 'Declaración: Los datos aquí presentados proceden de una base de conocimientos seleccionada con información de acceso público, pero puede que no sean exhaustivos. La', 'versión de datos es 2022.09(005).', 'Servicio de Anatomía Patológica', 'Laboratorio de Patología Molecular', 'Tel. 947 256 533 ext. 35517', 'Datos paciente: NHC: ', 'Nº biopsia: ', 'Fecha: 16-sep-2022', '3 de 3', 'ALK, AR, BRAF, CCND1, CDK4, CDK6, EGFR, ERBB2, FGFR1, FGFR2, FGFR3, FGFR4, KIT, KRAS, MET, MYC, MYCN, PDGFRA, PIK3CA', 'Genes Assayed for the Detection of Copy Number Variations', 'ALK, RET, ROS1, NTRK1, NTRK2, NTRK3, FGFR1, FGFR2, FGFR3, MET, BRAF, RAF1, ERG, ETV1, ETV4, ETV5, ABL1, AKT3, AXL, EGFR,', 'ERBB2, PDGFRA, PPARG', 'Genes Assayed for the Detection of Fusions', 'Genes analizados (continuación)', 'El software Ion Torrent Oncomine Reporter de Thermo Fisher Scientific se utilizó en la generación de este informe. El software fue', 'desarrollado y diseñado internamente por Thermo Fisher Scientific. El análisis se basó en Oncomine Reporter (5.5.1 versión de datos', '2022.09(005)). Los datos aquí presentados proceden de una base de conocimientos seleccionada con información de acceso público,', 'pero puede que no sean exhaustivos. La información de FDA se obtuvo en www.fda.gov con fecha de 2022-08-17. La información', 'de NCCN se obtuvo en www.nccn.org con fecha de 2022-08-01. La información de EMA se obtuvo en www.ema.europa.eu/ema', 'con fecha de 2022-08-17. La información de ESMO se obtuvo en www.esmo.org con fecha de 2022-08-01. La información de los', 'ensayos clínicos tiene fecha de 2022-08-01. Para obtener información más actualizada sobre un ensayo específico, busque en', 'www.clinicaltrials.gov por ID NCT o busque en el sitio web de referencia de ensayos clínicos segun identificador local en \"Otros', 'identificadores\". Las variantes se indican de acuerdo con la nomenclatura HGVS y se clasifican según las directrices AMP/ASCO/CA', '(Li et al. 2017). Basándose en las fuentes de datos seleccionadas, las variantes, las terapias y los ensayos que se mencionan en este', 'informe se enumeran en orden de posible relevancia clínica pero no en orden de eficacia prevista de las terapias.', 'Fdo. Dra. Saiz López, Patricia (Bióloga Molecular) /', 'Dr. García Toro, Enrique (Jefe de Servicio)', 'Declaración: Los datos aquí presentados proceden de una base de conocimientos seleccionada con información de acceso público, pero puede que no sean exhaustivos. La', 'versión de datos es 2022.09(005).', '']\n"
     ]
    },
    {
     "data": {
      "text/plain": [
       "list"
      ]
     },
     "execution_count": 32,
     "metadata": {},
     "output_type": "execute_result"
    }
   ],
   "source": [
    "lines = text.split('\\n')\n",
    "print(lines)\n",
    "type(lines)"
   ]
  },
  {
   "cell_type": "code",
   "execution_count": 7,
   "metadata": {},
   "outputs": [
    {
     "data": {
      "text/plain": [
       "'Laboratorio de Patología Molecular'"
      ]
     },
     "execution_count": 7,
     "metadata": {},
     "output_type": "execute_result"
    }
   ],
   "source": [
    "lines[1]"
   ]
  },
  {
   "cell_type": "code",
   "execution_count": 8,
   "metadata": {},
   "outputs": [
    {
     "data": {
      "text/plain": [
       "'Datos paciente: NHC: '"
      ]
     },
     "execution_count": 8,
     "metadata": {},
     "output_type": "execute_result"
    }
   ],
   "source": [
    "lines[3]"
   ]
  },
  {
   "cell_type": "code",
   "execution_count": 18,
   "metadata": {},
   "outputs": [
    {
     "name": "stdout",
     "output_type": "stream",
     "text": [
      "['', '', '']\n"
     ]
    },
    {
     "data": {
      "text/plain": [
       "[3, 125, 210]"
      ]
     },
     "execution_count": 18,
     "metadata": {},
     "output_type": "execute_result"
    }
   ],
   "source": [
    "# NHC\n",
    "NHC = [1 if re.search('NHC:', line) else 0 for line in lines]\n",
    "NHC = [i for i, s in enumerate(NHC) if s==1 in NHC]\n",
    "\n",
    "NHC_Data = []\n",
    "#if NHC.len > 0:\n",
    "    #NHC_Data.append(lines[0][lines[0].rfind('NHC')+4:].strip())\n",
    "    \n",
    "for i in NHC:\n",
    "    NHC_Data.append(lines[i][lines[i].rfind('NHC')+4:].strip())\n",
    "print(NHC_Data)\n",
    "\n",
    "NHC"
   ]
  },
  {
   "cell_type": "code",
   "execution_count": 27,
   "metadata": {},
   "outputs": [
    {
     "name": "stdout",
     "output_type": "stream",
     "text": [
      "['', '', '']\n"
     ]
    },
    {
     "data": {
      "text/plain": [
       "[4, 126, 211]"
      ]
     },
     "execution_count": 27,
     "metadata": {},
     "output_type": "execute_result"
    }
   ],
   "source": [
    "#Nº Biopsia\n",
    "Nbiopsia = [1 if re.search('biopsia:', line) else 0 for line in lines]\n",
    "Nbiopsia = [i for i, s in enumerate(Nbiopsia) if s==1 in Nbiopsia]\n",
    "\n",
    "Nbiopsia_Data = []\n",
    "biopsia_Data = [] #depende de la última letra del número de biopsia (B=BIOPSIA, C=CITOLOGIA, P=PUNCION)\n",
    "for i in Nbiopsia:\n",
    "    Nbiopsia_Data.append(lines[i][lines[i].rfind('biopsia')+11:].strip())\n",
    "    #biopsia_Data.append(lines[i][lines[i].rfind('biopsia')+16:].strip())\n",
    "print(Nbiopsia_Data)\n",
    "#print(biopsia_Data)\n",
    "\n",
    "Nbiopsia\n",
    "#biopsia"
   ]
  },
  {
   "cell_type": "code",
   "execution_count": 17,
   "metadata": {},
   "outputs": [
    {
     "name": "stdout",
     "output_type": "stream",
     "text": [
      "['16-sep-2022', '16-sep-2022', '16-sep-2022']\n"
     ]
    },
    {
     "data": {
      "text/plain": [
       "[5, 127, 212]"
      ]
     },
     "execution_count": 17,
     "metadata": {},
     "output_type": "execute_result"
    }
   ],
   "source": [
    "#Fecha\n",
    "fecha = [1 if re.search('Fecha:', line) else 0 for line in lines]\n",
    "fecha = [i for i, s in enumerate(fecha) if s==1 in fecha]\n",
    "\n",
    "fecha_Data = []\n",
    "for i in fecha:\n",
    "    fecha_Data.append(lines[i][lines[i].rfind('Fecha')+7:].strip())\n",
    "    #print(lines[i][lines[i].rfind('Fecha')+7:].strip())\n",
    "print(fecha_Data)\n",
    "\n",
    "fecha"
   ]
  },
  {
   "cell_type": "code",
   "execution_count": 57,
   "metadata": {},
   "outputs": [
    {
     "name": "stdout",
     "output_type": "stream",
     "text": [
      "['Carcinoma pulmonar no microcítico']\n"
     ]
    },
    {
     "data": {
      "text/plain": [
       "[7]"
      ]
     },
     "execution_count": 57,
     "metadata": {},
     "output_type": "execute_result"
    }
   ],
   "source": [
    "#Diagnóstico\n",
    "textoDiag = [1 if re.search('de la muestra:', line) else 0 for line in lines]\n",
    "textoDiag = [i for i, s in enumerate(textoDiag) if s==1 in textoDiag]\n",
    "\n",
    "textoDiag_Data = []\n",
    "for i in textoDiag:\n",
    "    textoDiag_Data.append(lines[i][lines[i].rfind('de la muestra:')+14:].strip())\n",
    "    #print(lines[i][lines[i].rfind('muestra')+9:])\n",
    "print(textoDiag_Data)\n",
    "\n",
    "textoDiag"
   ]
  },
  {
   "cell_type": "code",
   "execution_count": 43,
   "metadata": {},
   "outputs": [
    {
     "name": "stdout",
     "output_type": "stream",
     "text": [
      "['36.65%']\n"
     ]
    },
    {
     "data": {
      "text/plain": [
       "[24]"
      ]
     },
     "execution_count": 43,
     "metadata": {},
     "output_type": "execute_result"
    }
   ],
   "source": [
    "#Frecuencia alélica NO QUIERO EL % AL IMPRIMIR EL VALOR!!!!!\n",
    "frecuencia = [1 if re.search('alelo:', line) else 0 for line in lines]\n",
    "frecuencia = [i for i, s in enumerate(frecuencia) if s==1 in frecuencia]\n",
    "\n",
    "frecuencia_Data = []\n",
    "for i in frecuencia:\n",
    "    frecuencia_Data.append(lines[i][lines[i].rfind('alelo')+7:].strip())\n",
    "    #print(lines[i][lines[i].rfind('alelo')+7:].strip())\n",
    "print(frecuencia_Data)\n",
    "\n",
    "frecuencia"
   ]
  },
  {
   "cell_type": "code",
   "execution_count": 56,
   "metadata": {},
   "outputs": [
    {
     "name": "stdout",
     "output_type": "stream",
     "text": [
      "['CT', 'CT04620330', 'CT04418661', 'CT04589845', 'CT04913285', 'CT03520075', 'CT o busque en el sitio web de referencia de ensayos clínicos segun identificador local en \"Otros']\n"
     ]
    },
    {
     "data": {
      "text/plain": [
       "[172, 175, 180, 184, 188, 193, 227]"
      ]
     },
     "execution_count": 56,
     "metadata": {},
     "output_type": "execute_result"
    }
   ],
   "source": [
    "#Ensayos clínicos QUIERO TODO EL CONJUNTO, NO SOLO LA PRIMERA COLUMNA!!!!!\n",
    "ensayo = [1 if re.search('NCT', line) else 0 for line in lines]\n",
    "ensayo = [i for i, s in enumerate(ensayo) if s==1 in ensayo]\n",
    "\n",
    "ensayo_Data = []\n",
    "for i in ensayo:\n",
    "    ensayo_Data.append(lines[i][lines[i].rfind('NCT')+1:].strip())\n",
    "    #print(lines[i][lines[i].rfind('de los ensayos clínicos')+30:].strip())\n",
    "print(ensayo_Data)\n",
    "\n",
    "ensayo\n"
   ]
  },
  {
   "cell_type": "code",
   "execution_count": 60,
   "metadata": {},
   "outputs": [
    {
     "name": "stdout",
     "output_type": "stream",
     "text": [
      "[]\n"
     ]
    },
    {
     "data": {
      "text/plain": [
       "[]"
      ]
     },
     "execution_count": 60,
     "metadata": {},
     "output_type": "execute_result"
    }
   ],
   "source": [
    "#Mutaciones NO FUNCIONA!\n",
    "mutaciones = [1 if re.search('likely', line) else 0 for line in lines]\n",
    "mutaciones = [i for i, s in enumerate(mutaciones) if s==1 in mutaciones]\n",
    "\n",
    "mutaciones_Data = []\n",
    "for i in mutaciones:\n",
    "    mutaciones_Data.append(lines[i][lines[i].rfind('likely')].strip())\n",
    "print(mutaciones_Data)\n",
    "\n",
    "mutaciones"
   ]
  },
  {
   "cell_type": "code",
   "execution_count": 61,
   "metadata": {},
   "outputs": [
    {
     "name": "stdout",
     "output_type": "stream",
     "text": [
      "[]\n"
     ]
    },
    {
     "data": {
      "text/plain": [
       "[]"
      ]
     },
     "execution_count": 61,
     "metadata": {},
     "output_type": "execute_result"
    }
   ],
   "source": [
    "#Número mutaciones FALTA POR DETERMINAR\n",
    "NM_Data = []\n",
    "NM = [1 if re.search('likely', line) else 0 for line in lines]\n",
    "NM = [i for i, s in enumerate(NM) if s==1 in NM]\n",
    "\n",
    "NM_Data = []\n",
    "for i in mutaciones:\n",
    "    NM_Data.append(lines[i][lines[i].rfind('likely')].strip())\n",
    "print(NM_Data)\n",
    "\n",
    "NM"
   ]
  },
  {
   "cell_type": "code",
   "execution_count": null,
   "metadata": {},
   "outputs": [],
   "source": [
    "#Tipo mutación específico EXTRA \n",
    "mutaciones = [1 if re.search('likely', line) else 0 for line in lines]\n",
    "mutaciones = [i for i, s in enumerate(mutaciones) if s==1 in mutaciones]\n",
    "\n",
    "mutaciones_Data = []\n",
    "for i in mutaciones:\n",
    "    mutaciones_Data.append(lines[i][lines[i].rfind('likely')].strip())\n",
    "print(mutaciones_Data)\n",
    "\n",
    "mutaciones"
   ]
  },
  {
   "cell_type": "code",
   "execution_count": null,
   "metadata": {},
   "outputs": [],
   "source": [
    "#Fármaco aprobado FALTA POR DETERMINAR\n",
    "farmaco = [1 if re.search('likely', line) else 0 for line in lines]\n",
    "farmaco = [i for i, s in enumerate(farmaco) if s==1 in farmaco]\n",
    "\n",
    "farmaco_Data = [] = []\n",
    "for i in mutaciones:\n",
    "    farmaco_Data.append(lines[i][lines[i].rfind('likely')].strip())\n",
    "print(farmaco_Data = [])\n",
    "\n",
    "farmaco"
   ]
  },
  {
   "cell_type": "code",
   "execution_count": 62,
   "metadata": {},
   "outputs": [
    {
     "name": "stdout",
     "output_type": "stream",
     "text": [
      "[]\n"
     ]
    },
    {
     "data": {
      "text/plain": [
       "[]"
      ]
     },
     "execution_count": 62,
     "metadata": {},
     "output_type": "execute_result"
    }
   ],
   "source": [
    "#Beligno maligno EXTRA\n",
    "BM = [1 if re.search('likely', line) else 0 for line in lines]\n",
    "BM = [i for i, s in enumerate(BM) if s==1 in BM]\n",
    "\n",
    "BM_Data = []\n",
    "for i in BM:\n",
    "    BM_Data.append(lines[i][lines[i].rfind('likely')].strip())\n",
    "print(BM_Data)\n",
    "\n",
    "BM"
   ]
  },
  {
   "cell_type": "code",
   "execution_count": 63,
   "metadata": {},
   "outputs": [
    {
     "name": "stdout",
     "output_type": "stream",
     "text": [
      "[]\n"
     ]
    },
    {
     "data": {
      "text/plain": [
       "[]"
      ]
     },
     "execution_count": 63,
     "metadata": {},
     "output_type": "execute_result"
    }
   ],
   "source": [
    "#Número diagnóstico\n",
    "Ndiagnostico = [1 if re.search('likely', line) else 0 for line in lines]\n",
    "Ndiagnostico = [i for i, s in enumerate(Ndiagnostico) if s==1 in Ndiagnostico]\n",
    "\n",
    "Ndiagnostico_Data = []\n",
    "for i in Ndiagnostico:\n",
    "    Ndiagnostico_Data.append(lines[i][lines[i].rfind()].strip())\n",
    "print(Ndiagnostico_Data)\n",
    "\n",
    "Ndiagnostico"
   ]
  },
  {
   "cell_type": "markdown",
   "metadata": {},
   "source": [
    "CÓDIGO ADICIONAL QUE NOS IMPRIME EL PDF EN IMÁGENES"
   ]
  },
  {
   "cell_type": "code",
   "execution_count": 21,
   "metadata": {
    "scrolled": false
   },
   "outputs": [
    {
     "data": {
      "image/png": "[encoded data removed]",
      "text/plain": [
       "<Figure size 576x1080 with 1 Axes>"
      ]
     },
     "metadata": {
      "needs_background": "light"
     },
     "output_type": "display_data"
    },
    {
     "data": {
      "image/png": "[encoded data removed]",
      "text/plain": [
       "<Figure size 576x1080 with 1 Axes>"
      ]
     },
     "metadata": {
      "needs_background": "light"
     },
     "output_type": "display_data"
    },
    {
     "data": {
      "image/png": "[encoded data removed]",
      "text/plain": [
       "<Figure size 576x1080 with 1 Axes>"
      ]
     },
     "metadata": {
      "needs_background": "light"
     },
     "output_type": "display_data"
    }
   ],
   "source": [
    "import imageio as iio\n",
    "\n",
    "i = 0\n",
    "zoom = 4\n",
    "mat = fitz.Matrix(zoom, zoom)\n",
    "with fitz.open(\"Sample_3_v88.pdf\") as doc:\n",
    "    text = \"\"\n",
    "    for page in doc:\n",
    "        i+=1\n",
    "        val = f\"image_{i+1}.png\"\n",
    "        pix = page.get_pixmap(matrix=mat)\n",
    "        pix.save(val)\n",
    "        plt.figure(figsize=(8,15))\n",
    "        img = iio.imread(val)\n",
    "        plt.imshow(img, cmap='gray')\n",
    "        plt.show()"
   ]
  },
  {
   "cell_type": "code",
   "execution_count": null,
   "metadata": {},
   "outputs": [],
   "source": [
    "# Ejecutamos comando %time para determinar el tiempo que tarda la función en ejecutarse. \n",
    "%time nombre_funcion_def()"
   ]
  },
  {
   "cell_type": "code",
   "execution_count": 4,
   "metadata": {},
   "outputs": [
    {
     "ename": "TypeError",
     "evalue": "'module' object is not callable",
     "output_type": "error",
     "traceback": [
      "\u001b[1;31m---------------------------------------------------------------------------\u001b[0m",
      "\u001b[1;31mTypeError\u001b[0m                                 Traceback (most recent call last)",
      "\u001b[1;32m<ipython-input-4-588ef13d2bbc>\u001b[0m in \u001b[0;36m<module>\u001b[1;34m\u001b[0m\n\u001b[0;32m      5\u001b[0m \u001b[1;33m\u001b[0m\u001b[0m\n\u001b[0;32m      6\u001b[0m \u001b[1;31m#reads table from pdf file\u001b[0m\u001b[1;33m\u001b[0m\u001b[1;33m\u001b[0m\u001b[1;33m\u001b[0m\u001b[0m\n\u001b[1;32m----> 7\u001b[1;33m \u001b[0mdf\u001b[0m \u001b[1;33m=\u001b[0m \u001b[0mread_pdf\u001b[0m\u001b[1;33m(\u001b[0m\u001b[1;34m'C:/Users/luciv/OneDrive/Documentos/TFG_Lucia/RE_PDF_inventados/Sample_1_v100_ec96983e-d816-4baf-8544-ca0572acc9fa_2023-03-02_11-57-06-352_All'\u001b[0m\u001b[1;33m)\u001b[0m \u001b[1;31m#address of pdf file\u001b[0m\u001b[1;33m\u001b[0m\u001b[1;33m\u001b[0m\u001b[0m\n\u001b[0m\u001b[0;32m      8\u001b[0m \u001b[0mprint\u001b[0m\u001b[1;33m(\u001b[0m\u001b[0mtabulate\u001b[0m\u001b[1;33m(\u001b[0m\u001b[0mdf\u001b[0m\u001b[1;33m)\u001b[0m\u001b[1;33m)\u001b[0m\u001b[1;33m\u001b[0m\u001b[1;33m\u001b[0m\u001b[0m\n",
      "\u001b[1;31mTypeError\u001b[0m: 'module' object is not callable"
     ]
    }
   ],
   "source": [
    "import tabula as read_pdf\n",
    "from tabulate import tabulate\n",
    "import tabula\n",
    "tabula.read_pdf\n",
    " \n",
    "#reads table from pdf file\n",
    "df = read_pdf('C:/Users/luciv/OneDrive/Documentos/TFG_Lucia/RE_PDF_inventados/Sample_1_v100_ec96983e-d816-4baf-8544-ca0572acc9fa_2023-03-02_11-57-06-352_All') #address of pdf file\n",
    "print(tabulate(df))"
   ]
  },
  {
   "cell_type": "markdown",
   "metadata": {},
   "source": [
    "PRUEBA CREACION DE BASES DE DATOS."
   ]
  },
  {
   "cell_type": "code",
   "execution_count": null,
   "metadata": {},
   "outputs": [],
   "source": [
    "#import sqlite3\n",
    "\n",
    "# Crear una conexión a la base de datos (si no existe, se crea una nueva)\n",
    "#datos = sqlite3.connect('basededatosHUBU.db')\n",
    "\n",
    "# Crear una tabla\n",
    "#datos.execute('''CREATE TABLE usuarios\n",
    "                #(id INTEGER PRIMARY KEY,\n",
    "                #nombre TEXT NOT NULL,\n",
    "                #email TEXT NOT NULL);''')\n",
    "# Cerrar la conexión\n",
    "#datos.close()"
   ]
  },
  {
   "cell_type": "markdown",
   "metadata": {},
   "source": [
    "Como Python no es un sistema de gestión de bases de datos, es necesario el uso de diferentes sistemas de gestión de datos como PostgreSQL para la creación de bases de datos. \n",
    "Para la creación es necesario elegir un sistema de gestión de bases de datos y luego usar la biblioteca de Python específica para interactuar. \n"
   ]
  },
  {
   "cell_type": "markdown",
   "metadata": {},
   "source": [
    "DETERMINAMOS TODAS LAS VARIABLES QUE VAMOS A USAR"
   ]
  },
  {
   "cell_type": "markdown",
   "metadata": {},
   "source": [
    "Número de chip = chip_Data X\n",
    "Número de paciente = paciente_Data X\n",
    "NHC = NHC_Data X\n",
    "Número de biopsia = Nbiopsia_Data X\n",
    "Biopsia sólida = biopsia_Data X\n",
    "Fecha de informe = fecha_Data X\n",
    "Diagnostico = texto_Data X\n",
    "Total del número de mutaciones = mutacionesTotales_Data X\n",
    "\n",
    "-----------------------------------------------------\n",
    "Diagnóstico = texto_Data X\n",
    "Número de diagnóstico = Ndiagnostico_Data X\n",
    "\n",
    "-----------------------------------------------------\n",
    "#Cada mutacion independiente tiene una frecuencia alélica distinta del resto\n",
    "Mutaciones detectadas en el ADN = mutacionesADN_Data \n",
    "Cambio de aminoácido = cambioaa_Data\n",
    "% de frecuencia alélica = frecuencia_Data\n",
    "Mutaciones detectadas en el ARN =  mutacionesARN_Data \n",
    "Número de lecturas (% de frecuencia alélica en ARN) = lecturasARN_Data\n",
    "Variaciones del número de lecturas = variaciones_Data \n",
    "Número de copias (% de frecuencia alélica en copias) = copias_Data\n",
    "Total del número de mutaciones = mutacionesTotales_Data X\n",
    "\n",
    "-------------------------------------------------------\n",
    "#Nos interesa saber el número de mutaciones que hay tanto en ADN, como en ARN y variaciones, así como el total de las mutaciones del paciente (por eso realizamos la suma).\n",
    "Número de mutaciones en el ADN = NmutacionesADN_Data\n",
    "Número de mutaciones en el ARN = NmutacionesARN_Data\n",
    "Número de mutaciones en las copias = Nvariaciones_Data\n",
    "Total del número de mutaciones = mutacionesTotales_Data X\n",
    "\n",
    "------------------------------------------------------\n",
    "#Cada una de las mutaciones tiene un número que la identifica.\n",
    "Mutaciones detectadas en el ADN = mutacionesADN_Data \n",
    "Mutaciones detectadas en el ARN = mutacionesARN_Data \n",
    "Variaciones del número de lecturas = variaciones_Data \n",
    "Nº de la mutación específica detectada = NmutacionEspecifica_Data\n",
    "\n",
    "--------------------------------------------------------\n",
    "Diagnóstico = texto_Data X\n",
    "Ensayos clínicos = ensayo_Data X\n",
    "Fármaco aprobado = farmaco_Data X\n",
    "\n",
    "\n",
    "#Variables creadas anteriormente que ya no nos interesan.\n",
    "mutaciones_Data = [] #Ponemos todas las mutaciones, tanto variaciones como número de copias. interesan patogénicas, vacias y todas aquellas que no sean benignas!!!\n",
    "frecuencia_Data = [] #Ponemos las frecuencais correspondientes a todas las mutaciones detectadas arriba, en el caso del numero de copias ponemos las que hay porque no hay %\n",
    "NM_Data = [] \n",
    "espe_Data = []"
   ]
  },
  {
   "cell_type": "markdown",
   "metadata": {},
   "source": [
    "# CÓDIGO DEFINITIVO PRUEBA PDF INVENTADOS"
   ]
  },
  {
   "cell_type": "code",
   "execution_count": 1,
   "metadata": {},
   "outputs": [],
   "source": [
    "import imageio as iio\n",
    "import fitz  # Esta es la librería pymupdf que habéis instalado\n",
    "import re\n",
    "import numpy as np\n",
    "import pandas as pd\n",
    "import matplotlib.pyplot as plt\n",
    "import os\n",
    "from tabulate import tabulate\n",
    "import tabula"
   ]
  },
  {
   "cell_type": "code",
   "execution_count": 2,
   "metadata": {},
   "outputs": [
    {
     "name": "stdout",
     "output_type": "stream",
     "text": [
      "Columns: 6\n",
      "Unnamed: 0\n",
      "Unnamed: 1\n",
      "Tratamientos relevantes\n",
      "Tratamientos relevantes Ensayos\n",
      "Unnamed: 2\n",
      "Unnamed: 3\n",
      "                                           Unnamed: 0  \\\n",
      "0                                               Nivel   \n",
      "1                                                 IIC   \n",
      "2                                                 NaN   \n",
      "3                                                 NaN   \n",
      "4   Fuentes de datos públicos incluidas en tratami...   \n",
      "5                             Detalles de la variante   \n",
      "6                       Variantes de secuencia de ADN   \n",
      "7                                                 NaN   \n",
      "8                                                 Gen   \n",
      "9                                                BRAF   \n",
      "10                                                NaN   \n",
      "11                                                ALK   \n",
      "12                                                ALK   \n",
      "13                                              FGFR4   \n",
      "\n",
      "                                       Unnamed: 1   Tratamientos relevantes  \\\n",
      "0                             Alteración genómica  (En este tipo de cáncer)   \n",
      "1                        BRAF p.(N581S) c.1742A>G                   Ninguno   \n",
      "2   B-Raf proto-oncogene, serine/threonine kinase                       NaN   \n",
      "3                     Frecuencia de alelo: 36.65%                       NaN   \n",
      "4                                             NaN                       NaN   \n",
      "5                                             NaN                       NaN   \n",
      "6                                             NaN                       NaN   \n",
      "7                                       Cambio de                Frecuencia   \n",
      "8                        aminoácidos Codificación       Exón de alelo Locus   \n",
      "9                             p.(N581S) c.1742A>G  15 36.65% chr7:140453193   \n",
      "10                                            NaN                       NaN   \n",
      "11                           p.(D1529E) c.4587C>G   29 47.67% chr2:29416366   \n",
      "12                           p.(I1461V) c.4381A>G   29 99.85% chr2:29416572   \n",
      "13                             p.(P136L) c.407C>T   4 44.51% chr5:176517797   \n",
      "\n",
      "           Tratamientos relevantes Ensayos  Unnamed: 2 Unnamed: 3  \n",
      "0        (En otro tipo de cáncer) clínicos         NaN        NaN  \n",
      "1                             dabrafenib 5         NaN        NaN  \n",
      "2                   ipilimumab + nivolumab         NaN        NaN  \n",
      "3                              vemurafenib         NaN        NaN  \n",
      "4                                      NaN         NaN        NaN  \n",
      "5                                      NaN         NaN        NaN  \n",
      "6                                      NaN         NaN        NaN  \n",
      "7                             Efecto de la         NaN        NaN  \n",
      "8   Transcripto ID de la variante variante         NaN   ClinVar1  \n",
      "9                   NM_004333.4 . missense         NaN     Likely  \n",
      "10                                     NaN         NaN  pathogeni  \n",
      "11                  NM_004304.4 . missense         NaN     Benign  \n",
      "12                  NM_004304.4 . missense         NaN     Benign  \n",
      "13                  NM_213647.2 . missense         NaN        NaN  \n",
      "1 - ********************\n",
      "  Unnamed: 0                Unnamed: 1   Tratamientos relevantes  \\\n",
      "0      Nivel       Alteración genómica  (En este tipo de cáncer)   \n",
      "1        IIC  BRAF p.(N581S) c.1742A>G                   Ninguno   \n",
      "\n",
      "     Tratamientos relevantes Ensayos  Unnamed: 2 Unnamed: 3  \n",
      "0  (En otro tipo de cáncer) clínicos         NaN        NaN  \n",
      "1                       dabrafenib 5         NaN        NaN  \n",
      "Size: 12\n",
      "Shape: 2\n",
      "Shape: 6\n",
      "1 - ********************\n",
      "                                           Unnamed: 0  \\\n",
      "0                                               Nivel   \n",
      "1                                                 IIC   \n",
      "2                                                 NaN   \n",
      "3                                                 NaN   \n",
      "4   Fuentes de datos públicos incluidas en tratami...   \n",
      "5                             Detalles de la variante   \n",
      "6                       Variantes de secuencia de ADN   \n",
      "7                                                 NaN   \n",
      "8                                                 Gen   \n",
      "9                                                BRAF   \n",
      "10                                                NaN   \n",
      "11                                                ALK   \n",
      "12                                                ALK   \n",
      "13                                              FGFR4   \n",
      "\n",
      "                                       Unnamed: 1   Tratamientos relevantes  \\\n",
      "0                             Alteración genómica  (En este tipo de cáncer)   \n",
      "1                        BRAF p.(N581S) c.1742A>G                   Ninguno   \n",
      "2   B-Raf proto-oncogene, serine/threonine kinase                       NaN   \n",
      "3                     Frecuencia de alelo: 36.65%                       NaN   \n",
      "4                                             NaN                       NaN   \n",
      "5                                             NaN                       NaN   \n",
      "6                                             NaN                       NaN   \n",
      "7                                       Cambio de                Frecuencia   \n",
      "8                        aminoácidos Codificación       Exón de alelo Locus   \n",
      "9                             p.(N581S) c.1742A>G  15 36.65% chr7:140453193   \n",
      "10                                            NaN                       NaN   \n",
      "11                           p.(D1529E) c.4587C>G   29 47.67% chr2:29416366   \n",
      "12                           p.(I1461V) c.4381A>G   29 99.85% chr2:29416572   \n",
      "13                             p.(P136L) c.407C>T   4 44.51% chr5:176517797   \n",
      "\n",
      "           Tratamientos relevantes Ensayos  Unnamed: 2 Unnamed: 3  \n",
      "0        (En otro tipo de cáncer) clínicos         NaN        NaN  \n",
      "1                             dabrafenib 5         NaN        NaN  \n",
      "2                   ipilimumab + nivolumab         NaN        NaN  \n",
      "3                              vemurafenib         NaN        NaN  \n",
      "4                                      NaN         NaN        NaN  \n",
      "5                                      NaN         NaN        NaN  \n",
      "6                                      NaN         NaN        NaN  \n",
      "7                             Efecto de la         NaN        NaN  \n",
      "8   Transcripto ID de la variante variante         NaN   ClinVar1  \n",
      "9                   NM_004333.4 . missense         NaN     Likely  \n",
      "10                                     NaN         NaN  pathogeni  \n",
      "11                  NM_004304.4 . missense         NaN     Benign  \n",
      "12                  NM_004304.4 . missense         NaN     Benign  \n",
      "13                  NM_213647.2 . missense         NaN        NaN  \n",
      "2 - ********************\n",
      "      BRAF p.(N581S) c.1742A>G Unnamed: 0 Unnamed: 1 Unnamed: 2 Unnamed: 3  \\\n",
      "0                          NaN        NaN        NaN        NaN        NaN   \n",
      "1  Tratamiento correspondiente        FDA       NCCN        EMA       ESMO   \n",
      "2                   dabrafenib                                           \n",
      "3                  vemurafenib                                           \n",
      "4       ipilimumab + nivolumab                                           \n",
      "\n",
      "  Unnamed: 4  \n",
      "0    Ensayos  \n",
      "1  clínicos*  \n",
      "2            \n",
      "3            \n",
      "4            \n"
     ]
    }
   ],
   "source": [
    "import tabula \n",
    "import pandas as pd\n",
    "from tabulate import tabulate\n",
    "\n",
    "\n",
    "df = tabula.read_pdf(\"Sample_3_v88.pdf\", pages=\"all\", multiple_tables=True)\n",
    "#df = tabula.read_pdf_with_template(\"Sample_1.pdf\", \"Sample1.json\")\n",
    "\n",
    "sample = df[0]\n",
    "\n",
    "columns = list(sample.columns.values)\n",
    "\n",
    "print(\"Columns: \" + str(len(columns)))\n",
    "\n",
    "for a in columns:\n",
    "    print(a)\n",
    "\n",
    "print(sample)\n",
    "\n",
    "print(\"1 - ********************\")\n",
    "\n",
    "sample = sample.iloc[[0,1]]\n",
    "\n",
    "print(sample)\n",
    "\n",
    "print(\"Size: \" + str(sample.size))\n",
    "print(\"Shape: \" + str(sample.shape[0]))\n",
    "print(\"Shape: \" + str(sample.shape[1]))\n",
    "\n",
    "print(\"1 - ********************\")\n",
    "\n",
    "print(df[0])\n",
    "\n",
    "\n",
    "print(\"2 - ********************\")\n",
    "\n",
    "print(df[1])"
   ]
  },
  {
   "cell_type": "code",
   "execution_count": 3,
   "metadata": {},
   "outputs": [
    {
     "name": "stdout",
     "output_type": "stream",
     "text": [
      "Tamaño: 84\n",
      "                                           Unnamed: 0  \\\n",
      "0                                               Nivel   \n",
      "1                                                 IIC   \n",
      "2                                                 NaN   \n",
      "3                                                 NaN   \n",
      "4   Fuentes de datos públicos incluidas en tratami...   \n",
      "5                             Detalles de la variante   \n",
      "6                       Variantes de secuencia de ADN   \n",
      "7                                                 NaN   \n",
      "8                                                 Gen   \n",
      "9                                                BRAF   \n",
      "10                                                NaN   \n",
      "11                                                ALK   \n",
      "12                                                ALK   \n",
      "13                                              FGFR4   \n",
      "\n",
      "                                       Unnamed: 1   Tratamientos relevantes  \\\n",
      "0                             Alteración genómica  (En este tipo de cáncer)   \n",
      "1                        BRAF p.(N581S) c.1742A>G                   Ninguno   \n",
      "2   B-Raf proto-oncogene, serine/threonine kinase                       NaN   \n",
      "3                     Frecuencia de alelo: 36.65%                       NaN   \n",
      "4                                             NaN                       NaN   \n",
      "5                                             NaN                       NaN   \n",
      "6                                             NaN                       NaN   \n",
      "7                                       Cambio de                Frecuencia   \n",
      "8                        aminoácidos Codificación       Exón de alelo Locus   \n",
      "9                             p.(N581S) c.1742A>G  15 36.65% chr7:140453193   \n",
      "10                                            NaN                       NaN   \n",
      "11                           p.(D1529E) c.4587C>G   29 47.67% chr2:29416366   \n",
      "12                           p.(I1461V) c.4381A>G   29 99.85% chr2:29416572   \n",
      "13                             p.(P136L) c.407C>T   4 44.51% chr5:176517797   \n",
      "\n",
      "           Tratamientos relevantes Ensayos  Unnamed: 2 Unnamed: 3  \n",
      "0        (En otro tipo de cáncer) clínicos         NaN        NaN  \n",
      "1                             dabrafenib 5         NaN        NaN  \n",
      "2                   ipilimumab + nivolumab         NaN        NaN  \n",
      "3                              vemurafenib         NaN        NaN  \n",
      "4                                      NaN         NaN        NaN  \n",
      "5                                      NaN         NaN        NaN  \n",
      "6                                      NaN         NaN        NaN  \n",
      "7                             Efecto de la         NaN        NaN  \n",
      "8   Transcripto ID de la variante variante         NaN   ClinVar1  \n",
      "9                   NM_004333.4 . missense         NaN     Likely  \n",
      "10                                     NaN         NaN  pathogeni  \n",
      "11                  NM_004304.4 . missense         NaN     Benign  \n",
      "12                  NM_004304.4 . missense         NaN     Benign  \n",
      "13                  NM_213647.2 . missense         NaN        NaN  \n",
      "miramos\n"
     ]
    },
    {
     "ename": "AttributeError",
     "evalue": "'str' object has no attribute 'columns'",
     "output_type": "error",
     "traceback": [
      "\u001b[1;31m---------------------------------------------------------------------------\u001b[0m",
      "\u001b[1;31mAttributeError\u001b[0m                            Traceback (most recent call last)",
      "\u001b[1;32m<ipython-input-3-059a194fcf5b>\u001b[0m in \u001b[0;36m<module>\u001b[1;34m\u001b[0m\n\u001b[0;32m     19\u001b[0m             \u001b[0mprint\u001b[0m\u001b[1;33m(\u001b[0m\u001b[1;34m\"miramos\"\u001b[0m\u001b[1;33m)\u001b[0m\u001b[1;33m\u001b[0m\u001b[1;33m\u001b[0m\u001b[0m\n\u001b[0;32m     20\u001b[0m             \u001b[1;32mfor\u001b[0m \u001b[0mc\u001b[0m \u001b[1;32min\u001b[0m \u001b[0mtab\u001b[0m\u001b[1;33m:\u001b[0m\u001b[1;33m\u001b[0m\u001b[1;33m\u001b[0m\u001b[0m\n\u001b[1;32m---> 21\u001b[1;33m                 \u001b[0mprint\u001b[0m\u001b[1;33m(\u001b[0m\u001b[0mc\u001b[0m\u001b[1;33m.\u001b[0m\u001b[0mcolumns\u001b[0m\u001b[1;33m)\u001b[0m\u001b[1;33m\u001b[0m\u001b[1;33m\u001b[0m\u001b[0m\n\u001b[0m",
      "\u001b[1;31mAttributeError\u001b[0m: 'str' object has no attribute 'columns'"
     ]
    }
   ],
   "source": [
    "for a in range(len(df)):\n",
    "    tab = df[a]\n",
    "\n",
    "    print(\"Tamaño: \" + str(tab.size))\n",
    "\n",
    "    tab2 = pd.DataFrame(tab)\n",
    "    print(tab2)\n",
    "\n",
    "    if (len(tab) >= 0):\n",
    "        \n",
    "        variantes = False\n",
    "        posicion_genes = -1\n",
    "\n",
    "        for b in tab.values:\n",
    "            if \"Variantes de secuencia de ADN\" in b:\n",
    "                variantes = True\n",
    "\n",
    "        if variantes == True:\n",
    "            print(\"miramos\")\n",
    "            for c in tab:\n",
    "                print(c.columns)\n"
   ]
  },
  {
   "cell_type": "code",
   "execution_count": 2,
   "metadata": {},
   "outputs": [],
   "source": [
    "def LeerFicherosPDF(ruta):\n",
    "    ficheros = []\n",
    "    contenido = os.listdir(ruta)\n",
    "    for fichero in contenido:\n",
    "        if os.path.isfile(os.path.join(ruta, fichero)) and fichero.endswith('.pdf'):\n",
    "            ficheros.append(fichero)\n",
    "    return ficheros"
   ]
  },
  {
   "cell_type": "code",
   "execution_count": 3,
   "metadata": {},
   "outputs": [],
   "source": [
    "def LeerDocumento(nombreFichero):\n",
    "    with fitz.open(nombreFichero) as doc:\n",
    "        text=\"\"\n",
    "        for page in doc:\n",
    "            text = text + page.get_text()\n",
    "    return text.split('\\n')\n"
   ]
  },
  {
   "cell_type": "code",
   "execution_count": 4,
   "metadata": {},
   "outputs": [],
   "source": [
    "def BuscarValor(textoBuscar, lines):\n",
    "    Encontrados = []\n",
    "\n",
    "    valores = [1 if re.search(textoBuscar, line) else 0 for line in lines]\n",
    "    valores = [i for i, s in enumerate(valores) if s==1 in valores]\n",
    "\n",
    "    posiciones = len(textoBuscar)\n",
    "    \n",
    "    for i in valores:\n",
    "        Encontrados.append(lines[i][lines[i].rfind(textoBuscar)+posiciones:].strip())\n",
    "\n",
    "    return Encontrados"
   ]
  },
  {
   "cell_type": "code",
   "execution_count": 5,
   "metadata": {},
   "outputs": [],
   "source": [
    "def GenerarImagen(ruta, fichero):\n",
    "    i = 0   \n",
    "    zoom = 4\n",
    "    mat = fitz.Matrix(zoom, zoom)\n",
    "    with fitz.open(os.path.join(ruta,fichero)) as doc:\n",
    "        for page in doc:\n",
    "            i+=1\n",
    "            val = f\"image_{i+1}.png\"\n",
    "            pix = page.get_pixmap(matrix=mat)\n",
    "            pix.save(os.path.join(ruta,fichero + \"_\" + val))\n",
    "            #plt.figure(figsize=(8,15))\n",
    "            #img = iio.imread(val)\n",
    "            #plt.imshow(img, cmap='gray')\n",
    "            #plt.show()"
   ]
  },
  {
   "cell_type": "code",
   "execution_count": 6,
   "metadata": {},
   "outputs": [
    {
     "name": "stdout",
     "output_type": "stream",
     "text": [
      "                                          DIAGNÓSTICO  NÚMERO DIAGNÓSTICO\n",
      "0                         Carcinoma del tracto biliar                 1.0\n",
      "1                                   Colangiocarcinoma                 1.1\n",
      "2                     Carcinoma de la vesícula biliar                 1.2\n",
      "3                                    Cáncer de vejiga                 2.0\n",
      "4                       Carcinoma vesicular uroterial                 2.1\n",
      "5                                      Cáncer de mama                 3.0\n",
      "6                             Triple negativo de mama                 3.1\n",
      "7              Neoplasia del sistema nervioso central                 4.0\n",
      "8                                              Glioma                 4.1\n",
      "9                                     Cáncer cervical                 5.0\n",
      "10                                      Condrosarcoma                 6.0\n",
      "11                                 Cáncer colorrectal                 7.0\n",
      "12            Carcinoma de células escamosas cutáneas                 8.0\n",
      "13                              Carcinoma endometrial                 9.0\n",
      "14                                   Cáncer esofágico                10.0\n",
      "15                                    Cáncer gástrico                11.0\n",
      "16                 Tumor del estroma gastrointestinal                11.1\n",
      "17                          Cáncer de cabeza y cuello                12.0\n",
      "18                                    Cáncer de riñón                13.0\n",
      "19                                   Cáncer de hígado                14.0\n",
      "20                            Carcinoma hepatocelular                14.1\n",
      "21                          Cáncer de pulmón/pulmonar                15.0\n",
      "22                  Carcinoma pulmonar no microcítico                15.1\n",
      "23                     Carcinoma pulmonar microcítico                15.2\n",
      "24                                           Melanoma                16.0\n",
      "25                        Carcinoma de células Merkel                17.0\n",
      "26                                        Mesotelioma                18.0\n",
      "27  Neoplasia mixto neuroendocrino no- neuroendocrino                19.0\n",
      "28                           Carcinoma neuroendocrino                20.0\n",
      "29       Carcinoma neuroendocrino de células pequeñas                20.1\n",
      "30                               Tumor neuroendocrino                21.0\n",
      "31                                       Osteosarcoma                22.0\n",
      "32                                   Cáncer de ovario                23.0\n",
      "33                                 Cáncer de páncreas                24.0\n",
      "34                                      Paraganglioma                25.0\n",
      "35                                 Cáncer de próstata                26.0\n",
      "36            Carcinoma de células basales de la piel                27.0\n",
      "37                         Sarcoma de tejidos blandos                28.0\n",
      "38                                  Cáncer testicular                29.0\n",
      "39                                    Cáncer tiroideo                30.0\n",
      "40                                    Sarcoma uterino                31.0\n",
      "41                                     Melanoma uveal                32.0\n",
      "42                        Origen primario desconocido                33.0\n",
      "43                                  Otro tumor sólido                34.0\n",
      "44                                            Linfoma                35.0\n"
     ]
    }
   ],
   "source": [
    "diagnostico = pd.read_excel(\"C:/Users/luciv/OneDrive/Documentos/TFG_Lucia/Diagnostico.xlsx\")\n",
    "print(diagnostico)"
   ]
  },
  {
   "cell_type": "code",
   "execution_count": 7,
   "metadata": {},
   "outputs": [
    {
     "name": "stdout",
     "output_type": "stream",
     "text": [
      "         GEN  Número gen\n",
      "0       ABL1           1\n",
      "1       AKT1           2\n",
      "2       AKT3           3\n",
      "3        ALK           4\n",
      "4         AR           5\n",
      "5        AXL           6\n",
      "6       BRAF           7\n",
      "7      CCND1           8\n",
      "8       CDK4           9\n",
      "9       CDK6          10\n",
      "10    CTNNB1          11\n",
      "11      DDR2          12\n",
      "12      EGFR          13\n",
      "13     ERBB2          14\n",
      "14     ERBB3          15\n",
      "15     ERBB4          16\n",
      "16       ERG          17\n",
      "17      ESR1          18\n",
      "18      ETV1          19\n",
      "19      ETV4          20\n",
      "20      ETV5          21\n",
      "21     FGFR1          22\n",
      "22     FGFR2          23\n",
      "23     FGFR3          24\n",
      "24     FGFR4          25\n",
      "25     GNA11          26\n",
      "26      GNAQ          27\n",
      "27      HRAS          28\n",
      "28      IDH1          29\n",
      "29      IDH2          30\n",
      "30      JAK1          31\n",
      "31      JAK2          32\n",
      "32      JAK3          33\n",
      "33       KIT          34\n",
      "34      KRAS          35\n",
      "35    MAP2K1          36\n",
      "36    MAP2K2          37\n",
      "37       MET          38\n",
      "38      MTOR          39\n",
      "39       MYC          40\n",
      "40      MYCN          41\n",
      "41      NRAS          42\n",
      "42     NTRK1          43\n",
      "43     NTRK2          44\n",
      "44     NTRK3          45\n",
      "45    PDGFRA          46\n",
      "46    PIK3CA          47\n",
      "47     PPARG          48\n",
      "48      RAF1          49\n",
      "49       RET          50\n",
      "50      ROS1          51\n",
      "51       SMO          52\n",
      "52  EML4-ALK          53\n"
     ]
    }
   ],
   "source": [
    "genes = pd.read_excel(\"C:/Users/luciv/OneDrive/Documentos/TFG_Lucia/Genes.xlsx\")\n",
    "print(genes)\n",
    "\n",
    "mutaciones = genes[\"GEN\"].unique()\n",
    "#print(mutaciones)\n",
    "#type(mutacion)"
   ]
  },
  {
   "cell_type": "code",
   "execution_count": 8,
   "metadata": {},
   "outputs": [
    {
     "name": "stdout",
     "output_type": "stream",
     "text": [
      "['ABL1' 'AKT1' 'AKT3' 'ALK' 'AR' 'AXL' 'BRAF' 'CCND1' 'CDK4' 'CDK6'\n",
      " 'CTNNB1' 'DDR2' 'EGFR' 'ERBB2' 'ERBB3' 'ERBB4' 'ERG' 'ESR1' 'ETV1' 'ETV4'\n",
      " 'ETV5' 'FGFR1' 'FGFR2' 'FGFR3' 'FGFR4' 'GNA11' 'GNAQ' 'HRAS' 'IDH1'\n",
      " 'IDH2' 'JAK1' 'JAK2' 'JAK3' 'KIT' 'KRAS' 'MAP2K1' 'MAP2K2' 'MET' 'MTOR'\n",
      " 'MYC' 'MYCN' 'NRAS' 'NTRK1' 'NTRK2' 'NTRK3' 'PDGFRA' 'PIK3CA' 'PPARG'\n",
      " 'RAF1' 'RET' 'ROS1' 'SMO' 'EML4-ALK']\n",
      "['ABL1', 'AKT1', 'AKT3', 'ALK', 'AR', 'AXL', 'BRAF', 'CCND1', 'CDK4', 'CDK6', 'CTNNB1', 'DDR2', 'EGFR', 'ERBB2', 'ERBB3', 'ERBB4', 'ERG', 'ESR1', 'ETV1', 'ETV4', 'ETV5', 'FGFR1', 'FGFR2', 'FGFR3', 'FGFR4', 'GNA11', 'GNAQ', 'HRAS', 'IDH1', 'IDH2', 'JAK1', 'JAK2', 'JAK3', 'KIT', 'KRAS', 'MAP2K1', 'MAP2K2', 'MET', 'MTOR', 'MYC', 'MYCN', 'NRAS', 'NTRK1', 'NTRK2', 'NTRK3', 'PDGFRA', 'PIK3CA', 'PPARG', 'RAF1', 'RET', 'ROS1', 'SMO', 'EML4-ALK']\n"
     ]
    },
    {
     "data": {
      "text/plain": [
       "list"
      ]
     },
     "execution_count": 8,
     "metadata": {},
     "output_type": "execute_result"
    }
   ],
   "source": [
    "genes = pd.read_excel(\"C:/Users/luciv/OneDrive/Documentos/TFG_Lucia/Genes.xlsx\")\n",
    "#print(genes)\n",
    "\n",
    "mutacion = genes[\"GEN\"].unique()\n",
    "a = list(mutacion)\n",
    "print(mutacion)\n",
    "type(mutacion)\n",
    "print(a)\n",
    "type(a)\n"
   ]
  },
  {
   "cell_type": "markdown",
   "metadata": {},
   "source": [
    "## ENSAYOS CLÍNICOS Y TRATAMIENTOS DISPONIBLES. "
   ]
  },
  {
   "cell_type": "code",
   "execution_count": 9,
   "metadata": {},
   "outputs": [],
   "source": [
    "#texto = \"Se están llevando a cabo 5 ensayos clínicos en este momento.\"\n",
    "\n",
    "#patron = r\"(\\d+)\\s*ensayos clínicos\"\n",
    "\n",
    "#resultado = re.search(patron, texto)\n",
    "\n",
    "#if resultado:\n",
    "    #valor = int(resultado.group(1))\n",
    "    #print(\"El valor de ensayos clínicos es:\", valor)\n",
    "#else:\n",
    "    #print(\"No se encontró información de ensayos clínicos.\")"
   ]
  },
  {
   "cell_type": "code",
   "execution_count": 9,
   "metadata": {},
   "outputs": [
    {
     "name": "stdout",
     "output_type": "stream",
     "text": [
      "Sample_1_v100_ec96983e-d816-4baf-8544-ca0572acc9fa_2023-03-02_11-57-06-352_All.pdf -> Ensayos: 6\n",
      "Sample_2_v100_dc008f2f-9bc7-4ac2-89d2-7f3ba6fdb04d_2023-03-02_11-56-10-540_All.pdf -> Ensayos: 5\n",
      "Sample_3_v100_50c27cd1-3ee7-490c-8ec6-30091039bb9c_2023-03-02_11-55-40-900_All.pdf -> Ensayos: 0\n",
      "Sample_4_v100_03eb528b-ded2-4db9-81fe-e1553385db88_2023-03-02_11-54-08-761_All.pdf -> Ensayos: 0\n",
      "Sample_5_v100_da86c58e-d529-400b-8812-506948d0c3ed_2023-03-02_11-53-07-777_All.pdf -> Ensayos: 3\n",
      "Sample_6_v100_52c1af10-c6e1-4f44-85d8-bfa7260fb9ff_2023-03-02_11-52-19-927_All.pdf -> Ensayos: 5\n",
      "Sample_7_v100_869cc724-f5f4-4d61-a708-c818a6c062ef_2023-03-02_11-50-41-677_All.pdf -> Ensayos: 1\n",
      "Sample_8_v100_14451fbc-44ce-480e-9107-c6ab537a1fda_2023-03-02_11-49-41-641_All.pdf -> Ensayos: 0\n",
      "[6, 5, 0, 0, 3, 5, 1, 0]\n"
     ]
    }
   ],
   "source": [
    "patron = r\"(\\d+)\\s* Ensayos clínicos\"\n",
    "Ruta = 'C:/Users/luciv/OneDrive/Documentos/TFG_Lucia/RE_PDF_inventados'\n",
    "ficheros = LeerFicherosPDF(Ruta)\n",
    "#resultado = re.search(patron, lines)\n",
    "#lines = LeerDocumento(os.path.join(Ruta,ficheroPDF))\n",
    "\n",
    "lista_ensayos = []\n",
    "\n",
    "for ficheroPDF in ficheros:\n",
    "    lines = LeerDocumento(os.path.join(Ruta,ficheroPDF))\n",
    "    \n",
    "    ensayos = 0\n",
    "    for line in lines:\n",
    "        resultado = re.search(patron, line)\n",
    "        if resultado:\n",
    "            ensayos = int(resultado.group(1))\n",
    "            \n",
    "    lista_ensayos.append(ensayos)   \n",
    "    \n",
    "    print(ficheroPDF + \" -> Ensayos: \" + str(ensayos))\n",
    "print(lista_ensayos)\n",
    "#Me devuelve los resultados de Sample_3_v88 Y YO ESE NO LE USO!\n",
    "#Quiero trabajar con los ficheros de la carpeta RE_PDF_inventados"
   ]
  },
  {
   "cell_type": "code",
   "execution_count": 10,
   "metadata": {},
   "outputs": [
    {
     "data": {
      "text/plain": [
       "[6, 5, 0, 0, 3, 5, 1, 0]"
      ]
     },
     "execution_count": 10,
     "metadata": {},
     "output_type": "execute_result"
    }
   ],
   "source": [
    "lista_ensayos"
   ]
  },
  {
   "cell_type": "code",
   "execution_count": 11,
   "metadata": {},
   "outputs": [
    {
     "name": "stdout",
     "output_type": "stream",
     "text": [
      "[1, 1, 0, 0, 1, 1, 1, 0]\n"
     ]
    }
   ],
   "source": [
    "ensayos_finales = []\n",
    "for i in lista_ensayos:\n",
    "    if i == 0:\n",
    "        ensayos_finales.append(0)\n",
    "    else:\n",
    "        ensayos_finales.append(1)\n",
    "print(ensayos_finales)"
   ]
  },
  {
   "cell_type": "code",
   "execution_count": 12,
   "metadata": {},
   "outputs": [
    {
     "name": "stdout",
     "output_type": "stream",
     "text": [
      "Sample_1_v100_ec96983e-d816-4baf-8544-ca0572acc9fa_2023-03-02_11-57-06-352_All.pdf -> Tratamientos: 6\n",
      "Sample_2_v100_dc008f2f-9bc7-4ac2-89d2-7f3ba6fdb04d_2023-03-02_11-56-10-540_All.pdf -> Tratamientos: 1\n",
      "Sample_3_v100_50c27cd1-3ee7-490c-8ec6-30091039bb9c_2023-03-02_11-55-40-900_All.pdf -> Tratamientos: 0\n",
      "Sample_4_v100_03eb528b-ded2-4db9-81fe-e1553385db88_2023-03-02_11-54-08-761_All.pdf -> Tratamientos: 0\n",
      "Sample_5_v100_da86c58e-d529-400b-8812-506948d0c3ed_2023-03-02_11-53-07-777_All.pdf -> Tratamientos: 3\n",
      "Sample_6_v100_52c1af10-c6e1-4f44-85d8-bfa7260fb9ff_2023-03-02_11-52-19-927_All.pdf -> Tratamientos: 0\n",
      "Sample_7_v100_869cc724-f5f4-4d61-a708-c818a6c062ef_2023-03-02_11-50-41-677_All.pdf -> Tratamientos: 0\n",
      "Sample_8_v100_14451fbc-44ce-480e-9107-c6ab537a1fda_2023-03-02_11-49-41-641_All.pdf -> Tratamientos: 1\n",
      "[6, 1, 0, 0, 3, 0, 0, 1]\n"
     ]
    }
   ],
   "source": [
    "patron2 = r\"(\\d+)\\s* Tratamientos disponibles\"\n",
    "Ruta = 'C:/Users/luciv/OneDrive/Documentos/TFG_Lucia/RE_PDF_inventados'\n",
    "ficheros = LeerFicherosPDF(Ruta)\n",
    "\n",
    "lista_tratamientos = []\n",
    "\n",
    "for ficheroPDF in ficheros:\n",
    "    lines = LeerDocumento(os.path.join(Ruta, ficheroPDF))\n",
    "    tratamientos = 0\n",
    "    \n",
    "    for line in lines:\n",
    "        resultado = re.search(patron2, line)\n",
    "        if resultado:\n",
    "            tratamientos = int(resultado.group(1))\n",
    "    \n",
    "    lista_tratamientos.append(tratamientos)\n",
    "    print(ficheroPDF + \" -> Tratamientos: \" + str(tratamientos))\n",
    "    \n",
    "print(lista_tratamientos)\n",
    "#Me devuelve los resultados de Sample_3_v88 Y YO ESE NO LE USO!\n",
    "#Quiero trabajar con los ficheros de la carpeta RE_PDF_inventados"
   ]
  },
  {
   "cell_type": "code",
   "execution_count": 13,
   "metadata": {},
   "outputs": [
    {
     "data": {
      "text/plain": [
       "[6, 1, 0, 0, 3, 0, 0, 1]"
      ]
     },
     "execution_count": 13,
     "metadata": {},
     "output_type": "execute_result"
    }
   ],
   "source": [
    "lista_tratamientos"
   ]
  },
  {
   "cell_type": "code",
   "execution_count": 14,
   "metadata": {},
   "outputs": [
    {
     "name": "stdout",
     "output_type": "stream",
     "text": [
      "[1, 1, 0, 0, 1, 0, 0, 1]\n"
     ]
    }
   ],
   "source": [
    "tratamientos_finales = []\n",
    "for i in lista_tratamientos:\n",
    "    if i == 0:\n",
    "        tratamientos_finales.append(0)\n",
    "    else:\n",
    "        tratamientos_finales.append(1)\n",
    "print(tratamientos_finales)"
   ]
  },
  {
   "cell_type": "markdown",
   "metadata": {},
   "source": [
    "## MUTACIONES Y DERIVADOS"
   ]
  },
  {
   "cell_type": "code",
   "execution_count": 15,
   "metadata": {},
   "outputs": [
    {
     "name": "stdout",
     "output_type": "stream",
     "text": [
      "Sample_1_v100_ec96983e-d816-4baf-8544-ca0572acc9fa_2023-03-02_11-57-06-352_All.pdf - Existe: ALK\n",
      "Sample_1_v100_ec96983e-d816-4baf-8544-ca0572acc9fa_2023-03-02_11-57-06-352_All.pdf - Existe: FGFR4\n",
      "Sample_1_v100_ec96983e-d816-4baf-8544-ca0572acc9fa_2023-03-02_11-57-06-352_All.pdf - Existe: MYC\n",
      "Sample_1_v100_ec96983e-d816-4baf-8544-ca0572acc9fa_2023-03-02_11-57-06-352_All.pdf - Existe: EML4-ALK\n",
      "Sample_2_v100_dc008f2f-9bc7-4ac2-89d2-7f3ba6fdb04d_2023-03-02_11-56-10-540_All.pdf - Existe: ALK\n",
      "Sample_2_v100_dc008f2f-9bc7-4ac2-89d2-7f3ba6fdb04d_2023-03-02_11-56-10-540_All.pdf - Existe: FGFR4\n",
      "Sample_2_v100_dc008f2f-9bc7-4ac2-89d2-7f3ba6fdb04d_2023-03-02_11-56-10-540_All.pdf - Existe: KRAS\n",
      "Sample_2_v100_dc008f2f-9bc7-4ac2-89d2-7f3ba6fdb04d_2023-03-02_11-56-10-540_All.pdf - Existe: MET\n",
      "Sample_3_v100_50c27cd1-3ee7-490c-8ec6-30091039bb9c_2023-03-02_11-55-40-900_All.pdf - Existe: ALK\n",
      "Sample_3_v100_50c27cd1-3ee7-490c-8ec6-30091039bb9c_2023-03-02_11-55-40-900_All.pdf - Existe: FGFR4\n",
      "Sample_4_v100_03eb528b-ded2-4db9-81fe-e1553385db88_2023-03-02_11-54-08-761_All.pdf - Existe: ALK\n",
      "Sample_4_v100_03eb528b-ded2-4db9-81fe-e1553385db88_2023-03-02_11-54-08-761_All.pdf - Existe: FGFR1\n",
      "Sample_4_v100_03eb528b-ded2-4db9-81fe-e1553385db88_2023-03-02_11-54-08-761_All.pdf - Existe: FGFR4\n",
      "Sample_4_v100_03eb528b-ded2-4db9-81fe-e1553385db88_2023-03-02_11-54-08-761_All.pdf - Existe: PIK3CA\n",
      "Sample_5_v100_da86c58e-d529-400b-8812-506948d0c3ed_2023-03-02_11-53-07-777_All.pdf - Existe: ALK\n",
      "Sample_5_v100_da86c58e-d529-400b-8812-506948d0c3ed_2023-03-02_11-53-07-777_All.pdf - Existe: CDK6\n",
      "Sample_5_v100_da86c58e-d529-400b-8812-506948d0c3ed_2023-03-02_11-53-07-777_All.pdf - Existe: FGFR4\n",
      "Sample_5_v100_da86c58e-d529-400b-8812-506948d0c3ed_2023-03-02_11-53-07-777_All.pdf - Existe: KIT\n",
      "Sample_5_v100_da86c58e-d529-400b-8812-506948d0c3ed_2023-03-02_11-53-07-777_All.pdf - Existe: MET\n",
      "Sample_6_v100_52c1af10-c6e1-4f44-85d8-bfa7260fb9ff_2023-03-02_11-52-19-927_All.pdf - Existe: ALK\n",
      "Sample_6_v100_52c1af10-c6e1-4f44-85d8-bfa7260fb9ff_2023-03-02_11-52-19-927_All.pdf - Existe: CTNNB1\n",
      "Sample_6_v100_52c1af10-c6e1-4f44-85d8-bfa7260fb9ff_2023-03-02_11-52-19-927_All.pdf - Existe: EGFR\n",
      "Sample_6_v100_52c1af10-c6e1-4f44-85d8-bfa7260fb9ff_2023-03-02_11-52-19-927_All.pdf - Existe: FGFR4\n",
      "Sample_7_v100_869cc724-f5f4-4d61-a708-c818a6c062ef_2023-03-02_11-50-41-677_All.pdf - Existe: ALK\n",
      "Sample_7_v100_869cc724-f5f4-4d61-a708-c818a6c062ef_2023-03-02_11-50-41-677_All.pdf - Existe: FGFR4\n",
      "Sample_7_v100_869cc724-f5f4-4d61-a708-c818a6c062ef_2023-03-02_11-50-41-677_All.pdf - Existe: HRAS\n",
      "Sample_8_v100_14451fbc-44ce-480e-9107-c6ab537a1fda_2023-03-02_11-49-41-641_All.pdf - Existe: ALK\n",
      "Sample_8_v100_14451fbc-44ce-480e-9107-c6ab537a1fda_2023-03-02_11-49-41-641_All.pdf - Existe: FGFR4\n",
      "Sample_8_v100_14451fbc-44ce-480e-9107-c6ab537a1fda_2023-03-02_11-49-41-641_All.pdf - Existe: KIT\n",
      "Sample_8_v100_14451fbc-44ce-480e-9107-c6ab537a1fda_2023-03-02_11-49-41-641_All.pdf - Existe: MYC\n"
     ]
    }
   ],
   "source": [
    "#Todos los genes mutados que hay en cada ficherO (ESTO NO ME INTERSA!)\n",
    "Ruta = 'C:/Users/luciv/OneDrive/Documentos/TFG_Lucia/RE_PDF_inventados'\n",
    "\n",
    "ficheros = LeerFicherosPDF(Ruta)\n",
    "\n",
    "for ficheroPDF in ficheros:\n",
    "    lines = LeerDocumento(os.path.join(Ruta,ficheroPDF))\n",
    "    \n",
    "    for mutacion in mutaciones:\n",
    "        if mutacion in lines:\n",
    "            print(ficheroPDF + \" - Existe: \" + mutacion)\n",
    "            "
   ]
  },
  {
   "cell_type": "code",
   "execution_count": 16,
   "metadata": {},
   "outputs": [
    {
     "name": "stdout",
     "output_type": "stream",
     "text": [
      "Sample_1_v100_ec96983e-d816-4baf-8544-ca0572acc9fa_2023-03-02_11-57-06-352_All.pdf - Existe: MYC\n",
      "Sample_1_v100_ec96983e-d816-4baf-8544-ca0572acc9fa_2023-03-02_11-57-06-352_All.pdf - Existe: EML4-ALK\n",
      "Sample_2_v100_dc008f2f-9bc7-4ac2-89d2-7f3ba6fdb04d_2023-03-02_11-56-10-540_All.pdf - Existe: KRAS\n",
      "Sample_4_v100_03eb528b-ded2-4db9-81fe-e1553385db88_2023-03-02_11-54-08-761_All.pdf - Existe: FGFR1\n",
      "Sample_4_v100_03eb528b-ded2-4db9-81fe-e1553385db88_2023-03-02_11-54-08-761_All.pdf - Existe: PIK3CA\n",
      "Sample_5_v100_da86c58e-d529-400b-8812-506948d0c3ed_2023-03-02_11-53-07-777_All.pdf - Existe: CDK6\n",
      "Sample_5_v100_da86c58e-d529-400b-8812-506948d0c3ed_2023-03-02_11-53-07-777_All.pdf - Existe: MET\n",
      "Sample_6_v100_52c1af10-c6e1-4f44-85d8-bfa7260fb9ff_2023-03-02_11-52-19-927_All.pdf - Existe: CTNNB1\n",
      "Sample_6_v100_52c1af10-c6e1-4f44-85d8-bfa7260fb9ff_2023-03-02_11-52-19-927_All.pdf - Existe: EGFR\n",
      "Sample_7_v100_869cc724-f5f4-4d61-a708-c818a6c062ef_2023-03-02_11-50-41-677_All.pdf - Existe: HRAS\n",
      "Sample_8_v100_14451fbc-44ce-480e-9107-c6ab537a1fda_2023-03-02_11-49-41-641_All.pdf - Existe: KIT\n",
      "Sample_8_v100_14451fbc-44ce-480e-9107-c6ab537a1fda_2023-03-02_11-49-41-641_All.pdf - Existe: MYC\n"
     ]
    }
   ],
   "source": [
    "#Genes mutados de interés (PATOGENICOS / VACIOS ) BIEN!!!\n",
    "Ruta = 'C:/Users/luciv/OneDrive/Documentos/TFG_Lucia/RE_PDF_inventados'\n",
    "\n",
    "ficheros = LeerFicherosPDF(Ruta)\n",
    "\n",
    "for ficheroPDF in ficheros:\n",
    "    lines = LeerDocumento(os.path.join(Ruta,ficheroPDF))\n",
    "                \n",
    "    for mutacion in mutaciones:\n",
    "        if mutacion in lines:\n",
    "            posicion = lines.index(mutacion)\n",
    "            \n",
    "            #print(ficheroPDF + \" - Existe: \" + mutacion)\n",
    "            #print(posiciones)\n",
    "            if mutacion == \"FGFR4\": #solo el tipo p.(P136L)\n",
    "                #posicion = lines.index(\"FGFR4\")\n",
    "                #print(posicion)\n",
    "                #print(posicion + 1)\n",
    "                if (posicion < len(lines)-1 and lines[posicion + 1] == \"p.(P136L)\"):\n",
    "                    pass\n",
    "                else:\n",
    "                    print(ficheroPDF + \" - Existe: \" + mutacion)\n",
    "            else:\n",
    "                benigno = False\n",
    "                #print(mutacion)\n",
    "                for a in range(posicion+1, posicion+10):\n",
    "                    #print(str(a) + \" > \" + lines[a])\n",
    "                    if \"Benign\" in lines[a]:\n",
    "                        #print(lines[a])\n",
    "                        benigno = True\n",
    "                if benigno == False:\n",
    "                    print(ficheroPDF + \" - Existe: \" + mutacion)\n",
    "\n",
    "                    \n",
    "#            elif (posiciones<len(lines) - 9 and lines[posiciones + 9] == \"Benign\"):\n",
    " #               pass\n",
    "  #          elif (posiciones<len(lines) - 9 and lines[posiciones + 9] == \"Benign/Likelybenign\"):\n",
    "   #             pass\n",
    "    #        else: \n",
    "     #           print(ficheroPDF + \" - Existe: \" + mutacion)\n",
    "      #          #print(posiciones)\n",
    "                \n",
    "#FALLOS.\n",
    "# NO APARECEN LOS REPETIDOS DOS VECES, SOLO APARECEN UNA\n"
   ]
  },
  {
   "cell_type": "code",
   "execution_count": 17,
   "metadata": {},
   "outputs": [
    {
     "name": "stdout",
     "output_type": "stream",
     "text": [
      "Sample_2_v100_dc008f2f-9bc7-4ac2-89d2-7f3ba6fdb04d_2023-03-02_11-56-10-540_All.pdf - Existe: KRAS - Pathogenic\n",
      "Sample_6_v100_52c1af10-c6e1-4f44-85d8-bfa7260fb9ff_2023-03-02_11-52-19-927_All.pdf - Existe: CTNNB1 - Pathogenic\n"
     ]
    }
   ],
   "source": [
    "#Solo genes patogénicos BIEN!!!\n",
    "for ficheroPDF in ficheros:\n",
    "    lines = LeerDocumento(os.path.join(Ruta, ficheroPDF))\n",
    "    \n",
    "    for mutacion in mutaciones:\n",
    "        if mutacion in lines:\n",
    "            posicion = lines.index(mutacion)\n",
    "\n",
    "            for a in range(posicion+1, min(posicion+10, len(lines))):\n",
    "                if \"Pathogeni\" in lines[a]:\n",
    "                    print(ficheroPDF + \" - Existe: \" + mutacion + \" - Pathogenic\")\n",
    "                "
   ]
  },
  {
   "cell_type": "code",
   "execution_count": 18,
   "metadata": {},
   "outputs": [
    {
     "name": "stdout",
     "output_type": "stream",
     "text": [
      "Sample_2_v100_dc008f2f-9bc7-4ac2-89d2-7f3ba6fdb04d_2023-03-02_11-56-10-540_All.pdf - Existe: KRAS - Pathogenic\n",
      "Sample_6_v100_52c1af10-c6e1-4f44-85d8-bfa7260fb9ff_2023-03-02_11-52-19-927_All.pdf - Existe: CTNNB1 - Pathogenic\n",
      "{'Sample_1_v100_ec96983e-d816-4baf-8544-ca0572acc9fa_2023-03-02_11-57-06-352_All.pdf': [], 'Sample_2_v100_dc008f2f-9bc7-4ac2-89d2-7f3ba6fdb04d_2023-03-02_11-56-10-540_All.pdf': ['KRAS'], 'Sample_3_v100_50c27cd1-3ee7-490c-8ec6-30091039bb9c_2023-03-02_11-55-40-900_All.pdf': [], 'Sample_4_v100_03eb528b-ded2-4db9-81fe-e1553385db88_2023-03-02_11-54-08-761_All.pdf': [], 'Sample_5_v100_da86c58e-d529-400b-8812-506948d0c3ed_2023-03-02_11-53-07-777_All.pdf': [], 'Sample_6_v100_52c1af10-c6e1-4f44-85d8-bfa7260fb9ff_2023-03-02_11-52-19-927_All.pdf': ['CTNNB1'], 'Sample_7_v100_869cc724-f5f4-4d61-a708-c818a6c062ef_2023-03-02_11-50-41-677_All.pdf': [], 'Sample_8_v100_14451fbc-44ce-480e-9107-c6ab537a1fda_2023-03-02_11-49-41-641_All.pdf': []}\n"
     ]
    }
   ],
   "source": [
    "patogen = {}\n",
    "\n",
    "for ficheroPDF in ficheros:\n",
    "    lines = LeerDocumento(os.path.join(Ruta,ficheroPDF))\n",
    "    genpato2 = []\n",
    "    \n",
    "    for mutacion in mutaciones:\n",
    "        if mutacion in lines:\n",
    "            posicion = lines.index(mutacion)\n",
    "            \n",
    "            for a in range(posicion+1, min(posicion+10, len(lines))):\n",
    "                if \"Pathogeni\" in lines[a]:\n",
    "                    genpato2.append(mutacion)\n",
    "                    print(ficheroPDF + \" - Existe: \" + mutacion + \" - Pathogenic\")\n",
    "            \n",
    "                    \n",
    "    \n",
    "    patogen[ficheroPDF] = genpato2\n",
    "    \n",
    "print(patogen)"
   ]
  },
  {
   "cell_type": "code",
   "execution_count": 19,
   "metadata": {},
   "outputs": [
    {
     "data": {
      "text/plain": [
       "[[], ['KRAS'], [], [], [], ['CTNNB1'], [], []]"
      ]
     },
     "execution_count": 19,
     "metadata": {},
     "output_type": "execute_result"
    }
   ],
   "source": [
    "patologicos = list(patogen.values())\n",
    "patologicos"
   ]
  },
  {
   "cell_type": "code",
   "execution_count": 90,
   "metadata": {},
   "outputs": [
    {
     "name": "stdout",
     "output_type": "stream",
     "text": [
      "[[], [35], [], [], [], [11], [], []]\n"
     ]
    }
   ],
   "source": [
    "numero_iden_pato = []\n",
    "for i in patologicos:\n",
    "    valores = [mutaciones_dic.get(gen, 0) for gen in i]\n",
    "    numero_iden_pato.append(valores)\n",
    "\n",
    "print(numero_iden_pato)"
   ]
  },
  {
   "cell_type": "code",
   "execution_count": 93,
   "metadata": {},
   "outputs": [
    {
     "name": "stdout",
     "output_type": "stream",
     "text": [
      "Sample_1_v100_ec96983e-d816-4baf-8544-ca0572acc9fa_2023-03-02_11-57-06-352_All.pdf - Existe: MYC\n",
      "Sample_1_v100_ec96983e-d816-4baf-8544-ca0572acc9fa_2023-03-02_11-57-06-352_All.pdf - Existe: EML4-ALK\n",
      "Sample_2_v100_dc008f2f-9bc7-4ac2-89d2-7f3ba6fdb04d_2023-03-02_11-56-10-540_All.pdf - Existe: KRAS\n",
      "Sample_2_v100_dc008f2f-9bc7-4ac2-89d2-7f3ba6fdb04d_2023-03-02_11-56-10-540_All.pdf - Existe: KRAS - Pathogenic\n",
      "Sample_4_v100_03eb528b-ded2-4db9-81fe-e1553385db88_2023-03-02_11-54-08-761_All.pdf - Existe: FGFR1\n",
      "Sample_4_v100_03eb528b-ded2-4db9-81fe-e1553385db88_2023-03-02_11-54-08-761_All.pdf - Existe: PIK3CA\n",
      "Sample_5_v100_da86c58e-d529-400b-8812-506948d0c3ed_2023-03-02_11-53-07-777_All.pdf - Existe: CDK6\n",
      "Sample_5_v100_da86c58e-d529-400b-8812-506948d0c3ed_2023-03-02_11-53-07-777_All.pdf - Existe: MET\n",
      "Sample_6_v100_52c1af10-c6e1-4f44-85d8-bfa7260fb9ff_2023-03-02_11-52-19-927_All.pdf - Existe: CTNNB1\n",
      "Sample_6_v100_52c1af10-c6e1-4f44-85d8-bfa7260fb9ff_2023-03-02_11-52-19-927_All.pdf - Existe: CTNNB1 - Pathogenic\n",
      "Sample_6_v100_52c1af10-c6e1-4f44-85d8-bfa7260fb9ff_2023-03-02_11-52-19-927_All.pdf - Existe: EGFR\n",
      "Sample_7_v100_869cc724-f5f4-4d61-a708-c818a6c062ef_2023-03-02_11-50-41-677_All.pdf - Existe: HRAS\n",
      "Sample_8_v100_14451fbc-44ce-480e-9107-c6ab537a1fda_2023-03-02_11-49-41-641_All.pdf - Existe: KIT\n",
      "Sample_8_v100_14451fbc-44ce-480e-9107-c6ab537a1fda_2023-03-02_11-49-41-641_All.pdf - Existe: MYC\n",
      "Sample_2_v100_dc008f2f-9bc7-4ac2-89d2-7f3ba6fdb04d_2023-03-02_11-56-10-540_All.pdf - Existe: KRAS - Pathogenic\n",
      "Sample_6_v100_52c1af10-c6e1-4f44-85d8-bfa7260fb9ff_2023-03-02_11-52-19-927_All.pdf - Existe: CTNNB1 - Pathogenic\n",
      "{'Sample_1_v100_ec96983e-d816-4baf-8544-ca0572acc9fa_2023-03-02_11-57-06-352_All.pdf': [], 'Sample_2_v100_dc008f2f-9bc7-4ac2-89d2-7f3ba6fdb04d_2023-03-02_11-56-10-540_All.pdf': ['KRAS'], 'Sample_3_v100_50c27cd1-3ee7-490c-8ec6-30091039bb9c_2023-03-02_11-55-40-900_All.pdf': [], 'Sample_4_v100_03eb528b-ded2-4db9-81fe-e1553385db88_2023-03-02_11-54-08-761_All.pdf': [], 'Sample_5_v100_da86c58e-d529-400b-8812-506948d0c3ed_2023-03-02_11-53-07-777_All.pdf': [], 'Sample_6_v100_52c1af10-c6e1-4f44-85d8-bfa7260fb9ff_2023-03-02_11-52-19-927_All.pdf': ['CTNNB1'], 'Sample_7_v100_869cc724-f5f4-4d61-a708-c818a6c062ef_2023-03-02_11-50-41-677_All.pdf': [], 'Sample_8_v100_14451fbc-44ce-480e-9107-c6ab537a1fda_2023-03-02_11-49-41-641_All.pdf': []}\n"
     ]
    }
   ],
   "source": [
    "#MEZCLA DE AMBOS\n",
    "for ficheroPDF in ficheros:\n",
    "    lines = LeerDocumento(os.path.join(Ruta,ficheroPDF))\n",
    "                \n",
    "    for mutacion in mutaciones:\n",
    "        if mutacion in lines:\n",
    "            posicion = lines.index(mutacion)\n",
    "            \n",
    "            #print(ficheroPDF + \" - Existe: \" + mutacion)\n",
    "            #print(posiciones)\n",
    "            if mutacion == \"FGFR4\": #solo el tipo p.(P136L)\n",
    "                #posicion = lines.index(\"FGFR4\")\n",
    "                #print(posicion)\n",
    "                #print(posicion + 1)\n",
    "                if (posicion < len(lines)-1 and lines[posicion + 1] == \"p.(P136L)\"):\n",
    "                    pass\n",
    "                else:\n",
    "                    print(ficheroPDF + \" - Existe: \" + mutacion)\n",
    "            else:\n",
    "                benigno = False\n",
    "                #print(mutacion)\n",
    "                for a in range(posicion+1, posicion+10):\n",
    "                    #print(str(a) + \" > \" + lines[a])\n",
    "                    if \"Benign\" in lines[a]:\n",
    "                        #print(lines[a])\n",
    "                        benigno = True\n",
    "                if benigno == False:\n",
    "                    print(ficheroPDF + \" - Existe: \" + mutacion)\n",
    "                    \n",
    "            for a in range(posicion+1, posicion+10):\n",
    "                if \"Pathogeni\" in lines[a]:\n",
    "                    print(ficheroPDF + \" - Existe: \" + mutacion + \" - Pathogenic\")\n",
    "                    \n",
    "patogen = {}\n",
    "\n",
    "for ficheroPDF in ficheros:\n",
    "    lines = LeerDocumento(os.path.join(Ruta,ficheroPDF))\n",
    "    genpato2 = []\n",
    "    \n",
    "    for mutacion in mutaciones:\n",
    "        if mutacion in lines:\n",
    "            posicion = lines.index(mutacion)\n",
    "            \n",
    "            for a in range(posicion+1, min(posicion+10, len(lines))):\n",
    "                if \"Pathogeni\" in lines[a]:\n",
    "                    genpato2.append(mutacion)\n",
    "                    print(ficheroPDF + \" - Existe: \" + mutacion + \" - Pathogenic\")\n",
    "            \n",
    "                    \n",
    "    \n",
    "    patogen[ficheroPDF] = genpato2\n",
    "    \n",
    "print(patogen)"
   ]
  },
  {
   "cell_type": "code",
   "execution_count": null,
   "metadata": {},
   "outputs": [],
   "source": []
  },
  {
   "cell_type": "code",
   "execution_count": 21,
   "metadata": {},
   "outputs": [
    {
     "name": "stdout",
     "output_type": "stream",
     "text": [
      "Sample_1_v100_ec96983e-d816-4baf-8544-ca0572acc9fa_2023-03-02_11-57-06-352_All.pdf - Existe: MYC\n",
      "Sample_1_v100_ec96983e-d816-4baf-8544-ca0572acc9fa_2023-03-02_11-57-06-352_All.pdf - Existe: EML4-ALK\n",
      "Sample_1_v100_ec96983e-d816-4baf-8544-ca0572acc9fa_2023-03-02_11-57-06-352_All.pdf - Número total de mutaciones : 2\n",
      "Sample_2_v100_dc008f2f-9bc7-4ac2-89d2-7f3ba6fdb04d_2023-03-02_11-56-10-540_All.pdf - Existe: KRAS\n",
      "Sample_2_v100_dc008f2f-9bc7-4ac2-89d2-7f3ba6fdb04d_2023-03-02_11-56-10-540_All.pdf - Número total de mutaciones : 1\n",
      "Sample_3_v100_50c27cd1-3ee7-490c-8ec6-30091039bb9c_2023-03-02_11-55-40-900_All.pdf - Número total de mutaciones : 0\n",
      "Sample_4_v100_03eb528b-ded2-4db9-81fe-e1553385db88_2023-03-02_11-54-08-761_All.pdf - Existe: FGFR1\n",
      "Sample_4_v100_03eb528b-ded2-4db9-81fe-e1553385db88_2023-03-02_11-54-08-761_All.pdf - Existe: PIK3CA\n",
      "Sample_4_v100_03eb528b-ded2-4db9-81fe-e1553385db88_2023-03-02_11-54-08-761_All.pdf - Número total de mutaciones : 2\n",
      "Sample_5_v100_da86c58e-d529-400b-8812-506948d0c3ed_2023-03-02_11-53-07-777_All.pdf - Existe: CDK6\n",
      "Sample_5_v100_da86c58e-d529-400b-8812-506948d0c3ed_2023-03-02_11-53-07-777_All.pdf - Existe: MET\n",
      "Sample_5_v100_da86c58e-d529-400b-8812-506948d0c3ed_2023-03-02_11-53-07-777_All.pdf - Número total de mutaciones : 2\n",
      "Sample_6_v100_52c1af10-c6e1-4f44-85d8-bfa7260fb9ff_2023-03-02_11-52-19-927_All.pdf - Existe: CTNNB1\n",
      "Sample_6_v100_52c1af10-c6e1-4f44-85d8-bfa7260fb9ff_2023-03-02_11-52-19-927_All.pdf - Existe: EGFR\n",
      "Sample_6_v100_52c1af10-c6e1-4f44-85d8-bfa7260fb9ff_2023-03-02_11-52-19-927_All.pdf - Número total de mutaciones : 2\n",
      "Sample_7_v100_869cc724-f5f4-4d61-a708-c818a6c062ef_2023-03-02_11-50-41-677_All.pdf - Existe: HRAS\n",
      "Sample_7_v100_869cc724-f5f4-4d61-a708-c818a6c062ef_2023-03-02_11-50-41-677_All.pdf - Número total de mutaciones : 1\n",
      "Sample_8_v100_14451fbc-44ce-480e-9107-c6ab537a1fda_2023-03-02_11-49-41-641_All.pdf - Existe: KIT\n",
      "Sample_8_v100_14451fbc-44ce-480e-9107-c6ab537a1fda_2023-03-02_11-49-41-641_All.pdf - Existe: MYC\n",
      "Sample_8_v100_14451fbc-44ce-480e-9107-c6ab537a1fda_2023-03-02_11-49-41-641_All.pdf - Número total de mutaciones : 2\n"
     ]
    }
   ],
   "source": [
    "#TOTAL DEL NÚMERO DE MUTACIONES BIEN!!\n",
    "ficheros = LeerFicherosPDF(Ruta)\n",
    "max_mut = 0\n",
    "\n",
    "for ficheroPDF in ficheros:\n",
    "    lines = LeerDocumento(os.path.join(Ruta,ficheroPDF))\n",
    "    total_mut = 0\n",
    "    \n",
    "    for mutacion in mutaciones:\n",
    "        if mutacion in lines:\n",
    "            posicion = lines.index(mutacion)\n",
    "            \n",
    "            #print(ficheroPDF + \" - Existe: \" + mutacion)\n",
    "            #print(posiciones)\n",
    "            if mutacion == \"FGFR4\": #solo el tipo p.(P136L)\n",
    "                #posicion = lines.index(\"FGFR4\")\n",
    "                #print(posicion)\n",
    "                #print(posicion + 1)\n",
    "                if (posicion < len(lines)-1 and lines[posicion + 1] == \"p.(P136L)\"):\n",
    "                    pass\n",
    "                else:\n",
    "                    total_mut += 1\n",
    "                    print(ficheroPDF + \" - Existe: \" + mutacion)\n",
    "            else:\n",
    "                benigno = False\n",
    "                #print(mutacion)\n",
    "                for a in range(posicion+1, posicion+10):\n",
    "                    #print(str(a) + \" > \" + lines[a])\n",
    "                    if \"Benign\" in lines[a]:\n",
    "                        #print(lines[a])\n",
    "                        benigno = True\n",
    "                if benigno == False:\n",
    "                    total_mut += 1\n",
    "                    print(ficheroPDF + \" - Existe: \" + mutacion)\n",
    "                    \n",
    "                    \n",
    "    if total_mut > max_mut:\n",
    "        max_mut = total_mut\n",
    "    print(f\"{ficheroPDF} - Número total de mutaciones : {total_mut}\")\n"
   ]
  },
  {
   "cell_type": "code",
   "execution_count": 22,
   "metadata": {},
   "outputs": [
    {
     "name": "stdout",
     "output_type": "stream",
     "text": [
      "Sample_1_v100_ec96983e-d816-4baf-8544-ca0572acc9fa_2023-03-02_11-57-06-352_All.pdf - Existe: MYC\n",
      "Sample_1_v100_ec96983e-d816-4baf-8544-ca0572acc9fa_2023-03-02_11-57-06-352_All.pdf - Existe: EML4-ALK\n",
      "Sample_1_v100_ec96983e-d816-4baf-8544-ca0572acc9fa_2023-03-02_11-57-06-352_All.pdf - Número total de mutaciones : 2\n",
      "Sample_2_v100_dc008f2f-9bc7-4ac2-89d2-7f3ba6fdb04d_2023-03-02_11-56-10-540_All.pdf - Existe: KRAS\n",
      "Sample_2_v100_dc008f2f-9bc7-4ac2-89d2-7f3ba6fdb04d_2023-03-02_11-56-10-540_All.pdf - Número total de mutaciones : 1\n",
      "Sample_3_v100_50c27cd1-3ee7-490c-8ec6-30091039bb9c_2023-03-02_11-55-40-900_All.pdf - Número total de mutaciones : 0\n",
      "Sample_4_v100_03eb528b-ded2-4db9-81fe-e1553385db88_2023-03-02_11-54-08-761_All.pdf - Existe: FGFR1\n",
      "Sample_4_v100_03eb528b-ded2-4db9-81fe-e1553385db88_2023-03-02_11-54-08-761_All.pdf - Existe: PIK3CA\n",
      "Sample_4_v100_03eb528b-ded2-4db9-81fe-e1553385db88_2023-03-02_11-54-08-761_All.pdf - Número total de mutaciones : 2\n",
      "Sample_5_v100_da86c58e-d529-400b-8812-506948d0c3ed_2023-03-02_11-53-07-777_All.pdf - Existe: CDK6\n",
      "Sample_5_v100_da86c58e-d529-400b-8812-506948d0c3ed_2023-03-02_11-53-07-777_All.pdf - Existe: MET\n",
      "Sample_5_v100_da86c58e-d529-400b-8812-506948d0c3ed_2023-03-02_11-53-07-777_All.pdf - Número total de mutaciones : 2\n",
      "Sample_6_v100_52c1af10-c6e1-4f44-85d8-bfa7260fb9ff_2023-03-02_11-52-19-927_All.pdf - Existe: CTNNB1\n",
      "Sample_6_v100_52c1af10-c6e1-4f44-85d8-bfa7260fb9ff_2023-03-02_11-52-19-927_All.pdf - Existe: EGFR\n",
      "Sample_6_v100_52c1af10-c6e1-4f44-85d8-bfa7260fb9ff_2023-03-02_11-52-19-927_All.pdf - Número total de mutaciones : 2\n",
      "Sample_7_v100_869cc724-f5f4-4d61-a708-c818a6c062ef_2023-03-02_11-50-41-677_All.pdf - Existe: HRAS\n",
      "Sample_7_v100_869cc724-f5f4-4d61-a708-c818a6c062ef_2023-03-02_11-50-41-677_All.pdf - Número total de mutaciones : 1\n",
      "Sample_8_v100_14451fbc-44ce-480e-9107-c6ab537a1fda_2023-03-02_11-49-41-641_All.pdf - Existe: KIT\n",
      "Sample_8_v100_14451fbc-44ce-480e-9107-c6ab537a1fda_2023-03-02_11-49-41-641_All.pdf - Existe: MYC\n",
      "Sample_8_v100_14451fbc-44ce-480e-9107-c6ab537a1fda_2023-03-02_11-49-41-641_All.pdf - Número total de mutaciones : 2\n",
      "Todas las mutaciones encontradas: ['MYC', 'EML4-ALK', 'KRAS', 'FGFR1', 'PIK3CA', 'CDK6', 'MET', 'CTNNB1', 'EGFR', 'HRAS', 'KIT', 'MYC']\n"
     ]
    }
   ],
   "source": [
    "#¿ES MEJOR ESTE CÓDIGO O EL ANTERIOR?\n",
    "ficheros = LeerFicherosPDF(Ruta)\n",
    "max_mut = 0\n",
    "todas_mutaciones = []\n",
    "\n",
    "for ficheroPDF in ficheros:\n",
    "    lines = LeerDocumento(os.path.join(Ruta,ficheroPDF))\n",
    "    mutaciones_archivo = []\n",
    "    total_mut = 0\n",
    "    \n",
    "    for mutacion in mutaciones:\n",
    "        if mutacion in lines:\n",
    "            posicion = lines.index(mutacion)\n",
    "            \n",
    "            #print(ficheroPDF + \" - Existe: \" + mutacion)\n",
    "            #print(posiciones)\n",
    "            if mutacion == \"FGFR4\": #solo el tipo p.(P136L)\n",
    "                #posicion = lines.index(\"FGFR4\")\n",
    "                #print(posicion)\n",
    "                #print(posicion + 1)\n",
    "                if (posicion < len(lines)-1 and lines[posicion + 1] == \"p.(P136L)\"):\n",
    "                    pass\n",
    "                else:\n",
    "                    total_mut += 1\n",
    "                    mutaciones_archivo.append(mutacion)\n",
    "                    print(ficheroPDF + \" - Existe: \" + mutacion)\n",
    "            else:\n",
    "                benigno = False\n",
    "                #print(mutacion)\n",
    "                for a in range(posicion+1, posicion+10):\n",
    "                    #print(str(a) + \" > \" + lines[a])\n",
    "                    if \"Benign\" in lines[a]:\n",
    "                        #print(lines[a])\n",
    "                        benigno = True\n",
    "                if benigno == False:\n",
    "                    total_mut += 1\n",
    "                    mutaciones_archivo.append(mutacion)\n",
    "                    print(ficheroPDF + \" - Existe: \" + mutacion)\n",
    "                    \n",
    "    todas_mutaciones.extend(mutaciones_archivo)\n",
    "    if total_mut > max_mut:\n",
    "        max_mut = total_mut\n",
    "    print(f\"{ficheroPDF} - Número total de mutaciones : {total_mut}\")\n",
    "    \n",
    "print(f\"Todas las mutaciones encontradas: {todas_mutaciones}\")\n"
   ]
  },
  {
   "cell_type": "code",
   "execution_count": 23,
   "metadata": {},
   "outputs": [
    {
     "data": {
      "text/plain": [
       "['MYC',\n",
       " 'EML4-ALK',\n",
       " 'KRAS',\n",
       " 'FGFR1',\n",
       " 'PIK3CA',\n",
       " 'CDK6',\n",
       " 'MET',\n",
       " 'CTNNB1',\n",
       " 'EGFR',\n",
       " 'HRAS',\n",
       " 'KIT',\n",
       " 'MYC']"
      ]
     },
     "execution_count": 23,
     "metadata": {},
     "output_type": "execute_result"
    }
   ],
   "source": [
    "todas_mutaciones\n",
    "#No sirve para hacer la tabla final!"
   ]
  },
  {
   "cell_type": "code",
   "execution_count": null,
   "metadata": {},
   "outputs": [],
   "source": []
  },
  {
   "cell_type": "code",
   "execution_count": null,
   "metadata": {},
   "outputs": [],
   "source": []
  },
  {
   "cell_type": "code",
   "execution_count": null,
   "metadata": {},
   "outputs": [],
   "source": []
  },
  {
   "cell_type": "code",
   "execution_count": null,
   "metadata": {},
   "outputs": [],
   "source": []
  },
  {
   "cell_type": "code",
   "execution_count": null,
   "metadata": {},
   "outputs": [],
   "source": []
  },
  {
   "cell_type": "code",
   "execution_count": null,
   "metadata": {},
   "outputs": [],
   "source": []
  },
  {
   "cell_type": "code",
   "execution_count": null,
   "metadata": {},
   "outputs": [],
   "source": []
  },
  {
   "cell_type": "code",
   "execution_count": null,
   "metadata": {},
   "outputs": [],
   "source": []
  },
  {
   "cell_type": "code",
   "execution_count": null,
   "metadata": {},
   "outputs": [],
   "source": []
  },
  {
   "cell_type": "code",
   "execution_count": 24,
   "metadata": {},
   "outputs": [
    {
     "name": "stdout",
     "output_type": "stream",
     "text": [
      "[['MYC', 'p.(N26S)'], ['KRAS', 'p.(G12V)'], ['MET', 'p.(N375S)'], ['KIT', 'p.(M541L)'], ['CTNNB1', 'p.(S37C)'], ['EGFR', 'p.(G779F)'], ['HRAS', 'p.(Q61R)'], ['KIT', 'p.(W557_K558del)'], ['MYC', 'p.(N26S)']]\n"
     ]
    }
   ],
   "source": [
    "Ruta = 'C:/Users/luciv/OneDrive/Documentos/TFG_Lucia/RE_PDF_inventados'\n",
    "ficheros = LeerFicherosPDF(Ruta)\n",
    "max_mutaciones = 0\n",
    "cambioAA = []\n",
    "\n",
    "for ficheroPDF in ficheros:\n",
    "    lines = LeerDocumento(os.path.join(Ruta,ficheroPDF))\n",
    "    total_mutaciones = 0\n",
    "    \n",
    "    for mutacion in mutaciones:\n",
    "        if mutacion in lines:\n",
    "            posiciones = lines.index(mutacion)\n",
    "            #print(ficheroPDF + \" - Existe: \" + mutacion)\n",
    "            #print(posiciones)\n",
    "            if mutacion == \"FGFR4\": #solo el tipo p.(P136L)\n",
    "                #posicion = lines.index(\"FGFR4\")\n",
    "                #print(posicion)\n",
    "                #print(posicion + 1)\n",
    "                if (posiciones < len(lines)-1 and lines[posiciones + 1] == \"p.(P136L)\"):\n",
    "                    pass\n",
    "                else:\n",
    "                    total_mutaciones += 1\n",
    "                    print(ficheroPDF + \" - Existe: \" + mutacion)\n",
    "            elif (posiciones<len(lines) - 9 and lines[posiciones + 9] == \"Benign\"):\n",
    "                pass\n",
    "            elif (posiciones<len(lines) - 9 and lines[posiciones + 9] == \"Benign/Likelybenign\"):\n",
    "                pass\n",
    "            else: \n",
    "                total_mutaciones += 1\n",
    "                #print(ficheroPDF + \" - Existe: \" + mutacion)\n",
    "                #print(posiciones)\n",
    "                #print(f\"{ficheroPDF} - Número total de mutaciones : {total_mutaciones}\")\n",
    "                \n",
    "                if (posiciones < len(lines)-1 and lines[posiciones + 1].startswith(\"p.(\")):\n",
    "                    cambioAA.append([mutacion, lines[posiciones + 1]])\n",
    "\n",
    "                \n",
    "    if total_mutaciones > max_mutaciones:\n",
    "        max_mutaciones = total_mutaciones\n",
    "    #print(f\"{ficheroPDF} - Número total de mutaciones : {total_mutaciones}\")\n",
    "print(cambioAA) \n",
    "#DEL TOTAL DE MUTACIONES SOLO QUIERO SABER EL VALOR MÁXIMO"
   ]
  },
  {
   "cell_type": "code",
   "execution_count": 25,
   "metadata": {},
   "outputs": [
    {
     "name": "stdout",
     "output_type": "stream",
     "text": [
      "Sample_1_v100_ec96983e-d816-4baf-8544-ca0572acc9fa_2023-03-02_11-57-06-352_All.pdf - Número total de mutaciones : 2\n",
      "Sample_2_v100_dc008f2f-9bc7-4ac2-89d2-7f3ba6fdb04d_2023-03-02_11-56-10-540_All.pdf - Número total de mutaciones : 1\n",
      "Sample_3_v100_50c27cd1-3ee7-490c-8ec6-30091039bb9c_2023-03-02_11-55-40-900_All.pdf - Número total de mutaciones : 0\n",
      "Sample_4_v100_03eb528b-ded2-4db9-81fe-e1553385db88_2023-03-02_11-54-08-761_All.pdf - Número total de mutaciones : 2\n",
      "Sample_5_v100_da86c58e-d529-400b-8812-506948d0c3ed_2023-03-02_11-53-07-777_All.pdf - Número total de mutaciones : 2\n",
      "Sample_6_v100_52c1af10-c6e1-4f44-85d8-bfa7260fb9ff_2023-03-02_11-52-19-927_All.pdf - Número total de mutaciones : 2\n",
      "Sample_7_v100_869cc724-f5f4-4d61-a708-c818a6c062ef_2023-03-02_11-50-41-677_All.pdf - Número total de mutaciones : 1\n",
      "Sample_8_v100_14451fbc-44ce-480e-9107-c6ab537a1fda_2023-03-02_11-49-41-641_All.pdf - Número total de mutaciones : 2\n",
      "[['KIT', 'p.(N26S)'], ['MYC', 'p.(N26S)']]\n"
     ]
    }
   ],
   "source": [
    "ficheros = LeerFicherosPDF(Ruta)\n",
    "max_mut = 0\n",
    "aa = []\n",
    "\n",
    "for ficheroPDF in ficheros:\n",
    "    lines = LeerDocumento(os.path.join(Ruta,ficheroPDF))\n",
    "    total_mut = 0\n",
    "    \n",
    "    for mutacion in mutaciones:\n",
    "        if mutacion in lines:\n",
    "            posicion = lines.index(mutacion)\n",
    "            \n",
    "            #print(ficheroPDF + \" - Existe: \" + mutacion)\n",
    "            #print(posiciones)\n",
    "            if mutacion == \"FGFR4\": #solo el tipo p.(P136L)\n",
    "                #posicion = lines.index(\"FGFR4\")\n",
    "                #print(posicion)\n",
    "                #print(posicion + 1)\n",
    "                if (posicion < len(lines)-1 and lines[posicion + 1] == \"p.(P136L)\"):\n",
    "                    pass\n",
    "                else:\n",
    "                    total_mut += 1\n",
    "                    print(ficheroPDF + \" - Existe: \" + mutacion)\n",
    "            else:\n",
    "                benigno = False\n",
    "                #print(mutacion)\n",
    "                for a in range(posicion+1, posicion+10):\n",
    "                    #print(str(a) + \" > \" + lines[a])\n",
    "                    if \"Benign\" in lines[a]:\n",
    "                        #print(lines[a])\n",
    "                        benigno = True\n",
    "                if benigno == False:\n",
    "                    total_mut += 1\n",
    "                    #print(ficheroPDF + \" - Existe: \" + mutacion)\n",
    "                    \n",
    "                    if (posiciones < len(lines)-1 and lines[posiciones + 1].startswith(\"p.(\")):\n",
    "                        aa.append([mutacion, lines[posiciones + 1]])\n",
    "                    \n",
    "                    \n",
    "    if total_mutaciones > max_mutaciones:\n",
    "        max_mutaciones = total_mutaciones\n",
    "    print(f\"{ficheroPDF} - Número total de mutaciones : {total_mut}\")\n",
    "\n",
    "print(aa) "
   ]
  },
  {
   "cell_type": "code",
   "execution_count": 26,
   "metadata": {},
   "outputs": [
    {
     "name": "stdout",
     "output_type": "stream",
     "text": [
      "['p.(N26S)', 'p.(G12V)', 'p.(N375S)', 'p.(M541L)', 'p.(S37C)', 'p.(G779F)', 'p.(Q61R)', 'p.(W557_K558del)', 'p.(N26S)']\n"
     ]
    }
   ],
   "source": [
    "aminoacidosMutados = []\n",
    "\n",
    "for item in cambioAA:\n",
    "    if item[1].startswith(\"p.(\"):\n",
    "        aminoacidosMutados.append(item[1][:])\n",
    "\n",
    "print(aminoacidosMutados)"
   ]
  },
  {
   "cell_type": "code",
   "execution_count": 28,
   "metadata": {},
   "outputs": [
    {
     "data": {
      "text/plain": [
       "['p.(N26S)',\n",
       " 'p.(G12V)',\n",
       " 'p.(N375S)',\n",
       " 'p.(M541L)',\n",
       " 'p.(S37C)',\n",
       " 'p.(G779F)',\n",
       " 'p.(Q61R)',\n",
       " 'p.(W557_K558del)',\n",
       " 'p.(N26S)']"
      ]
     },
     "execution_count": 28,
     "metadata": {},
     "output_type": "execute_result"
    }
   ],
   "source": [
    "aminoacidosMutados"
   ]
  },
  {
   "cell_type": "markdown",
   "metadata": {},
   "source": [
    "## MUTACIONES "
   ]
  },
  {
   "cell_type": "code",
   "execution_count": 30,
   "metadata": {},
   "outputs": [
    {
     "name": "stdout",
     "output_type": "stream",
     "text": [
      "Sample_1_v100_ec96983e-d816-4baf-8544-ca0572acc9fa_2023-03-02_11-57-06-352_All.pdf - Existe: MYC\n",
      "Sample_1_v100_ec96983e-d816-4baf-8544-ca0572acc9fa_2023-03-02_11-57-06-352_All.pdf - Existe: EML4-ALK\n",
      "Sample_1_v100_ec96983e-d816-4baf-8544-ca0572acc9fa_2023-03-02_11-57-06-352_All.pdf - Número total de mutaciones : 2\n",
      "Sample_2_v100_dc008f2f-9bc7-4ac2-89d2-7f3ba6fdb04d_2023-03-02_11-56-10-540_All.pdf - Existe: KRAS\n",
      "Sample_2_v100_dc008f2f-9bc7-4ac2-89d2-7f3ba6fdb04d_2023-03-02_11-56-10-540_All.pdf - Número total de mutaciones : 1\n",
      "Sample_3_v100_50c27cd1-3ee7-490c-8ec6-30091039bb9c_2023-03-02_11-55-40-900_All.pdf - Número total de mutaciones : 0\n",
      "Sample_4_v100_03eb528b-ded2-4db9-81fe-e1553385db88_2023-03-02_11-54-08-761_All.pdf - Existe: FGFR1\n",
      "Sample_4_v100_03eb528b-ded2-4db9-81fe-e1553385db88_2023-03-02_11-54-08-761_All.pdf - Existe: PIK3CA\n",
      "Sample_4_v100_03eb528b-ded2-4db9-81fe-e1553385db88_2023-03-02_11-54-08-761_All.pdf - Número total de mutaciones : 2\n",
      "Sample_5_v100_da86c58e-d529-400b-8812-506948d0c3ed_2023-03-02_11-53-07-777_All.pdf - Existe: CDK6\n",
      "Sample_5_v100_da86c58e-d529-400b-8812-506948d0c3ed_2023-03-02_11-53-07-777_All.pdf - Existe: MET\n",
      "Sample_5_v100_da86c58e-d529-400b-8812-506948d0c3ed_2023-03-02_11-53-07-777_All.pdf - Número total de mutaciones : 2\n",
      "Sample_6_v100_52c1af10-c6e1-4f44-85d8-bfa7260fb9ff_2023-03-02_11-52-19-927_All.pdf - Existe: CTNNB1\n",
      "Sample_6_v100_52c1af10-c6e1-4f44-85d8-bfa7260fb9ff_2023-03-02_11-52-19-927_All.pdf - Existe: EGFR\n",
      "Sample_6_v100_52c1af10-c6e1-4f44-85d8-bfa7260fb9ff_2023-03-02_11-52-19-927_All.pdf - Número total de mutaciones : 2\n",
      "Sample_7_v100_869cc724-f5f4-4d61-a708-c818a6c062ef_2023-03-02_11-50-41-677_All.pdf - Existe: HRAS\n",
      "Sample_7_v100_869cc724-f5f4-4d61-a708-c818a6c062ef_2023-03-02_11-50-41-677_All.pdf - Número total de mutaciones : 1\n",
      "Sample_8_v100_14451fbc-44ce-480e-9107-c6ab537a1fda_2023-03-02_11-49-41-641_All.pdf - Existe: KIT\n",
      "Sample_8_v100_14451fbc-44ce-480e-9107-c6ab537a1fda_2023-03-02_11-49-41-641_All.pdf - Existe: MYC\n",
      "Sample_8_v100_14451fbc-44ce-480e-9107-c6ab537a1fda_2023-03-02_11-49-41-641_All.pdf - Número total de mutaciones : 2\n",
      "{'Sample_1_v100_ec96983e-d816-4baf-8544-ca0572acc9fa_2023-03-02_11-57-06-352_All.pdf': ['MYC', 'EML4-ALK'], 'Sample_2_v100_dc008f2f-9bc7-4ac2-89d2-7f3ba6fdb04d_2023-03-02_11-56-10-540_All.pdf': ['KRAS'], 'Sample_3_v100_50c27cd1-3ee7-490c-8ec6-30091039bb9c_2023-03-02_11-55-40-900_All.pdf': [], 'Sample_4_v100_03eb528b-ded2-4db9-81fe-e1553385db88_2023-03-02_11-54-08-761_All.pdf': ['FGFR1', 'PIK3CA'], 'Sample_5_v100_da86c58e-d529-400b-8812-506948d0c3ed_2023-03-02_11-53-07-777_All.pdf': ['CDK6', 'MET'], 'Sample_6_v100_52c1af10-c6e1-4f44-85d8-bfa7260fb9ff_2023-03-02_11-52-19-927_All.pdf': ['CTNNB1', 'EGFR'], 'Sample_7_v100_869cc724-f5f4-4d61-a708-c818a6c062ef_2023-03-02_11-50-41-677_All.pdf': ['HRAS'], 'Sample_8_v100_14451fbc-44ce-480e-9107-c6ab537a1fda_2023-03-02_11-49-41-641_All.pdf': ['KIT', 'MYC']}\n"
     ]
    }
   ],
   "source": [
    "#OBTENCIÓN GENES, NÚMERO Y VALORES BIEN!!\n",
    "ficheros = LeerFicherosPDF(Ruta)\n",
    "max_mut = 0\n",
    "genes_mut2 = {}\n",
    "\n",
    "for ficheroPDF in ficheros:\n",
    "    lines = LeerDocumento(os.path.join(Ruta,ficheroPDF))\n",
    "    total_mut = 0\n",
    "    encontrados2 = []\n",
    "    \n",
    "    for mutacion in mutaciones:\n",
    "        if mutacion in lines:\n",
    "            posicion = lines.index(mutacion)\n",
    "            \n",
    "            #print(ficheroPDF + \" - Existe: \" + mutacion)\n",
    "            #print(posiciones)\n",
    "            if mutacion == \"FGFR4\": #solo el tipo p.(P136L)\n",
    "                #posicion = lines.index(\"FGFR4\")\n",
    "                #print(posicion)\n",
    "                #print(posicion + 1)\n",
    "                if (posicion < len(lines)-1 and lines[posicion + 1] == \"p.(P136L)\"):\n",
    "                    pass\n",
    "                else:\n",
    "                    total_mut += 1\n",
    "                    encontrados2.append(mutacion)\n",
    "                    print(ficheroPDF + \" - Existe: \" + mutacion)\n",
    "            else:\n",
    "                benigno = False\n",
    "                #print(mutacion)\n",
    "                for a in range(posicion+1, posicion+10):\n",
    "                    #print(str(a) + \" > \" + lines[a])\n",
    "                    if \"Benign\" in lines[a]:\n",
    "                        #print(lines[a])\n",
    "                        benigno = True\n",
    "                if benigno == False:\n",
    "                    total_mut += 1\n",
    "                    encontrados2.append(mutacion)\n",
    "                    print(ficheroPDF + \" - Existe: \" + mutacion)\n",
    "                    \n",
    "    \n",
    "    genes_mut2[ficheroPDF] = encontrados2\n",
    "    if total_mut > max_mut:\n",
    "        max_mut = total_mut\n",
    "    print(f\"{ficheroPDF} - Número total de mutaciones : {total_mut}\")\n",
    "print(genes_mut2)"
   ]
  },
  {
   "cell_type": "code",
   "execution_count": 31,
   "metadata": {},
   "outputs": [
    {
     "data": {
      "text/plain": [
       "[['MYC', 'EML4-ALK'],\n",
       " ['KRAS'],\n",
       " [],\n",
       " ['FGFR1', 'PIK3CA'],\n",
       " ['CDK6', 'MET'],\n",
       " ['CTNNB1', 'EGFR'],\n",
       " ['HRAS'],\n",
       " ['KIT', 'MYC']]"
      ]
     },
     "execution_count": 31,
     "metadata": {},
     "output_type": "execute_result"
    }
   ],
   "source": [
    "mut = list(genes_mut2.values())\n",
    "mut"
   ]
  },
  {
   "cell_type": "code",
   "execution_count": 32,
   "metadata": {},
   "outputs": [
    {
     "name": "stdout",
     "output_type": "stream",
     "text": [
      "[2, 1, 0, 2, 2, 2, 1, 2]\n"
     ]
    }
   ],
   "source": [
    "num_mutaciones = [len(i) for i in mut]\n",
    "print(num_mutaciones)"
   ]
  },
  {
   "cell_type": "code",
   "execution_count": 34,
   "metadata": {},
   "outputs": [
    {
     "name": "stdout",
     "output_type": "stream",
     "text": [
      "ABL1 1\n",
      "AKT1 2\n",
      "AKT3 3\n",
      "ALK 4\n",
      "AR 5\n",
      "AXL 6\n",
      "BRAF 7\n",
      "CCND1 8\n",
      "CDK4 9\n",
      "CDK6 10\n",
      "CTNNB1 11\n",
      "DDR2 12\n",
      "EGFR 13\n",
      "ERBB2 14\n",
      "ERBB3 15\n",
      "ERBB4 16\n",
      "ERG 17\n",
      "ESR1 18\n",
      "ETV1 19\n",
      "ETV4 20\n",
      "ETV5 21\n",
      "FGFR1 22\n",
      "FGFR2 23\n",
      "FGFR3 24\n",
      "FGFR4 25\n",
      "GNA11 26\n",
      "GNAQ 27\n",
      "HRAS 28\n",
      "IDH1 29\n",
      "IDH2 30\n",
      "JAK1 31\n",
      "JAK2 32\n",
      "JAK3 33\n",
      "KIT 34\n",
      "KRAS 35\n",
      "MAP2K1 36\n",
      "MAP2K2 37\n",
      "MET 38\n",
      "MTOR 39\n",
      "MYC 40\n",
      "MYCN 41\n",
      "NRAS 42\n",
      "NTRK1 43\n",
      "NTRK2 44\n",
      "NTRK3 45\n",
      "PDGFRA 46\n",
      "PIK3CA 47\n",
      "PPARG 48\n",
      "RAF1 49\n",
      "RET 50\n",
      "ROS1 51\n",
      "SMO 52\n",
      "EML4-ALK 53\n"
     ]
    }
   ],
   "source": [
    "#Creo un diccionario con los valores del \n",
    "mutaciones_dic = dict(zip(genes[\"GEN\"], genes[\"Número gen\"]))\n",
    "mutaciones_dic\n",
    "\n",
    "for gen, valor in mutaciones_dic.items():\n",
    "    print(gen, valor)"
   ]
  },
  {
   "cell_type": "code",
   "execution_count": 35,
   "metadata": {},
   "outputs": [
    {
     "name": "stdout",
     "output_type": "stream",
     "text": [
      "[[40, 53], [35], [], [22, 47], [10, 38], [11, 13], [28], [34, 40]]\n"
     ]
    }
   ],
   "source": [
    "numero_iden = []\n",
    "for i in mut:\n",
    "    valores = [mutaciones_dic.get(gen, 0) for gen in i]\n",
    "    numero_iden.append(valores)\n",
    "\n",
    "print(numero_iden)"
   ]
  },
  {
   "cell_type": "code",
   "execution_count": 36,
   "metadata": {},
   "outputs": [
    {
     "name": "stdout",
     "output_type": "stream",
     "text": [
      "[['EML4-ALK', 'p.(N26S)'], ['EML4-ALK', 'p.(N26S)'], ['EML4-ALK', 'p.(N26S)'], ['EML4-ALK', 'p.(N26S)'], ['EML4-ALK', 'p.(N26S)'], ['EML4-ALK', 'p.(N26S)'], ['EML4-ALK', 'p.(N26S)'], ['EML4-ALK', 'p.(N26S)']]\n"
     ]
    }
   ],
   "source": [
    "cambioAA = []\n",
    "\n",
    "for i in genes_mut2:\n",
    "    if (posiciones < len(lines)-1 and lines[posiciones + 1].startswith(\"p.(\")):\n",
    "        cambioAA.append([mutacion, lines[posiciones + 1]])\n",
    "        \n",
    "print(cambioAA)"
   ]
  },
  {
   "cell_type": "markdown",
   "metadata": {},
   "source": [
    "## NÚMERO DE CHIP Y PACIENTE"
   ]
  },
  {
   "cell_type": "code",
   "execution_count": 37,
   "metadata": {},
   "outputs": [
    {
     "name": "stdout",
     "output_type": "stream",
     "text": [
      "Sample_1_v100_ec96983e-d816-4baf-8544-ca0572acc9fa_2023-03-02_11-57-06-352_All.pdf\n",
      "Sample_2_v100_dc008f2f-9bc7-4ac2-89d2-7f3ba6fdb04d_2023-03-02_11-56-10-540_All.pdf\n",
      "Sample_3_v100_50c27cd1-3ee7-490c-8ec6-30091039bb9c_2023-03-02_11-55-40-900_All.pdf\n",
      "Sample_4_v100_03eb528b-ded2-4db9-81fe-e1553385db88_2023-03-02_11-54-08-761_All.pdf\n",
      "Sample_5_v100_da86c58e-d529-400b-8812-506948d0c3ed_2023-03-02_11-53-07-777_All.pdf\n",
      "Sample_6_v100_52c1af10-c6e1-4f44-85d8-bfa7260fb9ff_2023-03-02_11-52-19-927_All.pdf\n",
      "Sample_7_v100_869cc724-f5f4-4d61-a708-c818a6c062ef_2023-03-02_11-50-41-677_All.pdf\n",
      "Sample_8_v100_14451fbc-44ce-480e-9107-c6ab537a1fda_2023-03-02_11-49-41-641_All.pdf\n"
     ]
    }
   ],
   "source": [
    "#Leemos todos los nombres de los archivos PDF\n",
    "\n",
    "Ruta = 'C:/Users/luciv/OneDrive/Documentos/TFG_Lucia/RE_PDF_inventados'\n",
    "archivos = os.listdir(Ruta)\n",
    "\n",
    "for archivo in archivos:\n",
    "    if os.path.isfile(os.path.join(Ruta, archivo)) and archivo.endswith(\".pdf\"):\n",
    "        print(archivo)"
   ]
  },
  {
   "cell_type": "code",
   "execution_count": 38,
   "metadata": {},
   "outputs": [],
   "source": [
    "#Número de paciente de cada uno de los ficheros\n",
    "\n",
    "#Ruta = 'C:/Users/luciv/OneDrive/Documentos/TFG_Lucia/RE_PDF_inventados'\n",
    "#archivos = os.listdir(Ruta)\n",
    "\n",
    "#for archivo in archivos:\n",
    "    #if os.path.isfile(os.path.join(Ruta, archivo)) and archivo.endswith(\".pdf\"):\n",
    "        #paciente = os.path.splitext(archivo)[0]\n",
    "        #numero_paciente = paciente[7]\n",
    "        #print(numero_paciente)"
   ]
  },
  {
   "cell_type": "code",
   "execution_count": 39,
   "metadata": {},
   "outputs": [
    {
     "name": "stdout",
     "output_type": "stream",
     "text": [
      "['1']\n",
      "['1', '2']\n",
      "['1', '2', '3']\n",
      "['1', '2', '3', '4']\n",
      "['1', '2', '3', '4', '5']\n",
      "['1', '2', '3', '4', '5', '6']\n",
      "['1', '2', '3', '4', '5', '6', '7']\n",
      "['1', '2', '3', '4', '5', '6', '7', '8']\n"
     ]
    }
   ],
   "source": [
    "#Sacamos el tercer valor de cada nombre, que es el que indica el número del paciente\n",
    "Ruta = 'C:/Users/luciv/OneDrive/Documentos/TFG_Lucia/RE_PDF_inventados'\n",
    "archivos = os.listdir(Ruta)\n",
    "numero_paciente = []\n",
    "\n",
    "for archivo in archivos:\n",
    "    if os.path.isfile(os.path.join(Ruta, archivo)) and archivo.endswith(\".pdf\"):\n",
    "        paciente = os.path.splitext(archivo)[0]\n",
    "        pacientes = paciente[7]\n",
    "        numero_paciente.append(pacientes)\n",
    "        print(numero_paciente)"
   ]
  },
  {
   "cell_type": "code",
   "execution_count": 40,
   "metadata": {},
   "outputs": [
    {
     "data": {
      "text/plain": [
       "['1', '2', '3', '4', '5', '6', '7', '8']"
      ]
     },
     "execution_count": 40,
     "metadata": {},
     "output_type": "execute_result"
    }
   ],
   "source": [
    "numero_paciente"
   ]
  },
  {
   "cell_type": "code",
   "execution_count": 41,
   "metadata": {},
   "outputs": [
    {
     "name": "stdout",
     "output_type": "stream",
     "text": [
      "['100']\n",
      "['100', '100']\n",
      "['100', '100', '100']\n",
      "['100', '100', '100', '100']\n",
      "['100', '100', '100', '100', '100']\n",
      "['100', '100', '100', '100', '100', '100']\n",
      "['100', '100', '100', '100', '100', '100', '100']\n",
      "['100', '100', '100', '100', '100', '100', '100', '100']\n"
     ]
    }
   ],
   "source": [
    "#Número de chip de cada uno de los ficheros\n",
    "Ruta = 'C:/Users/luciv/OneDrive/Documentos/TFG_Lucia/RE_PDF_inventados'\n",
    "archivos = os.listdir(Ruta)\n",
    "chip = []\n",
    "\n",
    "for archivo in archivos:\n",
    "    if os.path.isfile(os.path.join(Ruta, archivo)) and archivo.endswith(\".pdf\"):\n",
    "        paciente = os.path.splitext(archivo)[0]\n",
    "        pacientes = paciente[10:13]\n",
    "        chip.append(pacientes)\n",
    "        print(chip)"
   ]
  },
  {
   "cell_type": "code",
   "execution_count": 42,
   "metadata": {},
   "outputs": [
    {
     "data": {
      "text/plain": [
       "['100', '100', '100', '100', '100', '100', '100', '100']"
      ]
     },
     "execution_count": 42,
     "metadata": {},
     "output_type": "execute_result"
    }
   ],
   "source": [
    "#Cómo puedo hacerlo sin tener que escoger la posición 10:13??\n",
    "chip"
   ]
  },
  {
   "cell_type": "code",
   "execution_count": 43,
   "metadata": {},
   "outputs": [
    {
     "name": "stdout",
     "output_type": "stream",
     "text": [
      "['100', '100', '100', '100', '100', '100', '100', '100']\n"
     ]
    }
   ],
   "source": [
    "#Otra forma usando expresiones regulares para sacar el número de chip\n",
    "Ruta = 'C:/Users/luciv/OneDrive/Documentos/TFG_Lucia/RE_PDF_inventados'\n",
    "archivos = os.listdir(Ruta)\n",
    "chip2 = []\n",
    "\n",
    "for archivo in archivos:\n",
    "    if os.path.isfile(os.path.join(Ruta, archivo)) and archivo.endswith(\".pdf\"):\n",
    "        patron = r\"v(\\d+)_\"\n",
    "        resultado = re.search(patron, archivo)\n",
    "        if resultado:\n",
    "            numero_chip = resultado.group(1)\n",
    "            chip2.append(numero_chip)\n",
    "print(chip2)"
   ]
  },
  {
   "cell_type": "code",
   "execution_count": 45,
   "metadata": {},
   "outputs": [
    {
     "data": {
      "text/plain": [
       "['100', '100', '100', '100', '100', '100', '100', '100']"
      ]
     },
     "execution_count": 45,
     "metadata": {},
     "output_type": "execute_result"
    }
   ],
   "source": [
    "chip"
   ]
  },
  {
   "cell_type": "markdown",
   "metadata": {},
   "source": [
    "## OBTENCIÓN DE ALGUNOS RESULTADOS."
   ]
  },
  {
   "cell_type": "code",
   "execution_count": 46,
   "metadata": {},
   "outputs": [
    {
     "name": "stdout",
     "output_type": "stream",
     "text": [
      "[['00021', '00021', '00021'], ['00022', '00022', '00022'], ['00023', '00023'], ['00024', '00024'], ['00025', '00025', '00025'], ['00026', '00026', '00026'], ['00027', '00027'], ['00028', '00028']]\n",
      "[['23B00021-A1', '23B00021-A1', '23B00021-A1'], ['22B00022-A2', '22B00022-A2', '22B00022-A2'], ['21B00023-A1', '21B00023-A1'], ['23B00024-A1', '23B00024-A1'], ['23C00025-A1', '23C00025-A1', '23C00025-A1'], ['23P00026', '23P00026', '23P00026'], ['22B00027-C4', '22B00027-C4'], ['23B00028-A2', '23B00028-A2']]\n",
      "[['24-mar-2023', '24-mar-2023', '24-mar-2023'], ['24-mar-2023', '24-mar-2023', '24-mar-2023'], ['24-mar-2023', '24-mar-2023'], ['24-mar-2023', '24-mar-2023'], ['24-mar-2023', '24-mar-2023', '24-mar-2023'], ['24-mar-2023', '24-mar-2023', '24-mar-2023'], ['24-mar-2023', '24-mar-2023'], ['24-mar-2023', '24-mar-2023']]\n",
      "[['Carcinoma pulmonar no microcítico'], ['Carcinoma pulmonar no microcítico'], ['Carcinoma pulmonar no microcítico'], ['Carcinoma pulmonar no microcítico'], ['Carcinoma pulmonar no microcítico'], ['Carcinoma pulmonar no microcítico'], ['Cáncer tiroideo'], ['Cáncer gástrico']]\n"
     ]
    }
   ],
   "source": [
    "#SOLO QUIERO UNA COPIA DE CADA UNO!!!\n",
    "chip_Data = [] #viene en el nombre del archivo (entre barrabajas)\n",
    "paciente_Data = [] #viene en el nombre del archivo (detras de v)\n",
    "fecha_Data = []\n",
    "NHC_Data = [] #solo quiero una copia\n",
    "Nbiopsia_Data = [] \n",
    "biopsia_Data = [] #Tercer valor empezando por delante del número de biopsia!!! Poner 0 no, 1 si, 2 puncion, 3 citologia\n",
    "texto_Data = [] #En oncomine reporter viene en ingles!!!!!!\n",
    "mutaciones_Data = [] #Ponemos todas las mutaciones, tanto variaciones como número de copias. interesan patogénicas, vacias y todas aquellas que no sean benignas!!!\n",
    "frecuencia_Data = [] #Ponemos las frecuencais correspondientes a todas las mutaciones detectadas arriba, en el caso del numero de copias ponemos las que hay porque no hay %\n",
    "NM_Data = [] \n",
    "espe_Data = []\n",
    "farmaco_Data = [] #Decir si hay 1 o no 0, no nos intersan los nombres \n",
    "ensayo_Data = [] #Decir el número de ensayos, no nos intersan las fases en las que se encuentran.\n",
    "BM_Data = [] #esta la podemos determinar en mutaciones, asi que no seria necesaria\n",
    "Ndiagnostico_Data = [] #Tabla de Patri, poner numeros a las distintas mutaciones que hay\n",
    "\n",
    "Ruta = 'C:/Users/luciv/OneDrive/Documentos/TFG_Lucia/RE_PDF_inventados'\n",
    "#RutaPatricia = 'C:/Users/71293763l/Documents/PRUEBA_DATOS' carpeta que nos hemos inventado para trabajar cuando se lo pase\n",
    "\n",
    "ficheros = LeerFicherosPDF(Ruta)\n",
    "\n",
    "for ficheroPDF in ficheros:\n",
    "    #print(os.path.join(Ruta,ficheroPDF))\n",
    "    lines = LeerDocumento(os.path.join(Ruta,ficheroPDF))\n",
    "\n",
    "    #print(lines)\n",
    "\n",
    "    NHC_Data.append(BuscarValor(\"NHC:\", lines))\n",
    "    Nbiopsia_Data.append(BuscarValor(\"biopsia:\", lines))\n",
    "    fecha_Data.append(BuscarValor(\"Fecha:\", lines))\n",
    "    texto_Data.append(BuscarValor(\"de la muestra:\", lines))\n",
    "    #frecuencia_Data.append(BuscarValor(\"alelo:\", lines))\n",
    "    #ensayo_Data.append(BuscarValor(\"fase más avanzada\", lines)) #Quiero el número de delante? O la fase?\n",
    "    #mutaciones_Data.append(BuscarValor(\"likely\", lines)) #Tipo mutación específico EXTRA \n",
    "    #NM_Data.append(BuscarValor(\"likely\", lines)) #Creo una tabla para referenciar a cada mutacion por un numero\n",
    "    #farmaco_Data.append(BuscarValor(\"relevantes\", lines)) #Fármaco aprobado FALTA POR DETERMINAR\n",
    "    #BM_Data.append(BuscarValor(\"likely\", lines)) #Beligno maligno EXTRA\n",
    "    #Ndiagnostico_Data.append(BuscarValor(\"likely\", lines)) #FALTA POR DETERMINAR\n",
    "\n",
    "    GenerarImagen(Ruta,ficheroPDF)\n",
    "\n",
    "print(NHC_Data)\n",
    "print(Nbiopsia_Data)\n",
    "print(fecha_Data)\n",
    "print(texto_Data)\n",
    "#print(frecuencia_Data)\n",
    "#print(ensayo_Data)\n",
    "#print(mutaciones_Data)\n",
    "#print(NM_Data)\n",
    "#print(farmaco_Data)\n",
    "#print(BM_Data)\n",
    "#print(Ndiagnostico_Data)\n",
    "\n",
    "\n",
    "#chip_Data = [] #carpeta\n",
    "#paciente_Data = [] #carpeta\n",
    "#biopsia_Data = []\n",
    "#espe_Data = []\n"
   ]
  },
  {
   "cell_type": "code",
   "execution_count": 47,
   "metadata": {},
   "outputs": [
    {
     "name": "stdout",
     "output_type": "stream",
     "text": [
      "[['Carcinoma pulmonar no microcítico'], ['Carcinoma pulmonar no microcítico'], ['Carcinoma pulmonar no microcítico'], ['Carcinoma pulmonar no microcítico'], ['Carcinoma pulmonar no microcítico'], ['Carcinoma pulmonar no microcítico'], ['Cáncer tiroideo'], ['Cáncer gástrico']]\n",
      "Carcinoma pulmonar no microcítico\n"
     ]
    }
   ],
   "source": [
    "print(texto_Data)\n",
    "m = texto_Data[0][0]\n",
    "print(m)\n"
   ]
  },
  {
   "cell_type": "markdown",
   "metadata": {},
   "source": [
    "## DIAGNÓSTICO."
   ]
  },
  {
   "cell_type": "code",
   "execution_count": 48,
   "metadata": {},
   "outputs": [
    {
     "name": "stdout",
     "output_type": "stream",
     "text": [
      "Carcinoma del tracto biliar 1.0\n",
      "Colangiocarcinoma 1.1\n",
      "Carcinoma de la vesícula biliar 1.2\n",
      "Cáncer de vejiga 2.0\n",
      "Carcinoma vesicular uroterial 2.1\n",
      "Cáncer de mama 3.0\n",
      "Triple negativo de mama 3.1\n",
      "Neoplasia del sistema nervioso central 4.0\n",
      "Glioma 4.1\n",
      "Cáncer cervical 5.0\n",
      "Condrosarcoma 6.0\n",
      "Cáncer colorrectal 7.0\n",
      "Carcinoma de células escamosas cutáneas 8.0\n",
      "Carcinoma endometrial 9.0\n",
      " Cáncer esofágico 10.0\n",
      "Cáncer gástrico 11.0\n",
      "Tumor del estroma gastrointestinal 11.1\n",
      "Cáncer de cabeza y cuello 12.0\n",
      "Cáncer de riñón 13.0\n",
      "Cáncer de hígado 14.0\n",
      "Carcinoma hepatocelular 14.1\n",
      "Cáncer de pulmón/pulmonar 15.0\n",
      "Carcinoma pulmonar no microcítico 15.1\n",
      "Carcinoma pulmonar microcítico 15.2\n",
      "Melanoma 16.0\n",
      "Carcinoma de células Merkel 17.0\n",
      "Mesotelioma 18.0\n",
      "Neoplasia mixto neuroendocrino no- neuroendocrino 19.0\n",
      "Carcinoma neuroendocrino 20.0\n",
      "Carcinoma neuroendocrino de células pequeñas 20.1\n",
      "Tumor neuroendocrino 21.0\n",
      "Osteosarcoma 22.0\n",
      "Cáncer de ovario 23.0\n",
      "Cáncer de páncreas 24.0\n",
      "Paraganglioma 25.0\n",
      "Cáncer de próstata 26.0\n",
      "Carcinoma de células basales de la piel 27.0\n",
      "Sarcoma de tejidos blandos 28.0\n",
      "Cáncer testicular 29.0\n",
      "Cáncer tiroideo 30.0\n",
      "Sarcoma uterino 31.0\n",
      "Melanoma uveal 32.0\n",
      "Origen primario desconocido 33.0\n",
      "Otro tumor sólido 34.0\n",
      "Linfoma 35.0\n"
     ]
    }
   ],
   "source": [
    "diagnostico = pd.read_excel(\"C:/Users/luciv/OneDrive/Documentos/TFG_Lucia/Diagnostico.xlsx\")\n",
    "#print(diagnostico)\n",
    "\n",
    "#Creo un diccionario con los valores tanto del diagnóstico como del número correspondiente. \n",
    "diagnosticos_dic = dict(zip(diagnostico[\"DIAGNÓSTICO\"], diagnostico[\"NÚMERO DIAGNÓSTICO\"]))\n",
    "\n",
    "for diagnostico in diagnosticos_dic:\n",
    "    valor = diagnosticos_dic.get(diagnostico)\n",
    "    print(diagnostico, valor)\n"
   ]
  },
  {
   "cell_type": "code",
   "execution_count": 49,
   "metadata": {},
   "outputs": [
    {
     "name": "stdout",
     "output_type": "stream",
     "text": [
      "['Carcinoma pulmonar no microcítico', 'Carcinoma pulmonar no microcítico', 'Carcinoma pulmonar no microcítico', 'Carcinoma pulmonar no microcítico', 'Carcinoma pulmonar no microcítico', 'Carcinoma pulmonar no microcítico', 'Cáncer tiroideo', 'Cáncer gástrico']\n"
     ]
    }
   ],
   "source": [
    "textoDiag = []\n",
    "for i in texto_Data:\n",
    "    sinduplicados = list(set(i))\n",
    "    textoDiag.append([x for x in i if x in sinduplicados][0])\n",
    "\n",
    "print(textoDiag)"
   ]
  },
  {
   "cell_type": "code",
   "execution_count": 50,
   "metadata": {},
   "outputs": [
    {
     "name": "stdout",
     "output_type": "stream",
     "text": [
      "[15.1]\n",
      "[15.1, 15.1]\n",
      "[15.1, 15.1, 15.1]\n",
      "[15.1, 15.1, 15.1, 15.1]\n",
      "[15.1, 15.1, 15.1, 15.1, 15.1]\n",
      "[15.1, 15.1, 15.1, 15.1, 15.1, 15.1]\n",
      "[15.1, 15.1, 15.1, 15.1, 15.1, 15.1, 30.0]\n",
      "[15.1, 15.1, 15.1, 15.1, 15.1, 15.1, 30.0, 11.0]\n"
     ]
    }
   ],
   "source": [
    "numeroDiag = []\n",
    "for diagnostico in textoDiag:\n",
    "    valor = diagnosticos_dic.get(diagnostico)\n",
    "    numeroDiag.append(valor)\n",
    "    print(numeroDiag)"
   ]
  },
  {
   "cell_type": "code",
   "execution_count": 51,
   "metadata": {},
   "outputs": [
    {
     "data": {
      "text/plain": [
       "[15.1, 15.1, 15.1, 15.1, 15.1, 15.1, 30.0, 11.0]"
      ]
     },
     "execution_count": 51,
     "metadata": {},
     "output_type": "execute_result"
    }
   ],
   "source": [
    "numeroDiag"
   ]
  },
  {
   "cell_type": "markdown",
   "metadata": {},
   "source": [
    "## NHC"
   ]
  },
  {
   "cell_type": "code",
   "execution_count": 52,
   "metadata": {},
   "outputs": [
    {
     "name": "stdout",
     "output_type": "stream",
     "text": [
      "['00023', '00024', '00021', '00026', '00025', '00028', '00022', '00027']\n",
      "['00021', '00022', '00023', '00024', '00025', '00026', '00027', '00028']\n"
     ]
    }
   ],
   "source": [
    "NHC_Data_val = list(set([valor for sublist in NHC_Data for valor in sublist]))\n",
    "print(NHC_Data_val)\n",
    "NHC_final = sorted(NHC_Data_val)\n",
    "print(NHC_final)"
   ]
  },
  {
   "cell_type": "markdown",
   "metadata": {},
   "source": [
    "## BIOPSIA"
   ]
  },
  {
   "cell_type": "code",
   "execution_count": 53,
   "metadata": {},
   "outputs": [
    {
     "data": {
      "text/plain": [
       "[['23B00021-A1', '23B00021-A1', '23B00021-A1'],\n",
       " ['22B00022-A2', '22B00022-A2', '22B00022-A2'],\n",
       " ['21B00023-A1', '21B00023-A1'],\n",
       " ['23B00024-A1', '23B00024-A1'],\n",
       " ['23C00025-A1', '23C00025-A1', '23C00025-A1'],\n",
       " ['23P00026', '23P00026', '23P00026'],\n",
       " ['22B00027-C4', '22B00027-C4'],\n",
       " ['23B00028-A2', '23B00028-A2']]"
      ]
     },
     "execution_count": 53,
     "metadata": {},
     "output_type": "execute_result"
    }
   ],
   "source": [
    "Nbiopsia_Data"
   ]
  },
  {
   "cell_type": "code",
   "execution_count": 54,
   "metadata": {},
   "outputs": [
    {
     "name": "stdout",
     "output_type": "stream",
     "text": [
      "[['23B00021-A1'], ['22B00022-A2'], ['21B00023-A1'], ['23B00024-A1'], ['23C00025-A1'], ['23P00026'], ['22B00027-C4'], ['23B00028-A2']]\n",
      "['23B00021-A1', '22B00022-A2', '21B00023-A1', '23B00024-A1', '23C00025-A1', '23P00026', '22B00027-C4', '23B00028-A2']\n"
     ]
    }
   ],
   "source": [
    "lista_resultante =  []\n",
    "elementos_vistos = set()\n",
    "\n",
    "for sublist in Nbiopsia_Data:\n",
    "    sublist_sin_duplicados = []\n",
    "    for elemento in sublist:\n",
    "        if elemento not in elementos_vistos:\n",
    "            sublist_sin_duplicados.append(elemento)\n",
    "            elementos_vistos.add(elemento)\n",
    "    lista_resultante.append(sublist_sin_duplicados)\n",
    "\n",
    "print(lista_resultante)\n",
    "\n",
    "NB_values = [elemento for sublist in lista_resultante for elemento in sublist]\n",
    "print(NB_values)\n",
    " "
   ]
  },
  {
   "cell_type": "code",
   "execution_count": 55,
   "metadata": {},
   "outputs": [
    {
     "data": {
      "text/plain": [
       "['B', 'B', 'B', 'B', 'C', 'P', 'B', 'B']"
      ]
     },
     "execution_count": 55,
     "metadata": {},
     "output_type": "execute_result"
    }
   ],
   "source": [
    "biopsia = [x[2] for x in NB_values]\n",
    "biopsia"
   ]
  },
  {
   "cell_type": "code",
   "execution_count": 56,
   "metadata": {},
   "outputs": [
    {
     "name": "stdout",
     "output_type": "stream",
     "text": [
      "1\n",
      "1\n",
      "1\n",
      "1\n",
      "3\n",
      "2\n",
      "1\n",
      "1\n"
     ]
    }
   ],
   "source": [
    "#B de biopsia = 1\n",
    "#C de citología = 3\n",
    "#P de punción = 2\n",
    "\n",
    "for i in biopsia:\n",
    "    if i == \"B\":\n",
    "        print(\"1\")\n",
    "    elif i == \"P\":\n",
    "        print(\"2\")\n",
    "    else:\n",
    "        print(\"3\")"
   ]
  },
  {
   "cell_type": "code",
   "execution_count": 57,
   "metadata": {},
   "outputs": [
    {
     "name": "stdout",
     "output_type": "stream",
     "text": [
      "1\n",
      "1\n",
      "1\n",
      "1\n",
      "3\n",
      "2\n",
      "1\n",
      "1\n",
      "['1', '1', '1', '1', '3', '2', '1', '1']\n"
     ]
    }
   ],
   "source": [
    "#B de biopsia = 1\n",
    "#C de citología = 3\n",
    "#P de punción = 2\n",
    "B = \"1\"\n",
    "C = \"3\"\n",
    "P = \"2\"\n",
    "Biopsia_solida = []\n",
    "\n",
    "for i in biopsia:\n",
    "    if i == \"B\":\n",
    "        Biopsia_solida.append(B)\n",
    "        print(\"1\")\n",
    "    elif i == \"P\":\n",
    "        Biopsia_solida.append(P)\n",
    "        print(\"2\")\n",
    "    else:\n",
    "        Biopsia_solida.append(C)\n",
    "        print(\"3\")\n",
    "        \n",
    "print(Biopsia_solida)"
   ]
  },
  {
   "cell_type": "markdown",
   "metadata": {},
   "source": [
    "## FECHA"
   ]
  },
  {
   "cell_type": "code",
   "execution_count": 58,
   "metadata": {},
   "outputs": [
    {
     "name": "stdout",
     "output_type": "stream",
     "text": [
      "['24-mar-2023', '24-mar-2023', '24-mar-2023', '24-mar-2023', '24-mar-2023', '24-mar-2023', '24-mar-2023', '24-mar-2023']\n"
     ]
    }
   ],
   "source": [
    "fechas = []\n",
    "for i in fecha_Data:\n",
    "    sinduplicados = list(set(i))\n",
    "    fechas.append([x for x in i if x in sinduplicados][0])\n",
    "\n",
    "print(fechas)\n"
   ]
  },
  {
   "cell_type": "code",
   "execution_count": 59,
   "metadata": {},
   "outputs": [],
   "source": [
    "a = [['25-mar-2023', '25-mar-2023', '25-mar-2023'],\n",
    " ['24-mar-2022', '24-mar-2022', '24-mar-2022'],\n",
    " ['1-mar-2023', '1-mar-2023'],\n",
    " ['24-mar-2023', '24-mar-2023'],\n",
    " ['24-abr-2023', '24-abr-2023', '24-abr-2023'],\n",
    " ['24-mar-2023', '24-mar-2023', '24-mar-2023'],\n",
    " ['29-mar-2023', '29-mar-2023'],\n",
    " ['24-mar-2023', '24-mar-2023']]"
   ]
  },
  {
   "cell_type": "code",
   "execution_count": 60,
   "metadata": {},
   "outputs": [
    {
     "name": "stdout",
     "output_type": "stream",
     "text": [
      "['25-mar-2023', '24-mar-2022', '1-mar-2023', '24-mar-2023', '24-abr-2023', '24-mar-2023', '29-mar-2023', '24-mar-2023']\n"
     ]
    }
   ],
   "source": [
    "fechas2 = []\n",
    "for i in a:\n",
    "    sinduplicados = list(set(i))\n",
    "    fechas2.append([x for x in i if x in sinduplicados][0])\n",
    "\n",
    "print(fechas2)"
   ]
  },
  {
   "cell_type": "code",
   "execution_count": 61,
   "metadata": {},
   "outputs": [
    {
     "name": "stdout",
     "output_type": "stream",
     "text": [
      "[['Servicios', 'Biología', 'Sanitaria'], ['Laboratorio', 'de', 'Biología', 'Aplicada'], ['Tel.', '947', '256', '5334', 'ext.', '032023'], ['Datos', 'paciente:', 'NHC:', '00021', 'Nº', 'biopsia:', '23B00021-A1', 'Fecha:', '24-mar-2023', '1', 'de', '3'], ['Tipo', 'de', 'cáncer', 'de', 'la', 'muestra:', '', 'Carcinoma', 'pulmonar', 'no', 'microcítico'], ['Resultados', 'del', 'informe'], ['1', 'Biomarcadores', 'relevantes'], ['6', 'Tratamientos', 'disponibles'], ['6', 'Ensayos', 'clínicos'], ['Biomarcadores', 'relevantes'], ['\\xa0'], ['Nivel', 'Alteración', 'genómicaTratamientos', 'relevantes'], ['(En', 'este', 'tipo', 'de', 'cáncer)Tratamientos', 'relevantes'], ['(En', 'otro', 'tipo', 'de', 'cáncer)Ensayos'], ['clínicos'], ['\\xa0'], ['IA', 'EML4-ALK', 'fusion'], ['EMAP', 'like', '4', '-', 'ALK', 'receptor', 'tyrosine', 'kinasealectinib', '1,', '2'], ['brigatinib', '1,', '2'], ['ceritinib', '1,', '2'], ['crizotinib', '1,', '2'], ['lorlatinib', '1,', '2'], ['next-generation', 'ALK', 'inhibitorcrizotinib', '1'], ['alectinib'], ['brigatinib'], ['ceritinib'], ['lorlatinib6'], ['\\xa0'], ['Fuentes', 'de', 'datos', 'públicos', 'incluidas', 'en', 'tratamientos', 'pertinentes:', '\\xa0FDA', '1,', 'NCCN,', 'EMA', '2,', 'ESMO'], ['\\xa0'], ['GenCambio', 'de'], ['aminoácidos', 'Codificación', 'ExónFrecuencia'], ['de', 'alelo', 'Locus', 'Transcripto', 'ID', 'de', 'la', 'varianteEfecto', 'de', 'la'], ['variante', 'ClinVar', '1'], ['ALK', 'p.(D1529E)', 'c.4587C>G', '29', '50.98%', 'chr2:29416366', 'NM_004304.4', '.', 'missense', 'Benign'], ['ALK', 'p.(I1461V)', 'c.4381A>G', '29', '99.85%', 'chr2:29416572', 'NM_004304.4', '.', 'missense', 'Benign'], ['FGFR4', 'p.(P136L)', 'c.407C>T', '4', '97.85%', 'chr5:176517797', 'NM_213647.2', '.', 'missense'], ['MYC', 'p.(N26S)', 'c.77A>G', '2', '49.56%', 'chr8:128750540', 'NM_002467.4', '.', 'missenseVariantes', 'de', 'secuencia', 'de', 'ADN'], ['1', 'Basado', 'en', 'la', 'versión', 'ClinVar', '20180225'], ['\\xa0'], ['\\xa0'], ['Genes', 'ID', 'de', 'la', 'variante', 'LocusNumero', 'de'], ['lecturas', 'ClinVar', '1'], ['EML4-ALK', 'EML4-ALK.E6aA20.AB374361', 'chr2:42491871', '-', 'chr2:29446394', '404'], ['EML4-ALK', 'EML4-ALK.E6bA20.AB374362', 'chr2:42492091', '-', 'chr2:29446394', '196Fusiones', 'de', 'genes', '(ARN)'], ['1', 'Basado', 'en', 'la', 'versión', 'ClinVar', '20180225'], ['\\xa0Detalles', 'de', 'la', 'variante'], ['\\xa0'], ['Fdo.', 'Dra.', 'Smith', 'Peterson,', 'Palm', '(Bióloga', 'Molecular)', '/'], ['Dr.', 'García', 'García,', 'Juan', '(Jefe', 'de', 'Servicio)'], ['Declaración:', 'Los', 'datos', 'aquí', 'presentados', 'proceden', 'de', 'una', 'base', 'de', 'conocimientos', 'seleccionada', 'con', 'información', 'de', 'acceso', 'público,', 'pero', 'puede', 'que', 'no', 'sean', 'exhaustivos.', 'La'], ['versión', 'de', 'datos', 'es', '2023.02(005).', 'El', 'contenido', 'de', 'este', 'informe', 'no', 'ha', 'sido', 'evaluado', 'ni', 'aprobado', 'por', 'la', 'FDA', 'ni', 'por', 'otras', 'autoridades', 'de', 'registro', 'sanitario.']]\n"
     ]
    }
   ],
   "source": [
    "import PyPDF2\n",
    "\n",
    "# Abrimos el archivo PDF\n",
    "with open('C:/Users/luciv/OneDrive/Documentos/TFG_Lucia/RE_PDF_inventados/Sample_1_v100_ec96983e-d816-4baf-8544-ca0572acc9fa_2023-03-02_11-57-06-352_All.pdf', mode='rb') as archivo_pdf:\n",
    "    \n",
    "    # Creammos un objeto de lectura de PDF\n",
    "    lector_pdf = PyPDF2.PdfFileReader(archivo_pdf)\n",
    "    \n",
    "    #Indicamos la página que contiene la tabla con la que queremos trabajar. En todos los ejemplos es en la primera. \n",
    "    pagina_pdf = lector_pdf.getPage(0) \n",
    "    \n",
    "    # Extraemos el texto de esa página\n",
    "    texto_pagina = pagina_pdf.extractText()\n",
    "    \n",
    "    # Dividir el texto en líneas\n",
    "    lineas = texto_pagina.split('\\n')\n",
    "    \n",
    "    # Crear una lista vacía para almacenar los valores de la primera columna\n",
    "    valores_columna = []\n",
    "    \n",
    "    # Iterar por cada línea del texto\n",
    "    for i in lineas:\n",
    "        \n",
    "        # Dividir la línea en columnas utilizando un separador, por ejemplo un espacio o una tabulación\n",
    "        columnas = i.split(' ')\n",
    "        \n",
    "        # Añadir el valor de la primera columna a la lista\n",
    "        valores_columna.append(columnas)\n",
    "    \n",
    "    # Imprimir los valores de la primera columna\n",
    "    print(valores_columna)\n",
    "\n",
    "#type(valores_columna)"
   ]
  },
  {
   "cell_type": "code",
   "execution_count": 62,
   "metadata": {},
   "outputs": [
    {
     "name": "stdout",
     "output_type": "stream",
     "text": [
      "[['Servicios', 'Biología', 'Sanitaria'], ['Laboratorio', 'de', 'Biología', 'Aplicada'], ['Tel.', '947', '256', '5334', 'ext.', '032023'], ['Datos', 'paciente:', 'NHC:', '00021', 'Nº', 'biopsia:', '23B00021-A1', 'Fecha:', '24-mar-2023', '1', 'de', '3'], ['Tipo', 'de', 'cáncer', 'de', 'la', 'muestra:', '', 'Carcinoma', 'pulmonar', 'no', 'microcítico'], ['Resultados', 'del', 'informe'], ['1', 'Biomarcadores', 'relevantes'], ['6', 'Tratamientos', 'disponibles'], ['6', 'Ensayos', 'clínicos'], ['Biomarcadores', 'relevantes'], ['\\xa0'], ['Nivel', 'Alteración', 'genómicaTratamientos', 'relevantes'], ['(En', 'este', 'tipo', 'de', 'cáncer)Tratamientos', 'relevantes'], ['(En', 'otro', 'tipo', 'de', 'cáncer)Ensayos'], ['clínicos'], ['\\xa0'], ['IA', 'EML4-ALK', 'fusion'], ['EMAP', 'like', '4', '-', 'ALK', 'receptor', 'tyrosine', 'kinasealectinib', '1,', '2'], ['brigatinib', '1,', '2'], ['ceritinib', '1,', '2'], ['crizotinib', '1,', '2'], ['lorlatinib', '1,', '2'], ['next-generation', 'ALK', 'inhibitorcrizotinib', '1'], ['alectinib'], ['brigatinib'], ['ceritinib'], ['lorlatinib6'], ['\\xa0'], ['Fuentes', 'de', 'datos', 'públicos', 'incluidas', 'en', 'tratamientos', 'pertinentes:', '\\xa0FDA', '1,', 'NCCN,', 'EMA', '2,', 'ESMO'], ['\\xa0'], ['GenCambio', 'de'], ['aminoácidos', 'Codificación', 'ExónFrecuencia'], ['de', 'alelo', 'Locus', 'Transcripto', 'ID', 'de', 'la', 'varianteEfecto', 'de', 'la'], ['variante', 'ClinVar', '1'], ['ALK', 'p.(D1529E)', 'c.4587C>G', '29', '50.98%', 'chr2:29416366', 'NM_004304.4', '.', 'missense', 'Benign'], ['ALK', 'p.(I1461V)', 'c.4381A>G', '29', '99.85%', 'chr2:29416572', 'NM_004304.4', '.', 'missense', 'Benign'], ['FGFR4', 'p.(P136L)', 'c.407C>T', '4', '97.85%', 'chr5:176517797', 'NM_213647.2', '.', 'missense'], ['MYC', 'p.(N26S)', 'c.77A>G', '2', '49.56%', 'chr8:128750540', 'NM_002467.4', '.', 'missenseVariantes', 'de', 'secuencia', 'de', 'ADN'], ['1', 'Basado', 'en', 'la', 'versión', 'ClinVar', '20180225'], ['\\xa0'], ['\\xa0'], ['Genes', 'ID', 'de', 'la', 'variante', 'LocusNumero', 'de'], ['lecturas', 'ClinVar', '1'], ['EML4-ALK', 'EML4-ALK.E6aA20.AB374361', 'chr2:42491871', '-', 'chr2:29446394', '404'], ['EML4-ALK', 'EML4-ALK.E6bA20.AB374362', 'chr2:42492091', '-', 'chr2:29446394', '196Fusiones', 'de', 'genes', '(ARN)'], ['1', 'Basado', 'en', 'la', 'versión', 'ClinVar', '20180225'], ['\\xa0Detalles', 'de', 'la', 'variante'], ['\\xa0'], ['Fdo.', 'Dra.', 'Smith', 'Peterson,', 'Palm', '(Bióloga', 'Molecular)', '/'], ['Dr.', 'García', 'García,', 'Juan', '(Jefe', 'de', 'Servicio)'], ['Declaración:', 'Los', 'datos', 'aquí', 'presentados', 'proceden', 'de', 'una', 'base', 'de', 'conocimientos', 'seleccionada', 'con', 'información', 'de', 'acceso', 'público,', 'pero', 'puede', 'que', 'no', 'sean', 'exhaustivos.', 'La'], ['versión', 'de', 'datos', 'es', '2023.02(005).', 'El', 'contenido', 'de', 'este', 'informe', 'no', 'ha', 'sido', 'evaluado', 'ni', 'aprobado', 'por', 'la', 'FDA', 'ni', 'por', 'otras', 'autoridades', 'de', 'registro', 'sanitario.']]\n"
     ]
    }
   ],
   "source": [
    "print(valores_columna)"
   ]
  },
  {
   "cell_type": "code",
   "execution_count": 63,
   "metadata": {},
   "outputs": [
    {
     "name": "stdout",
     "output_type": "stream",
     "text": [
      "['6', 'Tratamientos', 'disponibles']\n"
     ]
    }
   ],
   "source": [
    "# Obtener la posición de \"Tratamientos disponibles\" y restar 1 para obtener la posición del valor \"6\"\n",
    "tratamiento_valor = valores_columna.index(['6', 'Tratamientos', 'disponibles'])\n",
    "\n",
    "# Asignar el valor \"6\" a una variable\n",
    "trata = valores_columna[tratamiento_valor]\n",
    "\n",
    "print(trata)"
   ]
  },
  {
   "cell_type": "code",
   "execution_count": 64,
   "metadata": {},
   "outputs": [
    {
     "name": "stdout",
     "output_type": "stream",
     "text": [
      "[['Servicios', 'Biología', 'Sanitaria'], ['Laboratorio', 'de', 'Biología', 'Aplicada'], ['Tel.', '947', '256', '5334', 'ext.', '032023'], ['Datos', 'paciente:', 'NHC:', '00021'], ['Nº', 'biopsia:', '23B00021-A1'], ['Fecha:', '24-mar-2023'], ['1', 'de', '3'], ['Tipo', 'de', 'cáncer', 'de', 'la', 'muestra:', 'Carcinoma', 'pulmonar', 'no', 'microcítico'], ['Resultados', 'del', 'informe'], ['1', 'Biomarcadores', 'relevantes'], ['6', 'Tratamientos', 'disponibles'], ['6', 'Ensayos', 'clínicos'], ['Biomarcadores', 'relevantes'], ['\\xa0'], ['Nivel'], ['Alteración', 'genómica'], ['Tratamientos', 'relevantes'], ['(En', 'este', 'tipo', 'de', 'cáncer)'], ['Tratamientos', 'relevantes'], ['(En', 'otro', 'tipo', 'de', 'cáncer)'], ['Ensayos'], ['clínicos'], ['\\xa0'], ['IA'], ['EML4-ALK', 'fusion'], ['EMAP', 'like', '4', '-', 'ALK', 'receptor', 'tyrosine', 'kinase'], ['alectinib', '1,', '2'], ['brigatinib', '1,', '2'], ['ceritinib', '1,', '2'], ['crizotinib', '1,', '2'], ['lorlatinib', '1,', '2'], ['next-generation', 'ALK', 'inhibitor'], ['crizotinib', '1'], ['alectinib'], ['brigatinib'], ['ceritinib'], ['lorlatinib'], ['6'], ['\\xa0'], ['Fuentes', 'de', 'datos', 'públicos', 'incluidas', 'en', 'tratamientos', 'pertinentes:\\xa0FDA1,', 'NCCN,', 'EMA2,', 'ESMO'], ['\\xa0'], ['Gen'], ['Cambio', 'de'], ['aminoácidos'], ['Codificación'], ['Exón'], ['Frecuencia'], ['de', 'alelo'], ['Locus'], ['Transcripto'], ['ID', 'de', 'la', 'variante'], ['Efecto', 'de', 'la'], ['variante'], ['ClinVar1'], ['ALK'], ['p.(D1529E)'], ['c.4587C>G'], ['29'], ['50.98%'], ['chr2:29416366'], ['NM_004304.4'], ['.'], ['missense'], ['Benign'], ['ALK'], ['p.(I1461V)'], ['c.4381A>G'], ['29'], ['99.85%'], ['chr2:29416572'], ['NM_004304.4'], ['.'], ['missense'], ['Benign'], ['FGFR4'], ['p.(P136L)'], ['c.407C>T'], ['4'], ['97.85%'], ['chr5:176517797'], ['NM_213647.2'], ['.'], ['missense'], ['MYC'], ['p.(N26S)'], ['c.77A>G'], ['2'], ['49.56%'], ['chr8:128750540'], ['NM_002467.4'], ['.'], ['missense'], ['Variantes', 'de', 'secuencia', 'de', 'ADN'], ['1', 'Basado', 'en', 'la', 'versión', 'ClinVar', '20180225'], ['\\xa0'], ['\\xa0'], ['Genes'], ['ID', 'de', 'la', 'variante'], ['Locus'], ['Numero', 'de'], ['lecturas'], ['ClinVar1'], ['EML4-ALK'], ['EML4-ALK.E6aA20.AB374361'], ['chr2:42491871', '-', 'chr2:29446394'], ['404'], ['EML4-ALK'], ['EML4-ALK.E6bA20.AB374362'], ['chr2:42492091', '-', 'chr2:29446394'], ['196'], ['Fusiones', 'de', 'genes', '(ARN)'], ['1', 'Basado', 'en', 'la', 'versión', 'ClinVar', '20180225'], ['\\xa0'], ['Detalles', 'de', 'la', 'variante'], ['\\xa0'], ['Fdo.', 'Dra.', 'Smith', 'Peterson,', 'Palm', '(Bióloga', 'Molecular)', '/'], ['Dr.', 'García', 'García,', 'Juan', '(Jefe', 'de', 'Servicio)'], ['Declaración:', 'Los', 'datos', 'aquí', 'presentados', 'proceden', 'de', 'una', 'base', 'de', 'conocimientos', 'seleccionada', 'con', 'información', 'de', 'acceso', 'público,', 'pero', 'puede', 'que', 'no', 'sean', 'exhaustivos.', 'La'], ['versión', 'de', 'datos', 'es', '2023.02(005).El', 'contenido', 'de', 'este', 'informe', 'no', 'ha', 'sido', 'evaluado', 'ni', 'aprobado', 'por', 'la', 'FDA', 'ni', 'por', 'otras', 'autoridades', 'de', 'registro', 'sanitario.'], ['Servicios', 'Biología', 'Sanitaria'], ['Laboratorio', 'de', 'Biología', 'Aplicada'], ['Tel.', '947', '256', '5334', 'ext.', '032023'], ['Datos', 'paciente:', 'NHC:', '00021'], ['Nº', 'biopsia:', '23B00021-A1'], ['Fecha:', '24-mar-2023'], ['2', 'de', '3'], ['\\xa0'], ['\\uf111', 'En', 'este', 'tipo', 'de', 'cáncer'], ['\\uf10c', 'En', 'otro', 'tipo', 'de', 'cáncer'], ['\\uf042', 'En', 'este', 'tipo', 'de', 'cáncer', 'y', 'en', 'otros', 'tipos', 'de', 'cáncer', '\\uf00d', 'Sin', 'pruebas', '(sin', 'indicios)'], ['\\xa0'], ['Tratamiento', 'correspondiente'], ['FDA'], ['NCCN'], ['EMA'], ['ESMO'], ['Ensayos'], ['clínicos*'], ['crizotinib'], ['\\uf042'], ['\\uf042'], ['\\uf111'], ['\\uf111'], ['\\uf111', '(I)'], ['lorlatinib'], ['\\uf111'], ['\\uf042'], ['\\uf111'], ['\\uf111'], ['\\uf111', '(IV)'], ['alectinib'], ['\\uf111'], ['\\uf042'], ['\\uf111'], ['\\uf111'], ['\\uf00d'], ['brigatinib'], ['\\uf111'], ['\\uf042'], ['\\uf111'], ['\\uf111'], ['\\uf00d'], ['ceritinib'], ['\\uf111'], ['\\uf042'], ['\\uf111'], ['\\uf111'], ['\\uf00d'], ['next-generation', 'ALK', 'inhibitor'], ['\\uf00d'], ['\\uf00d'], ['\\uf00d'], ['\\uf111'], ['\\uf00d'], ['NVL-655'], ['\\uf00d'], ['\\uf00d'], ['\\uf00d'], ['\\uf00d'], ['\\uf111', '(I/II)'], ['repotrectinib'], ['\\uf00d'], ['\\uf00d'], ['\\uf00d'], ['\\uf00d'], ['\\uf111', '(I/II)'], ['EML4-ALK', 'fusion'], ['\\xa0'], ['Resumen', 'del', 'tratamiento', 'correspondiente'], ['*', 'Se', 'muestra', 'la', 'fase', 'más', 'avanzada', '(IV,', 'III,', 'II/III,', 'II,', 'I/II,', 'I)', 'y', 'puede', 'haber', 'varios', 'ensayos', 'clínicos', 'disponibles.'], ['\\xa0'], ['ID', 'NCT'], ['Título'], ['Fase'], ['NCT04362072'], ['Single-Arm', 'Study', 'of', 'Lorlatinib', 'in', 'Participants', 'With', 'Anaplastic', 'Lymphoma', 'Kinase', '(ALK)-Positive', 'Non-'], ['Small', 'Cell', 'Lung', 'Cancer', '(NSCLC)', 'Whose', 'Disease', 'Progressed', 'After', 'One', 'Prior', 'Second-GenNCT04592913'], ['IV'], ['NCT04127110'], ['Activity', 'of', 'Lorlatinib', 'Based', 'on', 'ALK', 'Resistance', 'Mutations', 'on', 'Blood', 'in', 'ALK', 'Positive', 'NSCLC', 'Patients'], ['Previously', 'Treated', 'With', '2nd', 'Generation', 'ALK', 'Inhibitor'], ['II'], ['NCT05384626'], ['A', 'Phase', 'I/II', 'Study', 'of', 'the', 'Selective', 'Anaplastic', 'Lymphoma', 'Kinase', '(ALK)', 'Inhibitor', 'NVL-655', 'in', 'Patients'], ['With', 'Advanced', 'NSCLC', 'and', 'Other', 'Solid', 'Tumors', '(ALKOVE-1)'], ['I/II'], ['NCT05144997'], ['Lorlatinib', '(PF-06463922)', 'Continuation', 'Protocol:', 'An', 'Open-Label,', 'Single-Arm', 'Continuation', 'Study', 'For'], ['Participants', 'With', 'ALK-Positive', 'or', 'ROS1-Positive', 'Non-Small', 'Cell', 'Lung', 'Cancer', '(NSCLC)', 'Continuing', 'From'], ['Pfizer', 'Sponsored', 'Lorlatinib', 'Clinical', 'Studies'], ['IV'], ['NCT03093116'], ['A', 'Phase', 'I/II,', 'Open-Label,', 'Multi-Center,', 'First-in-Human', 'Study', 'of', 'the', 'Safety,', 'Tolerability,'], ['Pharmacokinetics,', 'and', 'Anti-Tumor', 'Activity', 'of', 'TPX-0005', 'in', 'Patients', 'With', 'Advanced', 'Solid', 'Tumors'], ['Harboring', 'ALK,', 'ROS1,', 'or', 'NTRK1-3', 'Rearrangements', '(TRIDENT-1)'], ['I/II'], ['Sin', 'ID', 'NCT'], ['A', 'Phase', 'IB', 'study', 'of', 'Crizotinib', 'Either', 'in', 'Combination', 'or', 'as', 'Single', 'Agent', 'in', 'Pediatric', 'Patients', 'with', 'ALK,'], ['ROS1', 'or', 'MET', 'Positive', 'Malignancies'], ['I'], ['EML4-ALK', 'fusion'], ['\\xa0'], ['Resumen', 'de', 'los', 'ensayos', 'clínicos'], ['\\xa0'], ['Fdo.', 'Dra.', 'Smith', 'Peterson,', 'Palm', '(Bióloga', 'Molecular)', '/'], ['Dr.', 'García', 'García,', 'Juan', '(Jefe', 'de', 'Servicio)'], ['Declaración:', 'Los', 'datos', 'aquí', 'presentados', 'proceden', 'de', 'una', 'base', 'de', 'conocimientos', 'seleccionada', 'con', 'información', 'de', 'acceso', 'público,', 'pero', 'puede', 'que', 'no', 'sean', 'exhaustivos.', 'La'], ['versión', 'de', 'datos', 'es', '2023.02(005).'], ['Servicios', 'Biología', 'Sanitaria'], ['Laboratorio', 'de', 'Biología', 'Aplicada'], ['Tel.', '947', '256', '5334', 'ext.', '032023'], ['Datos', 'paciente:', 'NHC:', '00021'], ['Nº', 'biopsia:', '23B00021-A1'], ['Fecha:', '24-mar-2023'], ['3', 'de', '3'], ['\\xa0'], ['\\xa0'], ['AKT1,', 'ALK,', 'AR,', 'BRAF,', 'CDK4,', 'CTNNB1,', 'DDR2,', 'EGFR,', 'ERBB2,', 'ERBB3,', 'ERBB4,', 'ESR1,', 'FGFR2,', 'FGFR3,', 'GNA11,', 'GNAQ,', 'HRAS,', 'IDH1,', 'IDH2,'], ['JAK1,', 'JAK2,', 'JAK3,', 'KIT,', 'KRAS,', 'MAP2K1,', 'MAP2K2,', 'MET,', 'MTOR,', 'NRAS,', 'PDGFRA,', 'PIK3CA,', 'RAF1,', 'RET,', 'ROS1,', 'SMO'], ['Genes', 'Assayed', 'for', 'the', 'Detection', 'of', 'DNA', 'Sequence', 'Variants'], ['\\xa0'], ['\\xa0'], ['ALK,', 'AR,', 'BRAF,', 'CCND1,', 'CDK4,', 'CDK6,', 'EGFR,', 'ERBB2,', 'FGFR1,', 'FGFR2,', 'FGFR3,', 'FGFR4,', 'KIT,', 'KRAS,', 'MET,', 'MYC,', 'MYCN,', 'PDGFRA,', 'PIK3CA'], ['Genes', 'Assayed', 'for', 'the', 'Detection', 'of', 'Copy', 'Number', 'Variations'], ['\\xa0'], ['\\xa0'], ['ALK,', 'RET,', 'ROS1,', 'NTRK1,', 'NTRK2,', 'NTRK3,', 'FGFR1,', 'FGFR2,', 'FGFR3,', 'MET,', 'BRAF,', 'RAF1,', 'ERG,', 'ETV1,', 'ETV4,', 'ETV5,', 'ABL1,', 'AKT3,', 'AXL,', 'EGFR,'], ['ERBB2,', 'PDGFRA,', 'PPARG'], ['Genes', 'Assayed', 'for', 'the', 'Detection', 'of', 'Fusions'], ['\\xa0'], ['Genes', 'analizados'], ['\\xa0'], ['El', 'software', 'Ion', 'Torrent', 'Oncomine', 'Reporter', 'de', 'Thermo', 'Fisher', 'Scientific', 'se', 'utilizó', 'en', 'la', 'generación', 'de', 'este', 'informe.', 'El', 'software', 'fue'], ['desarrollado', 'y', 'diseñado', 'internamente', 'por', 'Thermo', 'Fisher', 'Scientific.', 'El', 'análisis', 'se', 'basó', 'en', 'Oncomine', 'Reporter', '(5.6.0', 'versión', 'de', 'datos'], ['2023.02(005)).', 'Los', 'datos', 'aquí', 'presentados', 'proceden', 'de', 'una', 'base', 'de', 'conocimientos', 'seleccionada', 'con', 'información', 'de', 'acceso', 'público,'], ['pero', 'puede', 'que', 'no', 'sean', 'exhaustivos.', 'La', 'información', 'de', 'FDA', 'se', 'obtuvo', 'en', 'www.fda.gov', 'con', 'fecha', 'de', '2023-01-18.', 'La', 'información'], ['de', 'NCCN', 'se', 'obtuvo', 'en', 'www.nccn.org', 'con', 'fecha', 'de', '2023-01-03.', 'La', 'información', 'de', 'EMA', 'se', 'obtuvo', 'en', 'www.ema.europa.eu/ema'], ['con', 'fecha', 'de', '2023-01-18.', 'La', 'información', 'de', 'ESMO', 'se', 'obtuvo', 'en', 'www.esmo.org', 'con', 'fecha', 'de', '2023-01-03.', 'La', 'información', 'de', 'los'], ['ensayos', 'clínicos', 'tiene', 'fecha', 'de', '2023-01-03.', 'Para', 'obtener', 'información', 'más', 'actualizada', 'sobre', 'un', 'ensayo', 'específico,', 'busque', 'en'], ['www.clinicaltrials.gov', 'por', 'ID', 'NCT', 'o', 'busque', 'en', 'el', 'sitio', 'web', 'de', 'referencia', 'de', 'ensayos', 'clínicos', 'segun', 'identificador', 'local', 'en', '\"Otros'], ['identificadores\".', 'Las', 'variantes', 'se', 'indican', 'de', 'acuerdo', 'con', 'la', 'nomenclatura', 'HGVS', 'y', 'se', 'clasifican', 'según', 'las', 'directrices', 'AMP/ASCO/CA'], ['(Li', 'et', 'al.', '2017).', 'Basándose', 'en', 'las', 'fuentes', 'de', 'datos', 'seleccionadas,', 'las', 'variantes,', 'las', 'terapias', 'y', 'los', 'ensayos', 'que', 'se', 'mencionan', 'en', 'este'], ['informe', 'se', 'enumeran', 'en', 'orden', 'de', 'posible', 'relevancia', 'clínica', 'pero', 'no', 'en', 'orden', 'de', 'eficacia', 'prevista', 'de', 'las', 'terapias.'], ['\\xa0'], ['Fdo.', 'Dra.', 'Smith', 'Peterson,', 'Palm', '(Bióloga', 'Molecular)', '/'], ['Dr.', 'García', 'García,', 'Juan', '(Jefe', 'de', 'Servicio)'], ['Declaración:', 'Los', 'datos', 'aquí', 'presentados', 'proceden', 'de', 'una', 'base', 'de', 'conocimientos', 'seleccionada', 'con', 'información', 'de', 'acceso', 'público,', 'pero', 'puede', 'que', 'no', 'sean', 'exhaustivos.', 'La'], ['versión', 'de', 'datos', 'es', '2023.02(005).'], ['']]\n",
      "[['Servicios', 'Biología', 'Sanitaria'], ['Laboratorio', 'de', 'Biología', 'Aplicada'], ['Tel.', '947', '256', '5334', 'ext.', '032023'], ['Datos', 'paciente:', 'NHC:', '00022'], ['Nº', 'biopsia:', '22B00022-A2'], ['Fecha:', '24-mar-2023'], ['1', 'de', '3'], ['Tipo', 'de', 'cáncer', 'de', 'la', 'muestra:', 'Carcinoma', 'pulmonar', 'no', 'microcítico'], ['Resultados', 'del', 'informe'], ['1', 'Biomarcadores', 'relevantes'], ['1', 'Tratamientos', 'disponibles'], ['5', 'Ensayos', 'clínicos'], ['Biomarcadores', 'relevantes'], ['\\xa0'], ['Nivel'], ['Alteración', 'genómica'], ['Tratamientos', 'relevantes'], ['(En', 'este', 'tipo', 'de', 'cáncer)'], ['Tratamientos', 'relevantes'], ['(En', 'otro', 'tipo', 'de', 'cáncer)'], ['Ensayos'], ['clínicos'], ['\\xa0'], ['IIC'], ['KRAS', 'p.(G12V)', 'c.35G>T'], ['KRAS', 'proto-oncogene,', 'GTPase'], ['Frecuencia', 'de', 'alelo:', '66.50%'], ['Ninguno'], ['bevacizumab', '+', 'chemotherapy'], ['5'], ['\\xa0'], ['Fuentes', 'de', 'datos', 'públicos', 'incluidas', 'en', 'tratamientos', 'pertinentes:\\xa0FDA1,', 'NCCN,', 'EMA2,', 'ESMO'], ['\\xa0'], ['Gen'], ['Cambio', 'de'], ['aminoácidos'], ['Codificación'], ['Exón'], ['Frecuencia'], ['de', 'alelo'], ['Locus'], ['Transcripto'], ['ID', 'de', 'la', 'variante'], ['Efecto', 'de', 'la'], ['variante'], ['ClinVar1'], ['KRAS'], ['p.(G12V)'], ['c.35G>T'], ['2'], ['66.50%'], ['chr12:25398284'], ['NM_033360.3'], ['COSM520'], ['missense'], ['Pathogeni'], ['Like', 'ly'], ['pathogeni'], ['ALK'], ['p.(I1461V)'], ['c.4381A>G'], ['29'], ['99.70%'], ['chr2:29416572'], ['NM_004304.4'], ['.'], ['missense'], ['Benign'], ['FGFR4'], ['p.(P136L)'], ['c.407C>T'], ['4'], ['62.29%'], ['chr5:176517797'], ['NM_213647.2'], ['.'], ['missense'], ['MET'], ['p.(N375S)'], ['c.1124A>G'], ['2'], ['55.91%'], ['chr7:116340262'], ['NM_001127500.2', '.'], ['missense'], ['Benign'], ['Variantes', 'de', 'secuencia', 'de', 'ADN'], ['1', 'Basado', 'en', 'la', 'versión', 'ClinVar', '20180225'], ['\\xa0'], ['Detalles', 'de', 'la', 'variante'], ['\\xa0'], ['\\uf111', 'En', 'este', 'tipo', 'de', 'cáncer'], ['\\uf10c', 'En', 'otro', 'tipo', 'de', 'cáncer'], ['\\uf042', 'En', 'este', 'tipo', 'de', 'cáncer', 'y', 'en', 'otros', 'tipos', 'de', 'cáncer', '\\uf00d', 'Sin', 'pruebas', '(sin', 'indicios)'], ['\\xa0'], ['Tratamiento', 'correspondiente'], ['FDA'], ['NCCN'], ['EMA'], ['ESMO'], ['Ensayos'], ['clínicos*'], ['bevacizumab', '+', 'CAPOX'], ['\\uf00d'], ['\\uf00d'], ['\\uf00d'], ['\\uf10c'], ['\\uf00d'], ['bevacizumab', '+', 'FOLFIRI'], ['\\uf00d'], ['\\uf00d'], ['\\uf00d'], ['\\uf10c'], ['\\uf00d'], ['KRAS', 'p.(G12V)', 'c.35G>T'], ['\\xa0'], ['Resumen', 'del', 'tratamiento', 'correspondiente'], ['*', 'Se', 'muestra', 'la', 'fase', 'más', 'avanzada', '(IV,', 'III,', 'II/III,', 'II,', 'I/II,', 'I)', 'y', 'puede', 'haber', 'varios', 'ensayos', 'clínicos', 'disponibles.'], ['\\xa0'], ['Fdo.', 'Dra.', 'Smith', 'Peterson,', 'Palm', '(Bióloga', 'Molecular)', '/'], ['Dr.', 'García', 'García,', 'Juan', '(Jefe', 'de', 'Servicio)'], ['Declaración:', 'Los', 'datos', 'aquí', 'presentados', 'proceden', 'de', 'una', 'base', 'de', 'conocimientos', 'seleccionada', 'con', 'información', 'de', 'acceso', 'público,', 'pero', 'puede', 'que', 'no', 'sean', 'exhaustivos.', 'La'], ['versión', 'de', 'datos', 'es', '2023.02(005).El', 'contenido', 'de', 'este', 'informe', 'no', 'ha', 'sido', 'evaluado', 'ni', 'aprobado', 'por', 'la', 'FDA', 'ni', 'por', 'otras', 'autoridades', 'de', 'registro', 'sanitario.'], ['Servicios', 'Biología', 'Sanitaria'], ['Laboratorio', 'de', 'Biología', 'Aplicada'], ['Tel.', '947', '256', '5334', 'ext.', '032023'], ['Datos', 'paciente:', 'NHC:', '00022'], ['Nº', 'biopsia:', '22B00022-A2'], ['Fecha:', '24-mar-2023'], ['2', 'de', '3'], ['\\xa0'], ['\\uf111', 'En', 'este', 'tipo', 'de', 'cáncer'], ['\\uf10c', 'En', 'otro', 'tipo', 'de', 'cáncer'], ['\\uf042', 'En', 'este', 'tipo', 'de', 'cáncer', 'y', 'en', 'otros', 'tipos', 'de', 'cáncer', '\\uf00d', 'Sin', 'pruebas', '(sin', 'indicios)'], ['\\xa0'], ['Tratamiento', 'correspondiente'], ['FDA'], ['NCCN'], ['EMA'], ['ESMO'], ['Ensayos'], ['clínicos*'], ['bevacizumab', '+', 'FOLFOX'], ['\\uf00d'], ['\\uf00d'], ['\\uf00d'], ['\\uf10c'], ['\\uf00d'], ['bevacizumab', '+', 'FOLFOXIRI'], ['\\uf00d'], ['\\uf00d'], ['\\uf00d'], ['\\uf10c'], ['\\uf00d'], ['vibostolimab', '+', 'pembrolizumab,', 'pembrolizumab,'], ['chemotherapy'], ['\\uf00d'], ['\\uf00d'], ['\\uf00d'], ['\\uf00d'], ['\\uf111', '(III)'], ['avutometinib,', 'defactinib'], ['\\uf00d'], ['\\uf00d'], ['\\uf00d'], ['\\uf00d'], ['\\uf111', '(II)'], ['ASTX029'], ['\\uf00d'], ['\\uf00d'], ['\\uf00d'], ['\\uf00d'], ['\\uf111', '(I/II)'], ['RMC-4630,', 'pembrolizumab'], ['\\uf00d'], ['\\uf00d'], ['\\uf00d'], ['\\uf00d'], ['\\uf111', '(I/II)'], ['datopotamab', 'deruxtecan,', 'pembrolizumab'], ['\\uf00d'], ['\\uf00d'], ['\\uf00d'], ['\\uf00d'], ['\\uf111', '(I)'], ['KRAS', 'p.(G12V)', 'c.35G>T', '(continuación)'], ['\\xa0'], ['Resumen', 'del', 'tratamiento', 'correspondiente', '(continuación)'], ['*', 'Se', 'muestra', 'la', 'fase', 'más', 'avanzada', '(IV,', 'III,', 'II/III,', 'II,', 'I/II,', 'I)', 'y', 'puede', 'haber', 'varios', 'ensayos', 'clínicos', 'disponibles.'], ['\\xa0'], ['ID', 'NCT'], ['Título'], ['Fase'], ['NCT04620330'], ['A', 'Phase', 'II', 'Study', 'of', 'VS-6766', '(Dual', 'RAF/MEK', 'Inhibitor)', 'as', 'a', 'Single', 'Agent', 'and', 'In', 'Combination', 'With'], ['Defactinib', '(FAK', 'Inhibitor)', 'in', 'Recurrent', 'KRAS-Mutant', '(KRAS-MT)', 'and', 'BRAF-Mutant', '(BRAF-MT)', 'Non-'], ['Small', 'Cell', 'Lung', 'Cancer', '(NSCLC)', '(RAMP', '202)'], ['II'], ['NCT05226598'], ['A', 'Randomized,', 'Double-Blind,', 'Phase', 'III', 'Study', 'of', 'MK-7684A', 'Plus', 'Chemotherapy', 'Versus', 'Pembrolizumab'], ['Plus', 'Chemotherapy', 'as', 'First', 'Line', 'Treatment', 'for', 'Participants', 'With', 'Metastatic', 'Non-Small', 'Cell', 'Lung'], ['Cancer'], ['III'], ['NCT04418661'], ['A', 'Phase', 'I/II,', 'Open-label,', 'Multicenter,', 'Dose', 'Escalation', 'and', 'Dose', 'Expansion', 'Study', 'of', 'SAR442720', 'in'], ['Combination', 'With', 'Pembrolizumab', 'in', 'Patients', 'With', 'Advanced', 'Malignancies'], ['I/II'], ['NCT04526691'], ['Phase', 'Ib,', 'Multicenter,', 'Open-label', 'Study', 'of', 'Datopotamab', 'Deruxtecan', '(Dato-DXd)', 'in', 'Combination', 'With'], ['Pembrolizumab', 'With', 'or', 'Without', 'Platinum', 'Chemotherapy', 'in', 'Subjects', 'With', 'Advanced', 'or', 'Metastatic', 'Non-'], ['Small', 'Cell', 'Lung', 'Cancer', '(TROPION-Lung02)'], ['I'], ['NCT03520075'], ['A', 'Phase', 'I/II', 'Study', 'of', 'the', 'Safety,', 'Pharmacokinetics,', 'and', 'Activity', 'of', 'ASTX029', 'in', 'Subjects', 'With', 'Advanced'], ['Solid', 'Tumors'], ['I/II'], ['KRAS', 'p.(G12V)', 'c.35G>T'], ['\\xa0'], ['Resumen', 'de', 'los', 'ensayos', 'clínicos'], ['\\xa0'], ['Fdo.', 'Dra.', 'Smith', 'Peterson,', 'Palm', '(Bióloga', 'Molecular)', '/'], ['Dr.', 'García', 'García,', 'Juan', '(Jefe', 'de', 'Servicio)'], ['Declaración:', 'Los', 'datos', 'aquí', 'presentados', 'proceden', 'de', 'una', 'base', 'de', 'conocimientos', 'seleccionada', 'con', 'información', 'de', 'acceso', 'público,', 'pero', 'puede', 'que', 'no', 'sean', 'exhaustivos.', 'La'], ['versión', 'de', 'datos', 'es', '2023.02(005).'], ['Servicios', 'Biología', 'Sanitaria'], ['Laboratorio', 'de', 'Biología', 'Aplicada'], ['Tel.', '947', '256', '5334', 'ext.', '032023'], ['Datos', 'paciente:', 'NHC:', '00022'], ['Nº', 'biopsia:', '22B00022-A2'], ['Fecha:', '24-mar-2023'], ['3', 'de', '3'], ['\\xa0'], ['\\xa0'], ['AKT1,', 'ALK,', 'AR,', 'BRAF,', 'CDK4,', 'CTNNB1,', 'DDR2,', 'EGFR,', 'ERBB2,', 'ERBB3,', 'ERBB4,', 'ESR1,', 'FGFR2,', 'FGFR3,', 'GNA11,', 'GNAQ,', 'HRAS,', 'IDH1,', 'IDH2,'], ['JAK1,', 'JAK2,', 'JAK3,', 'KIT,', 'KRAS,', 'MAP2K1,', 'MAP2K2,', 'MET,', 'MTOR,', 'NRAS,', 'PDGFRA,', 'PIK3CA,', 'RAF1,', 'RET,', 'ROS1,', 'SMO'], ['Genes', 'Assayed', 'for', 'the', 'Detection', 'of', 'DNA', 'Sequence', 'Variants'], ['\\xa0'], ['\\xa0'], ['ALK,', 'AR,', 'BRAF,', 'CCND1,', 'CDK4,', 'CDK6,', 'EGFR,', 'ERBB2,', 'FGFR1,', 'FGFR2,', 'FGFR3,', 'FGFR4,', 'KIT,', 'KRAS,', 'MET,', 'MYC,', 'MYCN,', 'PDGFRA,', 'PIK3CA'], ['Genes', 'Assayed', 'for', 'the', 'Detection', 'of', 'Copy', 'Number', 'Variations'], ['\\xa0'], ['\\xa0'], ['ALK,', 'RET,', 'ROS1,', 'NTRK1,', 'NTRK2,', 'NTRK3,', 'FGFR1,', 'FGFR2,', 'FGFR3,', 'MET,', 'BRAF,', 'RAF1,', 'ERG,', 'ETV1,', 'ETV4,', 'ETV5,', 'ABL1,', 'AKT3,', 'AXL,', 'EGFR,'], ['ERBB2,', 'PDGFRA,', 'PPARG'], ['Genes', 'Assayed', 'for', 'the', 'Detection', 'of', 'Fusions'], ['\\xa0'], ['Genes', 'analizados'], ['\\xa0'], ['El', 'software', 'Ion', 'Torrent', 'Oncomine', 'Reporter', 'de', 'Thermo', 'Fisher', 'Scientific', 'se', 'utilizó', 'en', 'la', 'generación', 'de', 'este', 'informe.', 'El', 'software', 'fue'], ['desarrollado', 'y', 'diseñado', 'internamente', 'por', 'Thermo', 'Fisher', 'Scientific.', 'El', 'análisis', 'se', 'basó', 'en', 'Oncomine', 'Reporter', '(5.6.0', 'versión', 'de', 'datos'], ['2023.02(005)).', 'Los', 'datos', 'aquí', 'presentados', 'proceden', 'de', 'una', 'base', 'de', 'conocimientos', 'seleccionada', 'con', 'información', 'de', 'acceso', 'público,'], ['pero', 'puede', 'que', 'no', 'sean', 'exhaustivos.', 'La', 'información', 'de', 'FDA', 'se', 'obtuvo', 'en', 'www.fda.gov', 'con', 'fecha', 'de', '2023-01-18.', 'La', 'información'], ['de', 'NCCN', 'se', 'obtuvo', 'en', 'www.nccn.org', 'con', 'fecha', 'de', '2023-01-03.', 'La', 'información', 'de', 'EMA', 'se', 'obtuvo', 'en', 'www.ema.europa.eu/ema'], ['con', 'fecha', 'de', '2023-01-18.', 'La', 'información', 'de', 'ESMO', 'se', 'obtuvo', 'en', 'www.esmo.org', 'con', 'fecha', 'de', '2023-01-03.', 'La', 'información', 'de', 'los'], ['ensayos', 'clínicos', 'tiene', 'fecha', 'de', '2023-01-03.', 'Para', 'obtener', 'información', 'más', 'actualizada', 'sobre', 'un', 'ensayo', 'específico,', 'busque', 'en'], ['www.clinicaltrials.gov', 'por', 'ID', 'NCT', 'o', 'busque', 'en', 'el', 'sitio', 'web', 'de', 'referencia', 'de', 'ensayos', 'clínicos', 'segun', 'identificador', 'local', 'en', '\"Otros'], ['identificadores\".', 'Las', 'variantes', 'se', 'indican', 'de', 'acuerdo', 'con', 'la', 'nomenclatura', 'HGVS', 'y', 'se', 'clasifican', 'según', 'las', 'directrices', 'AMP/ASCO/CA'], ['(Li', 'et', 'al.', '2017).', 'Basándose', 'en', 'las', 'fuentes', 'de', 'datos', 'seleccionadas,', 'las', 'variantes,', 'las', 'terapias', 'y', 'los', 'ensayos', 'que', 'se', 'mencionan', 'en', 'este'], ['informe', 'se', 'enumeran', 'en', 'orden', 'de', 'posible', 'relevancia', 'clínica', 'pero', 'no', 'en', 'orden', 'de', 'eficacia', 'prevista', 'de', 'las', 'terapias.'], ['\\xa0'], ['Fdo.', 'Dra.', 'Smith', 'Peterson,', 'Palm', '(Bióloga', 'Molecular)', '/'], ['Dr.', 'García', 'García,', 'Juan', '(Jefe', 'de', 'Servicio)'], ['Declaración:', 'Los', 'datos', 'aquí', 'presentados', 'proceden', 'de', 'una', 'base', 'de', 'conocimientos', 'seleccionada', 'con', 'información', 'de', 'acceso', 'público,', 'pero', 'puede', 'que', 'no', 'sean', 'exhaustivos.', 'La'], ['versión', 'de', 'datos', 'es', '2023.02(005).'], ['']]\n",
      "[['Servicios', 'Biología', 'Sanitaria'], ['Laboratorio', 'de', 'Biología', 'Aplicada'], ['Tel.', '947', '256', '5334', 'ext.', '032023'], ['Datos', 'paciente:', 'NHC:', '00023'], ['Nº', 'biopsia:', '21B00023-A1'], ['Fecha:', '24-mar-2023'], ['1', 'de', '2'], ['Tipo', 'de', 'cáncer', 'de', 'la', 'muestra:', 'Carcinoma', 'pulmonar', 'no', 'microcítico'], ['Resultados', 'del', 'informe'], ['0', 'Tratamientos', 'disponibles'], ['0', 'Ensayos', 'clínicos'], ['Biomarcadores', 'relevantes'], ['\\xa0'], ['No', 'se', 'encontraron.*Considerar', 'las', 'variantes', 'PATOGÉNICAS', 'o', 'PROBABLEMENTE', 'PATOGÉNICAS', 'detectadas', 'en', 'la'], ['secuencia', 'de', 'ADN', 'para', 'el', 'manejo', 'clínico', 'futuro,', 'ya', 'que', 'en', 'el', 'día', 'de', 'emisión', 'del', 'informe', 'no', 'tienen', 'utilidad', 'clínica'], ['terapéutica', 'establecida.'], ['\\xa0'], ['Gen'], ['Cambio', 'de'], ['aminoácidos'], ['Codificación'], ['Exón'], ['Frecuencia'], ['de', 'alelo'], ['Locus'], ['Transcripto'], ['ID', 'de', 'la', 'variante'], ['Efecto', 'de', 'la'], ['variante'], ['ClinVar1'], ['ALK'], ['p.(D1529E)'], ['c.4587C>G'], ['29'], ['44.65%'], ['chr2:29416366'], ['NM_004304.4'], ['.'], ['missense'], ['Benign'], ['ALK'], ['p.(I1461V)'], ['c.4381A>G'], ['29'], ['99.60%'], ['chr2:29416572'], ['NM_004304.4'], ['.'], ['missense'], ['Benign'], ['ALK'], ['p.(T680I)'], ['c.2039C>T'], ['11'], ['48.23%'], ['chr2:29497967'], ['NM_004304.4'], ['.'], ['missense'], ['Benign/Li'], ['benign'], ['FGFR4'], ['p.(P136L)'], ['c.407C>T'], ['4'], ['98.61%'], ['chr5:176517797'], ['NM_213647.2'], ['.'], ['missense'], ['Variantes', 'de', 'secuencia', 'de', 'ADN'], ['1', 'Basado', 'en', 'la', 'versión', 'ClinVar', '20180225'], ['\\xa0'], ['Detalles', 'de', 'la', 'variante'], ['\\xa0'], ['\\xa0'], ['AKT1,', 'ALK,', 'AR,', 'BRAF,', 'CDK4,', 'CTNNB1,', 'DDR2,', 'EGFR,', 'ERBB2,', 'ERBB3,', 'ERBB4,', 'ESR1,', 'FGFR2,', 'FGFR3,', 'GNA11,', 'GNAQ,', 'HRAS,', 'IDH1,', 'IDH2,'], ['JAK1,', 'JAK2,', 'JAK3,', 'KIT,', 'KRAS,', 'MAP2K1,', 'MAP2K2,', 'MET,', 'MTOR,', 'NRAS,', 'PDGFRA,', 'PIK3CA,', 'RAF1,', 'RET,', 'ROS1,', 'SMO'], ['Genes', 'Assayed', 'for', 'the', 'Detection', 'of', 'DNA', 'Sequence', 'Variants'], ['\\xa0'], ['\\xa0'], ['ALK,', 'AR,', 'BRAF,', 'CCND1,', 'CDK4,', 'CDK6,', 'EGFR,', 'ERBB2,', 'FGFR1,', 'FGFR2,', 'FGFR3,', 'FGFR4,', 'KIT,', 'KRAS,', 'MET,', 'MYC,', 'MYCN,', 'PDGFRA,', 'PIK3CA'], ['Genes', 'Assayed', 'for', 'the', 'Detection', 'of', 'Copy', 'Number', 'Variations'], ['\\xa0'], ['\\xa0'], ['ALK,', 'RET,', 'ROS1,', 'NTRK1,', 'NTRK2,', 'NTRK3,', 'FGFR1,', 'FGFR2,', 'FGFR3,', 'MET,', 'BRAF,', 'RAF1,', 'ERG,', 'ETV1,', 'ETV4,', 'ETV5,', 'ABL1,', 'AKT3,', 'AXL,', 'EGFR,'], ['ERBB2,', 'PDGFRA,', 'PPARG'], ['Genes', 'Assayed', 'for', 'the', 'Detection', 'of', 'Fusions'], ['\\xa0'], ['Genes', 'analizados'], ['\\xa0'], ['\\xa0'], ['Fdo.', 'Dra.', 'Smith', 'Peterson,', 'Palm', '(Bióloga', 'Molecular)', '/'], ['Dr.', 'García', 'García,', 'Juan', '(Jefe', 'de', 'Servicio)'], ['Declaración:', 'Los', 'datos', 'aquí', 'presentados', 'proceden', 'de', 'una', 'base', 'de', 'conocimientos', 'seleccionada', 'con', 'información', 'de', 'acceso', 'público,', 'pero', 'puede', 'que', 'no', 'sean', 'exhaustivos.', 'La'], ['versión', 'de', 'datos', 'es', '2023.02(005).El', 'contenido', 'de', 'este', 'informe', 'no', 'ha', 'sido', 'evaluado', 'ni', 'aprobado', 'por', 'la', 'FDA', 'ni', 'por', 'otras', 'autoridades', 'de', 'registro', 'sanitario.'], ['Servicios', 'Biología', 'Sanitaria'], ['Laboratorio', 'de', 'Biología', 'Aplicada'], ['Tel.', '947', '256', '5334', 'ext.', '032023'], ['Datos', 'paciente:', 'NHC:', '00023'], ['Nº', 'biopsia:', '21B00023-A1'], ['Fecha:', '24-mar-2023'], ['2', 'de', '2'], ['El', 'software', 'Ion', 'Torrent', 'Oncomine', 'Reporter', 'de', 'Thermo', 'Fisher', 'Scientific', 'se', 'utilizó', 'en', 'la', 'generación', 'de', 'este', 'informe.', 'El', 'software', 'fue'], ['desarrollado', 'y', 'diseñado', 'internamente', 'por', 'Thermo', 'Fisher', 'Scientific.', 'El', 'análisis', 'se', 'basó', 'en', 'Oncomine', 'Reporter', '(5.6.0', 'versión', 'de', 'datos'], ['2023.02(005)).', 'Los', 'datos', 'aquí', 'presentados', 'proceden', 'de', 'una', 'base', 'de', 'conocimientos', 'seleccionada', 'con', 'información', 'de', 'acceso', 'público,'], ['pero', 'puede', 'que', 'no', 'sean', 'exhaustivos.', 'La', 'información', 'de', 'FDA', 'se', 'obtuvo', 'en', 'www.fda.gov', 'con', 'fecha', 'de', '2023-01-18.', 'La', 'información'], ['de', 'NCCN', 'se', 'obtuvo', 'en', 'www.nccn.org', 'con', 'fecha', 'de', '2023-01-03.', 'La', 'información', 'de', 'EMA', 'se', 'obtuvo', 'en', 'www.ema.europa.eu/ema'], ['con', 'fecha', 'de', '2023-01-18.', 'La', 'información', 'de', 'ESMO', 'se', 'obtuvo', 'en', 'www.esmo.org', 'con', 'fecha', 'de', '2023-01-03.', 'La', 'información', 'de', 'los'], ['ensayos', 'clínicos', 'tiene', 'fecha', 'de', '2023-01-03.', 'Para', 'obtener', 'información', 'más', 'actualizada', 'sobre', 'un', 'ensayo', 'específico,', 'busque', 'en'], ['www.clinicaltrials.gov', 'por', 'ID', 'NCT', 'o', 'busque', 'en', 'el', 'sitio', 'web', 'de', 'referencia', 'de', 'ensayos', 'clínicos', 'segun', 'identificador', 'local', 'en', '\"Otros'], ['identificadores\".', 'Las', 'variantes', 'se', 'indican', 'de', 'acuerdo', 'con', 'la', 'nomenclatura', 'HGVS', 'y', 'se', 'clasifican', 'según', 'las', 'directrices', 'AMP/ASCO/CA'], ['(Li', 'et', 'al.', '2017).', 'Basándose', 'en', 'las', 'fuentes', 'de', 'datos', 'seleccionadas,', 'las', 'variantes,', 'las', 'terapias', 'y', 'los', 'ensayos', 'que', 'se', 'mencionan', 'en', 'este'], ['informe', 'se', 'enumeran', 'en', 'orden', 'de', 'posible', 'relevancia', 'clínica', 'pero', 'no', 'en', 'orden', 'de', 'eficacia', 'prevista', 'de', 'las', 'terapias.'], ['\\xa0'], ['Fdo.', 'Dra.', 'Smith', 'Peterson,', 'Palm', '(Bióloga', 'Molecular)', '/'], ['Dr.', 'García', 'García,', 'Juan', '(Jefe', 'de', 'Servicio)'], ['Declaración:', 'Los', 'datos', 'aquí', 'presentados', 'proceden', 'de', 'una', 'base', 'de', 'conocimientos', 'seleccionada', 'con', 'información', 'de', 'acceso', 'público,', 'pero', 'puede', 'que', 'no', 'sean', 'exhaustivos.', 'La'], ['versión', 'de', 'datos', 'es', '2023.02(005).'], ['']]\n",
      "[['Servicios', 'Biología', 'Sanitaria'], ['Laboratorio', 'de', 'Biología', 'Aplicada'], ['Tel.', '947', '256', '5334', 'ext.', '032023'], ['Datos', 'paciente:', 'NHC:', '00024'], ['Nº', 'biopsia:', '23B00024-A1'], ['Fecha:', '24-mar-2023'], ['1', 'de', '2'], ['Tipo', 'de', 'cáncer', 'de', 'la', 'muestra:', 'Carcinoma', 'pulmonar', 'no', 'microcítico'], ['Resultados', 'del', 'informe'], ['1', 'Biomarcadores', 'relevantes'], ['0', 'Tratamientos', 'disponibles'], ['0', 'Ensayos', 'clínicos'], ['Biomarcadores', 'relevantes'], ['\\xa0'], ['No', 'se', 'encontraron.*Considerar', 'las', 'variantes', 'PATOGÉNICAS', 'o', 'PROBABLEMENTE', 'PATOGÉNICAS', 'detectadas', 'en', 'la'], ['secuencia', 'de', 'ADN', 'para', 'el', 'manejo', 'clínico', 'futuro,', 'ya', 'que', 'en', 'el', 'día', 'de', 'emisión', 'del', 'informe', 'no', 'tienen', 'utilidad', 'clínica'], ['terapéutica', 'establecida.'], ['Biomarcadores', 'de', 'cáncer', 'prevalente', 'sin', 'evidencia', 'relevante', 'basados', 'en', 'fuentes', 'de', 'datos', 'incluidas'], ['PIK3CA', 'amplification'], ['\\xa0'], ['Gen'], ['Cambio', 'de'], ['aminoácidos'], ['Codificación'], ['Exón'], ['Frecuencia'], ['de', 'alelo'], ['Locus'], ['Transcripto'], ['ID', 'de', 'la', 'variante'], ['Efecto', 'de', 'la'], ['variante'], ['ClinVar1'], ['ALK'], ['p.(D1529E)'], ['c.4587C>G'], ['29'], ['49.95%'], ['chr2:29416366'], ['NM_004304.4'], ['.'], ['missense'], ['Benign'], ['ALK'], ['p.(I1461V)'], ['c.4381A>G'], ['29'], ['99.90%'], ['chr2:29416572'], ['NM_004304.4'], ['.'], ['missense'], ['Benign'], ['ALK'], ['p.(T680I)'], ['c.2039C>T'], ['11'], ['51.50%'], ['chr2:29497967'], ['NM_004304.4'], ['.'], ['missense'], ['Benign/Li'], ['benign'], ['FGFR4'], ['p.(P136L)'], ['c.407C>T'], ['4'], ['98.70%'], ['chr5:176517797'], ['NM_213647.2'], ['.'], ['missense'], ['Variantes', 'de', 'secuencia', 'de', 'ADN'], ['1', 'Basado', 'en', 'la', 'versión', 'ClinVar', '20180225'], ['\\xa0'], ['\\xa0'], ['Gen'], ['Locus'], ['Número', 'de', 'copia'], ['ClinVar1'], ['PIK3CA'], ['chr3:178916683'], ['13.1'], ['FGFR1'], ['chr8:38271445'], ['7.54'], ['Variaciones', 'del', 'número', 'de', 'copias'], ['1', 'Basado', 'en', 'la', 'versión', 'ClinVar', '20180225'], ['\\xa0'], ['Detalles', 'de', 'la', 'variante'], ['\\xa0'], ['Fdo.', 'Dra.', 'Smith', 'Peterson,', 'Palm', '(Bióloga', 'Molecular)', '/'], ['Dr.', 'García', 'García,', 'Juan', '(Jefe', 'de', 'Servicio)'], ['Declaración:', 'Los', 'datos', 'aquí', 'presentados', 'proceden', 'de', 'una', 'base', 'de', 'conocimientos', 'seleccionada', 'con', 'información', 'de', 'acceso', 'público,', 'pero', 'puede', 'que', 'no', 'sean', 'exhaustivos.', 'La'], ['versión', 'de', 'datos', 'es', '2023.02(005).El', 'contenido', 'de', 'este', 'informe', 'no', 'ha', 'sido', 'evaluado', 'ni', 'aprobado', 'por', 'la', 'FDA', 'ni', 'por', 'otras', 'autoridades', 'de', 'registro', 'sanitario.'], ['Servicios', 'Biología', 'Sanitaria'], ['Laboratorio', 'de', 'Biología', 'Aplicada'], ['Tel.', '947', '256', '5334', 'ext.', '032023'], ['Datos', 'paciente:', 'NHC:', '00024'], ['Nº', 'biopsia:', '23B00024-A1'], ['Fecha:', '24-mar-2023'], ['2', 'de', '2'], ['\\xa0'], ['\\xa0'], ['AKT1,', 'ALK,', 'AR,', 'BRAF,', 'CDK4,', 'CTNNB1,', 'DDR2,', 'EGFR,', 'ERBB2,', 'ERBB3,', 'ERBB4,', 'ESR1,', 'FGFR2,', 'FGFR3,', 'GNA11,', 'GNAQ,', 'HRAS,', 'IDH1,', 'IDH2,'], ['JAK1,', 'JAK2,', 'JAK3,', 'KIT,', 'KRAS,', 'MAP2K1,', 'MAP2K2,', 'MET,', 'MTOR,', 'NRAS,', 'PDGFRA,', 'PIK3CA,', 'RAF1,', 'RET,', 'ROS1,', 'SMO'], ['Genes', 'Assayed', 'for', 'the', 'Detection', 'of', 'DNA', 'Sequence', 'Variants'], ['\\xa0'], ['\\xa0'], ['ALK,', 'AR,', 'BRAF,', 'CCND1,', 'CDK4,', 'CDK6,', 'EGFR,', 'ERBB2,', 'FGFR1,', 'FGFR2,', 'FGFR3,', 'FGFR4,', 'KIT,', 'KRAS,', 'MET,', 'MYC,', 'MYCN,', 'PDGFRA,', 'PIK3CA'], ['Genes', 'Assayed', 'for', 'the', 'Detection', 'of', 'Copy', 'Number', 'Variations'], ['\\xa0'], ['\\xa0'], ['ALK,', 'RET,', 'ROS1,', 'NTRK1,', 'NTRK2,', 'NTRK3,', 'FGFR1,', 'FGFR2,', 'FGFR3,', 'MET,', 'BRAF,', 'RAF1,', 'ERG,', 'ETV1,', 'ETV4,', 'ETV5,', 'ABL1,', 'AKT3,', 'AXL,', 'EGFR,'], ['ERBB2,', 'PDGFRA,', 'PPARG'], ['Genes', 'Assayed', 'for', 'the', 'Detection', 'of', 'Fusions'], ['\\xa0'], ['Genes', 'analizados'], ['\\xa0'], ['El', 'software', 'Ion', 'Torrent', 'Oncomine', 'Reporter', 'de', 'Thermo', 'Fisher', 'Scientific', 'se', 'utilizó', 'en', 'la', 'generación', 'de', 'este', 'informe.', 'El', 'software', 'fue'], ['desarrollado', 'y', 'diseñado', 'internamente', 'por', 'Thermo', 'Fisher', 'Scientific.', 'El', 'análisis', 'se', 'basó', 'en', 'Oncomine', 'Reporter', '(5.6.0', 'versión', 'de', 'datos'], ['2023.02(005)).', 'Los', 'datos', 'aquí', 'presentados', 'proceden', 'de', 'una', 'base', 'de', 'conocimientos', 'seleccionada', 'con', 'información', 'de', 'acceso', 'público,'], ['pero', 'puede', 'que', 'no', 'sean', 'exhaustivos.', 'La', 'información', 'de', 'FDA', 'se', 'obtuvo', 'en', 'www.fda.gov', 'con', 'fecha', 'de', '2023-01-18.', 'La', 'información'], ['de', 'NCCN', 'se', 'obtuvo', 'en', 'www.nccn.org', 'con', 'fecha', 'de', '2023-01-03.', 'La', 'información', 'de', 'EMA', 'se', 'obtuvo', 'en', 'www.ema.europa.eu/ema'], ['con', 'fecha', 'de', '2023-01-18.', 'La', 'información', 'de', 'ESMO', 'se', 'obtuvo', 'en', 'www.esmo.org', 'con', 'fecha', 'de', '2023-01-03.', 'La', 'información', 'de', 'los'], ['ensayos', 'clínicos', 'tiene', 'fecha', 'de', '2023-01-03.', 'Para', 'obtener', 'información', 'más', 'actualizada', 'sobre', 'un', 'ensayo', 'específico,', 'busque', 'en'], ['www.clinicaltrials.gov', 'por', 'ID', 'NCT', 'o', 'busque', 'en', 'el', 'sitio', 'web', 'de', 'referencia', 'de', 'ensayos', 'clínicos', 'segun', 'identificador', 'local', 'en', '\"Otros'], ['identificadores\".', 'Las', 'variantes', 'se', 'indican', 'de', 'acuerdo', 'con', 'la', 'nomenclatura', 'HGVS', 'y', 'se', 'clasifican', 'según', 'las', 'directrices', 'AMP/ASCO/CA'], ['(Li', 'et', 'al.', '2017).', 'Basándose', 'en', 'las', 'fuentes', 'de', 'datos', 'seleccionadas,', 'las', 'variantes,', 'las', 'terapias', 'y', 'los', 'ensayos', 'que', 'se', 'mencionan', 'en', 'este'], ['informe', 'se', 'enumeran', 'en', 'orden', 'de', 'posible', 'relevancia', 'clínica', 'pero', 'no', 'en', 'orden', 'de', 'eficacia', 'prevista', 'de', 'las', 'terapias.'], ['\\xa0'], ['Fdo.', 'Dra.', 'Smith', 'Peterson,', 'Palm', '(Bióloga', 'Molecular)', '/'], ['Dr.', 'García', 'García,', 'Juan', '(Jefe', 'de', 'Servicio)'], ['Declaración:', 'Los', 'datos', 'aquí', 'presentados', 'proceden', 'de', 'una', 'base', 'de', 'conocimientos', 'seleccionada', 'con', 'información', 'de', 'acceso', 'público,', 'pero', 'puede', 'que', 'no', 'sean', 'exhaustivos.', 'La'], ['versión', 'de', 'datos', 'es', '2023.02(005).'], ['']]\n",
      "[['Servicios', 'Biología', 'Sanitaria'], ['Laboratorio', 'de', 'Biología', 'Aplicada'], ['Tel.', '947', '256', '5334', 'ext.', '032023'], ['Datos', 'paciente:', 'NHC:', '00025'], ['Nº', 'biopsia:', '23C00025-A1'], ['Fecha:', '24-mar-2023'], ['1', 'de', '3'], ['Tipo', 'de', 'cáncer', 'de', 'la', 'muestra:', 'Carcinoma', 'pulmonar', 'no', 'microcítico'], ['Resultados', 'del', 'informe'], ['1', 'Biomarcadores', 'relevantes'], ['3', 'Tratamientos', 'disponibles'], ['3', 'Ensayos', 'clínicos'], ['Biomarcadores', 'relevantes'], ['\\xa0'], ['Nivel'], ['Alteración', 'genómica'], ['Tratamientos', 'relevantes'], ['(En', 'este', 'tipo', 'de', 'cáncer)'], ['Tratamientos', 'relevantes'], ['(En', 'otro', 'tipo', 'de', 'cáncer)'], ['Ensayos'], ['clínicos'], ['\\xa0'], ['IA'], ['MET', 'amplification'], ['MET', 'proto-oncogene,', 'receptor', 'tyrosine', 'kinase'], ['capmatinib'], ['crizotinib'], ['tepotinib'], ['Ninguno'], ['3'], ['\\xa0'], ['Fuentes', 'de', 'datos', 'públicos', 'incluidas', 'en', 'tratamientos', 'pertinentes:\\xa0FDA1,', 'NCCN,', 'EMA2,', 'ESMO'], ['Biomarcadores', 'de', 'cáncer', 'prevalente', 'sin', 'evidencia', 'relevante', 'basados', 'en', 'fuentes', 'de', 'datos', 'incluidas'], ['CDK6', 'amplification'], ['\\xa0'], ['Gen'], ['Cambio', 'de'], ['aminoácidos'], ['Codificación'], ['Exón'], ['Frecuencia'], ['de', 'alelo'], ['Locus'], ['Transcripto'], ['ID', 'de', 'la', 'variante'], ['Efecto', 'de', 'la'], ['variante'], ['ClinVar1'], ['ALK'], ['p.(D1529E)'], ['c.4587C>G'], ['29'], ['100.00%'], ['chr2:29416366'], ['NM_004304.4'], ['.'], ['missense'], ['Benign'], ['ALK'], ['p.(I1461V)'], ['c.4381A>G'], ['29'], ['99.95%'], ['chr2:29416572'], ['NM_004304.4'], ['.'], ['missense'], ['Benign'], ['KIT'], ['p.(M541L)'], ['c.1621A>C'], ['10'], ['81.00%'], ['chr4:55593464'], ['NM_000222.2'], ['.'], ['missense'], ['Benign/Li'], ['benign'], ['FGFR4'], ['p.(P136L)'], ['c.407C>T'], ['4'], ['14.98%'], ['chr5:176517797'], ['NM_213647.2'], ['.'], ['missense'], ['Variantes', 'de', 'secuencia', 'de', 'ADN'], ['1', 'Basado', 'en', 'la', 'versión', 'ClinVar', '20180225'], ['\\xa0'], ['\\xa0'], ['Gen'], ['Locus'], ['Número', 'de', 'copia'], ['ClinVar1'], ['CDK6'], ['chr7:92245595'], ['5.56'], ['MET'], ['chr7:116313480'], ['21.75'], ['Variaciones', 'del', 'número', 'de', 'copias'], ['1', 'Basado', 'en', 'la', 'versión', 'ClinVar', '20180225'], ['\\xa0'], ['Detalles', 'de', 'la', 'variante'], ['\\xa0'], ['Fdo.', 'Dra.', 'Smith', 'Peterson,', 'Palm', '(Bióloga', 'Molecular)', '/'], ['Dr.', 'García', 'García,', 'Juan', '(Jefe', 'de', 'Servicio)'], ['Declaración:', 'Los', 'datos', 'aquí', 'presentados', 'proceden', 'de', 'una', 'base', 'de', 'conocimientos', 'seleccionada', 'con', 'información', 'de', 'acceso', 'público,', 'pero', 'puede', 'que', 'no', 'sean', 'exhaustivos.', 'La'], ['versión', 'de', 'datos', 'es', '2023.02(005).El', 'contenido', 'de', 'este', 'informe', 'no', 'ha', 'sido', 'evaluado', 'ni', 'aprobado', 'por', 'la', 'FDA', 'ni', 'por', 'otras', 'autoridades', 'de', 'registro', 'sanitario.'], ['Servicios', 'Biología', 'Sanitaria'], ['Laboratorio', 'de', 'Biología', 'Aplicada'], ['Tel.', '947', '256', '5334', 'ext.', '032023'], ['Datos', 'paciente:', 'NHC:', '00025'], ['Nº', 'biopsia:', '23C00025-A1'], ['Fecha:', '24-mar-2023'], ['2', 'de', '3'], ['\\xa0'], ['\\uf111', 'En', 'este', 'tipo', 'de', 'cáncer'], ['\\uf10c', 'En', 'otro', 'tipo', 'de', 'cáncer'], ['\\uf042', 'En', 'este', 'tipo', 'de', 'cáncer', 'y', 'en', 'otros', 'tipos', 'de', 'cáncer', '\\uf00d', 'Sin', 'pruebas', '(sin', 'indicios)'], ['\\xa0'], ['Tratamiento', 'correspondiente'], ['FDA'], ['NCCN'], ['EMA'], ['ESMO'], ['Ensayos'], ['clínicos*'], ['crizotinib'], ['\\uf00d'], ['\\uf111'], ['\\uf00d'], ['\\uf00d'], ['\\uf111', '(I)'], ['capmatinib'], ['\\uf00d'], ['\\uf111'], ['\\uf00d'], ['\\uf00d'], ['\\uf00d'], ['tepotinib'], ['\\uf00d'], ['\\uf111'], ['\\uf00d'], ['\\uf00d'], ['\\uf00d'], ['bozitinib'], ['\\uf00d'], ['\\uf00d'], ['\\uf00d'], ['\\uf00d'], ['\\uf111', '(I/II)'], ['elzovantinib'], ['\\uf00d'], ['\\uf00d'], ['\\uf00d'], ['\\uf00d'], ['\\uf111', '(I/II)'], ['MET', 'amplification'], ['\\xa0'], ['Resumen', 'del', 'tratamiento', 'correspondiente'], ['*', 'Se', 'muestra', 'la', 'fase', 'más', 'avanzada', '(IV,', 'III,', 'II/III,', 'II,', 'I/II,', 'I)', 'y', 'puede', 'haber', 'varios', 'ensayos', 'clínicos', 'disponibles.'], ['\\xa0'], ['ID', 'NCT'], ['Título'], ['Fase'], ['NCT03175224'], ['Phase', 'I/II', 'Multicenter', 'Study', 'of', 'the', 'Safety,', 'Pharmacokinetics,', 'and', 'Preliminary', 'Efficacy', 'of', 'APL-101'], ['in', 'Subjects', 'With', 'Non-Small', 'Cell', 'Lung', 'Cancer', 'With', 'c-Met', 'EXON', '14', 'Skip', 'Mutations', 'and', 'c-Met'], ['Dysregulation', 'Advanced', 'Solid', 'Tumors.'], ['I/II'], ['NCT03993873'], ['Study', 'of', 'the', 'Safety,', 'Tolerability,', 'Pharmacokinetics,', 'and', 'Efficacy', 'of', 'TPX-0022', 'in', 'Adult', 'Subjects', 'With'], ['Locally', 'Advanced', 'or', 'Metastatic', 'NSCLC,', 'Gastric', 'Cancer,', 'or', 'Solid', 'Tumors', 'Harboring', 'Genetic', 'Alterations'], ['in', 'MET'], ['I/II'], ['Sin', 'ID', 'NCT'], ['A', 'Phase', 'IB', 'study', 'of', 'Crizotinib', 'Either', 'in', 'Combination', 'or', 'as', 'Single', 'Agent', 'in', 'Pediatric', 'Patients', 'with', 'ALK,'], ['ROS1', 'or', 'MET', 'Positive', 'Malignancies'], ['I'], ['MET', 'amplification'], ['\\xa0'], ['Resumen', 'de', 'los', 'ensayos', 'clínicos'], ['\\xa0'], ['\\xa0'], ['AKT1,', 'ALK,', 'AR,', 'BRAF,', 'CDK4,', 'CTNNB1,', 'DDR2,', 'EGFR,', 'ERBB2,', 'ERBB3,', 'ERBB4,', 'ESR1,', 'FGFR2,', 'FGFR3,', 'GNA11,', 'GNAQ,', 'HRAS,', 'IDH1,', 'IDH2,'], ['JAK1,', 'JAK2,', 'JAK3,', 'KIT,', 'KRAS,', 'MAP2K1,', 'MAP2K2,', 'MET,', 'MTOR,', 'NRAS,', 'PDGFRA,', 'PIK3CA,', 'RAF1,', 'RET,', 'ROS1,', 'SMO'], ['Genes', 'Assayed', 'for', 'the', 'Detection', 'of', 'DNA', 'Sequence', 'Variants'], ['\\xa0'], ['\\xa0'], ['ALK,', 'AR,', 'BRAF,', 'CCND1,', 'CDK4,', 'CDK6,', 'EGFR,', 'ERBB2,', 'FGFR1,', 'FGFR2,', 'FGFR3,', 'FGFR4,', 'KIT,', 'KRAS,', 'MET,', 'MYC,', 'MYCN,', 'PDGFRA,', 'PIK3CA'], ['Genes', 'Assayed', 'for', 'the', 'Detection', 'of', 'Copy', 'Number', 'Variations'], ['\\xa0'], ['Genes', 'analizados'], ['\\xa0'], ['\\xa0'], ['Fdo.', 'Dra.', 'Smith', 'Peterson,', 'Palm', '(Bióloga', 'Molecular)', '/'], ['Dr.', 'García', 'García,', 'Juan', '(Jefe', 'de', 'Servicio)'], ['Declaración:', 'Los', 'datos', 'aquí', 'presentados', 'proceden', 'de', 'una', 'base', 'de', 'conocimientos', 'seleccionada', 'con', 'información', 'de', 'acceso', 'público,', 'pero', 'puede', 'que', 'no', 'sean', 'exhaustivos.', 'La'], ['versión', 'de', 'datos', 'es', '2023.02(005).'], ['Servicios', 'Biología', 'Sanitaria'], ['Laboratorio', 'de', 'Biología', 'Aplicada'], ['Tel.', '947', '256', '5334', 'ext.', '032023'], ['Datos', 'paciente:', 'NHC:', '00025'], ['Nº', 'biopsia:', '23C00025-A1'], ['Fecha:', '24-mar-2023'], ['3', 'de', '3'], ['\\xa0'], ['\\xa0'], ['ALK,', 'RET,', 'ROS1,', 'NTRK1,', 'NTRK2,', 'NTRK3,', 'FGFR1,', 'FGFR2,', 'FGFR3,', 'MET,', 'BRAF,', 'RAF1,', 'ERG,', 'ETV1,', 'ETV4,', 'ETV5,', 'ABL1,', 'AKT3,', 'AXL,', 'EGFR,'], ['ERBB2,', 'PDGFRA,', 'PPARG'], ['Genes', 'Assayed', 'for', 'the', 'Detection', 'of', 'Fusions'], ['\\xa0'], ['Genes', 'analizados', '(continuación)'], ['\\xa0'], ['El', 'software', 'Ion', 'Torrent', 'Oncomine', 'Reporter', 'de', 'Thermo', 'Fisher', 'Scientific', 'se', 'utilizó', 'en', 'la', 'generación', 'de', 'este', 'informe.', 'El', 'software', 'fue'], ['desarrollado', 'y', 'diseñado', 'internamente', 'por', 'Thermo', 'Fisher', 'Scientific.', 'El', 'análisis', 'se', 'basó', 'en', 'Oncomine', 'Reporter', '(5.6.0', 'versión', 'de', 'datos'], ['2023.02(005)).', 'Los', 'datos', 'aquí', 'presentados', 'proceden', 'de', 'una', 'base', 'de', 'conocimientos', 'seleccionada', 'con', 'información', 'de', 'acceso', 'público,'], ['pero', 'puede', 'que', 'no', 'sean', 'exhaustivos.', 'La', 'información', 'de', 'FDA', 'se', 'obtuvo', 'en', 'www.fda.gov', 'con', 'fecha', 'de', '2023-01-18.', 'La', 'información'], ['de', 'NCCN', 'se', 'obtuvo', 'en', 'www.nccn.org', 'con', 'fecha', 'de', '2023-01-03.', 'La', 'información', 'de', 'EMA', 'se', 'obtuvo', 'en', 'www.ema.europa.eu/ema'], ['con', 'fecha', 'de', '2023-01-18.', 'La', 'información', 'de', 'ESMO', 'se', 'obtuvo', 'en', 'www.esmo.org', 'con', 'fecha', 'de', '2023-01-03.', 'La', 'información', 'de', 'los'], ['ensayos', 'clínicos', 'tiene', 'fecha', 'de', '2023-01-03.', 'Para', 'obtener', 'información', 'más', 'actualizada', 'sobre', 'un', 'ensayo', 'específico,', 'busque', 'en'], ['www.clinicaltrials.gov', 'por', 'ID', 'NCT', 'o', 'busque', 'en', 'el', 'sitio', 'web', 'de', 'referencia', 'de', 'ensayos', 'clínicos', 'segun', 'identificador', 'local', 'en', '\"Otros'], ['identificadores\".', 'Las', 'variantes', 'se', 'indican', 'de', 'acuerdo', 'con', 'la', 'nomenclatura', 'HGVS', 'y', 'se', 'clasifican', 'según', 'las', 'directrices', 'AMP/ASCO/CA'], ['(Li', 'et', 'al.', '2017).', 'Basándose', 'en', 'las', 'fuentes', 'de', 'datos', 'seleccionadas,', 'las', 'variantes,', 'las', 'terapias', 'y', 'los', 'ensayos', 'que', 'se', 'mencionan', 'en', 'este'], ['informe', 'se', 'enumeran', 'en', 'orden', 'de', 'posible', 'relevancia', 'clínica', 'pero', 'no', 'en', 'orden', 'de', 'eficacia', 'prevista', 'de', 'las', 'terapias.'], ['\\xa0'], ['Fdo.', 'Dra.', 'Smith', 'Peterson,', 'Palm', '(Bióloga', 'Molecular)', '/'], ['Dr.', 'García', 'García,', 'Juan', '(Jefe', 'de', 'Servicio)'], ['Declaración:', 'Los', 'datos', 'aquí', 'presentados', 'proceden', 'de', 'una', 'base', 'de', 'conocimientos', 'seleccionada', 'con', 'información', 'de', 'acceso', 'público,', 'pero', 'puede', 'que', 'no', 'sean', 'exhaustivos.', 'La'], ['versión', 'de', 'datos', 'es', '2023.02(005).'], ['']]\n",
      "[['Servicios', 'Biología', 'Sanitaria'], ['Laboratorio', 'de', 'Biología', 'Aplicada'], ['Tel.', '947', '256', '5334', 'ext.', '032023'], ['Datos', 'paciente:', 'NHC:', '00026'], ['Nº', 'biopsia:', '23P00026'], ['Fecha:', '24-mar-2023'], ['1', 'de', '3'], ['Tipo', 'de', 'cáncer', 'de', 'la', 'muestra:', 'Carcinoma', 'pulmonar', 'no', 'microcítico'], ['Resultados', 'del', 'informe'], ['1', 'Biomarcadores', 'relevantes'], ['0', 'Tratamientos', 'disponibles'], ['5', 'Ensayos', 'clínicos'], ['Biomarcadores', 'relevantes'], ['\\xa0'], ['Nivel'], ['Alteración', 'genómica'], ['Tratamientos', 'relevantes'], ['(En', 'este', 'tipo', 'de', 'cáncer)'], ['Tratamientos', 'relevantes'], ['(En', 'otro', 'tipo', 'de', 'cáncer)'], ['Ensayos'], ['clínicos'], ['\\xa0'], ['IA'], ['EGFR', 'p.(G779F)'], ['c.2335_2336delGGinsTT'], ['epidermal', 'growth', 'factor', 'receptor'], ['Frecuencia', 'de', 'alelo:', '35.40%'], ['Ninguno'], ['Ninguno'], ['5'], ['\\xa0'], ['Fuentes', 'de', 'datos', 'públicos', 'incluidas', 'en', 'tratamientos', 'pertinentes:\\xa0FDA1,', 'NCCN,', 'EMA2,', 'ESMO'], ['Biomarcadores', 'de', 'cáncer', 'prevalente', 'sin', 'evidencia', 'relevante', 'basados', 'en', 'fuentes', 'de', 'datos', 'incluidas'], ['CTNNB1', 'p.(S37C)', 'c.110C>G'], ['\\xa0'], ['Gen'], ['Cambio', 'de'], ['aminoácidos'], ['Codificación'], ['Exón'], ['Frecuencia'], ['de', 'alelo'], ['Locus'], ['Transcripto'], ['ID', 'de', 'la', 'variante'], ['Efecto', 'de', 'la'], ['variante'], ['ClinVar1'], ['CTNNB1'], ['p.(S37C)'], ['c.110C>G'], ['3'], ['27.51%'], ['chr3:41266113'], ['NM_001904.3'], ['COSM5679'], ['missense'], ['Pathogeni'], ['Like', 'ly'], ['pathogeni'], ['EGFR'], ['p.(G779F)'], ['c.2335_2336delGGin'], ['sTT'], ['20'], ['35.40%'], ['chr7:55249037'], ['NM_005228.4'], ['.'], ['missense'], ['ALK'], ['p.(D1529E)'], ['c.4587C>G'], ['29'], ['100.00%'], ['chr2:29416366'], ['NM_004304.4'], ['.'], ['missense'], ['Benign'], ['ALK'], ['p.(I1461V)'], ['c.4381A>G'], ['29'], ['99.90%'], ['chr2:29416572'], ['NM_004304.4'], ['.'], ['missense'], ['Benign'], ['FGFR4'], ['p.(P136L)'], ['c.407C>T'], ['4'], ['28.82%'], ['chr5:176517797'], ['NM_213647.2'], ['.'], ['missense'], ['Variantes', 'de', 'secuencia', 'de', 'ADN'], ['1', 'Basado', 'en', 'la', 'versión', 'ClinVar', '20180225'], ['\\xa0'], ['Detalles', 'de', 'la', 'variante'], ['\\xa0'], ['Fdo.', 'Dra.', 'Smith', 'Peterson,', 'Palm', '(Bióloga', 'Molecular)', '/'], ['Dr.', 'García', 'García,', 'Juan', '(Jefe', 'de', 'Servicio)'], ['Declaración:', 'Los', 'datos', 'aquí', 'presentados', 'proceden', 'de', 'una', 'base', 'de', 'conocimientos', 'seleccionada', 'con', 'información', 'de', 'acceso', 'público,', 'pero', 'puede', 'que', 'no', 'sean', 'exhaustivos.', 'La'], ['versión', 'de', 'datos', 'es', '2023.02(005).El', 'contenido', 'de', 'este', 'informe', 'no', 'ha', 'sido', 'evaluado', 'ni', 'aprobado', 'por', 'la', 'FDA', 'ni', 'por', 'otras', 'autoridades', 'de', 'registro', 'sanitario.'], ['Servicios', 'Biología', 'Sanitaria'], ['Laboratorio', 'de', 'Biología', 'Aplicada'], ['Tel.', '947', '256', '5334', 'ext.', '032023'], ['Datos', 'paciente:', 'NHC:', '00026'], ['Nº', 'biopsia:', '23P00026'], ['Fecha:', '24-mar-2023'], ['2', 'de', '3'], ['\\xa0'], ['\\uf111', 'En', 'este', 'tipo', 'de', 'cáncer'], ['\\uf10c', 'En', 'otro', 'tipo', 'de', 'cáncer'], ['\\uf042', 'En', 'este', 'tipo', 'de', 'cáncer', 'y', 'en', 'otros', 'tipos', 'de', 'cáncer', '\\uf00d', 'Sin', 'pruebas', '(sin', 'indicios)'], ['\\xa0'], ['Tratamiento', 'correspondiente'], ['FDA'], ['NCCN'], ['EMA'], ['ESMO'], ['Ensayos'], ['clínicos*'], ['atezolizumab,', 'bevacizumab,', 'chemotherapy'], ['\\uf00d'], ['\\uf00d'], ['\\uf00d'], ['\\uf00d'], ['\\uf111', '(II/III)'], ['sunvozertinib'], ['\\uf00d'], ['\\uf00d'], ['\\uf00d'], ['\\uf00d'], ['\\uf111', '(I/II)'], ['ABBV', '400'], ['\\uf00d'], ['\\uf00d'], ['\\uf00d'], ['\\uf00d'], ['\\uf111', '(I)'], ['furmonertinib'], ['\\uf00d'], ['\\uf00d'], ['\\uf00d'], ['\\uf00d'], ['\\uf111', '(I)'], ['lazertinib,', 'amivantamab,', 'chemotherapy'], ['\\uf00d'], ['\\uf00d'], ['\\uf00d'], ['\\uf00d'], ['\\uf111', '(I)'], ['EGFR', 'p.(G779F)', 'c.2335_2336delGGinsTT'], ['\\xa0'], ['Resumen', 'del', 'tratamiento', 'correspondiente'], ['*', 'Se', 'muestra', 'la', 'fase', 'más', 'avanzada', '(IV,', 'III,', 'II/III,', 'II,', 'I/II,', 'I)', 'y', 'puede', 'haber', 'varios', 'ensayos', 'clínicos', 'disponibles.'], ['\\xa0'], ['ID', 'NCT'], ['Título'], ['Fase'], ['NCT05364073'], ['A', 'Phase', 'Ib', 'Dose', 'Escalation', 'and', 'Dose', 'Expansion', 'Study', 'Evaluating', 'the', 'Safety,', 'Pharmacokinetics,', 'and'], ['Antitumor', 'Activity', 'of', 'Furmonertinib', 'in', 'Patients', 'With', 'Advanced', 'or', 'Metastatic', 'Non-Small', 'Cell', 'Lung'], ['Cancer', 'With', 'Activating', 'EGFR', 'or', 'HER2', 'Mutations'], ['I'], ['NCT03178552'], ['A', 'Phase', 'II/III', 'Multicenter', 'Study', 'Evaluating', 'the', 'Efficacy', 'and', 'Safety', 'of', 'Multiple', 'Targeted', 'Therapies', 'as'], ['Treatments', 'for', 'Patients', 'With', 'Advanced', 'or', 'Metastatic', 'Non-Small', 'Cell', 'Lung', 'Cancer', '(NSCLC)', 'Harboring'], ['Actionable', 'Somatic', 'Mutations', 'Detected', 'in', 'Blood', '(B-FAST:', 'Blood-First', 'Assay', 'Screening', 'Trial)'], ['II/III'], ['NCT03974022'], ['A', 'Phase', 'I/II,', 'Open-Label,', 'Multicenter', 'Study', 'to', 'Assess', 'the', 'Safety,', 'Tolerability,', 'Pharmacokinetics', 'and'], ['Anti-tumor', 'Efficacy', 'of', 'DZD9008', 'in', 'Patients', 'With', 'Advanced', 'Non-Small', 'Cell', 'Lung', 'Cancer', '(NSCLC)', 'with'], ['EGFR', 'or', 'HER2', 'Mutation'], ['I/II'], ['NCT05029882'], ['A', 'Phase', 'I', 'First', 'in', 'Human', 'Study', 'Evaluating', 'Safety,', 'Pharmacokinetics', 'and', 'Efficacy', 'of', 'ABBV-400', 'in', 'Adult'], ['Subjects', 'With', 'Advanced', 'Solid', 'Tumors'], ['I'], ['NCT04077463'], ['An', 'Open-label', 'Phase', 'I/Ib', 'Study', 'to', 'Evaluate', 'the', 'Safety', 'and', 'Pharmacokinetics', 'of', 'JNJ-73841937'], ['(Lazertinib),', 'a', 'Third', 'Generation', 'EGFR-TKI,', 'as', 'Monotherapy', 'or', 'in', 'Combinations', 'With', 'JNJ-61186372,', 'a'], ['Human', 'Bispecific', 'EGFR', 'and', 'cMet', 'Antibody', 'in', 'Participants', 'With', 'Advanced', 'Non-Small', 'Cell', 'Lung', 'Cancer'], ['I'], ['EGFR', 'p.(G779F)', 'c.2335_2336delGGinsTT'], ['\\xa0'], ['Resumen', 'de', 'los', 'ensayos', 'clínicos'], ['\\xa0'], ['Fdo.', 'Dra.', 'Smith', 'Peterson,', 'Palm', '(Bióloga', 'Molecular)', '/'], ['Dr.', 'García', 'García,', 'Juan', '(Jefe', 'de', 'Servicio)'], ['Declaración:', 'Los', 'datos', 'aquí', 'presentados', 'proceden', 'de', 'una', 'base', 'de', 'conocimientos', 'seleccionada', 'con', 'información', 'de', 'acceso', 'público,', 'pero', 'puede', 'que', 'no', 'sean', 'exhaustivos.', 'La'], ['versión', 'de', 'datos', 'es', '2023.02(005).'], ['Servicios', 'Biología', 'Sanitaria'], ['Laboratorio', 'de', 'Biología', 'Aplicada'], ['Tel.', '947', '256', '5334', 'ext.', '032023'], ['Datos', 'paciente:', 'NHC:', '00026'], ['Nº', 'biopsia:', '23P00026'], ['Fecha:', '24-mar-2023'], ['3', 'de', '3'], ['\\xa0'], ['\\xa0'], ['AKT1,', 'ALK,', 'AR,', 'BRAF,', 'CDK4,', 'CTNNB1,', 'DDR2,', 'EGFR,', 'ERBB2,', 'ERBB3,', 'ERBB4,', 'ESR1,', 'FGFR2,', 'FGFR3,', 'GNA11,', 'GNAQ,', 'HRAS,', 'IDH1,', 'IDH2,'], ['JAK1,', 'JAK2,', 'JAK3,', 'KIT,', 'KRAS,', 'MAP2K1,', 'MAP2K2,', 'MET,', 'MTOR,', 'NRAS,', 'PDGFRA,', 'PIK3CA,', 'RAF1,', 'RET,', 'ROS1,', 'SMO'], ['Genes', 'Assayed', 'for', 'the', 'Detection', 'of', 'DNA', 'Sequence', 'Variants'], ['\\xa0'], ['\\xa0'], ['ALK,', 'AR,', 'BRAF,', 'CCND1,', 'CDK4,', 'CDK6,', 'EGFR,', 'ERBB2,', 'FGFR1,', 'FGFR2,', 'FGFR3,', 'FGFR4,', 'KIT,', 'KRAS,', 'MET,', 'MYC,', 'MYCN,', 'PDGFRA,', 'PIK3CA'], ['Genes', 'Assayed', 'for', 'the', 'Detection', 'of', 'Copy', 'Number', 'Variations'], ['\\xa0'], ['\\xa0'], ['ALK,', 'RET,', 'ROS1,', 'NTRK1,', 'NTRK2,', 'NTRK3,', 'FGFR1,', 'FGFR2,', 'FGFR3,', 'MET,', 'BRAF,', 'RAF1,', 'ERG,', 'ETV1,', 'ETV4,', 'ETV5,', 'ABL1,', 'AKT3,', 'AXL,', 'EGFR,'], ['ERBB2,', 'PDGFRA,', 'PPARG'], ['Genes', 'Assayed', 'for', 'the', 'Detection', 'of', 'Fusions'], ['\\xa0'], ['Genes', 'analizados'], ['\\xa0'], ['El', 'software', 'Ion', 'Torrent', 'Oncomine', 'Reporter', 'de', 'Thermo', 'Fisher', 'Scientific', 'se', 'utilizó', 'en', 'la', 'generación', 'de', 'este', 'informe.', 'El', 'software', 'fue'], ['desarrollado', 'y', 'diseñado', 'internamente', 'por', 'Thermo', 'Fisher', 'Scientific.', 'El', 'análisis', 'se', 'basó', 'en', 'Oncomine', 'Reporter', '(5.6.0', 'versión', 'de', 'datos'], ['2023.02(005)).', 'Los', 'datos', 'aquí', 'presentados', 'proceden', 'de', 'una', 'base', 'de', 'conocimientos', 'seleccionada', 'con', 'información', 'de', 'acceso', 'público,'], ['pero', 'puede', 'que', 'no', 'sean', 'exhaustivos.', 'La', 'información', 'de', 'FDA', 'se', 'obtuvo', 'en', 'www.fda.gov', 'con', 'fecha', 'de', '2023-01-18.', 'La', 'información'], ['de', 'NCCN', 'se', 'obtuvo', 'en', 'www.nccn.org', 'con', 'fecha', 'de', '2023-01-03.', 'La', 'información', 'de', 'EMA', 'se', 'obtuvo', 'en', 'www.ema.europa.eu/ema'], ['con', 'fecha', 'de', '2023-01-18.', 'La', 'información', 'de', 'ESMO', 'se', 'obtuvo', 'en', 'www.esmo.org', 'con', 'fecha', 'de', '2023-01-03.', 'La', 'información', 'de', 'los'], ['ensayos', 'clínicos', 'tiene', 'fecha', 'de', '2023-01-03.', 'Para', 'obtener', 'información', 'más', 'actualizada', 'sobre', 'un', 'ensayo', 'específico,', 'busque', 'en'], ['www.clinicaltrials.gov', 'por', 'ID', 'NCT', 'o', 'busque', 'en', 'el', 'sitio', 'web', 'de', 'referencia', 'de', 'ensayos', 'clínicos', 'segun', 'identificador', 'local', 'en', '\"Otros'], ['identificadores\".', 'Las', 'variantes', 'se', 'indican', 'de', 'acuerdo', 'con', 'la', 'nomenclatura', 'HGVS', 'y', 'se', 'clasifican', 'según', 'las', 'directrices', 'AMP/ASCO/CA'], ['(Li', 'et', 'al.', '2017).', 'Basándose', 'en', 'las', 'fuentes', 'de', 'datos', 'seleccionadas,', 'las', 'variantes,', 'las', 'terapias', 'y', 'los', 'ensayos', 'que', 'se', 'mencionan', 'en', 'este'], ['informe', 'se', 'enumeran', 'en', 'orden', 'de', 'posible', 'relevancia', 'clínica', 'pero', 'no', 'en', 'orden', 'de', 'eficacia', 'prevista', 'de', 'las', 'terapias.'], ['\\xa0'], ['Fdo.', 'Dra.', 'Smith', 'Peterson,', 'Palm', '(Bióloga', 'Molecular)', '/'], ['Dr.', 'García', 'García,', 'Juan', '(Jefe', 'de', 'Servicio)'], ['Declaración:', 'Los', 'datos', 'aquí', 'presentados', 'proceden', 'de', 'una', 'base', 'de', 'conocimientos', 'seleccionada', 'con', 'información', 'de', 'acceso', 'público,', 'pero', 'puede', 'que', 'no', 'sean', 'exhaustivos.', 'La'], ['versión', 'de', 'datos', 'es', '2023.02(005).'], ['']]\n",
      "[['Servicios', 'Biología', 'Sanitaria'], ['Laboratorio', 'de', 'Biología', 'Aplicada'], ['Tel.', '947', '256', '5334', 'ext.', '032023'], ['Datos', 'paciente:', 'NHC:', '00027'], ['Nº', 'biopsia:', '22B00027-C4'], ['Fecha:', '24-mar-2023'], ['1', 'de', '2'], ['Tipo', 'de', 'cáncer', 'de', 'la', 'muestra:', 'Cáncer', 'tiroideo'], ['Resultados', 'del', 'informe'], ['1', 'Biomarcadores', 'relevantes'], ['0', 'Tratamientos', 'disponibles'], ['1', 'Ensayos', 'clínicos'], ['Biomarcadores', 'relevantes'], ['\\xa0'], ['Nivel'], ['Alteración', 'genómica'], ['Tratamientos', 'relevantes'], ['(En', 'este', 'tipo', 'de', 'cáncer)'], ['Tratamientos', 'relevantes'], ['(En', 'otro', 'tipo', 'de', 'cáncer)'], ['Ensayos'], ['clínicos'], ['\\xa0'], ['IIC'], ['HRAS', 'p.(Q61R)', 'c.182A>G'], ['HRas', 'proto-oncogene,', 'GTPase'], ['Frecuencia', 'de', 'alelo:', '46.17%'], ['Ninguno'], ['Ninguno'], ['1'], ['\\xa0'], ['Fuentes', 'de', 'datos', 'públicos', 'incluidas', 'en', 'tratamientos', 'pertinentes:\\xa0FDA1,', 'NCCN,', 'EMA2,', 'ESMO'], ['\\xa0'], ['Gen'], ['Cambio', 'de'], ['aminoácidos'], ['Codificación'], ['Exón'], ['Frecuencia'], ['de', 'alelo'], ['Locus'], ['Transcripto'], ['ID', 'de', 'la', 'variante'], ['Efecto', 'de', 'la'], ['variante'], ['ClinVar1'], ['HRAS'], ['p.(Q61R)'], ['c.182A>G'], ['3'], ['46.17%'], ['chr11:533874'], ['NM_001130442.2', 'COSM499'], ['missense'], ['ALK'], ['p.(D1529E)'], ['c.4587C>G'], ['29'], ['50.58%'], ['chr2:29416366'], ['NM_004304.4'], ['.'], ['missense'], ['Benign'], ['ALK'], ['p.(I1461V)'], ['c.4381A>G'], ['29'], ['99.75%'], ['chr2:29416572'], ['NM_004304.4'], ['.'], ['missense'], ['Benign'], ['FGFR4'], ['p.(P136L)'], ['c.407C>T'], ['4'], ['49.90%'], ['chr5:176517797'], ['NM_213647.2'], ['.'], ['missense'], ['Variantes', 'de', 'secuencia', 'de', 'ADN'], ['1', 'Basado', 'en', 'la', 'versión', 'ClinVar', '20180225'], ['\\xa0'], ['Detalles', 'de', 'la', 'variante'], ['\\xa0'], ['\\uf111', 'En', 'este', 'tipo', 'de', 'cáncer'], ['\\uf10c', 'En', 'otro', 'tipo', 'de', 'cáncer'], ['\\uf042', 'En', 'este', 'tipo', 'de', 'cáncer', 'y', 'en', 'otros', 'tipos', 'de', 'cáncer', '\\uf00d', 'Sin', 'pruebas', '(sin', 'indicios)'], ['\\xa0'], ['Tratamiento', 'correspondiente'], ['FDA'], ['NCCN'], ['EMA'], ['ESMO'], ['Ensayos'], ['clínicos*'], ['ASTX029'], ['\\uf00d'], ['\\uf00d'], ['\\uf00d'], ['\\uf00d'], ['\\uf111', '(I/II)'], ['HRAS', 'p.(Q61R)', 'c.182A>G'], ['\\xa0'], ['Resumen', 'del', 'tratamiento', 'correspondiente'], ['*', 'Se', 'muestra', 'la', 'fase', 'más', 'avanzada', '(IV,', 'III,', 'II/III,', 'II,', 'I/II,', 'I)', 'y', 'puede', 'haber', 'varios', 'ensayos', 'clínicos', 'disponibles.'], ['\\xa0'], ['Fdo.', 'Dra.', 'Smith', 'Peterson,', 'Palm', '(Bióloga', 'Molecular)', '/'], ['Dr.', 'García', 'García,', 'Juan', '(Jefe', 'de', 'Servicio)'], ['Declaración:', 'Los', 'datos', 'aquí', 'presentados', 'proceden', 'de', 'una', 'base', 'de', 'conocimientos', 'seleccionada', 'con', 'información', 'de', 'acceso', 'público,', 'pero', 'puede', 'que', 'no', 'sean', 'exhaustivos.', 'La'], ['versión', 'de', 'datos', 'es', '2023.02(005).El', 'contenido', 'de', 'este', 'informe', 'no', 'ha', 'sido', 'evaluado', 'ni', 'aprobado', 'por', 'la', 'FDA', 'ni', 'por', 'otras', 'autoridades', 'de', 'registro', 'sanitario.'], ['Servicios', 'Biología', 'Sanitaria'], ['Laboratorio', 'de', 'Biología', 'Aplicada'], ['Tel.', '947', '256', '5334', 'ext.', '032023'], ['Datos', 'paciente:', 'NHC:', '00027'], ['Nº', 'biopsia:', '22B00027-C4'], ['Fecha:', '24-mar-2023'], ['2', 'de', '2'], ['\\xa0'], ['ID', 'NCT'], ['Título'], ['Fase'], ['NCT03520075'], ['A', 'Phase', 'I/II', 'Study', 'of', 'the', 'Safety,', 'Pharmacokinetics,', 'and', 'Activity', 'of', 'ASTX029', 'in', 'Subjects', 'With', 'Advanced'], ['Solid', 'Tumors'], ['I/II'], ['HRAS', 'p.(Q61R)', 'c.182A>G'], ['\\xa0'], ['Resumen', 'de', 'los', 'ensayos', 'clínicos'], ['\\xa0'], ['\\xa0'], ['AKT1,', 'ALK,', 'AR,', 'BRAF,', 'CDK4,', 'CTNNB1,', 'DDR2,', 'EGFR,', 'ERBB2,', 'ERBB3,', 'ERBB4,', 'ESR1,', 'FGFR2,', 'FGFR3,', 'GNA11,', 'GNAQ,', 'HRAS,', 'IDH1,', 'IDH2,'], ['JAK1,', 'JAK2,', 'JAK3,', 'KIT,', 'KRAS,', 'MAP2K1,', 'MAP2K2,', 'MET,', 'MTOR,', 'NRAS,', 'PDGFRA,', 'PIK3CA,', 'RAF1,', 'RET,', 'ROS1,', 'SMO'], ['Genes', 'Assayed', 'for', 'the', 'Detection', 'of', 'DNA', 'Sequence', 'Variants'], ['\\xa0'], ['\\xa0'], ['ALK,', 'AR,', 'BRAF,', 'CCND1,', 'CDK4,', 'CDK6,', 'EGFR,', 'ERBB2,', 'FGFR1,', 'FGFR2,', 'FGFR3,', 'FGFR4,', 'KIT,', 'KRAS,', 'MET,', 'MYC,', 'MYCN,', 'PDGFRA,', 'PIK3CA'], ['Genes', 'Assayed', 'for', 'the', 'Detection', 'of', 'Copy', 'Number', 'Variations'], ['\\xa0'], ['\\xa0'], ['ALK,', 'RET,', 'ROS1,', 'NTRK1,', 'NTRK2,', 'NTRK3,', 'FGFR1,', 'FGFR2,', 'FGFR3,', 'MET,', 'BRAF,', 'RAF1,', 'ERG,', 'ETV1,', 'ETV4,', 'ETV5,', 'ABL1,', 'AKT3,', 'AXL,', 'EGFR,'], ['ERBB2,', 'PDGFRA,', 'PPARG'], ['Genes', 'Assayed', 'for', 'the', 'Detection', 'of', 'Fusions'], ['\\xa0'], ['Genes', 'analizados'], ['\\xa0'], ['El', 'software', 'Ion', 'Torrent', 'Oncomine', 'Reporter', 'de', 'Thermo', 'Fisher', 'Scientific', 'se', 'utilizó', 'en', 'la', 'generación', 'de', 'este', 'informe.', 'El', 'software', 'fue'], ['desarrollado', 'y', 'diseñado', 'internamente', 'por', 'Thermo', 'Fisher', 'Scientific.', 'El', 'análisis', 'se', 'basó', 'en', 'Oncomine', 'Reporter', '(5.6.0', 'versión', 'de', 'datos'], ['2023.02(005)).', 'Los', 'datos', 'aquí', 'presentados', 'proceden', 'de', 'una', 'base', 'de', 'conocimientos', 'seleccionada', 'con', 'información', 'de', 'acceso', 'público,'], ['pero', 'puede', 'que', 'no', 'sean', 'exhaustivos.', 'La', 'información', 'de', 'FDA', 'se', 'obtuvo', 'en', 'www.fda.gov', 'con', 'fecha', 'de', '2023-01-18.', 'La', 'información'], ['de', 'NCCN', 'se', 'obtuvo', 'en', 'www.nccn.org', 'con', 'fecha', 'de', '2023-01-03.', 'La', 'información', 'de', 'EMA', 'se', 'obtuvo', 'en', 'www.ema.europa.eu/ema'], ['con', 'fecha', 'de', '2023-01-18.', 'La', 'información', 'de', 'ESMO', 'se', 'obtuvo', 'en', 'www.esmo.org', 'con', 'fecha', 'de', '2023-01-03.', 'La', 'información', 'de', 'los'], ['ensayos', 'clínicos', 'tiene', 'fecha', 'de', '2023-01-03.', 'Para', 'obtener', 'información', 'más', 'actualizada', 'sobre', 'un', 'ensayo', 'específico,', 'busque', 'en'], ['www.clinicaltrials.gov', 'por', 'ID', 'NCT', 'o', 'busque', 'en', 'el', 'sitio', 'web', 'de', 'referencia', 'de', 'ensayos', 'clínicos', 'segun', 'identificador', 'local', 'en', '\"Otros'], ['identificadores\".', 'Las', 'variantes', 'se', 'indican', 'de', 'acuerdo', 'con', 'la', 'nomenclatura', 'HGVS', 'y', 'se', 'clasifican', 'según', 'las', 'directrices', 'AMP/ASCO/CA'], ['(Li', 'et', 'al.', '2017).', 'Basándose', 'en', 'las', 'fuentes', 'de', 'datos', 'seleccionadas,', 'las', 'variantes,', 'las', 'terapias', 'y', 'los', 'ensayos', 'que', 'se', 'mencionan', 'en', 'este'], ['informe', 'se', 'enumeran', 'en', 'orden', 'de', 'posible', 'relevancia', 'clínica', 'pero', 'no', 'en', 'orden', 'de', 'eficacia', 'prevista', 'de', 'las', 'terapias.'], ['\\xa0'], ['Fdo.', 'Dra.', 'Smith', 'Peterson,', 'Palm', '(Bióloga', 'Molecular)', '/'], ['Dr.', 'García', 'García,', 'Juan', '(Jefe', 'de', 'Servicio)'], ['Declaración:', 'Los', 'datos', 'aquí', 'presentados', 'proceden', 'de', 'una', 'base', 'de', 'conocimientos', 'seleccionada', 'con', 'información', 'de', 'acceso', 'público,', 'pero', 'puede', 'que', 'no', 'sean', 'exhaustivos.', 'La'], ['versión', 'de', 'datos', 'es', '2023.02(005).'], ['']]\n",
      "[['Servicios', 'Biología', 'Sanitaria'], ['Laboratorio', 'de', 'Biología', 'Aplicada'], ['Tel.', '947', '256', '5334', 'ext.', '032023'], ['Datos', 'paciente:', 'NHC:', '00028'], ['Nº', 'biopsia:', '23B00028-A2'], ['Fecha:', '24-mar-2023'], ['1', 'de', '2'], ['Tipo', 'de', 'cáncer', 'de', 'la', 'muestra:', 'Cáncer', 'gástrico'], ['Resultados', 'del', 'informe'], ['1', 'Biomarcadores', 'relevantes'], ['1', 'Tratamientos', 'disponibles'], ['0', 'Ensayos', 'clínicos'], ['Biomarcadores', 'relevantes'], ['\\xa0'], ['Nivel'], ['Alteración', 'genómica'], ['Tratamientos', 'relevantes'], ['(En', 'este', 'tipo', 'de', 'cáncer)'], ['Tratamientos', 'relevantes'], ['(En', 'otro', 'tipo', 'de', 'cáncer)'], ['Ensayos'], ['clínicos'], ['\\xa0'], ['IIC'], ['KIT', 'exon', '11', 'deletion'], ['KIT', 'proto-oncogene,', 'receptor', 'tyrosine', 'kinase'], ['Frecuencia', 'de', 'alelo:', '53.12%'], ['Ninguno'], ['imatinib'], ['0'], ['\\xa0'], ['Fuentes', 'de', 'datos', 'públicos', 'incluidas', 'en', 'tratamientos', 'pertinentes:\\xa0FDA1,', 'NCCN,', 'EMA2,', 'ESMO'], ['\\xa0'], ['Gen'], ['Cambio', 'de'], ['aminoácidos'], ['Codificación'], ['Exón'], ['Frecuencia'], ['de', 'alelo'], ['Locus'], ['Transcripto'], ['ID', 'de', 'la', 'variante'], ['Efecto', 'de', 'la'], ['variante'], ['ClinVar1'], ['KIT'], ['p.(W557_K558del)'], ['c.1669_1674delTGG'], ['AAG'], ['11'], ['53.12%'], ['chr4:55593600'], ['NM_000222.2'], ['.'], ['nonframeshift'], ['Deletion'], ['ALK'], ['p.(I1461V)'], ['c.4381A>G'], ['29'], ['99.75%'], ['chr2:29416572'], ['NM_004304.4'], ['.'], ['missense'], ['Benign'], ['FGFR4'], ['p.(P136L)'], ['c.407C>T'], ['4'], ['98.15%'], ['chr5:176517797'], ['NM_213647.2'], ['.'], ['missense'], ['MYC'], ['p.(N26S)'], ['c.77A>G'], ['2'], ['60.64%'], ['chr8:128750540'], ['NM_002467.4'], ['.'], ['missense'], ['Variantes', 'de', 'secuencia', 'de', 'ADN'], ['1', 'Basado', 'en', 'la', 'versión', 'ClinVar', '20180225'], ['\\xa0'], ['Detalles', 'de', 'la', 'variante'], ['\\xa0'], ['\\uf111', 'En', 'este', 'tipo', 'de', 'cáncer'], ['\\uf10c', 'En', 'otro', 'tipo', 'de', 'cáncer'], ['\\uf042', 'En', 'este', 'tipo', 'de', 'cáncer', 'y', 'en', 'otros', 'tipos', 'de', 'cáncer', '\\uf00d', 'Sin', 'pruebas', '(sin', 'indicios)'], ['\\xa0'], ['Tratamiento', 'correspondiente'], ['FDA'], ['NCCN'], ['EMA'], ['ESMO'], ['Ensayos'], ['clínicos*'], ['imatinib'], ['\\uf00d'], ['\\uf10c'], ['\\uf00d'], ['\\uf00d'], ['\\uf00d'], ['KIT', 'exon', '11', 'deletion'], ['\\xa0'], ['Resumen', 'del', 'tratamiento', 'correspondiente'], ['\\xa0'], ['Fdo.', 'Dra.', 'Smith', 'Peterson,', 'Palm', '(Bióloga', 'Molecular)', '/'], ['Dr.', 'García', 'García,', 'Juan', '(Jefe', 'de', 'Servicio)'], ['Declaración:', 'Los', 'datos', 'aquí', 'presentados', 'proceden', 'de', 'una', 'base', 'de', 'conocimientos', 'seleccionada', 'con', 'información', 'de', 'acceso', 'público,', 'pero', 'puede', 'que', 'no', 'sean', 'exhaustivos.', 'La'], ['versión', 'de', 'datos', 'es', '2023.02(005).El', 'contenido', 'de', 'este', 'informe', 'no', 'ha', 'sido', 'evaluado', 'ni', 'aprobado', 'por', 'la', 'FDA', 'ni', 'por', 'otras', 'autoridades', 'de', 'registro', 'sanitario.'], ['Servicios', 'Biología', 'Sanitaria'], ['Laboratorio', 'de', 'Biología', 'Aplicada'], ['Tel.', '947', '256', '5334', 'ext.', '032023'], ['Datos', 'paciente:', 'NHC:', '00028'], ['Nº', 'biopsia:', '23B00028-A2'], ['Fecha:', '24-mar-2023'], ['2', 'de', '2'], ['\\xa0'], ['\\xa0'], ['AKT1,', 'ALK,', 'AR,', 'BRAF,', 'CDK4,', 'CTNNB1,', 'DDR2,', 'EGFR,', 'ERBB2,', 'ERBB3,', 'ERBB4,', 'ESR1,', 'FGFR2,', 'FGFR3,', 'GNA11,', 'GNAQ,', 'HRAS,', 'IDH1,', 'IDH2,'], ['JAK1,', 'JAK2,', 'JAK3,', 'KIT,', 'KRAS,', 'MAP2K1,', 'MAP2K2,', 'MET,', 'MTOR,', 'NRAS,', 'PDGFRA,', 'PIK3CA,', 'RAF1,', 'RET,', 'ROS1,', 'SMO'], ['Genes', 'Assayed', 'for', 'the', 'Detection', 'of', 'DNA', 'Sequence', 'Variants'], ['\\xa0'], ['\\xa0'], ['ALK,', 'AR,', 'BRAF,', 'CCND1,', 'CDK4,', 'CDK6,', 'EGFR,', 'ERBB2,', 'FGFR1,', 'FGFR2,', 'FGFR3,', 'FGFR4,', 'KIT,', 'KRAS,', 'MET,', 'MYC,', 'MYCN,', 'PDGFRA,', 'PIK3CA'], ['Genes', 'Assayed', 'for', 'the', 'Detection', 'of', 'Copy', 'Number', 'Variations'], ['\\xa0'], ['\\xa0'], ['ALK,', 'RET,', 'ROS1,', 'NTRK1,', 'NTRK2,', 'NTRK3,', 'FGFR1,', 'FGFR2,', 'FGFR3,', 'MET,', 'BRAF,', 'RAF1,', 'ERG,', 'ETV1,', 'ETV4,', 'ETV5,', 'ABL1,', 'AKT3,', 'AXL,', 'EGFR,'], ['ERBB2,', 'PDGFRA,', 'PPARG'], ['Genes', 'Assayed', 'for', 'the', 'Detection', 'of', 'Fusions'], ['\\xa0'], ['Genes', 'analizados'], ['\\xa0'], ['El', 'software', 'Ion', 'Torrent', 'Oncomine', 'Reporter', 'de', 'Thermo', 'Fisher', 'Scientific', 'se', 'utilizó', 'en', 'la', 'generación', 'de', 'este', 'informe.', 'El', 'software', 'fue'], ['desarrollado', 'y', 'diseñado', 'internamente', 'por', 'Thermo', 'Fisher', 'Scientific.', 'El', 'análisis', 'se', 'basó', 'en', 'Oncomine', 'Reporter', '(5.6.0', 'versión', 'de', 'datos'], ['2023.02(005)).', 'Los', 'datos', 'aquí', 'presentados', 'proceden', 'de', 'una', 'base', 'de', 'conocimientos', 'seleccionada', 'con', 'información', 'de', 'acceso', 'público,'], ['pero', 'puede', 'que', 'no', 'sean', 'exhaustivos.', 'La', 'información', 'de', 'FDA', 'se', 'obtuvo', 'en', 'www.fda.gov', 'con', 'fecha', 'de', '2023-01-18.', 'La', 'información'], ['de', 'NCCN', 'se', 'obtuvo', 'en', 'www.nccn.org', 'con', 'fecha', 'de', '2023-01-03.', 'La', 'información', 'de', 'EMA', 'se', 'obtuvo', 'en', 'www.ema.europa.eu/ema'], ['con', 'fecha', 'de', '2023-01-18.', 'La', 'información', 'de', 'ESMO', 'se', 'obtuvo', 'en', 'www.esmo.org', 'con', 'fecha', 'de', '2023-01-03.', 'La', 'información', 'de', 'los'], ['ensayos', 'clínicos', 'tiene', 'fecha', 'de', '2023-01-03.', 'Para', 'obtener', 'información', 'más', 'actualizada', 'sobre', 'un', 'ensayo', 'específico,', 'busque', 'en'], ['www.clinicaltrials.gov', 'por', 'ID', 'NCT', 'o', 'busque', 'en', 'el', 'sitio', 'web', 'de', 'referencia', 'de', 'ensayos', 'clínicos', 'segun', 'identificador', 'local', 'en', '\"Otros'], ['identificadores\".', 'Las', 'variantes', 'se', 'indican', 'de', 'acuerdo', 'con', 'la', 'nomenclatura', 'HGVS', 'y', 'se', 'clasifican', 'según', 'las', 'directrices', 'AMP/ASCO/CA'], ['(Li', 'et', 'al.', '2017).', 'Basándose', 'en', 'las', 'fuentes', 'de', 'datos', 'seleccionadas,', 'las', 'variantes,', 'las', 'terapias', 'y', 'los', 'ensayos', 'que', 'se', 'mencionan', 'en', 'este'], ['informe', 'se', 'enumeran', 'en', 'orden', 'de', 'posible', 'relevancia', 'clínica', 'pero', 'no', 'en', 'orden', 'de', 'eficacia', 'prevista', 'de', 'las', 'terapias.'], ['\\xa0'], ['Fdo.', 'Dra.', 'Smith', 'Peterson,', 'Palm', '(Bióloga', 'Molecular)', '/'], ['Dr.', 'García', 'García,', 'Juan', '(Jefe', 'de', 'Servicio)'], ['Declaración:', 'Los', 'datos', 'aquí', 'presentados', 'proceden', 'de', 'una', 'base', 'de', 'conocimientos', 'seleccionada', 'con', 'información', 'de', 'acceso', 'público,', 'pero', 'puede', 'que', 'no', 'sean', 'exhaustivos.', 'La'], ['versión', 'de', 'datos', 'es', '2023.02(005).'], ['']]\n"
     ]
    }
   ],
   "source": [
    "Ruta = 'C:/Users/luciv/OneDrive/Documentos/TFG_Lucia/RE_PDF_inventados'\n",
    "\n",
    "ficheros = LeerFicherosPDF(Ruta)\n",
    "\n",
    "for ficheroPDF in ficheros:\n",
    "    lines = LeerDocumento(os.path.join(Ruta,ficheroPDF))\n",
    "    \n",
    "    # Crear una lista vacía para almacenar los valores de la primera columna\n",
    "    valores= list()\n",
    "    \n",
    "    # Iterar por cada línea del texto\n",
    "    for i in lines:\n",
    "        \n",
    "        # Dividir la línea en columnas utilizando un separador, por ejemplo un espacio o una tabulación\n",
    "        columnas = i.split(' ')\n",
    "        \n",
    "        # Añadir el valor de la primera columna a la lista\n",
    "        valores.append(columnas)\n",
    "    \n",
    "    # Imprimir los valores de la primera columna\n",
    "    print(valores)\n",
    "\n",
    "#type(valores_columna)"
   ]
  },
  {
   "cell_type": "markdown",
   "metadata": {},
   "source": [
    "## VARIABLES DE INTERÉS QUE ALMACENO EN LOS DATAFRAMES"
   ]
  },
  {
   "cell_type": "code",
   "execution_count": 65,
   "metadata": {},
   "outputs": [
    {
     "data": {
      "text/plain": [
       "['100', '100', '100', '100', '100', '100', '100', '100']"
      ]
     },
     "execution_count": 65,
     "metadata": {},
     "output_type": "execute_result"
    }
   ],
   "source": [
    "# Número de chip \n",
    "chip2"
   ]
  },
  {
   "cell_type": "code",
   "execution_count": 66,
   "metadata": {},
   "outputs": [
    {
     "data": {
      "text/plain": [
       "['1', '2', '3', '4', '5', '6', '7', '8']"
      ]
     },
     "execution_count": 66,
     "metadata": {},
     "output_type": "execute_result"
    }
   ],
   "source": [
    "# Número de paciente \n",
    "numero_paciente"
   ]
  },
  {
   "cell_type": "code",
   "execution_count": 67,
   "metadata": {},
   "outputs": [
    {
     "data": {
      "text/plain": [
       "['00021', '00022', '00023', '00024', '00025', '00026', '00027', '00028']"
      ]
     },
     "execution_count": 67,
     "metadata": {},
     "output_type": "execute_result"
    }
   ],
   "source": [
    "# NHC\n",
    "NHC_final"
   ]
  },
  {
   "cell_type": "code",
   "execution_count": 68,
   "metadata": {},
   "outputs": [
    {
     "data": {
      "text/plain": [
       "['23B00021-A1',\n",
       " '22B00022-A2',\n",
       " '21B00023-A1',\n",
       " '23B00024-A1',\n",
       " '23C00025-A1',\n",
       " '23P00026',\n",
       " '22B00027-C4',\n",
       " '23B00028-A2']"
      ]
     },
     "execution_count": 68,
     "metadata": {},
     "output_type": "execute_result"
    }
   ],
   "source": [
    "# Número de biopsia \n",
    "NB_values"
   ]
  },
  {
   "cell_type": "code",
   "execution_count": 69,
   "metadata": {},
   "outputs": [
    {
     "data": {
      "text/plain": [
       "['1', '1', '1', '1', '3', '2', '1', '1']"
      ]
     },
     "execution_count": 69,
     "metadata": {},
     "output_type": "execute_result"
    }
   ],
   "source": [
    "# Biopsia sólida \n",
    "Biopsia_solida"
   ]
  },
  {
   "cell_type": "code",
   "execution_count": 70,
   "metadata": {},
   "outputs": [
    {
     "name": "stdout",
     "output_type": "stream",
     "text": [
      "[['24-mar-2023', '24-mar-2023', '24-mar-2023'], ['24-mar-2023', '24-mar-2023', '24-mar-2023'], ['24-mar-2023', '24-mar-2023'], ['24-mar-2023', '24-mar-2023'], ['24-mar-2023', '24-mar-2023', '24-mar-2023'], ['24-mar-2023', '24-mar-2023', '24-mar-2023'], ['24-mar-2023', '24-mar-2023'], ['24-mar-2023', '24-mar-2023']]\n",
      "---------------------------------------------------------------------------------------------------------------------\n",
      "['24-mar-2023', '24-mar-2023', '24-mar-2023', '24-mar-2023', '24-mar-2023', '24-mar-2023', '24-mar-2023', '24-mar-2023']\n"
     ]
    }
   ],
   "source": [
    "# Fecha de informe\n",
    "print(fecha_Data)\n",
    "print(\"---------------------------------------------------------------------------------------------------------------------\")\n",
    "print(fechas)"
   ]
  },
  {
   "cell_type": "code",
   "execution_count": 71,
   "metadata": {},
   "outputs": [
    {
     "name": "stdout",
     "output_type": "stream",
     "text": [
      "[['Carcinoma pulmonar no microcítico'], ['Carcinoma pulmonar no microcítico'], ['Carcinoma pulmonar no microcítico'], ['Carcinoma pulmonar no microcítico'], ['Carcinoma pulmonar no microcítico'], ['Carcinoma pulmonar no microcítico'], ['Cáncer tiroideo'], ['Cáncer gástrico']]\n",
      "------------------------------------------------------------------------------------------------------------------\n",
      "['Carcinoma pulmonar no microcítico', 'Carcinoma pulmonar no microcítico', 'Carcinoma pulmonar no microcítico', 'Carcinoma pulmonar no microcítico', 'Carcinoma pulmonar no microcítico', 'Carcinoma pulmonar no microcítico', 'Cáncer tiroideo', 'Cáncer gástrico']\n"
     ]
    }
   ],
   "source": [
    "# Diagnóstico \n",
    "print(texto_Data)\n",
    "print(\"------------------------------------------------------------------------------------------------------------------\")\n",
    "print(textoDiag)"
   ]
  },
  {
   "cell_type": "code",
   "execution_count": 72,
   "metadata": {},
   "outputs": [
    {
     "data": {
      "text/plain": [
       "[15.1, 15.1, 15.1, 15.1, 15.1, 15.1, 30.0, 11.0]"
      ]
     },
     "execution_count": 72,
     "metadata": {},
     "output_type": "execute_result"
    }
   ],
   "source": [
    "# Número de diagnóstico \n",
    "numeroDiag"
   ]
  },
  {
   "cell_type": "code",
   "execution_count": 73,
   "metadata": {},
   "outputs": [
    {
     "data": {
      "text/plain": [
       "[2, 1, 0, 2, 2, 2, 1, 2]"
      ]
     },
     "execution_count": 73,
     "metadata": {},
     "output_type": "execute_result"
    }
   ],
   "source": [
    "# Total del número de mutaciones\n",
    "num_mutaciones"
   ]
  },
  {
   "cell_type": "code",
   "execution_count": 74,
   "metadata": {},
   "outputs": [
    {
     "data": {
      "text/plain": [
       "[['MYC', 'EML4-ALK'],\n",
       " ['KRAS'],\n",
       " [],\n",
       " ['FGFR1', 'PIK3CA'],\n",
       " ['CDK6', 'MET'],\n",
       " ['CTNNB1', 'EGFR'],\n",
       " ['HRAS'],\n",
       " ['KIT', 'MYC']]"
      ]
     },
     "execution_count": 74,
     "metadata": {},
     "output_type": "execute_result"
    }
   ],
   "source": [
    "# Mutaciones detectadas totales \n",
    "mut"
   ]
  },
  {
   "cell_type": "code",
   "execution_count": 75,
   "metadata": {},
   "outputs": [
    {
     "data": {
      "text/plain": [
       "['p.(N26S)',\n",
       " 'p.(G12V)',\n",
       " 'p.(N375S)',\n",
       " 'p.(M541L)',\n",
       " 'p.(S37C)',\n",
       " 'p.(G779F)',\n",
       " 'p.(Q61R)',\n",
       " 'p.(W557_K558del)',\n",
       " 'p.(N26S)']"
      ]
     },
     "execution_count": 75,
     "metadata": {},
     "output_type": "execute_result"
    }
   ],
   "source": [
    "# Cambio de aminoácido \n",
    "aminoacidosMutados"
   ]
  },
  {
   "cell_type": "code",
   "execution_count": 167,
   "metadata": {},
   "outputs": [],
   "source": [
    "# % de frecuencia alélica\n"
   ]
  },
  {
   "cell_type": "code",
   "execution_count": null,
   "metadata": {},
   "outputs": [],
   "source": [
    "# Número de lecturas (% de frecuencia alélica en ARN) \n"
   ]
  },
  {
   "cell_type": "code",
   "execution_count": null,
   "metadata": {},
   "outputs": [],
   "source": [
    "# Número de copias (% de frecuencia alélica en copias)\n"
   ]
  },
  {
   "cell_type": "code",
   "execution_count": 76,
   "metadata": {},
   "outputs": [
    {
     "data": {
      "text/plain": [
       "[[40, 53], [35], [], [22, 47], [10, 38], [11, 13], [28], [34, 40]]"
      ]
     },
     "execution_count": 76,
     "metadata": {},
     "output_type": "execute_result"
    }
   ],
   "source": [
    "# Nº de la mutación específica detectada \n",
    "numero_iden"
   ]
  },
  {
   "cell_type": "code",
   "execution_count": 77,
   "metadata": {},
   "outputs": [
    {
     "name": "stdout",
     "output_type": "stream",
     "text": [
      "[6, 5, 0, 0, 3, 5, 1, 0]\n",
      "-----------------------------------------------------------------------------------------------------------------\n",
      "[1, 1, 0, 0, 1, 1, 1, 0]\n"
     ]
    }
   ],
   "source": [
    "# Ensayos clínicos \n",
    "print(lista_ensayos)\n",
    "print(\"-----------------------------------------------------------------------------------------------------------------\")\n",
    "print(ensayos_finales)"
   ]
  },
  {
   "cell_type": "code",
   "execution_count": 78,
   "metadata": {},
   "outputs": [
    {
     "name": "stdout",
     "output_type": "stream",
     "text": [
      "[6, 1, 0, 0, 3, 0, 0, 1]\n",
      "-----------------------------------------------------------------------------------------------------------------\n",
      "[1, 1, 0, 0, 1, 0, 0, 1]\n"
     ]
    }
   ],
   "source": [
    "# Fármaco aprobado \n",
    "print(lista_tratamientos)\n",
    "print(\"-----------------------------------------------------------------------------------------------------------------\")\n",
    "print(tratamientos_finales)"
   ]
  },
  {
   "cell_type": "markdown",
   "metadata": {},
   "source": [
    "## CREACIÓN DE LOS DATAFRAMES. "
   ]
  },
  {
   "cell_type": "code",
   "execution_count": 79,
   "metadata": {},
   "outputs": [],
   "source": [
    "Tabla1Pacientes = pd.DataFrame({'Número de chip': chip2, 'Número de paciente': numero_paciente, 'NHC': NHC_final, 'Número de biopsia': NB_values, 'Biopsia sólida': Biopsia_solida, 'Fecha de informe': fechas, 'Diagnóstico': textoDiag})"
   ]
  },
  {
   "cell_type": "code",
   "execution_count": 80,
   "metadata": {},
   "outputs": [
    {
     "data": {
      "text/html": [
       "<div>\n",
       "<style scoped>\n",
       "    .dataframe tbody tr th:only-of-type {\n",
       "        vertical-align: middle;\n",
       "    }\n",
       "\n",
       "    .dataframe tbody tr th {\n",
       "        vertical-align: top;\n",
       "    }\n",
       "\n",
       "    .dataframe thead th {\n",
       "        text-align: right;\n",
       "    }\n",
       "</style>\n",
       "<table border=\"1\" class=\"dataframe\">\n",
       "  <thead>\n",
       "    <tr style=\"text-align: right;\">\n",
       "      <th></th>\n",
       "      <th>Número de chip</th>\n",
       "      <th>Número de paciente</th>\n",
       "      <th>NHC</th>\n",
       "      <th>Número de biopsia</th>\n",
       "      <th>Biopsia sólida</th>\n",
       "      <th>Fecha de informe</th>\n",
       "      <th>Diagnóstico</th>\n",
       "    </tr>\n",
       "  </thead>\n",
       "  <tbody>\n",
       "    <tr>\n",
       "      <th>0</th>\n",
       "      <td>100</td>\n",
       "      <td>1</td>\n",
       "      <td>00021</td>\n",
       "      <td>23B00021-A1</td>\n",
       "      <td>1</td>\n",
       "      <td>24-mar-2023</td>\n",
       "      <td>Carcinoma pulmonar no microcítico</td>\n",
       "    </tr>\n",
       "    <tr>\n",
       "      <th>1</th>\n",
       "      <td>100</td>\n",
       "      <td>2</td>\n",
       "      <td>00022</td>\n",
       "      <td>22B00022-A2</td>\n",
       "      <td>1</td>\n",
       "      <td>24-mar-2023</td>\n",
       "      <td>Carcinoma pulmonar no microcítico</td>\n",
       "    </tr>\n",
       "    <tr>\n",
       "      <th>2</th>\n",
       "      <td>100</td>\n",
       "      <td>3</td>\n",
       "      <td>00023</td>\n",
       "      <td>21B00023-A1</td>\n",
       "      <td>1</td>\n",
       "      <td>24-mar-2023</td>\n",
       "      <td>Carcinoma pulmonar no microcítico</td>\n",
       "    </tr>\n",
       "    <tr>\n",
       "      <th>3</th>\n",
       "      <td>100</td>\n",
       "      <td>4</td>\n",
       "      <td>00024</td>\n",
       "      <td>23B00024-A1</td>\n",
       "      <td>1</td>\n",
       "      <td>24-mar-2023</td>\n",
       "      <td>Carcinoma pulmonar no microcítico</td>\n",
       "    </tr>\n",
       "    <tr>\n",
       "      <th>4</th>\n",
       "      <td>100</td>\n",
       "      <td>5</td>\n",
       "      <td>00025</td>\n",
       "      <td>23C00025-A1</td>\n",
       "      <td>3</td>\n",
       "      <td>24-mar-2023</td>\n",
       "      <td>Carcinoma pulmonar no microcítico</td>\n",
       "    </tr>\n",
       "    <tr>\n",
       "      <th>5</th>\n",
       "      <td>100</td>\n",
       "      <td>6</td>\n",
       "      <td>00026</td>\n",
       "      <td>23P00026</td>\n",
       "      <td>2</td>\n",
       "      <td>24-mar-2023</td>\n",
       "      <td>Carcinoma pulmonar no microcítico</td>\n",
       "    </tr>\n",
       "    <tr>\n",
       "      <th>6</th>\n",
       "      <td>100</td>\n",
       "      <td>7</td>\n",
       "      <td>00027</td>\n",
       "      <td>22B00027-C4</td>\n",
       "      <td>1</td>\n",
       "      <td>24-mar-2023</td>\n",
       "      <td>Cáncer tiroideo</td>\n",
       "    </tr>\n",
       "    <tr>\n",
       "      <th>7</th>\n",
       "      <td>100</td>\n",
       "      <td>8</td>\n",
       "      <td>00028</td>\n",
       "      <td>23B00028-A2</td>\n",
       "      <td>1</td>\n",
       "      <td>24-mar-2023</td>\n",
       "      <td>Cáncer gástrico</td>\n",
       "    </tr>\n",
       "  </tbody>\n",
       "</table>\n",
       "</div>"
      ],
      "text/plain": [
       "  Número de chip Número de paciente    NHC Número de biopsia Biopsia sólida  \\\n",
       "0            100                  1  00021       23B00021-A1              1   \n",
       "1            100                  2  00022       22B00022-A2              1   \n",
       "2            100                  3  00023       21B00023-A1              1   \n",
       "3            100                  4  00024       23B00024-A1              1   \n",
       "4            100                  5  00025       23C00025-A1              3   \n",
       "5            100                  6  00026          23P00026              2   \n",
       "6            100                  7  00027       22B00027-C4              1   \n",
       "7            100                  8  00028       23B00028-A2              1   \n",
       "\n",
       "  Fecha de informe                        Diagnóstico  \n",
       "0      24-mar-2023  Carcinoma pulmonar no microcítico  \n",
       "1      24-mar-2023  Carcinoma pulmonar no microcítico  \n",
       "2      24-mar-2023  Carcinoma pulmonar no microcítico  \n",
       "3      24-mar-2023  Carcinoma pulmonar no microcítico  \n",
       "4      24-mar-2023  Carcinoma pulmonar no microcítico  \n",
       "5      24-mar-2023  Carcinoma pulmonar no microcítico  \n",
       "6      24-mar-2023                    Cáncer tiroideo  \n",
       "7      24-mar-2023                    Cáncer gástrico  "
      ]
     },
     "execution_count": 80,
     "metadata": {},
     "output_type": "execute_result"
    }
   ],
   "source": [
    "Tabla1Pacientes"
   ]
  },
  {
   "cell_type": "code",
   "execution_count": 81,
   "metadata": {},
   "outputs": [],
   "source": [
    "Tabla2Diagnostico = pd.DataFrame({'Diagnóstico': textoDiag, 'Número del diagnóstico': numeroDiag})"
   ]
  },
  {
   "cell_type": "code",
   "execution_count": 82,
   "metadata": {},
   "outputs": [
    {
     "data": {
      "text/html": [
       "<div>\n",
       "<style scoped>\n",
       "    .dataframe tbody tr th:only-of-type {\n",
       "        vertical-align: middle;\n",
       "    }\n",
       "\n",
       "    .dataframe tbody tr th {\n",
       "        vertical-align: top;\n",
       "    }\n",
       "\n",
       "    .dataframe thead th {\n",
       "        text-align: right;\n",
       "    }\n",
       "</style>\n",
       "<table border=\"1\" class=\"dataframe\">\n",
       "  <thead>\n",
       "    <tr style=\"text-align: right;\">\n",
       "      <th></th>\n",
       "      <th>Diagnóstico</th>\n",
       "      <th>Número del diagnóstico</th>\n",
       "    </tr>\n",
       "  </thead>\n",
       "  <tbody>\n",
       "    <tr>\n",
       "      <th>0</th>\n",
       "      <td>Carcinoma pulmonar no microcítico</td>\n",
       "      <td>15.1</td>\n",
       "    </tr>\n",
       "    <tr>\n",
       "      <th>1</th>\n",
       "      <td>Carcinoma pulmonar no microcítico</td>\n",
       "      <td>15.1</td>\n",
       "    </tr>\n",
       "    <tr>\n",
       "      <th>2</th>\n",
       "      <td>Carcinoma pulmonar no microcítico</td>\n",
       "      <td>15.1</td>\n",
       "    </tr>\n",
       "    <tr>\n",
       "      <th>3</th>\n",
       "      <td>Carcinoma pulmonar no microcítico</td>\n",
       "      <td>15.1</td>\n",
       "    </tr>\n",
       "    <tr>\n",
       "      <th>4</th>\n",
       "      <td>Carcinoma pulmonar no microcítico</td>\n",
       "      <td>15.1</td>\n",
       "    </tr>\n",
       "    <tr>\n",
       "      <th>5</th>\n",
       "      <td>Carcinoma pulmonar no microcítico</td>\n",
       "      <td>15.1</td>\n",
       "    </tr>\n",
       "    <tr>\n",
       "      <th>6</th>\n",
       "      <td>Cáncer tiroideo</td>\n",
       "      <td>30.0</td>\n",
       "    </tr>\n",
       "    <tr>\n",
       "      <th>7</th>\n",
       "      <td>Cáncer gástrico</td>\n",
       "      <td>11.0</td>\n",
       "    </tr>\n",
       "  </tbody>\n",
       "</table>\n",
       "</div>"
      ],
      "text/plain": [
       "                         Diagnóstico  Número del diagnóstico\n",
       "0  Carcinoma pulmonar no microcítico                    15.1\n",
       "1  Carcinoma pulmonar no microcítico                    15.1\n",
       "2  Carcinoma pulmonar no microcítico                    15.1\n",
       "3  Carcinoma pulmonar no microcítico                    15.1\n",
       "4  Carcinoma pulmonar no microcítico                    15.1\n",
       "5  Carcinoma pulmonar no microcítico                    15.1\n",
       "6                    Cáncer tiroideo                    30.0\n",
       "7                    Cáncer gástrico                    11.0"
      ]
     },
     "execution_count": 82,
     "metadata": {},
     "output_type": "execute_result"
    }
   ],
   "source": [
    "Tabla2Diagnostico"
   ]
  },
  {
   "cell_type": "code",
   "execution_count": 83,
   "metadata": {},
   "outputs": [],
   "source": [
    "Tabla6Informacion = pd.DataFrame({'Diagnóstico': textoDiag, 'Ensayos clínicos': lista_ensayos,'SI/NO ensayo':ensayos_finales, 'Fármaco aprobado': lista_tratamientos, 'SI/NO fármacos': tratamientos_finales})"
   ]
  },
  {
   "cell_type": "code",
   "execution_count": 84,
   "metadata": {},
   "outputs": [
    {
     "data": {
      "text/html": [
       "<div>\n",
       "<style scoped>\n",
       "    .dataframe tbody tr th:only-of-type {\n",
       "        vertical-align: middle;\n",
       "    }\n",
       "\n",
       "    .dataframe tbody tr th {\n",
       "        vertical-align: top;\n",
       "    }\n",
       "\n",
       "    .dataframe thead th {\n",
       "        text-align: right;\n",
       "    }\n",
       "</style>\n",
       "<table border=\"1\" class=\"dataframe\">\n",
       "  <thead>\n",
       "    <tr style=\"text-align: right;\">\n",
       "      <th></th>\n",
       "      <th>Diagnóstico</th>\n",
       "      <th>Ensayos clínicos</th>\n",
       "      <th>SI/NO ensayo</th>\n",
       "      <th>Fármaco aprobado</th>\n",
       "      <th>SI/NO fármacos</th>\n",
       "    </tr>\n",
       "  </thead>\n",
       "  <tbody>\n",
       "    <tr>\n",
       "      <th>0</th>\n",
       "      <td>Carcinoma pulmonar no microcítico</td>\n",
       "      <td>6</td>\n",
       "      <td>1</td>\n",
       "      <td>6</td>\n",
       "      <td>1</td>\n",
       "    </tr>\n",
       "    <tr>\n",
       "      <th>1</th>\n",
       "      <td>Carcinoma pulmonar no microcítico</td>\n",
       "      <td>5</td>\n",
       "      <td>1</td>\n",
       "      <td>1</td>\n",
       "      <td>1</td>\n",
       "    </tr>\n",
       "    <tr>\n",
       "      <th>2</th>\n",
       "      <td>Carcinoma pulmonar no microcítico</td>\n",
       "      <td>0</td>\n",
       "      <td>0</td>\n",
       "      <td>0</td>\n",
       "      <td>0</td>\n",
       "    </tr>\n",
       "    <tr>\n",
       "      <th>3</th>\n",
       "      <td>Carcinoma pulmonar no microcítico</td>\n",
       "      <td>0</td>\n",
       "      <td>0</td>\n",
       "      <td>0</td>\n",
       "      <td>0</td>\n",
       "    </tr>\n",
       "    <tr>\n",
       "      <th>4</th>\n",
       "      <td>Carcinoma pulmonar no microcítico</td>\n",
       "      <td>3</td>\n",
       "      <td>1</td>\n",
       "      <td>3</td>\n",
       "      <td>1</td>\n",
       "    </tr>\n",
       "    <tr>\n",
       "      <th>5</th>\n",
       "      <td>Carcinoma pulmonar no microcítico</td>\n",
       "      <td>5</td>\n",
       "      <td>1</td>\n",
       "      <td>0</td>\n",
       "      <td>0</td>\n",
       "    </tr>\n",
       "    <tr>\n",
       "      <th>6</th>\n",
       "      <td>Cáncer tiroideo</td>\n",
       "      <td>1</td>\n",
       "      <td>1</td>\n",
       "      <td>0</td>\n",
       "      <td>0</td>\n",
       "    </tr>\n",
       "    <tr>\n",
       "      <th>7</th>\n",
       "      <td>Cáncer gástrico</td>\n",
       "      <td>0</td>\n",
       "      <td>0</td>\n",
       "      <td>1</td>\n",
       "      <td>1</td>\n",
       "    </tr>\n",
       "  </tbody>\n",
       "</table>\n",
       "</div>"
      ],
      "text/plain": [
       "                         Diagnóstico  Ensayos clínicos  SI/NO ensayo  \\\n",
       "0  Carcinoma pulmonar no microcítico                 6             1   \n",
       "1  Carcinoma pulmonar no microcítico                 5             1   \n",
       "2  Carcinoma pulmonar no microcítico                 0             0   \n",
       "3  Carcinoma pulmonar no microcítico                 0             0   \n",
       "4  Carcinoma pulmonar no microcítico                 3             1   \n",
       "5  Carcinoma pulmonar no microcítico                 5             1   \n",
       "6                    Cáncer tiroideo                 1             1   \n",
       "7                    Cáncer gástrico                 0             0   \n",
       "\n",
       "   Fármaco aprobado  SI/NO fármacos  \n",
       "0                 6               1  \n",
       "1                 1               1  \n",
       "2                 0               0  \n",
       "3                 0               0  \n",
       "4                 3               1  \n",
       "5                 0               0  \n",
       "6                 0               0  \n",
       "7                 1               1  "
      ]
     },
     "execution_count": 84,
     "metadata": {},
     "output_type": "execute_result"
    }
   ],
   "source": [
    "Tabla6Informacion"
   ]
  },
  {
   "cell_type": "code",
   "execution_count": 85,
   "metadata": {},
   "outputs": [],
   "source": [
    "Tabla5MutacionesEspecificas = pd.DataFrame({'Mutaciones detectadas':mut, 'Número de la mutación específica':numero_iden, 'Total del número de mutaciones': num_mutaciones, })"
   ]
  },
  {
   "cell_type": "code",
   "execution_count": 86,
   "metadata": {
    "scrolled": true
   },
   "outputs": [
    {
     "data": {
      "text/html": [
       "<div>\n",
       "<style scoped>\n",
       "    .dataframe tbody tr th:only-of-type {\n",
       "        vertical-align: middle;\n",
       "    }\n",
       "\n",
       "    .dataframe tbody tr th {\n",
       "        vertical-align: top;\n",
       "    }\n",
       "\n",
       "    .dataframe thead th {\n",
       "        text-align: right;\n",
       "    }\n",
       "</style>\n",
       "<table border=\"1\" class=\"dataframe\">\n",
       "  <thead>\n",
       "    <tr style=\"text-align: right;\">\n",
       "      <th></th>\n",
       "      <th>Mutaciones detectadas</th>\n",
       "      <th>Número de la mutación específica</th>\n",
       "      <th>Total del número de mutaciones</th>\n",
       "    </tr>\n",
       "  </thead>\n",
       "  <tbody>\n",
       "    <tr>\n",
       "      <th>0</th>\n",
       "      <td>[MYC, EML4-ALK]</td>\n",
       "      <td>[40, 53]</td>\n",
       "      <td>2</td>\n",
       "    </tr>\n",
       "    <tr>\n",
       "      <th>1</th>\n",
       "      <td>[KRAS]</td>\n",
       "      <td>[35]</td>\n",
       "      <td>1</td>\n",
       "    </tr>\n",
       "    <tr>\n",
       "      <th>2</th>\n",
       "      <td>[]</td>\n",
       "      <td>[]</td>\n",
       "      <td>0</td>\n",
       "    </tr>\n",
       "    <tr>\n",
       "      <th>3</th>\n",
       "      <td>[FGFR1, PIK3CA]</td>\n",
       "      <td>[22, 47]</td>\n",
       "      <td>2</td>\n",
       "    </tr>\n",
       "    <tr>\n",
       "      <th>4</th>\n",
       "      <td>[CDK6, MET]</td>\n",
       "      <td>[10, 38]</td>\n",
       "      <td>2</td>\n",
       "    </tr>\n",
       "    <tr>\n",
       "      <th>5</th>\n",
       "      <td>[CTNNB1, EGFR]</td>\n",
       "      <td>[11, 13]</td>\n",
       "      <td>2</td>\n",
       "    </tr>\n",
       "    <tr>\n",
       "      <th>6</th>\n",
       "      <td>[HRAS]</td>\n",
       "      <td>[28]</td>\n",
       "      <td>1</td>\n",
       "    </tr>\n",
       "    <tr>\n",
       "      <th>7</th>\n",
       "      <td>[KIT, MYC]</td>\n",
       "      <td>[34, 40]</td>\n",
       "      <td>2</td>\n",
       "    </tr>\n",
       "  </tbody>\n",
       "</table>\n",
       "</div>"
      ],
      "text/plain": [
       "  Mutaciones detectadas Número de la mutación específica  \\\n",
       "0       [MYC, EML4-ALK]                         [40, 53]   \n",
       "1                [KRAS]                             [35]   \n",
       "2                    []                               []   \n",
       "3       [FGFR1, PIK3CA]                         [22, 47]   \n",
       "4           [CDK6, MET]                         [10, 38]   \n",
       "5        [CTNNB1, EGFR]                         [11, 13]   \n",
       "6                [HRAS]                             [28]   \n",
       "7            [KIT, MYC]                         [34, 40]   \n",
       "\n",
       "   Total del número de mutaciones  \n",
       "0                               2  \n",
       "1                               1  \n",
       "2                               0  \n",
       "3                               2  \n",
       "4                               2  \n",
       "5                               2  \n",
       "6                               1  \n",
       "7                               2  "
      ]
     },
     "execution_count": 86,
     "metadata": {},
     "output_type": "execute_result"
    }
   ],
   "source": [
    "Tabla5MutacionesEspecificas"
   ]
  },
  {
   "cell_type": "code",
   "execution_count": 91,
   "metadata": {},
   "outputs": [],
   "source": [
    "Tabla4Patologicas = pd.DataFrame({'Genes patológicos': patologicos, 'Número de la mutación específica':numero_iden_pato})"
   ]
  },
  {
   "cell_type": "code",
   "execution_count": 92,
   "metadata": {},
   "outputs": [
    {
     "data": {
      "text/html": [
       "<div>\n",
       "<style scoped>\n",
       "    .dataframe tbody tr th:only-of-type {\n",
       "        vertical-align: middle;\n",
       "    }\n",
       "\n",
       "    .dataframe tbody tr th {\n",
       "        vertical-align: top;\n",
       "    }\n",
       "\n",
       "    .dataframe thead th {\n",
       "        text-align: right;\n",
       "    }\n",
       "</style>\n",
       "<table border=\"1\" class=\"dataframe\">\n",
       "  <thead>\n",
       "    <tr style=\"text-align: right;\">\n",
       "      <th></th>\n",
       "      <th>Genes patológicos</th>\n",
       "      <th>Número de la mutación específica</th>\n",
       "    </tr>\n",
       "  </thead>\n",
       "  <tbody>\n",
       "    <tr>\n",
       "      <th>0</th>\n",
       "      <td>[]</td>\n",
       "      <td>[]</td>\n",
       "    </tr>\n",
       "    <tr>\n",
       "      <th>1</th>\n",
       "      <td>[KRAS]</td>\n",
       "      <td>[35]</td>\n",
       "    </tr>\n",
       "    <tr>\n",
       "      <th>2</th>\n",
       "      <td>[]</td>\n",
       "      <td>[]</td>\n",
       "    </tr>\n",
       "    <tr>\n",
       "      <th>3</th>\n",
       "      <td>[]</td>\n",
       "      <td>[]</td>\n",
       "    </tr>\n",
       "    <tr>\n",
       "      <th>4</th>\n",
       "      <td>[]</td>\n",
       "      <td>[]</td>\n",
       "    </tr>\n",
       "    <tr>\n",
       "      <th>5</th>\n",
       "      <td>[CTNNB1]</td>\n",
       "      <td>[11]</td>\n",
       "    </tr>\n",
       "    <tr>\n",
       "      <th>6</th>\n",
       "      <td>[]</td>\n",
       "      <td>[]</td>\n",
       "    </tr>\n",
       "    <tr>\n",
       "      <th>7</th>\n",
       "      <td>[]</td>\n",
       "      <td>[]</td>\n",
       "    </tr>\n",
       "  </tbody>\n",
       "</table>\n",
       "</div>"
      ],
      "text/plain": [
       "  Genes patológicos Número de la mutación específica\n",
       "0                []                               []\n",
       "1            [KRAS]                             [35]\n",
       "2                []                               []\n",
       "3                []                               []\n",
       "4                []                               []\n",
       "5          [CTNNB1]                             [11]\n",
       "6                []                               []\n",
       "7                []                               []"
      ]
     },
     "execution_count": 92,
     "metadata": {},
     "output_type": "execute_result"
    }
   ],
   "source": [
    "Tabla4Patologicas"
   ]
  },
  {
   "cell_type": "code",
   "execution_count": 87,
   "metadata": {},
   "outputs": [
    {
     "ename": "NameError",
     "evalue": "name 'cambioaa_Data' is not defined",
     "output_type": "error",
     "traceback": [
      "\u001b[1;31m---------------------------------------------------------------------------\u001b[0m",
      "\u001b[1;31mNameError\u001b[0m                                 Traceback (most recent call last)",
      "\u001b[1;32m<ipython-input-87-6168842d03d7>\u001b[0m in \u001b[0;36m<module>\u001b[1;34m\u001b[0m\n\u001b[0;32m      1\u001b[0m \u001b[1;31m#Tabla1Pacientes = pd.DataFrame({'Número de chip': chip, 'Número de paciente': paciente_Data, 'NHC': NHC_Data, 'Número de biopsia': Nbiopsia_Data, 'Biopsia sólida': Biopsia_solida, 'Fecha de informe': fecha_Data, 'Diagnóstico': texto_Data})\u001b[0m\u001b[1;33m\u001b[0m\u001b[1;33m\u001b[0m\u001b[1;33m\u001b[0m\u001b[0m\n\u001b[0;32m      2\u001b[0m \u001b[1;31m#Tabla2Diagnostico = pd.DataFrame({'Diagnóstico': texto_Data, 'Número de diagnóstico': Ndiagnostico_Data})\u001b[0m\u001b[1;33m\u001b[0m\u001b[1;33m\u001b[0m\u001b[1;33m\u001b[0m\u001b[0m\n\u001b[1;32m----> 3\u001b[1;33m \u001b[0mTabla3Mutaciones\u001b[0m \u001b[1;33m=\u001b[0m \u001b[0mpd\u001b[0m\u001b[1;33m.\u001b[0m\u001b[0mDataFrame\u001b[0m\u001b[1;33m(\u001b[0m\u001b[1;33m{\u001b[0m\u001b[1;34m'Mutaciones detectadas'\u001b[0m\u001b[1;33m:\u001b[0m\u001b[0mtodas_mutaciones\u001b[0m\u001b[1;33m,\u001b[0m\u001b[1;34m'Cambio de aminoácido'\u001b[0m\u001b[1;33m:\u001b[0m \u001b[0mcambioaa_Data\u001b[0m\u001b[1;33m,\u001b[0m\u001b[1;34m'Porcentaje de frecuencia alélica (ADN)'\u001b[0m\u001b[1;33m:\u001b[0m \u001b[0mfrecuencia_Data\u001b[0m\u001b[1;33m,\u001b[0m\u001b[1;34m'Variaciones del número de lecturas (ARN)'\u001b[0m\u001b[1;33m:\u001b[0m \u001b[0mvariaciones_Data\u001b[0m\u001b[1;33m,\u001b[0m\u001b[1;34m'Variaciones de copias'\u001b[0m\u001b[1;33m:\u001b[0m \u001b[0mcopias_Data\u001b[0m\u001b[1;33m}\u001b[0m\u001b[1;33m)\u001b[0m\u001b[1;33m\u001b[0m\u001b[1;33m\u001b[0m\u001b[0m\n\u001b[0m\u001b[0;32m      4\u001b[0m \u001b[0mTabla4Patologicas\u001b[0m \u001b[1;33m=\u001b[0m \u001b[0mpd\u001b[0m\u001b[1;33m.\u001b[0m\u001b[0mDataFrame\u001b[0m\u001b[1;33m(\u001b[0m\u001b[1;33m{\u001b[0m\u001b[1;34m'Genes patológicos'\u001b[0m\u001b[1;33m:\u001b[0m \u001b[0mpatologicos\u001b[0m\u001b[1;33m,\u001b[0m \u001b[1;34m'Número de la mutación específica'\u001b[0m\u001b[1;33m:\u001b[0m\u001b[0mnumero_iden\u001b[0m\u001b[1;33m}\u001b[0m\u001b[1;33m,\u001b[0m \u001b[1;33m)\u001b[0m\u001b[1;33m\u001b[0m\u001b[1;33m\u001b[0m\u001b[0m\n\u001b[0;32m      5\u001b[0m \u001b[1;31m#Tabla5MutacionesEspecificas = pd.DataFrame({'Mutaciones detectadas':mut, 'Total del número de mutaciones': num_mutaciones,'Nº de la mutación específica detectada': NmutacionEspecifica_Data})\u001b[0m\u001b[1;33m\u001b[0m\u001b[1;33m\u001b[0m\u001b[1;33m\u001b[0m\u001b[0m\n",
      "\u001b[1;31mNameError\u001b[0m: name 'cambioaa_Data' is not defined"
     ]
    }
   ],
   "source": [
    "#Tabla1Pacientes = pd.DataFrame({'Número de chip': chip, 'Número de paciente': paciente_Data, 'NHC': NHC_Data, 'Número de biopsia': Nbiopsia_Data, 'Biopsia sólida': Biopsia_solida, 'Fecha de informe': fecha_Data, 'Diagnóstico': texto_Data})\n",
    "#Tabla2Diagnostico = pd.DataFrame({'Diagnóstico': texto_Data, 'Número de diagnóstico': Ndiagnostico_Data})\n",
    "Tabla3Mutaciones = pd.DataFrame({'Mutaciones detectadas':todas_mutaciones,'Cambio de aminoácido': cambioaa_Data,'Porcentaje de frecuencia alélica (ADN)': frecuencia_Data,'Variaciones del número de lecturas (ARN)': variaciones_Data,'Variaciones de copias': copias_Data})\n",
    "#Tabla4Patologicas = pd.DataFrame({'Genes patológicos': patologicos, 'Número de la mutación específica':numero_iden)\n",
    "#Tabla5MutacionesEspecificas = pd.DataFrame({'Mutaciones detectadas':mut, 'Total del número de mutaciones': num_mutaciones,'Nº de la mutación específica detectada': NmutacionEspecifica_Data})\n",
    "#Tabla6Informacion = pd.DataFrame({'Diagnóstico': texto_Data, 'Ensayos clínicos': ensayo_Data, 'Fármaco aprobado': farmaco_Data})"
   ]
  }
 ],
 "metadata": {
  "kernelspec": {
   "display_name": "Python 3",
   "language": "python",
   "name": "python3"
  },
  "language_info": {
   "codemirror_mode": {
    "name": "ipython",
    "version": 3
   },
   "file_extension": ".py",
   "mimetype": "text/x-python",
   "name": "python",
   "nbconvert_exporter": "python",
   "pygments_lexer": "ipython3",
   "version": "3.7.4"
  }
 },
 "nbformat": 4,
 "nbformat_minor": 2
}
