{
 "cells": [
  {
   "cell_type": "code",
   "execution_count": 2,
   "metadata": {},
   "outputs": [],
   "source": [
    "%matplotlib inline\n",
    "#ESC + Z para recuperar celdas borradas!!!!!!!!!!"
   ]
  },
  {
   "cell_type": "code",
   "execution_count": null,
   "metadata": {},
   "outputs": [],
   "source": [
    "#import sqlite3\n",
    "\n",
    "# Crear una conexión a la base de datos (si no existe, se crea una nueva)\n",
    "#datos = sqlite3.connect('basededatosHUBU.db')\n",
    "\n",
    "# Crear una tabla\n",
    "#datos.execute('''CREATE TABLE usuarios\n",
    "                #(id INTEGER PRIMARY KEY,\n",
    "                #nombre TEXT NOT NULL,\n",
    "                #email TEXT NOT NULL);''')\n",
    "# Cerrar la conexión\n",
    "#datos.close()"
   ]
  },
  {
   "cell_type": "markdown",
   "metadata": {},
   "source": [
    "Como Python no es un sistema de gestión de bases de datos, es necesario el uso de diferentes sistemas de gestión de datos como PostgreSQL para la creación de bases de datos. \n",
    "Para la creación es necesario elegir un sistema de gestión de bases de datos y luego usar la biblioteca de Python específica para interactuar. \n"
   ]
  },
  {
   "cell_type": "markdown",
   "metadata": {},
   "source": [
    "# CÓDIGO DEFINITIVO PRUEBA PDF INVENTADOS"
   ]
  },
  {
   "cell_type": "code",
   "execution_count": 164,
   "metadata": {},
   "outputs": [],
   "source": [
    "import imageio as iio\n",
    "import fitz \n",
    "import re\n",
    "import numpy as np\n",
    "import pandas as pd\n",
    "import matplotlib.pyplot as plt\n",
    "import os\n",
    "from tabulate import tabulate\n",
    "import tabula"
   ]
  },
  {
   "cell_type": "code",
   "execution_count": 165,
   "metadata": {},
   "outputs": [],
   "source": [
    "# Usamos la biblioteca os para acceder al sistema de archivos y verificar cada archivo de la ruta. \n",
    "# Se crea una lista vacía llamada ficheros para almacenar los resultados y se usa la os.listdir(ruta) para obtener la lista de los archivos que se encuentran en esa ruta. \n",
    "# Con for leemos cada uno de los archivos pdf y lo añadimos a ficheros. \n",
    "# Al finalizar, tenemos una lista con todos los archivos de esa ruta. \n",
    "def LeerFicherosPDF(ruta):\n",
    "    ficheros = []\n",
    "    contenido = os.listdir(ruta)\n",
    "    for fichero in contenido:\n",
    "        if os.path.isfile(os.path.join(ruta, fichero)) and fichero.endswith('.pdf'):\n",
    "            ficheros.append(fichero)\n",
    "    return ficheros"
   ]
  },
  {
   "cell_type": "code",
   "execution_count": 166,
   "metadata": {},
   "outputs": [],
   "source": [
    "def LeerDocumento(nombreFichero):\n",
    "    with fitz.open(nombreFichero) as doc:\n",
    "        text=\"\"\n",
    "        for page in doc:\n",
    "            text = text + page.get_text()\n",
    "    return text.split('\\n')\n"
   ]
  },
  {
   "cell_type": "code",
   "execution_count": 167,
   "metadata": {},
   "outputs": [],
   "source": [
    "def BuscarValor(textoBuscar, lines):\n",
    "    Encontrados = []\n",
    "\n",
    "    valores = [1 if re.search(textoBuscar, line) else 0 for line in lines]\n",
    "    valores = [i for i, s in enumerate(valores) if s==1 in valores]\n",
    "\n",
    "    posiciones = len(textoBuscar)\n",
    "    \n",
    "    for i in valores:\n",
    "        Encontrados.append(lines[i][lines[i].rfind(textoBuscar)+posiciones:].strip())\n",
    "\n",
    "    return Encontrados"
   ]
  },
  {
   "cell_type": "code",
   "execution_count": 168,
   "metadata": {},
   "outputs": [],
   "source": [
    "def GenerarImagen(ruta, fichero):\n",
    "    i = 0   \n",
    "    zoom = 4\n",
    "    mat = fitz.Matrix(zoom, zoom)\n",
    "    with fitz.open(os.path.join(ruta,fichero)) as doc:\n",
    "        for page in doc:\n",
    "            i+=1\n",
    "            val = f\"image_{i+1}.png\"\n",
    "            pix = page.get_pixmap(matrix=mat)\n",
    "            pix.save(os.path.join(ruta,fichero + \"_\" + val))\n",
    "            #plt.figure(figsize=(8,15))\n",
    "            #img = iio.imread(val)\n",
    "            #plt.imshow(img, cmap='gray')\n",
    "            #plt.show()"
   ]
  },
  {
   "cell_type": "code",
   "execution_count": 169,
   "metadata": {},
   "outputs": [
    {
     "name": "stdout",
     "output_type": "stream",
     "text": [
      "                                          DIAGNÓSTICO  NÚMERO DIAGNÓSTICO\n",
      "0                         Carcinoma del tracto biliar                 1.0\n",
      "1                                   Colangiocarcinoma                 1.1\n",
      "2                     Carcinoma de la vesícula biliar                 1.2\n",
      "3                                    Cáncer de vejiga                 2.0\n",
      "4                       Carcinoma vesicular uroterial                 2.1\n",
      "5                                      Cáncer de mama                 3.0\n",
      "6                             Triple negativo de mama                 3.1\n",
      "7              Neoplasia del sistema nervioso central                 4.0\n",
      "8                                              Glioma                 4.1\n",
      "9                                     Cáncer cervical                 5.0\n",
      "10                                      Condrosarcoma                 6.0\n",
      "11                                 Cáncer colorrectal                 7.0\n",
      "12            Carcinoma de células escamosas cutáneas                 8.0\n",
      "13                              Carcinoma endometrial                 9.0\n",
      "14                                   Cáncer esofágico                10.0\n",
      "15                                    Cáncer gástrico                11.0\n",
      "16                 Tumor del estroma gastrointestinal                11.1\n",
      "17                          Cáncer de cabeza y cuello                12.0\n",
      "18                                    Cáncer de riñón                13.0\n",
      "19                                   Cáncer de hígado                14.0\n",
      "20                            Carcinoma hepatocelular                14.1\n",
      "21                          Cáncer de pulmón/pulmonar                15.0\n",
      "22                  Carcinoma pulmonar no microcítico                15.1\n",
      "23                     Carcinoma pulmonar microcítico                15.2\n",
      "24                                           Melanoma                16.0\n",
      "25                        Carcinoma de células Merkel                17.0\n",
      "26                                        Mesotelioma                18.0\n",
      "27  Neoplasia mixto neuroendocrino no- neuroendocrino                19.0\n",
      "28                           Carcinoma neuroendocrino                20.0\n",
      "29       Carcinoma neuroendocrino de células pequeñas                20.1\n",
      "30                               Tumor neuroendocrino                21.0\n",
      "31                                       Osteosarcoma                22.0\n",
      "32                                   Cáncer de ovario                23.0\n",
      "33                                 Cáncer de páncreas                24.0\n",
      "34                                      Paraganglioma                25.0\n",
      "35                                 Cáncer de próstata                26.0\n",
      "36            Carcinoma de células basales de la piel                27.0\n",
      "37                         Sarcoma de tejidos blandos                28.0\n",
      "38                                  Cáncer testicular                29.0\n",
      "39                                    Cáncer tiroideo                30.0\n",
      "40                                    Sarcoma uterino                31.0\n",
      "41                                     Melanoma uveal                32.0\n",
      "42                        Origen primario desconocido                33.0\n",
      "43                                  Otro tumor sólido                34.0\n",
      "44                                            Linfoma                35.0\n",
      "Carcinoma del tracto biliar 1.0\n",
      "Colangiocarcinoma 1.1\n",
      "Carcinoma de la vesícula biliar 1.2\n",
      "Cáncer de vejiga 2.0\n",
      "Carcinoma vesicular uroterial 2.1\n",
      "Cáncer de mama 3.0\n",
      "Triple negativo de mama 3.1\n",
      "Neoplasia del sistema nervioso central 4.0\n",
      "Glioma 4.1\n",
      "Cáncer cervical 5.0\n",
      "Condrosarcoma 6.0\n",
      "Cáncer colorrectal 7.0\n",
      "Carcinoma de células escamosas cutáneas 8.0\n",
      "Carcinoma endometrial 9.0\n",
      " Cáncer esofágico 10.0\n",
      "Cáncer gástrico 11.0\n",
      "Tumor del estroma gastrointestinal 11.1\n",
      "Cáncer de cabeza y cuello 12.0\n",
      "Cáncer de riñón 13.0\n",
      "Cáncer de hígado 14.0\n",
      "Carcinoma hepatocelular 14.1\n",
      "Cáncer de pulmón/pulmonar 15.0\n",
      "Carcinoma pulmonar no microcítico 15.1\n",
      "Carcinoma pulmonar microcítico 15.2\n",
      "Melanoma 16.0\n",
      "Carcinoma de células Merkel 17.0\n",
      "Mesotelioma 18.0\n",
      "Neoplasia mixto neuroendocrino no- neuroendocrino 19.0\n",
      "Carcinoma neuroendocrino 20.0\n",
      "Carcinoma neuroendocrino de células pequeñas 20.1\n",
      "Tumor neuroendocrino 21.0\n",
      "Osteosarcoma 22.0\n",
      "Cáncer de ovario 23.0\n",
      "Cáncer de páncreas 24.0\n",
      "Paraganglioma 25.0\n",
      "Cáncer de próstata 26.0\n",
      "Carcinoma de células basales de la piel 27.0\n",
      "Sarcoma de tejidos blandos 28.0\n",
      "Cáncer testicular 29.0\n",
      "Cáncer tiroideo 30.0\n",
      "Sarcoma uterino 31.0\n",
      "Melanoma uveal 32.0\n",
      "Origen primario desconocido 33.0\n",
      "Otro tumor sólido 34.0\n",
      "Linfoma 35.0\n"
     ]
    }
   ],
   "source": [
    "diagnostico = pd.read_excel(\"C:/Users/luciv/OneDrive/Documentos/TFG_Lucia/Diagnostico.xlsx\")\n",
    "print(diagnostico)\n",
    "\n",
    "#Creo un diccionario con los valores tanto del diagnóstico como del número correspondiente. \n",
    "diagnosticos_dic = dict(zip(diagnostico[\"DIAGNÓSTICO\"], diagnostico[\"NÚMERO DIAGNÓSTICO\"]))\n",
    "\n",
    "for diagnostico in diagnosticos_dic:\n",
    "    valor = diagnosticos_dic.get(diagnostico)\n",
    "    print(diagnostico, valor)\n"
   ]
  },
  {
   "cell_type": "code",
   "execution_count": 170,
   "metadata": {},
   "outputs": [
    {
     "name": "stdout",
     "output_type": "stream",
     "text": [
      "       GEN  Número gen\n",
      "0     ABL1           1\n",
      "1     AKT1           2\n",
      "2     AKT3           3\n",
      "3      ALK           4\n",
      "4       AR           5\n",
      "5      AXL           6\n",
      "6     BRAF           7\n",
      "7    CCND1           8\n",
      "8     CDK4           9\n",
      "9     CDK6          10\n",
      "10  CTNNB1          11\n",
      "11    DDR2          12\n",
      "12    EGFR          13\n",
      "13   ERBB2          14\n",
      "14   ERBB3          15\n",
      "15   ERBB4          16\n",
      "16     ERG          17\n",
      "17    ESR1          18\n",
      "18    ETV1          19\n",
      "19    ETV4          20\n",
      "20    ETV5          21\n",
      "21   FGFR1          22\n",
      "22   FGFR2          23\n",
      "23   FGFR3          24\n",
      "24   FGFR4          25\n",
      "25   GNA11          26\n",
      "26    GNAQ          27\n",
      "27    HRAS          28\n",
      "28    IDH1          29\n",
      "29    IDH2          30\n",
      "30    JAK1          31\n",
      "31    JAK2          32\n",
      "32    JAK3          33\n",
      "33     KIT          34\n",
      "34    KRAS          35\n",
      "35  MAP2K1          36\n",
      "36  MAP2K2          37\n",
      "37     MET          38\n",
      "38    MTOR          39\n",
      "39     MYC          40\n",
      "40    MYCN          41\n",
      "41    NRAS          42\n",
      "42   NTRK1          43\n",
      "43   NTRK2          44\n",
      "44   NTRK3          45\n",
      "45  PDGFRA          46\n",
      "46  PIK3CA          47\n",
      "47   PPARG          48\n",
      "48    RAF1          49\n",
      "49     RET          50\n",
      "50    ROS1          51\n",
      "51     SMO          52\n"
     ]
    }
   ],
   "source": [
    "genes = pd.read_excel(\"C:/Users/luciv/OneDrive/Documentos/TFG_Lucia/Genes.xlsx\")\n",
    "print(genes)\n",
    "\n",
    "mutaciones = genes[\"GEN\"].unique()\n",
    "#print(mutaciones)\n",
    "#type(mutacion)"
   ]
  },
  {
   "cell_type": "code",
   "execution_count": 171,
   "metadata": {},
   "outputs": [
    {
     "name": "stdout",
     "output_type": "stream",
     "text": [
      "ABL1 1\n",
      "AKT1 2\n",
      "AKT3 3\n",
      "ALK 4\n",
      "AR 5\n",
      "AXL 6\n",
      "BRAF 7\n",
      "CCND1 8\n",
      "CDK4 9\n",
      "CDK6 10\n",
      "CTNNB1 11\n",
      "DDR2 12\n",
      "EGFR 13\n",
      "ERBB2 14\n",
      "ERBB3 15\n",
      "ERBB4 16\n",
      "ERG 17\n",
      "ESR1 18\n",
      "ETV1 19\n",
      "ETV4 20\n",
      "ETV5 21\n",
      "FGFR1 22\n",
      "FGFR2 23\n",
      "FGFR3 24\n",
      "FGFR4 25\n",
      "GNA11 26\n",
      "GNAQ 27\n",
      "HRAS 28\n",
      "IDH1 29\n",
      "IDH2 30\n",
      "JAK1 31\n",
      "JAK2 32\n",
      "JAK3 33\n",
      "KIT 34\n",
      "KRAS 35\n",
      "MAP2K1 36\n",
      "MAP2K2 37\n",
      "MET 38\n",
      "MTOR 39\n",
      "MYC 40\n",
      "MYCN 41\n",
      "NRAS 42\n",
      "NTRK1 43\n",
      "NTRK2 44\n",
      "NTRK3 45\n",
      "PDGFRA 46\n",
      "PIK3CA 47\n",
      "PPARG 48\n",
      "RAF1 49\n",
      "RET 50\n",
      "ROS1 51\n",
      "SMO 52\n"
     ]
    }
   ],
   "source": [
    "#Creo un diccionario con los valores del \n",
    "mutaciones_dic = dict(zip(genes[\"GEN\"], genes[\"Número gen\"]))\n",
    "mutaciones_dic\n",
    "\n",
    "for gen, valor in mutaciones_dic.items():\n",
    "    print(gen, valor)"
   ]
  },
  {
   "cell_type": "code",
   "execution_count": 172,
   "metadata": {},
   "outputs": [
    {
     "name": "stdout",
     "output_type": "stream",
     "text": [
      "['ABL1' 'AKT1' 'AKT3' 'ALK' 'AR' 'AXL' 'BRAF' 'CCND1' 'CDK4' 'CDK6'\n",
      " 'CTNNB1' 'DDR2' 'EGFR' 'ERBB2' 'ERBB3' 'ERBB4' 'ERG' 'ESR1' 'ETV1' 'ETV4'\n",
      " 'ETV5' 'FGFR1' 'FGFR2' 'FGFR3' 'FGFR4' 'GNA11' 'GNAQ' 'HRAS' 'IDH1'\n",
      " 'IDH2' 'JAK1' 'JAK2' 'JAK3' 'KIT' 'KRAS' 'MAP2K1' 'MAP2K2' 'MET' 'MTOR'\n",
      " 'MYC' 'MYCN' 'NRAS' 'NTRK1' 'NTRK2' 'NTRK3' 'PDGFRA' 'PIK3CA' 'PPARG'\n",
      " 'RAF1' 'RET' 'ROS1' 'SMO']\n",
      "['ABL1', 'AKT1', 'AKT3', 'ALK', 'AR', 'AXL', 'BRAF', 'CCND1', 'CDK4', 'CDK6', 'CTNNB1', 'DDR2', 'EGFR', 'ERBB2', 'ERBB3', 'ERBB4', 'ERG', 'ESR1', 'ETV1', 'ETV4', 'ETV5', 'FGFR1', 'FGFR2', 'FGFR3', 'FGFR4', 'GNA11', 'GNAQ', 'HRAS', 'IDH1', 'IDH2', 'JAK1', 'JAK2', 'JAK3', 'KIT', 'KRAS', 'MAP2K1', 'MAP2K2', 'MET', 'MTOR', 'MYC', 'MYCN', 'NRAS', 'NTRK1', 'NTRK2', 'NTRK3', 'PDGFRA', 'PIK3CA', 'PPARG', 'RAF1', 'RET', 'ROS1', 'SMO']\n"
     ]
    },
    {
     "data": {
      "text/plain": [
       "list"
      ]
     },
     "execution_count": 172,
     "metadata": {},
     "output_type": "execute_result"
    }
   ],
   "source": [
    "genes = pd.read_excel(\"C:/Users/luciv/OneDrive/Documentos/TFG_Lucia/Genes.xlsx\")\n",
    "#print(genes)\n",
    "\n",
    "mutacion = genes[\"GEN\"].unique()\n",
    "a = list(mutacion)\n",
    "print(mutacion)\n",
    "type(mutacion)\n",
    "print(a)\n",
    "type(a)\n"
   ]
  },
  {
   "cell_type": "markdown",
   "metadata": {},
   "source": [
    "## ENSAYOS CLÍNICOS Y TRATAMIENTOS DISPONIBLES. "
   ]
  },
  {
   "cell_type": "code",
   "execution_count": 272,
   "metadata": {},
   "outputs": [
    {
     "name": "stdout",
     "output_type": "stream",
     "text": [
      "Sample_1_v100_ec96983e-d816-4baf-8544-ca0572acc9fa_2023-03-02_11-57-06-352_All.pdf -> Ensayos: 6\n",
      "Sample_2_v100_dc008f2f-9bc7-4ac2-89d2-7f3ba6fdb04d_2023-03-02_11-56-10-540_All.pdf -> Ensayos: 5\n",
      "Sample_3_v100_50c27cd1-3ee7-490c-8ec6-30091039bb9c_2023-03-02_11-55-40-900_All.pdf -> Ensayos: 0\n",
      "Sample_4_v100_03eb528b-ded2-4db9-81fe-e1553385db88_2023-03-02_11-54-08-761_All.pdf -> Ensayos: 0\n",
      "Sample_5_v100_da86c58e-d529-400b-8812-506948d0c3ed_2023-03-02_11-53-07-777_All.pdf -> Ensayos: 3\n",
      "Sample_6_v100_52c1af10-c6e1-4f44-85d8-bfa7260fb9ff_2023-03-02_11-52-19-927_All.pdf -> Ensayos: 5\n",
      "Sample_7_v100_869cc724-f5f4-4d61-a708-c818a6c062ef_2023-03-02_11-50-41-677_All.pdf -> Ensayos: 1\n",
      "Sample_8_v100_14451fbc-44ce-480e-9107-c6ab537a1fda_2023-03-02_11-49-41-641_All.pdf -> Ensayos: 0\n",
      "[6, 5, 0, 0, 3, 5, 1, 0]\n",
      "[1, 1, 0, 0, 1, 1, 1, 0]\n"
     ]
    }
   ],
   "source": [
    "patron = r\"(\\d+)\\s* Ensayos clínicos\"\n",
    "Ruta = 'C:/Users/luciv/OneDrive/Documentos/TFG_Lucia/RE_PDF_inventados'\n",
    "ficheros = LeerFicherosPDF(Ruta)\n",
    "\n",
    "lista_ensayos = []\n",
    "ensayos_finales = []\n",
    "\n",
    "for ficheroPDF in ficheros:\n",
    "    lines = LeerDocumento(os.path.join(Ruta,ficheroPDF))\n",
    "    \n",
    "    ensayos = 0\n",
    "    for line in lines:\n",
    "        resultado = re.search(patron, line)\n",
    "        if resultado:\n",
    "            ensayos = int(resultado.group(1))\n",
    "            \n",
    "    lista_ensayos.append(ensayos)   \n",
    "    \n",
    "    print(ficheroPDF + \" -> Ensayos: \" + str(ensayos))\n",
    "print(lista_ensayos)\n",
    "\n",
    "\n",
    "for i in lista_ensayos:\n",
    "    if i == 0:\n",
    "        ensayos_finales.append(0)\n",
    "    else:\n",
    "        ensayos_finales.append(1)\n",
    "        \n",
    "print(ensayos_finales)\n"
   ]
  },
  {
   "cell_type": "code",
   "execution_count": 174,
   "metadata": {},
   "outputs": [
    {
     "name": "stdout",
     "output_type": "stream",
     "text": [
      "Sample_1_v100_ec96983e-d816-4baf-8544-ca0572acc9fa_2023-03-02_11-57-06-352_All.pdf -> Tratamientos: 6\n",
      "Sample_2_v100_dc008f2f-9bc7-4ac2-89d2-7f3ba6fdb04d_2023-03-02_11-56-10-540_All.pdf -> Tratamientos: 1\n",
      "Sample_3_v100_50c27cd1-3ee7-490c-8ec6-30091039bb9c_2023-03-02_11-55-40-900_All.pdf -> Tratamientos: 0\n",
      "Sample_4_v100_03eb528b-ded2-4db9-81fe-e1553385db88_2023-03-02_11-54-08-761_All.pdf -> Tratamientos: 0\n",
      "Sample_5_v100_da86c58e-d529-400b-8812-506948d0c3ed_2023-03-02_11-53-07-777_All.pdf -> Tratamientos: 3\n",
      "Sample_6_v100_52c1af10-c6e1-4f44-85d8-bfa7260fb9ff_2023-03-02_11-52-19-927_All.pdf -> Tratamientos: 0\n",
      "Sample_7_v100_869cc724-f5f4-4d61-a708-c818a6c062ef_2023-03-02_11-50-41-677_All.pdf -> Tratamientos: 0\n",
      "Sample_8_v100_14451fbc-44ce-480e-9107-c6ab537a1fda_2023-03-02_11-49-41-641_All.pdf -> Tratamientos: 1\n",
      "[6, 1, 0, 0, 3, 0, 0, 1]\n",
      "[1, 1, 0, 0, 1, 0, 0, 1]\n"
     ]
    }
   ],
   "source": [
    "patron2 = r\"(\\d+)\\s* Tratamientos disponibles\"\n",
    "Ruta = 'C:/Users/luciv/OneDrive/Documentos/TFG_Lucia/RE_PDF_inventados'\n",
    "ficheros = LeerFicherosPDF(Ruta)\n",
    "\n",
    "lista_tratamientos = []\n",
    "tratamientos_finales = []\n",
    "\n",
    "for ficheroPDF in ficheros:\n",
    "    lines = LeerDocumento(os.path.join(Ruta, ficheroPDF))\n",
    "    tratamientos = 0\n",
    "    \n",
    "    for line in lines:\n",
    "        resultado = re.search(patron2, line)\n",
    "        if resultado:\n",
    "            tratamientos = int(resultado.group(1))\n",
    "    \n",
    "    lista_tratamientos.append(tratamientos)\n",
    "    print(ficheroPDF + \" -> Tratamientos: \" + str(tratamientos))\n",
    "    \n",
    "print(lista_tratamientos)\n",
    "\n",
    "\n",
    "for i in lista_tratamientos:\n",
    "    if i == 0:\n",
    "        tratamientos_finales.append(0)\n",
    "    else:\n",
    "        tratamientos_finales.append(1)\n",
    "print(tratamientos_finales)"
   ]
  },
  {
   "cell_type": "markdown",
   "metadata": {},
   "source": [
    "## MUTACIONES Y DERIVADOS"
   ]
  },
  {
   "cell_type": "code",
   "execution_count": 175,
   "metadata": {},
   "outputs": [
    {
     "name": "stdout",
     "output_type": "stream",
     "text": [
      "Sample_1_v100_ec96983e-d816-4baf-8544-ca0572acc9fa_2023-03-02_11-57-06-352_All.pdf - Existe: ALK\n",
      "Sample_1_v100_ec96983e-d816-4baf-8544-ca0572acc9fa_2023-03-02_11-57-06-352_All.pdf - Existe: FGFR4\n",
      "Sample_1_v100_ec96983e-d816-4baf-8544-ca0572acc9fa_2023-03-02_11-57-06-352_All.pdf - Existe: MYC\n",
      "Sample_2_v100_dc008f2f-9bc7-4ac2-89d2-7f3ba6fdb04d_2023-03-02_11-56-10-540_All.pdf - Existe: ALK\n",
      "Sample_2_v100_dc008f2f-9bc7-4ac2-89d2-7f3ba6fdb04d_2023-03-02_11-56-10-540_All.pdf - Existe: FGFR4\n",
      "Sample_2_v100_dc008f2f-9bc7-4ac2-89d2-7f3ba6fdb04d_2023-03-02_11-56-10-540_All.pdf - Existe: KRAS\n",
      "Sample_2_v100_dc008f2f-9bc7-4ac2-89d2-7f3ba6fdb04d_2023-03-02_11-56-10-540_All.pdf - Existe: MET\n",
      "Sample_3_v100_50c27cd1-3ee7-490c-8ec6-30091039bb9c_2023-03-02_11-55-40-900_All.pdf - Existe: ALK\n",
      "Sample_3_v100_50c27cd1-3ee7-490c-8ec6-30091039bb9c_2023-03-02_11-55-40-900_All.pdf - Existe: FGFR4\n",
      "Sample_4_v100_03eb528b-ded2-4db9-81fe-e1553385db88_2023-03-02_11-54-08-761_All.pdf - Existe: ALK\n",
      "Sample_4_v100_03eb528b-ded2-4db9-81fe-e1553385db88_2023-03-02_11-54-08-761_All.pdf - Existe: FGFR1\n",
      "Sample_4_v100_03eb528b-ded2-4db9-81fe-e1553385db88_2023-03-02_11-54-08-761_All.pdf - Existe: FGFR4\n",
      "Sample_4_v100_03eb528b-ded2-4db9-81fe-e1553385db88_2023-03-02_11-54-08-761_All.pdf - Existe: PIK3CA\n",
      "Sample_5_v100_da86c58e-d529-400b-8812-506948d0c3ed_2023-03-02_11-53-07-777_All.pdf - Existe: ALK\n",
      "Sample_5_v100_da86c58e-d529-400b-8812-506948d0c3ed_2023-03-02_11-53-07-777_All.pdf - Existe: CDK6\n",
      "Sample_5_v100_da86c58e-d529-400b-8812-506948d0c3ed_2023-03-02_11-53-07-777_All.pdf - Existe: FGFR4\n",
      "Sample_5_v100_da86c58e-d529-400b-8812-506948d0c3ed_2023-03-02_11-53-07-777_All.pdf - Existe: KIT\n",
      "Sample_5_v100_da86c58e-d529-400b-8812-506948d0c3ed_2023-03-02_11-53-07-777_All.pdf - Existe: MET\n",
      "Sample_6_v100_52c1af10-c6e1-4f44-85d8-bfa7260fb9ff_2023-03-02_11-52-19-927_All.pdf - Existe: ALK\n",
      "Sample_6_v100_52c1af10-c6e1-4f44-85d8-bfa7260fb9ff_2023-03-02_11-52-19-927_All.pdf - Existe: CTNNB1\n",
      "Sample_6_v100_52c1af10-c6e1-4f44-85d8-bfa7260fb9ff_2023-03-02_11-52-19-927_All.pdf - Existe: EGFR\n",
      "Sample_6_v100_52c1af10-c6e1-4f44-85d8-bfa7260fb9ff_2023-03-02_11-52-19-927_All.pdf - Existe: FGFR4\n",
      "Sample_7_v100_869cc724-f5f4-4d61-a708-c818a6c062ef_2023-03-02_11-50-41-677_All.pdf - Existe: ALK\n",
      "Sample_7_v100_869cc724-f5f4-4d61-a708-c818a6c062ef_2023-03-02_11-50-41-677_All.pdf - Existe: FGFR4\n",
      "Sample_7_v100_869cc724-f5f4-4d61-a708-c818a6c062ef_2023-03-02_11-50-41-677_All.pdf - Existe: HRAS\n",
      "Sample_8_v100_14451fbc-44ce-480e-9107-c6ab537a1fda_2023-03-02_11-49-41-641_All.pdf - Existe: ALK\n",
      "Sample_8_v100_14451fbc-44ce-480e-9107-c6ab537a1fda_2023-03-02_11-49-41-641_All.pdf - Existe: FGFR4\n",
      "Sample_8_v100_14451fbc-44ce-480e-9107-c6ab537a1fda_2023-03-02_11-49-41-641_All.pdf - Existe: KIT\n",
      "Sample_8_v100_14451fbc-44ce-480e-9107-c6ab537a1fda_2023-03-02_11-49-41-641_All.pdf - Existe: MYC\n"
     ]
    }
   ],
   "source": [
    "#Todos los genes mutados que hay en cada ficherO (ESTO NO ME INTERSA!)\n",
    "Ruta = 'C:/Users/luciv/OneDrive/Documentos/TFG_Lucia/RE_PDF_inventados'\n",
    "\n",
    "ficheros = LeerFicherosPDF(Ruta)\n",
    "\n",
    "for ficheroPDF in ficheros:\n",
    "    lines = LeerDocumento(os.path.join(Ruta,ficheroPDF))\n",
    "    \n",
    "    for mutacion in mutaciones:\n",
    "        if mutacion in lines:\n",
    "            print(ficheroPDF + \" - Existe: \" + mutacion)\n",
    "            "
   ]
  },
  {
   "cell_type": "code",
   "execution_count": 177,
   "metadata": {},
   "outputs": [
    {
     "name": "stdout",
     "output_type": "stream",
     "text": [
      "Sample_1_v100_ec96983e-d816-4baf-8544-ca0572acc9fa_2023-03-02_11-57-06-352_All.pdf - Existe: MYC\n",
      "Sample_2_v100_dc008f2f-9bc7-4ac2-89d2-7f3ba6fdb04d_2023-03-02_11-56-10-540_All.pdf - Existe: KRAS\n",
      "Sample_4_v100_03eb528b-ded2-4db9-81fe-e1553385db88_2023-03-02_11-54-08-761_All.pdf - Existe: FGFR1\n",
      "Sample_4_v100_03eb528b-ded2-4db9-81fe-e1553385db88_2023-03-02_11-54-08-761_All.pdf - Existe: PIK3CA\n",
      "Sample_5_v100_da86c58e-d529-400b-8812-506948d0c3ed_2023-03-02_11-53-07-777_All.pdf - Existe: CDK6\n",
      "Sample_5_v100_da86c58e-d529-400b-8812-506948d0c3ed_2023-03-02_11-53-07-777_All.pdf - Existe: MET\n",
      "Sample_6_v100_52c1af10-c6e1-4f44-85d8-bfa7260fb9ff_2023-03-02_11-52-19-927_All.pdf - Existe: CTNNB1\n",
      "Sample_6_v100_52c1af10-c6e1-4f44-85d8-bfa7260fb9ff_2023-03-02_11-52-19-927_All.pdf - Existe: EGFR\n",
      "Sample_7_v100_869cc724-f5f4-4d61-a708-c818a6c062ef_2023-03-02_11-50-41-677_All.pdf - Existe: HRAS\n",
      "Sample_8_v100_14451fbc-44ce-480e-9107-c6ab537a1fda_2023-03-02_11-49-41-641_All.pdf - Existe: KIT\n",
      "Sample_8_v100_14451fbc-44ce-480e-9107-c6ab537a1fda_2023-03-02_11-49-41-641_All.pdf - Existe: MYC\n"
     ]
    }
   ],
   "source": [
    "#Genes mutados de interés (PATOGENICOS / VACIOS ) BIEN!!!\n",
    "Ruta = 'C:/Users/luciv/OneDrive/Documentos/TFG_Lucia/RE_PDF_inventados'\n",
    "\n",
    "ficheros = LeerFicherosPDF(Ruta)\n",
    "\n",
    "for ficheroPDF in ficheros:\n",
    "    lines = LeerDocumento(os.path.join(Ruta,ficheroPDF))\n",
    "                \n",
    "    for mutacion in mutaciones:\n",
    "        if mutacion in lines:\n",
    "            posicion = lines.index(mutacion)\n",
    "            \n",
    "            #print(ficheroPDF + \" - Existe: \" + mutacion)\n",
    "            #print(posiciones)\n",
    "            if mutacion == \"FGFR4\": #solo el tipo p.(P136L)\n",
    "                #posicion = lines.index(\"FGFR4\")\n",
    "                #print(posicion)\n",
    "                #print(posicion + 1)\n",
    "                if (posicion < len(lines)-1 and lines[posicion + 1] == \"p.(P136L)\"):\n",
    "                    pass\n",
    "                else:\n",
    "                    print(ficheroPDF + \" - Existe: \" + mutacion)\n",
    "            else:\n",
    "                benigno = False\n",
    "                #print(mutacion)\n",
    "                for a in range(posicion+1, posicion+10):\n",
    "                    #print(str(a) + \" > \" + lines[a])\n",
    "                    if \"Benign\" in lines[a]:\n",
    "                        #print(lines[a])\n",
    "                        benigno = True\n",
    "                if benigno == False:\n",
    "                    print(ficheroPDF + \" - Existe: \" + mutacion)\n",
    "\n",
    "                \n",
    "\n",
    "#            elif (posiciones<len(lines) - 9 and lines[posiciones + 9] == \"Benign\"):\n",
    " #               pass\n",
    "  #          elif (posiciones<len(lines) - 9 and lines[posiciones + 9] == \"Benign/Likelybenign\"):\n",
    "   #             pass\n",
    "    #        else: \n",
    "     #           print(ficheroPDF + \" - Existe: \" + mutacion)\n",
    "      #          #print(posiciones)\n",
    "                \n",
    "#FALLOS.\n",
    "# NO APARECEN LOS REPETIDOS DOS VECES, SOLO APARECEN UNA solucion: ID\n"
   ]
  },
  {
   "cell_type": "code",
   "execution_count": 178,
   "metadata": {},
   "outputs": [
    {
     "name": "stdout",
     "output_type": "stream",
     "text": [
      "Sample_2_v100_dc008f2f-9bc7-4ac2-89d2-7f3ba6fdb04d_2023-03-02_11-56-10-540_All.pdf - Existe: KRAS - Pathogenic\n",
      "Sample_6_v100_52c1af10-c6e1-4f44-85d8-bfa7260fb9ff_2023-03-02_11-52-19-927_All.pdf - Existe: CTNNB1 - Pathogenic\n"
     ]
    }
   ],
   "source": [
    "#Solo genes patogénicos BIEN!!!\n",
    "for ficheroPDF in ficheros:\n",
    "    lines = LeerDocumento(os.path.join(Ruta, ficheroPDF))\n",
    "    \n",
    "    for mutacion in mutaciones:\n",
    "        if mutacion in lines:\n",
    "            posicion = lines.index(mutacion)\n",
    "\n",
    "            for a in range(posicion+1, min(posicion+10, len(lines))):\n",
    "                if \"Pathogeni\" in lines[a]:\n",
    "                    print(ficheroPDF + \" - Existe: \" + mutacion + \" - Pathogenic\")\n",
    "                "
   ]
  },
  {
   "cell_type": "code",
   "execution_count": 179,
   "metadata": {},
   "outputs": [
    {
     "name": "stdout",
     "output_type": "stream",
     "text": [
      "Sample_1_v100_ec96983e-d816-4baf-8544-ca0572acc9fa_2023-03-02_11-57-06-352_All.pdf - Frecuencias: []\n",
      "Sample_2_v100_dc008f2f-9bc7-4ac2-89d2-7f3ba6fdb04d_2023-03-02_11-56-10-540_All.pdf- Existe: KRAS- Pathogenic\n",
      "Sample_2_v100_dc008f2f-9bc7-4ac2-89d2-7f3ba6fdb04d_2023-03-02_11-56-10-540_All.pdf - Frecuencias: ['66.50%']\n",
      "Sample_3_v100_50c27cd1-3ee7-490c-8ec6-30091039bb9c_2023-03-02_11-55-40-900_All.pdf - Frecuencias: []\n",
      "Sample_4_v100_03eb528b-ded2-4db9-81fe-e1553385db88_2023-03-02_11-54-08-761_All.pdf - Frecuencias: []\n",
      "Sample_5_v100_da86c58e-d529-400b-8812-506948d0c3ed_2023-03-02_11-53-07-777_All.pdf - Frecuencias: []\n",
      "Sample_6_v100_52c1af10-c6e1-4f44-85d8-bfa7260fb9ff_2023-03-02_11-52-19-927_All.pdf- Existe: CTNNB1- Pathogenic\n",
      "Sample_6_v100_52c1af10-c6e1-4f44-85d8-bfa7260fb9ff_2023-03-02_11-52-19-927_All.pdf - Frecuencias: ['27.51%']\n",
      "Sample_7_v100_869cc724-f5f4-4d61-a708-c818a6c062ef_2023-03-02_11-50-41-677_All.pdf - Frecuencias: []\n",
      "Sample_8_v100_14451fbc-44ce-480e-9107-c6ab537a1fda_2023-03-02_11-49-41-641_All.pdf - Frecuencias: []\n"
     ]
    },
    {
     "data": {
      "text/plain": [
       "['66.50%', '27.51%']"
      ]
     },
     "execution_count": 179,
     "metadata": {},
     "output_type": "execute_result"
    }
   ],
   "source": [
    "patron_frecuencia = re.compile(r\"\\d{2}\\.\\d{2}%\")\n",
    "frecuenciasPato = []\n",
    "\n",
    "for ficheroPDF in ficheros:\n",
    "    lines = LeerDocumento(os.path.join(Ruta, ficheroPDF))\n",
    "    lista_frec = []\n",
    "    \n",
    "    for mutacion in mutaciones:\n",
    "        if mutacion in lines:\n",
    "            posicion = lines.index(mutacion)\n",
    "            \n",
    "            for a in range(posicion+1, min(posicion+10, len(lines))):\n",
    "                if \"Pathogeni\" in lines[a]:\n",
    "                    print(ficheroPDF + \"- Existe: \" + mutacion + \"- Pathogenic\")\n",
    "            \n",
    "                    for i in lines[posicion:posicion+10]:\n",
    "                        resultado = re.search(patron_frecuencia, i)\n",
    "                        if resultado:\n",
    "                            frec = resultado.group()\n",
    "                            lista_frec.append(frec)\n",
    "                            #frecuencias.append(frec)\n",
    "    frecuenciasPato.extend(lista_frec)\n",
    "                            #print(f\"   Frecuencia: {frec}\")\n",
    "        \n",
    "    print(f\"{ficheroPDF} - Frecuencias: {lista_frec}\")\n",
    "    \n",
    "frecuenciasPato\n"
   ]
  },
  {
   "cell_type": "code",
   "execution_count": 180,
   "metadata": {},
   "outputs": [
    {
     "name": "stdout",
     "output_type": "stream",
     "text": [
      "Sample_2_v100_dc008f2f-9bc7-4ac2-89d2-7f3ba6fdb04d_2023-03-02_11-56-10-540_All.pdf - Existe: KRAS - Pathogenic\n",
      "Sample_6_v100_52c1af10-c6e1-4f44-85d8-bfa7260fb9ff_2023-03-02_11-52-19-927_All.pdf - Existe: CTNNB1 - Pathogenic\n",
      "{'Sample_1_v100_ec96983e-d816-4baf-8544-ca0572acc9fa_2023-03-02_11-57-06-352_All.pdf': [], 'Sample_2_v100_dc008f2f-9bc7-4ac2-89d2-7f3ba6fdb04d_2023-03-02_11-56-10-540_All.pdf': ['KRAS'], 'Sample_3_v100_50c27cd1-3ee7-490c-8ec6-30091039bb9c_2023-03-02_11-55-40-900_All.pdf': [], 'Sample_4_v100_03eb528b-ded2-4db9-81fe-e1553385db88_2023-03-02_11-54-08-761_All.pdf': [], 'Sample_5_v100_da86c58e-d529-400b-8812-506948d0c3ed_2023-03-02_11-53-07-777_All.pdf': [], 'Sample_6_v100_52c1af10-c6e1-4f44-85d8-bfa7260fb9ff_2023-03-02_11-52-19-927_All.pdf': ['CTNNB1'], 'Sample_7_v100_869cc724-f5f4-4d61-a708-c818a6c062ef_2023-03-02_11-50-41-677_All.pdf': [], 'Sample_8_v100_14451fbc-44ce-480e-9107-c6ab537a1fda_2023-03-02_11-49-41-641_All.pdf': []}\n"
     ]
    }
   ],
   "source": [
    "patogen = {}\n",
    "\n",
    "for ficheroPDF in ficheros:\n",
    "    lines = LeerDocumento(os.path.join(Ruta,ficheroPDF))\n",
    "    genpato2 = []\n",
    "    \n",
    "    for mutacion in mutaciones:\n",
    "        if mutacion in lines:\n",
    "            posicion = lines.index(mutacion)\n",
    "            \n",
    "            for a in range(posicion+1, min(posicion+10, len(lines))):\n",
    "                if \"Pathogeni\" in lines[a]:\n",
    "                    genpato2.append(mutacion)\n",
    "                    print(ficheroPDF + \" - Existe: \" + mutacion + \" - Pathogenic\")\n",
    "            \n",
    "                    \n",
    "    \n",
    "    patogen[ficheroPDF] = genpato2\n",
    "    \n",
    "print(patogen)"
   ]
  },
  {
   "cell_type": "code",
   "execution_count": 181,
   "metadata": {},
   "outputs": [
    {
     "data": {
      "text/plain": [
       "[[], ['KRAS'], [], [], [], ['CTNNB1'], [], []]"
      ]
     },
     "execution_count": 181,
     "metadata": {},
     "output_type": "execute_result"
    }
   ],
   "source": [
    "patologicos = list(patogen.values())\n",
    "patologicos"
   ]
  },
  {
   "cell_type": "code",
   "execution_count": 182,
   "metadata": {},
   "outputs": [
    {
     "name": "stdout",
     "output_type": "stream",
     "text": [
      "[[], [35], [], [], [], [11], [], []]\n"
     ]
    }
   ],
   "source": [
    "numero_iden_pato = []\n",
    "for i in patologicos:\n",
    "    valores = [mutaciones_dic.get(gen, 0) for gen in i]\n",
    "    numero_iden_pato.append(valores)\n",
    "\n",
    "print(numero_iden_pato)"
   ]
  },
  {
   "cell_type": "code",
   "execution_count": 183,
   "metadata": {},
   "outputs": [
    {
     "name": "stdout",
     "output_type": "stream",
     "text": [
      "Sample_1_v100_ec96983e-d816-4baf-8544-ca0572acc9fa_2023-03-02_11-57-06-352_All.pdf - Existe: MYC\n",
      "Sample_2_v100_dc008f2f-9bc7-4ac2-89d2-7f3ba6fdb04d_2023-03-02_11-56-10-540_All.pdf - Existe: KRAS\n",
      "Sample_2_v100_dc008f2f-9bc7-4ac2-89d2-7f3ba6fdb04d_2023-03-02_11-56-10-540_All.pdf - Existe: KRAS - Pathogenic\n",
      "Sample_4_v100_03eb528b-ded2-4db9-81fe-e1553385db88_2023-03-02_11-54-08-761_All.pdf - Existe: FGFR1\n",
      "Sample_4_v100_03eb528b-ded2-4db9-81fe-e1553385db88_2023-03-02_11-54-08-761_All.pdf - Existe: PIK3CA\n",
      "Sample_5_v100_da86c58e-d529-400b-8812-506948d0c3ed_2023-03-02_11-53-07-777_All.pdf - Existe: CDK6\n",
      "Sample_5_v100_da86c58e-d529-400b-8812-506948d0c3ed_2023-03-02_11-53-07-777_All.pdf - Existe: MET\n",
      "Sample_6_v100_52c1af10-c6e1-4f44-85d8-bfa7260fb9ff_2023-03-02_11-52-19-927_All.pdf - Existe: CTNNB1\n",
      "Sample_6_v100_52c1af10-c6e1-4f44-85d8-bfa7260fb9ff_2023-03-02_11-52-19-927_All.pdf - Existe: CTNNB1 - Pathogenic\n",
      "Sample_6_v100_52c1af10-c6e1-4f44-85d8-bfa7260fb9ff_2023-03-02_11-52-19-927_All.pdf - Existe: EGFR\n",
      "Sample_7_v100_869cc724-f5f4-4d61-a708-c818a6c062ef_2023-03-02_11-50-41-677_All.pdf - Existe: HRAS\n",
      "Sample_8_v100_14451fbc-44ce-480e-9107-c6ab537a1fda_2023-03-02_11-49-41-641_All.pdf - Existe: KIT\n",
      "Sample_8_v100_14451fbc-44ce-480e-9107-c6ab537a1fda_2023-03-02_11-49-41-641_All.pdf - Existe: MYC\n",
      "Sample_2_v100_dc008f2f-9bc7-4ac2-89d2-7f3ba6fdb04d_2023-03-02_11-56-10-540_All.pdf - Existe: KRAS - Pathogenic\n",
      "Sample_6_v100_52c1af10-c6e1-4f44-85d8-bfa7260fb9ff_2023-03-02_11-52-19-927_All.pdf - Existe: CTNNB1 - Pathogenic\n",
      "{'Sample_1_v100_ec96983e-d816-4baf-8544-ca0572acc9fa_2023-03-02_11-57-06-352_All.pdf': [], 'Sample_2_v100_dc008f2f-9bc7-4ac2-89d2-7f3ba6fdb04d_2023-03-02_11-56-10-540_All.pdf': ['KRAS'], 'Sample_3_v100_50c27cd1-3ee7-490c-8ec6-30091039bb9c_2023-03-02_11-55-40-900_All.pdf': [], 'Sample_4_v100_03eb528b-ded2-4db9-81fe-e1553385db88_2023-03-02_11-54-08-761_All.pdf': [], 'Sample_5_v100_da86c58e-d529-400b-8812-506948d0c3ed_2023-03-02_11-53-07-777_All.pdf': [], 'Sample_6_v100_52c1af10-c6e1-4f44-85d8-bfa7260fb9ff_2023-03-02_11-52-19-927_All.pdf': ['CTNNB1'], 'Sample_7_v100_869cc724-f5f4-4d61-a708-c818a6c062ef_2023-03-02_11-50-41-677_All.pdf': [], 'Sample_8_v100_14451fbc-44ce-480e-9107-c6ab537a1fda_2023-03-02_11-49-41-641_All.pdf': []}\n"
     ]
    }
   ],
   "source": [
    "#MEZCLA DE AMBOS\n",
    "for ficheroPDF in ficheros:\n",
    "    lines = LeerDocumento(os.path.join(Ruta,ficheroPDF))\n",
    "                \n",
    "    for mutacion in mutaciones:\n",
    "        if mutacion in lines:\n",
    "            posicion = lines.index(mutacion)\n",
    "            \n",
    "            #print(ficheroPDF + \" - Existe: \" + mutacion)\n",
    "            #print(posiciones)\n",
    "            if mutacion == \"FGFR4\": #solo el tipo p.(P136L)\n",
    "                #posicion = lines.index(\"FGFR4\")\n",
    "                #print(posicion)\n",
    "                #print(posicion + 1)\n",
    "                if (posicion < len(lines)-1 and lines[posicion + 1] == \"p.(P136L)\"):\n",
    "                    pass\n",
    "                else:\n",
    "                    print(ficheroPDF + \" - Existe: \" + mutacion)\n",
    "            else:\n",
    "                benigno = False\n",
    "                #print(mutacion)\n",
    "                for a in range(posicion+1, posicion+10):\n",
    "                    #print(str(a) + \" > \" + lines[a])\n",
    "                    if \"Benign\" in lines[a]:\n",
    "                        #print(lines[a])\n",
    "                        benigno = True\n",
    "                if benigno == False:\n",
    "                    print(ficheroPDF + \" - Existe: \" + mutacion)\n",
    "                    \n",
    "            for a in range(posicion+1, posicion+10):\n",
    "                if \"Pathogeni\" in lines[a]:\n",
    "                    print(ficheroPDF + \" - Existe: \" + mutacion + \" - Pathogenic\")\n",
    "                    \n",
    "patogen = {}\n",
    "\n",
    "for ficheroPDF in ficheros:\n",
    "    lines = LeerDocumento(os.path.join(Ruta,ficheroPDF))\n",
    "    genpato2 = []\n",
    "    \n",
    "    for mutacion in mutaciones:\n",
    "        if mutacion in lines:\n",
    "            posicion = lines.index(mutacion)\n",
    "            \n",
    "            for a in range(posicion+1, min(posicion+10, len(lines))):\n",
    "                if \"Pathogeni\" in lines[a]:\n",
    "                    genpato2.append(mutacion)\n",
    "                    print(ficheroPDF + \" - Existe: \" + mutacion + \" - Pathogenic\")\n",
    "            \n",
    "                    \n",
    "    \n",
    "    patogen[ficheroPDF] = genpato2\n",
    "    \n",
    "print(patogen)"
   ]
  },
  {
   "cell_type": "code",
   "execution_count": null,
   "metadata": {},
   "outputs": [],
   "source": []
  },
  {
   "cell_type": "code",
   "execution_count": 184,
   "metadata": {},
   "outputs": [
    {
     "name": "stdout",
     "output_type": "stream",
     "text": [
      "Sample_1_v100_ec96983e-d816-4baf-8544-ca0572acc9fa_2023-03-02_11-57-06-352_All.pdf - Existe: MYC\n",
      "Sample_1_v100_ec96983e-d816-4baf-8544-ca0572acc9fa_2023-03-02_11-57-06-352_All.pdf - Número total de mutaciones : 1\n",
      "Sample_2_v100_dc008f2f-9bc7-4ac2-89d2-7f3ba6fdb04d_2023-03-02_11-56-10-540_All.pdf - Existe: KRAS\n",
      "Sample_2_v100_dc008f2f-9bc7-4ac2-89d2-7f3ba6fdb04d_2023-03-02_11-56-10-540_All.pdf - Número total de mutaciones : 1\n",
      "Sample_3_v100_50c27cd1-3ee7-490c-8ec6-30091039bb9c_2023-03-02_11-55-40-900_All.pdf - Número total de mutaciones : 0\n",
      "Sample_4_v100_03eb528b-ded2-4db9-81fe-e1553385db88_2023-03-02_11-54-08-761_All.pdf - Existe: FGFR1\n",
      "Sample_4_v100_03eb528b-ded2-4db9-81fe-e1553385db88_2023-03-02_11-54-08-761_All.pdf - Existe: PIK3CA\n",
      "Sample_4_v100_03eb528b-ded2-4db9-81fe-e1553385db88_2023-03-02_11-54-08-761_All.pdf - Número total de mutaciones : 2\n",
      "Sample_5_v100_da86c58e-d529-400b-8812-506948d0c3ed_2023-03-02_11-53-07-777_All.pdf - Existe: CDK6\n",
      "Sample_5_v100_da86c58e-d529-400b-8812-506948d0c3ed_2023-03-02_11-53-07-777_All.pdf - Existe: MET\n",
      "Sample_5_v100_da86c58e-d529-400b-8812-506948d0c3ed_2023-03-02_11-53-07-777_All.pdf - Número total de mutaciones : 2\n",
      "Sample_6_v100_52c1af10-c6e1-4f44-85d8-bfa7260fb9ff_2023-03-02_11-52-19-927_All.pdf - Existe: CTNNB1\n",
      "Sample_6_v100_52c1af10-c6e1-4f44-85d8-bfa7260fb9ff_2023-03-02_11-52-19-927_All.pdf - Existe: EGFR\n",
      "Sample_6_v100_52c1af10-c6e1-4f44-85d8-bfa7260fb9ff_2023-03-02_11-52-19-927_All.pdf - Número total de mutaciones : 2\n",
      "Sample_7_v100_869cc724-f5f4-4d61-a708-c818a6c062ef_2023-03-02_11-50-41-677_All.pdf - Existe: HRAS\n",
      "Sample_7_v100_869cc724-f5f4-4d61-a708-c818a6c062ef_2023-03-02_11-50-41-677_All.pdf - Número total de mutaciones : 1\n",
      "Sample_8_v100_14451fbc-44ce-480e-9107-c6ab537a1fda_2023-03-02_11-49-41-641_All.pdf - Existe: KIT\n",
      "Sample_8_v100_14451fbc-44ce-480e-9107-c6ab537a1fda_2023-03-02_11-49-41-641_All.pdf - Existe: MYC\n",
      "Sample_8_v100_14451fbc-44ce-480e-9107-c6ab537a1fda_2023-03-02_11-49-41-641_All.pdf - Número total de mutaciones : 2\n"
     ]
    }
   ],
   "source": [
    "#TOTAL DEL NÚMERO DE MUTACIONES BIEN!!\n",
    "ficheros = LeerFicherosPDF(Ruta)\n",
    "max_mut = 0\n",
    "\n",
    "for ficheroPDF in ficheros:\n",
    "    lines = LeerDocumento(os.path.join(Ruta,ficheroPDF))\n",
    "    total_mut = 0\n",
    "    \n",
    "    for mutacion in mutaciones:\n",
    "        if mutacion in lines:\n",
    "            posicion = lines.index(mutacion)\n",
    "            \n",
    "            #print(ficheroPDF + \" - Existe: \" + mutacion)\n",
    "            #print(posiciones)\n",
    "            if mutacion == \"FGFR4\": #solo el tipo p.(P136L)\n",
    "                #posicion = lines.index(\"FGFR4\")\n",
    "                #print(posicion)\n",
    "                #print(posicion + 1)\n",
    "                if (posicion < len(lines)-1 and lines[posicion + 1] == \"p.(P136L)\"):\n",
    "                    pass\n",
    "                else:\n",
    "                    total_mut += 1\n",
    "                    print(ficheroPDF + \" - Existe: \" + mutacion)\n",
    "            else:\n",
    "                benigno = False\n",
    "                #print(mutacion)\n",
    "                for a in range(posicion+1, posicion+10):\n",
    "                    #print(str(a) + \" > \" + lines[a])\n",
    "                    if \"Benign\" in lines[a]:\n",
    "                        #print(lines[a])\n",
    "                        benigno = True\n",
    "                if benigno == False:\n",
    "                    total_mut += 1\n",
    "                    print(ficheroPDF + \" - Existe: \" + mutacion)\n",
    "                    \n",
    "                    \n",
    "    if total_mut > max_mut:\n",
    "        max_mut = total_mut\n",
    "    print(f\"{ficheroPDF} - Número total de mutaciones : {total_mut}\")\n"
   ]
  },
  {
   "cell_type": "code",
   "execution_count": null,
   "metadata": {},
   "outputs": [],
   "source": []
  },
  {
   "cell_type": "markdown",
   "metadata": {},
   "source": [
    "## MUTACIONES "
   ]
  },
  {
   "cell_type": "code",
   "execution_count": 186,
   "metadata": {},
   "outputs": [
    {
     "name": "stdout",
     "output_type": "stream",
     "text": [
      "Sample_1_v100_ec96983e-d816-4baf-8544-ca0572acc9fa_2023-03-02_11-57-06-352_All.pdf - Existe: MYC\n",
      "Sample_1_v100_ec96983e-d816-4baf-8544-ca0572acc9fa_2023-03-02_11-57-06-352_All.pdf - Número total de mutaciones : 1\n",
      "Sample_2_v100_dc008f2f-9bc7-4ac2-89d2-7f3ba6fdb04d_2023-03-02_11-56-10-540_All.pdf - Existe: KRAS\n",
      "Sample_2_v100_dc008f2f-9bc7-4ac2-89d2-7f3ba6fdb04d_2023-03-02_11-56-10-540_All.pdf - Número total de mutaciones : 1\n",
      "Sample_3_v100_50c27cd1-3ee7-490c-8ec6-30091039bb9c_2023-03-02_11-55-40-900_All.pdf - Número total de mutaciones : 0\n",
      "Sample_4_v100_03eb528b-ded2-4db9-81fe-e1553385db88_2023-03-02_11-54-08-761_All.pdf - Existe: FGFR1\n",
      "Sample_4_v100_03eb528b-ded2-4db9-81fe-e1553385db88_2023-03-02_11-54-08-761_All.pdf - Existe: PIK3CA\n",
      "Sample_4_v100_03eb528b-ded2-4db9-81fe-e1553385db88_2023-03-02_11-54-08-761_All.pdf - Número total de mutaciones : 2\n",
      "Sample_5_v100_da86c58e-d529-400b-8812-506948d0c3ed_2023-03-02_11-53-07-777_All.pdf - Existe: CDK6\n",
      "Sample_5_v100_da86c58e-d529-400b-8812-506948d0c3ed_2023-03-02_11-53-07-777_All.pdf - Existe: MET\n",
      "Sample_5_v100_da86c58e-d529-400b-8812-506948d0c3ed_2023-03-02_11-53-07-777_All.pdf - Número total de mutaciones : 2\n",
      "Sample_6_v100_52c1af10-c6e1-4f44-85d8-bfa7260fb9ff_2023-03-02_11-52-19-927_All.pdf - Existe: CTNNB1\n",
      "Sample_6_v100_52c1af10-c6e1-4f44-85d8-bfa7260fb9ff_2023-03-02_11-52-19-927_All.pdf - Existe: EGFR\n",
      "Sample_6_v100_52c1af10-c6e1-4f44-85d8-bfa7260fb9ff_2023-03-02_11-52-19-927_All.pdf - Número total de mutaciones : 2\n",
      "Sample_7_v100_869cc724-f5f4-4d61-a708-c818a6c062ef_2023-03-02_11-50-41-677_All.pdf - Existe: HRAS\n",
      "Sample_7_v100_869cc724-f5f4-4d61-a708-c818a6c062ef_2023-03-02_11-50-41-677_All.pdf - Número total de mutaciones : 1\n",
      "Sample_8_v100_14451fbc-44ce-480e-9107-c6ab537a1fda_2023-03-02_11-49-41-641_All.pdf - Existe: KIT\n",
      "Sample_8_v100_14451fbc-44ce-480e-9107-c6ab537a1fda_2023-03-02_11-49-41-641_All.pdf - Existe: MYC\n",
      "Sample_8_v100_14451fbc-44ce-480e-9107-c6ab537a1fda_2023-03-02_11-49-41-641_All.pdf - Número total de mutaciones : 2\n",
      "{'Sample_1_v100_ec96983e-d816-4baf-8544-ca0572acc9fa_2023-03-02_11-57-06-352_All.pdf': ['MYC'], 'Sample_2_v100_dc008f2f-9bc7-4ac2-89d2-7f3ba6fdb04d_2023-03-02_11-56-10-540_All.pdf': ['KRAS'], 'Sample_3_v100_50c27cd1-3ee7-490c-8ec6-30091039bb9c_2023-03-02_11-55-40-900_All.pdf': [], 'Sample_4_v100_03eb528b-ded2-4db9-81fe-e1553385db88_2023-03-02_11-54-08-761_All.pdf': ['FGFR1', 'PIK3CA'], 'Sample_5_v100_da86c58e-d529-400b-8812-506948d0c3ed_2023-03-02_11-53-07-777_All.pdf': ['CDK6', 'MET'], 'Sample_6_v100_52c1af10-c6e1-4f44-85d8-bfa7260fb9ff_2023-03-02_11-52-19-927_All.pdf': ['CTNNB1', 'EGFR'], 'Sample_7_v100_869cc724-f5f4-4d61-a708-c818a6c062ef_2023-03-02_11-50-41-677_All.pdf': ['HRAS'], 'Sample_8_v100_14451fbc-44ce-480e-9107-c6ab537a1fda_2023-03-02_11-49-41-641_All.pdf': ['KIT', 'MYC']}\n"
     ]
    }
   ],
   "source": [
    "#OBTENCIÓN GENES, NÚMERO Y VALORES BIEN!!\n",
    "ficheros = LeerFicherosPDF(Ruta)\n",
    "max_mut = 0\n",
    "genes_mut2 = {}\n",
    "\n",
    "for ficheroPDF in ficheros:\n",
    "    lines = LeerDocumento(os.path.join(Ruta,ficheroPDF))\n",
    "    total_mut = 0\n",
    "    encontrados2 = []\n",
    "    \n",
    "    for mutacion in mutaciones:\n",
    "        if mutacion in lines:\n",
    "            posicion = lines.index(mutacion)\n",
    "            \n",
    "            #print(ficheroPDF + \" - Existe: \" + mutacion)\n",
    "            #print(posiciones)\n",
    "            if mutacion == \"FGFR4\": #solo el tipo p.(P136L)\n",
    "                #posicion = lines.index(\"FGFR4\")\n",
    "                #print(posicion)\n",
    "                #print(posicion + 1)\n",
    "                if (posicion < len(lines)-1 and lines[posicion + 1] == \"p.(P136L)\"):\n",
    "                    pass\n",
    "                else:\n",
    "                    total_mut += 1\n",
    "                    encontrados2.append(mutacion)\n",
    "                    print(ficheroPDF + \" - Existe: \" + mutacion)\n",
    "            else:\n",
    "                benigno = False\n",
    "                #print(mutacion)\n",
    "                for a in range(posicion+1, posicion+10):\n",
    "                    #print(str(a) + \" > \" + lines[a])\n",
    "                    if \"Benign\" in lines[a]:\n",
    "                        #print(lines[a])\n",
    "                        benigno = True\n",
    "                if benigno == False:\n",
    "                    total_mut += 1\n",
    "                    encontrados2.append(mutacion)\n",
    "                    print(ficheroPDF + \" - Existe: \" + mutacion)\n",
    "                    \n",
    "    \n",
    "    genes_mut2[ficheroPDF] = encontrados2\n",
    "    if total_mut > max_mut:\n",
    "        max_mut = total_mut\n",
    "    print(f\"{ficheroPDF} - Número total de mutaciones : {total_mut}\")\n",
    "print(genes_mut2)"
   ]
  },
  {
   "cell_type": "code",
   "execution_count": 187,
   "metadata": {},
   "outputs": [
    {
     "data": {
      "text/plain": [
       "[['MYC'],\n",
       " ['KRAS'],\n",
       " [],\n",
       " ['FGFR1', 'PIK3CA'],\n",
       " ['CDK6', 'MET'],\n",
       " ['CTNNB1', 'EGFR'],\n",
       " ['HRAS'],\n",
       " ['KIT', 'MYC']]"
      ]
     },
     "execution_count": 187,
     "metadata": {},
     "output_type": "execute_result"
    }
   ],
   "source": [
    "mut = list(genes_mut2.values())\n",
    "mut"
   ]
  },
  {
   "cell_type": "code",
   "execution_count": 188,
   "metadata": {},
   "outputs": [
    {
     "name": "stdout",
     "output_type": "stream",
     "text": [
      "[1, 1, 0, 2, 2, 2, 1, 2]\n"
     ]
    }
   ],
   "source": [
    "num_mutaciones = [len(i) for i in mut]\n",
    "print(num_mutaciones)"
   ]
  },
  {
   "cell_type": "code",
   "execution_count": 189,
   "metadata": {},
   "outputs": [
    {
     "name": "stdout",
     "output_type": "stream",
     "text": [
      "[[40], [35], [], [22, 47], [10, 38], [11, 13], [28], [34, 40]]\n"
     ]
    }
   ],
   "source": [
    "numero_iden = []\n",
    "for i in mut:\n",
    "    valores = [mutaciones_dic.get(gen, 0) for gen in i]\n",
    "    numero_iden.append(valores)\n",
    "\n",
    "print(numero_iden)"
   ]
  },
  {
   "cell_type": "markdown",
   "metadata": {},
   "source": [
    "## FRECUENCIA ALÉLICA"
   ]
  },
  {
   "cell_type": "code",
   "execution_count": 270,
   "metadata": {},
   "outputs": [
    {
     "name": "stdout",
     "output_type": "stream",
     "text": [
      "Sample_1_v100_ec96983e-d816-4baf-8544-ca0572acc9fa_2023-03-02_11-57-06-352_All.pdf - Existe: MYC\n",
      "Sample_1_v100_ec96983e-d816-4baf-8544-ca0572acc9fa_2023-03-02_11-57-06-352_All.pdf - Frecuencias: ['49.56']\n",
      "Sample_2_v100_dc008f2f-9bc7-4ac2-89d2-7f3ba6fdb04d_2023-03-02_11-56-10-540_All.pdf - Existe: KRAS\n",
      "Sample_2_v100_dc008f2f-9bc7-4ac2-89d2-7f3ba6fdb04d_2023-03-02_11-56-10-540_All.pdf - Frecuencias: ['66.50']\n",
      "Sample_3_v100_50c27cd1-3ee7-490c-8ec6-30091039bb9c_2023-03-02_11-55-40-900_All.pdf - Frecuencias: []\n",
      "Sample_4_v100_03eb528b-ded2-4db9-81fe-e1553385db88_2023-03-02_11-54-08-761_All.pdf - Existe: FGFR1\n",
      "Sample_4_v100_03eb528b-ded2-4db9-81fe-e1553385db88_2023-03-02_11-54-08-761_All.pdf - Existe: PIK3CA\n",
      "Sample_4_v100_03eb528b-ded2-4db9-81fe-e1553385db88_2023-03-02_11-54-08-761_All.pdf - Frecuencias: []\n",
      "Sample_5_v100_da86c58e-d529-400b-8812-506948d0c3ed_2023-03-02_11-53-07-777_All.pdf - Existe: CDK6\n",
      "Sample_5_v100_da86c58e-d529-400b-8812-506948d0c3ed_2023-03-02_11-53-07-777_All.pdf - Existe: MET\n",
      "Sample_5_v100_da86c58e-d529-400b-8812-506948d0c3ed_2023-03-02_11-53-07-777_All.pdf - Frecuencias: ['21.75', '21.75']\n",
      "Sample_6_v100_52c1af10-c6e1-4f44-85d8-bfa7260fb9ff_2023-03-02_11-52-19-927_All.pdf - Existe: CTNNB1\n",
      "Sample_6_v100_52c1af10-c6e1-4f44-85d8-bfa7260fb9ff_2023-03-02_11-52-19-927_All.pdf - Existe: EGFR\n",
      "Sample_6_v100_52c1af10-c6e1-4f44-85d8-bfa7260fb9ff_2023-03-02_11-52-19-927_All.pdf - Frecuencias: ['27.51', '35.40']\n",
      "Sample_7_v100_869cc724-f5f4-4d61-a708-c818a6c062ef_2023-03-02_11-50-41-677_All.pdf - Existe: HRAS\n",
      "Sample_7_v100_869cc724-f5f4-4d61-a708-c818a6c062ef_2023-03-02_11-50-41-677_All.pdf - Frecuencias: ['46.17']\n",
      "Sample_8_v100_14451fbc-44ce-480e-9107-c6ab537a1fda_2023-03-02_11-49-41-641_All.pdf - Existe: KIT\n",
      "Sample_8_v100_14451fbc-44ce-480e-9107-c6ab537a1fda_2023-03-02_11-49-41-641_All.pdf - Existe: MYC\n",
      "Sample_8_v100_14451fbc-44ce-480e-9107-c6ab537a1fda_2023-03-02_11-49-41-641_All.pdf - Frecuencias: ['53.12', '60.64']\n",
      "[['49.56'], ['66.50'], [], [], ['21.75', '21.75'], ['27.51', '35.40'], ['46.17'], ['53.12', '60.64']]\n"
     ]
    }
   ],
   "source": [
    "patron_frecuencia = re.compile(r\"\\d{2}\\.\\d{2}\")\n",
    "frecuencias_totales = []\n",
    "\n",
    "for ficheroPDF in ficheros:\n",
    "    lines = LeerDocumento(os.path.join(Ruta, ficheroPDF))\n",
    "    lista_frec = []\n",
    "    \n",
    "    for mutacion in mutaciones:\n",
    "        if mutacion in lines:\n",
    "            posicion = lines.index(mutacion)\n",
    "            \n",
    "            if mutacion == \"FGFR4\":\n",
    "                if posicion < len(lines) - 1 and lines[posicion + 1] == \"p.(P136L)\":\n",
    "                    pass\n",
    "                else:\n",
    "                    print(f\"{ficheroPDF} - Existe: {mutacion}\")\n",
    "            else:\n",
    "                benigno = False\n",
    "                for a in range(posicion + 1, posicion + 10):\n",
    "                    if \"Benign\" in lines[a]:\n",
    "                        benigno = True\n",
    "                if not benigno:\n",
    "                    print(f\"{ficheroPDF} - Existe: {mutacion}\")\n",
    "                    for i in lines[posicion:posicion+10]:\n",
    "                        resultado = re.search(patron_frecuencia, i)\n",
    "                        if resultado:\n",
    "                            frec = resultado.group()\n",
    "                            lista_frec.append(frec)\n",
    "                            frecuencias.append(frec)\n",
    "        \n",
    "    print(f\"{ficheroPDF} - Frecuencias: {lista_frec}\")\n",
    "    frecuencias_totales.append(lista_frec)\n",
    "    \n",
    "print(frecuencias_totales)\n"
   ]
  },
  {
   "cell_type": "code",
   "execution_count": 253,
   "metadata": {},
   "outputs": [
    {
     "data": {
      "text/plain": [
       "[['49.56'],\n",
       " ['66.50'],\n",
       " [],\n",
       " [],\n",
       " ['21.75', '21.75'],\n",
       " ['27.51', '35.40'],\n",
       " ['46.17'],\n",
       " ['53.12', '60.64']]"
      ]
     },
     "execution_count": 253,
     "metadata": {},
     "output_type": "execute_result"
    }
   ],
   "source": [
    "frecuencias_totales"
   ]
  },
  {
   "cell_type": "code",
   "execution_count": 254,
   "metadata": {},
   "outputs": [
    {
     "name": "stdout",
     "output_type": "stream",
     "text": [
      "Sample_1_v100_ec96983e-d816-4baf-8544-ca0572acc9fa_2023-03-02_11-57-06-352_All.pdf - Frecuencias: []\n",
      "Sample_2_v100_dc008f2f-9bc7-4ac2-89d2-7f3ba6fdb04d_2023-03-02_11-56-10-540_All.pdf- Existe: KRAS- Pathogenic\n",
      "Sample_2_v100_dc008f2f-9bc7-4ac2-89d2-7f3ba6fdb04d_2023-03-02_11-56-10-540_All.pdf - Frecuencias: ['66.50']\n",
      "Sample_3_v100_50c27cd1-3ee7-490c-8ec6-30091039bb9c_2023-03-02_11-55-40-900_All.pdf - Frecuencias: []\n",
      "Sample_4_v100_03eb528b-ded2-4db9-81fe-e1553385db88_2023-03-02_11-54-08-761_All.pdf - Frecuencias: []\n",
      "Sample_5_v100_da86c58e-d529-400b-8812-506948d0c3ed_2023-03-02_11-53-07-777_All.pdf - Frecuencias: []\n",
      "Sample_6_v100_52c1af10-c6e1-4f44-85d8-bfa7260fb9ff_2023-03-02_11-52-19-927_All.pdf- Existe: CTNNB1- Pathogenic\n",
      "Sample_6_v100_52c1af10-c6e1-4f44-85d8-bfa7260fb9ff_2023-03-02_11-52-19-927_All.pdf - Frecuencias: ['27.51']\n",
      "Sample_7_v100_869cc724-f5f4-4d61-a708-c818a6c062ef_2023-03-02_11-50-41-677_All.pdf - Frecuencias: []\n",
      "Sample_8_v100_14451fbc-44ce-480e-9107-c6ab537a1fda_2023-03-02_11-49-41-641_All.pdf - Frecuencias: []\n",
      "[[], ['66.50'], [], [], [], ['27.51'], [], []]\n"
     ]
    }
   ],
   "source": [
    "patron_frecuencia = re.compile(r\"\\d{2}\\.\\d{2}\")\n",
    "frecuenciasPato = []\n",
    "\n",
    "for ficheroPDF in ficheros:\n",
    "    lines = LeerDocumento(os.path.join(Ruta, ficheroPDF))\n",
    "    lista_frec = []\n",
    "    \n",
    "    for mutacion in mutaciones:\n",
    "        if mutacion in lines:\n",
    "            posicion = lines.index(mutacion)\n",
    "            \n",
    "            for a in range(posicion+1, min(posicion+10, len(lines))):\n",
    "                if \"Pathogeni\" in lines[a]:\n",
    "                    print(ficheroPDF + \"- Existe: \" + mutacion + \"- Pathogenic\")\n",
    "            \n",
    "                    for i in lines[posicion:posicion+10]:\n",
    "                        resultado = re.search(patron_frecuencia, i)\n",
    "                        if resultado:\n",
    "                            frec = resultado.group()\n",
    "                            lista_frec.append(frec)\n",
    "                            #frecuencias.append(frec)\n",
    "    frecuenciasPato.append(lista_frec)\n",
    "                            #print(f\"   Frecuencia: {frec}\")\n",
    "        \n",
    "    print(f\"{ficheroPDF} - Frecuencias: {lista_frec}\")\n",
    "    \n",
    "print(frecuenciasPato)\n"
   ]
  },
  {
   "cell_type": "code",
   "execution_count": 255,
   "metadata": {},
   "outputs": [
    {
     "data": {
      "text/plain": [
       "[[], ['66.50'], [], [], [], ['27.51'], [], []]"
      ]
     },
     "execution_count": 255,
     "metadata": {},
     "output_type": "execute_result"
    }
   ],
   "source": [
    "frecuenciasPato"
   ]
  },
  {
   "cell_type": "markdown",
   "metadata": {},
   "source": [
    "## ID VARIANTE"
   ]
  },
  {
   "cell_type": "code",
   "execution_count": null,
   "metadata": {},
   "outputs": [],
   "source": []
  },
  {
   "cell_type": "markdown",
   "metadata": {},
   "source": [
    "## NÚMERO DE CHIP Y PACIENTE"
   ]
  },
  {
   "cell_type": "code",
   "execution_count": 193,
   "metadata": {},
   "outputs": [
    {
     "name": "stdout",
     "output_type": "stream",
     "text": [
      "Sample_1_v100_ec96983e-d816-4baf-8544-ca0572acc9fa_2023-03-02_11-57-06-352_All.pdf\n",
      "Sample_2_v100_dc008f2f-9bc7-4ac2-89d2-7f3ba6fdb04d_2023-03-02_11-56-10-540_All.pdf\n",
      "Sample_3_v100_50c27cd1-3ee7-490c-8ec6-30091039bb9c_2023-03-02_11-55-40-900_All.pdf\n",
      "Sample_4_v100_03eb528b-ded2-4db9-81fe-e1553385db88_2023-03-02_11-54-08-761_All.pdf\n",
      "Sample_5_v100_da86c58e-d529-400b-8812-506948d0c3ed_2023-03-02_11-53-07-777_All.pdf\n",
      "Sample_6_v100_52c1af10-c6e1-4f44-85d8-bfa7260fb9ff_2023-03-02_11-52-19-927_All.pdf\n",
      "Sample_7_v100_869cc724-f5f4-4d61-a708-c818a6c062ef_2023-03-02_11-50-41-677_All.pdf\n",
      "Sample_8_v100_14451fbc-44ce-480e-9107-c6ab537a1fda_2023-03-02_11-49-41-641_All.pdf\n"
     ]
    }
   ],
   "source": [
    "#Leemos todos los nombres de los archivos PDF\n",
    "Ruta = 'C:/Users/luciv/OneDrive/Documentos/TFG_Lucia/RE_PDF_inventados'\n",
    "archivos = os.listdir(Ruta)\n",
    "\n",
    "for archivo in archivos:\n",
    "    if os.path.isfile(os.path.join(Ruta, archivo)) and archivo.endswith(\".pdf\"):\n",
    "        print(archivo)"
   ]
  },
  {
   "cell_type": "code",
   "execution_count": 195,
   "metadata": {},
   "outputs": [
    {
     "name": "stdout",
     "output_type": "stream",
     "text": [
      "['1']\n",
      "['1', '2']\n",
      "['1', '2', '3']\n",
      "['1', '2', '3', '4']\n",
      "['1', '2', '3', '4', '5']\n",
      "['1', '2', '3', '4', '5', '6']\n",
      "['1', '2', '3', '4', '5', '6', '7']\n",
      "['1', '2', '3', '4', '5', '6', '7', '8']\n"
     ]
    }
   ],
   "source": [
    "#Sacamos el tercer valor de cada nombre, que es el que indica el número del paciente\n",
    "Ruta = 'C:/Users/luciv/OneDrive/Documentos/TFG_Lucia/RE_PDF_inventados'\n",
    "archivos = os.listdir(Ruta)\n",
    "numero_paciente = []\n",
    "\n",
    "for archivo in archivos:\n",
    "    if os.path.isfile(os.path.join(Ruta, archivo)) and archivo.endswith(\".pdf\"):\n",
    "        paciente = os.path.splitext(archivo)[0]\n",
    "        pacientes = paciente[7]\n",
    "        numero_paciente.append(pacientes)\n",
    "        print(numero_paciente)"
   ]
  },
  {
   "cell_type": "code",
   "execution_count": 196,
   "metadata": {},
   "outputs": [
    {
     "data": {
      "text/plain": [
       "['1', '2', '3', '4', '5', '6', '7', '8']"
      ]
     },
     "execution_count": 196,
     "metadata": {},
     "output_type": "execute_result"
    }
   ],
   "source": [
    "numero_paciente"
   ]
  },
  {
   "cell_type": "code",
   "execution_count": 197,
   "metadata": {},
   "outputs": [
    {
     "name": "stdout",
     "output_type": "stream",
     "text": [
      "['100', '100', '100', '100', '100', '100', '100', '100']\n"
     ]
    }
   ],
   "source": [
    "#Otra forma usando expresiones regulares para sacar el número de chip\n",
    "Ruta = 'C:/Users/luciv/OneDrive/Documentos/TFG_Lucia/RE_PDF_inventados'\n",
    "archivos = os.listdir(Ruta)\n",
    "chip2 = []\n",
    "\n",
    "for archivo in archivos:\n",
    "    if os.path.isfile(os.path.join(Ruta, archivo)) and archivo.endswith(\".pdf\"):\n",
    "        patron = r\"v(\\d+)_\"\n",
    "        resultado = re.search(patron, archivo)\n",
    "        if resultado:\n",
    "            numero_chip = resultado.group(1)\n",
    "            chip2.append(numero_chip)\n",
    "print(chip2)"
   ]
  },
  {
   "cell_type": "code",
   "execution_count": 198,
   "metadata": {},
   "outputs": [
    {
     "data": {
      "text/plain": [
       "['100', '100', '100', '100', '100', '100', '100', '100']"
      ]
     },
     "execution_count": 198,
     "metadata": {},
     "output_type": "execute_result"
    }
   ],
   "source": [
    "chip2"
   ]
  },
  {
   "cell_type": "markdown",
   "metadata": {},
   "source": [
    "## OBTENCIÓN DE ALGUNOS RESULTADOS."
   ]
  },
  {
   "cell_type": "code",
   "execution_count": 199,
   "metadata": {},
   "outputs": [
    {
     "name": "stdout",
     "output_type": "stream",
     "text": [
      "[['00021', '00021', '00021'], ['00022', '00022', '00022'], ['00023', '00023'], ['00024', '00024'], ['00025', '00025', '00025'], ['00026', '00026', '00026'], ['00027', '00027'], ['00028', '00028']]\n",
      "[['23B00021-A1', '23B00021-A1', '23B00021-A1'], ['22B00022-A2', '22B00022-A2', '22B00022-A2'], ['21B00023-A1', '21B00023-A1'], ['23B00024-A1', '23B00024-A1'], ['23C00025-A1', '23C00025-A1', '23C00025-A1'], ['23P00026', '23P00026', '23P00026'], ['22B00027-C4', '22B00027-C4'], ['23B00028-A2', '23B00028-A2']]\n",
      "[['24-mar-2023', '24-mar-2023', '24-mar-2023'], ['24-mar-2023', '24-mar-2023', '24-mar-2023'], ['24-mar-2023', '24-mar-2023'], ['24-mar-2023', '24-mar-2023'], ['24-mar-2023', '24-mar-2023', '24-mar-2023'], ['24-mar-2023', '24-mar-2023', '24-mar-2023'], ['24-mar-2023', '24-mar-2023'], ['24-mar-2023', '24-mar-2023']]\n",
      "[['Carcinoma pulmonar no microcítico'], ['Carcinoma pulmonar no microcítico'], ['Carcinoma pulmonar no microcítico'], ['Carcinoma pulmonar no microcítico'], ['Carcinoma pulmonar no microcítico'], ['Carcinoma pulmonar no microcítico'], ['Cáncer tiroideo'], ['Cáncer gástrico']]\n"
     ]
    }
   ],
   "source": [
    "fecha_Data = []\n",
    "NHC_Data = [] \n",
    "Nbiopsia_Data = [] \n",
    "texto_Data = []\n",
    "\n",
    "Ruta = 'C:/Users/luciv/OneDrive/Documentos/TFG_Lucia/RE_PDF_inventados'\n",
    "#RutaPatricia = ... carpeta que nos hemos inventado para trabajar cuando se lo pase\n",
    "\n",
    "ficheros = LeerFicherosPDF(Ruta)\n",
    "\n",
    "for ficheroPDF in ficheros:\n",
    "    #print(os.path.join(Ruta,ficheroPDF))\n",
    "    lines = LeerDocumento(os.path.join(Ruta,ficheroPDF))\n",
    "\n",
    "    #print(lines)\n",
    "\n",
    "    NHC_Data.append(BuscarValor(\"NHC:\", lines))\n",
    "    Nbiopsia_Data.append(BuscarValor(\"biopsia:\", lines))\n",
    "    fecha_Data.append(BuscarValor(\"Fecha:\", lines))\n",
    "    texto_Data.append(BuscarValor(\"de la muestra:\", lines))\n",
    "   \n",
    "\n",
    "    GenerarImagen(Ruta,ficheroPDF)\n",
    "\n",
    "print(NHC_Data)\n",
    "print(Nbiopsia_Data)\n",
    "print(fecha_Data)\n",
    "print(texto_Data)\n"
   ]
  },
  {
   "cell_type": "markdown",
   "metadata": {},
   "source": [
    "## DIAGNÓSTICO."
   ]
  },
  {
   "cell_type": "code",
   "execution_count": 200,
   "metadata": {},
   "outputs": [
    {
     "name": "stdout",
     "output_type": "stream",
     "text": [
      "['Carcinoma pulmonar no microcítico', 'Carcinoma pulmonar no microcítico', 'Carcinoma pulmonar no microcítico', 'Carcinoma pulmonar no microcítico', 'Carcinoma pulmonar no microcítico', 'Carcinoma pulmonar no microcítico', 'Cáncer tiroideo', 'Cáncer gástrico']\n",
      "[15.1]\n",
      "[15.1, 15.1]\n",
      "[15.1, 15.1, 15.1]\n",
      "[15.1, 15.1, 15.1, 15.1]\n",
      "[15.1, 15.1, 15.1, 15.1, 15.1]\n",
      "[15.1, 15.1, 15.1, 15.1, 15.1, 15.1]\n",
      "[15.1, 15.1, 15.1, 15.1, 15.1, 15.1, 30.0]\n",
      "[15.1, 15.1, 15.1, 15.1, 15.1, 15.1, 30.0, 11.0]\n"
     ]
    }
   ],
   "source": [
    "textoDiag = []\n",
    "numeroDiag = []\n",
    "\n",
    "for i in texto_Data:\n",
    "    sinduplicados = list(set(i))\n",
    "    textoDiag.append([x for x in i if x in sinduplicados][0])\n",
    "print(textoDiag)\n",
    "    \n",
    "for diagnostico in textoDiag:\n",
    "    valor = diagnosticos_dic.get(diagnostico)\n",
    "    numeroDiag.append(valor)\n",
    "    print(numeroDiag)\n",
    "    "
   ]
  },
  {
   "cell_type": "code",
   "execution_count": 201,
   "metadata": {},
   "outputs": [
    {
     "data": {
      "text/plain": [
       "[15.1, 15.1, 15.1, 15.1, 15.1, 15.1, 30.0, 11.0]"
      ]
     },
     "execution_count": 201,
     "metadata": {},
     "output_type": "execute_result"
    }
   ],
   "source": [
    "numeroDiag"
   ]
  },
  {
   "cell_type": "markdown",
   "metadata": {},
   "source": [
    "## NHC"
   ]
  },
  {
   "cell_type": "code",
   "execution_count": 202,
   "metadata": {},
   "outputs": [
    {
     "name": "stdout",
     "output_type": "stream",
     "text": [
      "['00026', '00025', '00021', '00024', '00022', '00023', '00027', '00028']\n",
      "['00021', '00022', '00023', '00024', '00025', '00026', '00027', '00028']\n"
     ]
    }
   ],
   "source": [
    "NHC_Data_val = list(set([valor for sublist in NHC_Data for valor in sublist]))\n",
    "print(NHC_Data_val)\n",
    "NHC_final = sorted(NHC_Data_val)\n",
    "print(NHC_final)"
   ]
  },
  {
   "cell_type": "markdown",
   "metadata": {},
   "source": [
    "## BIOPSIA"
   ]
  },
  {
   "cell_type": "code",
   "execution_count": 203,
   "metadata": {},
   "outputs": [
    {
     "data": {
      "text/plain": [
       "[['23B00021-A1', '23B00021-A1', '23B00021-A1'],\n",
       " ['22B00022-A2', '22B00022-A2', '22B00022-A2'],\n",
       " ['21B00023-A1', '21B00023-A1'],\n",
       " ['23B00024-A1', '23B00024-A1'],\n",
       " ['23C00025-A1', '23C00025-A1', '23C00025-A1'],\n",
       " ['23P00026', '23P00026', '23P00026'],\n",
       " ['22B00027-C4', '22B00027-C4'],\n",
       " ['23B00028-A2', '23B00028-A2']]"
      ]
     },
     "execution_count": 203,
     "metadata": {},
     "output_type": "execute_result"
    }
   ],
   "source": [
    "Nbiopsia_Data"
   ]
  },
  {
   "cell_type": "code",
   "execution_count": 204,
   "metadata": {},
   "outputs": [
    {
     "name": "stdout",
     "output_type": "stream",
     "text": [
      "[['23B00021-A1'], ['22B00022-A2'], ['21B00023-A1'], ['23B00024-A1'], ['23C00025-A1'], ['23P00026'], ['22B00027-C4'], ['23B00028-A2']]\n",
      "['23B00021-A1', '22B00022-A2', '21B00023-A1', '23B00024-A1', '23C00025-A1', '23P00026', '22B00027-C4', '23B00028-A2']\n"
     ]
    }
   ],
   "source": [
    "lista_resultante =  []\n",
    "elementos_vistos = set()\n",
    "\n",
    "for sublist in Nbiopsia_Data:\n",
    "    sublist_sin_duplicados = []\n",
    "    for elemento in sublist:\n",
    "        if elemento not in elementos_vistos:\n",
    "            sublist_sin_duplicados.append(elemento)\n",
    "            elementos_vistos.add(elemento)\n",
    "    lista_resultante.append(sublist_sin_duplicados)\n",
    "\n",
    "print(lista_resultante)\n",
    "\n",
    "NB_values = [elemento for sublist in lista_resultante for elemento in sublist]\n",
    "print(NB_values)\n",
    " "
   ]
  },
  {
   "cell_type": "code",
   "execution_count": 205,
   "metadata": {},
   "outputs": [
    {
     "data": {
      "text/plain": [
       "['B', 'B', 'B', 'B', 'C', 'P', 'B', 'B']"
      ]
     },
     "execution_count": 205,
     "metadata": {},
     "output_type": "execute_result"
    }
   ],
   "source": [
    "biopsia = [x[2] for x in NB_values]\n",
    "biopsia"
   ]
  },
  {
   "cell_type": "code",
   "execution_count": 206,
   "metadata": {},
   "outputs": [
    {
     "name": "stdout",
     "output_type": "stream",
     "text": [
      "1\n",
      "1\n",
      "1\n",
      "1\n",
      "3\n",
      "2\n",
      "1\n",
      "1\n",
      "['1', '1', '1', '1', '3', '2', '1', '1']\n"
     ]
    }
   ],
   "source": [
    "#B de biopsia = 1\n",
    "#C de citología = 3\n",
    "#P de punción = 2\n",
    "B = \"1\"\n",
    "C = \"3\"\n",
    "P = \"2\"\n",
    "Biopsia_solida = []\n",
    "\n",
    "for i in biopsia:\n",
    "    if i == \"B\":\n",
    "        Biopsia_solida.append(B)\n",
    "        print(\"1\")\n",
    "    elif i == \"P\":\n",
    "        Biopsia_solida.append(P)\n",
    "        print(\"2\")\n",
    "    else:\n",
    "        Biopsia_solida.append(C)\n",
    "        print(\"3\")\n",
    "        \n",
    "print(Biopsia_solida)"
   ]
  },
  {
   "cell_type": "markdown",
   "metadata": {},
   "source": [
    "## FECHA"
   ]
  },
  {
   "cell_type": "code",
   "execution_count": 207,
   "metadata": {},
   "outputs": [
    {
     "name": "stdout",
     "output_type": "stream",
     "text": [
      "['24-mar-2023', '24-mar-2023', '24-mar-2023', '24-mar-2023', '24-mar-2023', '24-mar-2023', '24-mar-2023', '24-mar-2023']\n"
     ]
    }
   ],
   "source": [
    "fechas = []\n",
    "for i in fecha_Data:\n",
    "    sinduplicados = list(set(i))\n",
    "    fechas.append([x for x in i if x in sinduplicados][0])\n",
    "\n",
    "print(fechas)\n"
   ]
  },
  {
   "cell_type": "markdown",
   "metadata": {},
   "source": [
    "## VARIABLES DE INTERÉS QUE ALMACENO EN LOS DATAFRAMES"
   ]
  },
  {
   "cell_type": "code",
   "execution_count": 208,
   "metadata": {},
   "outputs": [
    {
     "data": {
      "text/plain": [
       "['100', '100', '100', '100', '100', '100', '100', '100']"
      ]
     },
     "execution_count": 208,
     "metadata": {},
     "output_type": "execute_result"
    }
   ],
   "source": [
    "# Número de chip \n",
    "chip2"
   ]
  },
  {
   "cell_type": "code",
   "execution_count": 209,
   "metadata": {},
   "outputs": [
    {
     "data": {
      "text/plain": [
       "['1', '2', '3', '4', '5', '6', '7', '8']"
      ]
     },
     "execution_count": 209,
     "metadata": {},
     "output_type": "execute_result"
    }
   ],
   "source": [
    "# Número de paciente \n",
    "numero_paciente"
   ]
  },
  {
   "cell_type": "code",
   "execution_count": 210,
   "metadata": {},
   "outputs": [
    {
     "data": {
      "text/plain": [
       "['00021', '00022', '00023', '00024', '00025', '00026', '00027', '00028']"
      ]
     },
     "execution_count": 210,
     "metadata": {},
     "output_type": "execute_result"
    }
   ],
   "source": [
    "# NHC\n",
    "NHC_final"
   ]
  },
  {
   "cell_type": "code",
   "execution_count": 211,
   "metadata": {},
   "outputs": [
    {
     "data": {
      "text/plain": [
       "['23B00021-A1',\n",
       " '22B00022-A2',\n",
       " '21B00023-A1',\n",
       " '23B00024-A1',\n",
       " '23C00025-A1',\n",
       " '23P00026',\n",
       " '22B00027-C4',\n",
       " '23B00028-A2']"
      ]
     },
     "execution_count": 211,
     "metadata": {},
     "output_type": "execute_result"
    }
   ],
   "source": [
    "# Número de biopsia \n",
    "NB_values"
   ]
  },
  {
   "cell_type": "code",
   "execution_count": 212,
   "metadata": {},
   "outputs": [
    {
     "data": {
      "text/plain": [
       "['1', '1', '1', '1', '3', '2', '1', '1']"
      ]
     },
     "execution_count": 212,
     "metadata": {},
     "output_type": "execute_result"
    }
   ],
   "source": [
    "# Biopsia sólida \n",
    "Biopsia_solida"
   ]
  },
  {
   "cell_type": "code",
   "execution_count": 213,
   "metadata": {},
   "outputs": [
    {
     "name": "stdout",
     "output_type": "stream",
     "text": [
      "[['24-mar-2023', '24-mar-2023', '24-mar-2023'], ['24-mar-2023', '24-mar-2023', '24-mar-2023'], ['24-mar-2023', '24-mar-2023'], ['24-mar-2023', '24-mar-2023'], ['24-mar-2023', '24-mar-2023', '24-mar-2023'], ['24-mar-2023', '24-mar-2023', '24-mar-2023'], ['24-mar-2023', '24-mar-2023'], ['24-mar-2023', '24-mar-2023']]\n",
      "---------------------------------------------------------------------------------------------------------------------\n",
      "['24-mar-2023', '24-mar-2023', '24-mar-2023', '24-mar-2023', '24-mar-2023', '24-mar-2023', '24-mar-2023', '24-mar-2023']\n"
     ]
    }
   ],
   "source": [
    "# Fecha de informe\n",
    "print(fecha_Data)\n",
    "print(\"---------------------------------------------------------------------------------------------------------------------\")\n",
    "print(fechas)"
   ]
  },
  {
   "cell_type": "code",
   "execution_count": 214,
   "metadata": {},
   "outputs": [
    {
     "name": "stdout",
     "output_type": "stream",
     "text": [
      "[['Carcinoma pulmonar no microcítico'], ['Carcinoma pulmonar no microcítico'], ['Carcinoma pulmonar no microcítico'], ['Carcinoma pulmonar no microcítico'], ['Carcinoma pulmonar no microcítico'], ['Carcinoma pulmonar no microcítico'], ['Cáncer tiroideo'], ['Cáncer gástrico']]\n",
      "------------------------------------------------------------------------------------------------------------------\n",
      "['Carcinoma pulmonar no microcítico', 'Carcinoma pulmonar no microcítico', 'Carcinoma pulmonar no microcítico', 'Carcinoma pulmonar no microcítico', 'Carcinoma pulmonar no microcítico', 'Carcinoma pulmonar no microcítico', 'Cáncer tiroideo', 'Cáncer gástrico']\n"
     ]
    }
   ],
   "source": [
    "# Diagnóstico \n",
    "print(texto_Data)\n",
    "print(\"------------------------------------------------------------------------------------------------------------------\")\n",
    "print(textoDiag)"
   ]
  },
  {
   "cell_type": "code",
   "execution_count": 215,
   "metadata": {},
   "outputs": [
    {
     "data": {
      "text/plain": [
       "[15.1, 15.1, 15.1, 15.1, 15.1, 15.1, 30.0, 11.0]"
      ]
     },
     "execution_count": 215,
     "metadata": {},
     "output_type": "execute_result"
    }
   ],
   "source": [
    "# Número de diagnóstico \n",
    "numeroDiag"
   ]
  },
  {
   "cell_type": "code",
   "execution_count": 216,
   "metadata": {},
   "outputs": [
    {
     "data": {
      "text/plain": [
       "[1, 1, 0, 2, 2, 2, 1, 2]"
      ]
     },
     "execution_count": 216,
     "metadata": {},
     "output_type": "execute_result"
    }
   ],
   "source": [
    "# Total del número de mutaciones\n",
    "num_mutaciones"
   ]
  },
  {
   "cell_type": "code",
   "execution_count": 217,
   "metadata": {},
   "outputs": [
    {
     "data": {
      "text/plain": [
       "[['MYC'],\n",
       " ['KRAS'],\n",
       " [],\n",
       " ['FGFR1', 'PIK3CA'],\n",
       " ['CDK6', 'MET'],\n",
       " ['CTNNB1', 'EGFR'],\n",
       " ['HRAS'],\n",
       " ['KIT', 'MYC']]"
      ]
     },
     "execution_count": 217,
     "metadata": {},
     "output_type": "execute_result"
    }
   ],
   "source": [
    "# Mutaciones detectadas totales \n",
    "mut"
   ]
  },
  {
   "cell_type": "code",
   "execution_count": 256,
   "metadata": {},
   "outputs": [
    {
     "data": {
      "text/plain": [
       "[['49.56'],\n",
       " ['66.50'],\n",
       " [],\n",
       " [],\n",
       " ['21.75', '21.75'],\n",
       " ['27.51', '35.40'],\n",
       " ['46.17'],\n",
       " ['53.12', '60.64']]"
      ]
     },
     "execution_count": 256,
     "metadata": {},
     "output_type": "execute_result"
    }
   ],
   "source": [
    "# % de frecuencia alélica\n",
    "frecuencias_totales"
   ]
  },
  {
   "cell_type": "code",
   "execution_count": 257,
   "metadata": {},
   "outputs": [
    {
     "data": {
      "text/plain": [
       "[[], ['66.50'], [], [], [], ['27.51'], [], []]"
      ]
     },
     "execution_count": 257,
     "metadata": {},
     "output_type": "execute_result"
    }
   ],
   "source": [
    "# % frecuencias alélicas patológicas \n",
    "frecuenciasPato"
   ]
  },
  {
   "cell_type": "code",
   "execution_count": 219,
   "metadata": {},
   "outputs": [],
   "source": [
    "# Número de lecturas (% de frecuencia alélica en ARN) \n"
   ]
  },
  {
   "cell_type": "code",
   "execution_count": null,
   "metadata": {},
   "outputs": [],
   "source": [
    "# Número de copias (% de frecuencia alélica en copias)\n"
   ]
  },
  {
   "cell_type": "code",
   "execution_count": 220,
   "metadata": {},
   "outputs": [
    {
     "data": {
      "text/plain": [
       "[[40], [35], [], [22, 47], [10, 38], [11, 13], [28], [34, 40]]"
      ]
     },
     "execution_count": 220,
     "metadata": {},
     "output_type": "execute_result"
    }
   ],
   "source": [
    "# Nº de la mutación específica detectada \n",
    "numero_iden"
   ]
  },
  {
   "cell_type": "code",
   "execution_count": 221,
   "metadata": {},
   "outputs": [
    {
     "name": "stdout",
     "output_type": "stream",
     "text": [
      "[6, 5, 0, 0, 3, 5, 1, 0]\n",
      "-----------------------------------------------------------------------------------------------------------------\n",
      "[1, 1, 0, 0, 1, 1, 1, 0]\n"
     ]
    }
   ],
   "source": [
    "# Ensayos clínicos \n",
    "print(lista_ensayos)\n",
    "print(\"-----------------------------------------------------------------------------------------------------------------\")\n",
    "print(ensayos_finales)"
   ]
  },
  {
   "cell_type": "code",
   "execution_count": 222,
   "metadata": {},
   "outputs": [
    {
     "name": "stdout",
     "output_type": "stream",
     "text": [
      "[6, 1, 0, 0, 3, 0, 0, 1]\n",
      "-----------------------------------------------------------------------------------------------------------------\n",
      "[1, 1, 0, 0, 1, 0, 0, 1]\n"
     ]
    }
   ],
   "source": [
    "# Fármaco aprobado \n",
    "print(lista_tratamientos)\n",
    "print(\"-----------------------------------------------------------------------------------------------------------------\")\n",
    "print(tratamientos_finales)"
   ]
  },
  {
   "cell_type": "markdown",
   "metadata": {},
   "source": [
    "## CREACIÓN DE LOS DATAFRAMES. "
   ]
  },
  {
   "cell_type": "code",
   "execution_count": 223,
   "metadata": {},
   "outputs": [],
   "source": [
    "Tabla1Pacientes = pd.DataFrame({'Número de chip': chip2, 'Número de paciente': numero_paciente, 'NHC': NHC_final, 'Número de biopsia': NB_values, 'Biopsia sólida': Biopsia_solida, 'Fecha de informe': fechas, 'Diagnóstico': textoDiag, 'Mutaciones detectadas':mut})"
   ]
  },
  {
   "cell_type": "code",
   "execution_count": 224,
   "metadata": {},
   "outputs": [
    {
     "data": {
      "text/html": [
       "<div>\n",
       "<style scoped>\n",
       "    .dataframe tbody tr th:only-of-type {\n",
       "        vertical-align: middle;\n",
       "    }\n",
       "\n",
       "    .dataframe tbody tr th {\n",
       "        vertical-align: top;\n",
       "    }\n",
       "\n",
       "    .dataframe thead th {\n",
       "        text-align: right;\n",
       "    }\n",
       "</style>\n",
       "<table border=\"1\" class=\"dataframe\">\n",
       "  <thead>\n",
       "    <tr style=\"text-align: right;\">\n",
       "      <th></th>\n",
       "      <th>Número de chip</th>\n",
       "      <th>Número de paciente</th>\n",
       "      <th>NHC</th>\n",
       "      <th>Número de biopsia</th>\n",
       "      <th>Biopsia sólida</th>\n",
       "      <th>Fecha de informe</th>\n",
       "      <th>Diagnóstico</th>\n",
       "      <th>Mutaciones detectadas</th>\n",
       "    </tr>\n",
       "  </thead>\n",
       "  <tbody>\n",
       "    <tr>\n",
       "      <th>0</th>\n",
       "      <td>100</td>\n",
       "      <td>1</td>\n",
       "      <td>00021</td>\n",
       "      <td>23B00021-A1</td>\n",
       "      <td>1</td>\n",
       "      <td>24-mar-2023</td>\n",
       "      <td>Carcinoma pulmonar no microcítico</td>\n",
       "      <td>[MYC]</td>\n",
       "    </tr>\n",
       "    <tr>\n",
       "      <th>1</th>\n",
       "      <td>100</td>\n",
       "      <td>2</td>\n",
       "      <td>00022</td>\n",
       "      <td>22B00022-A2</td>\n",
       "      <td>1</td>\n",
       "      <td>24-mar-2023</td>\n",
       "      <td>Carcinoma pulmonar no microcítico</td>\n",
       "      <td>[KRAS]</td>\n",
       "    </tr>\n",
       "    <tr>\n",
       "      <th>2</th>\n",
       "      <td>100</td>\n",
       "      <td>3</td>\n",
       "      <td>00023</td>\n",
       "      <td>21B00023-A1</td>\n",
       "      <td>1</td>\n",
       "      <td>24-mar-2023</td>\n",
       "      <td>Carcinoma pulmonar no microcítico</td>\n",
       "      <td>[]</td>\n",
       "    </tr>\n",
       "    <tr>\n",
       "      <th>3</th>\n",
       "      <td>100</td>\n",
       "      <td>4</td>\n",
       "      <td>00024</td>\n",
       "      <td>23B00024-A1</td>\n",
       "      <td>1</td>\n",
       "      <td>24-mar-2023</td>\n",
       "      <td>Carcinoma pulmonar no microcítico</td>\n",
       "      <td>[FGFR1, PIK3CA]</td>\n",
       "    </tr>\n",
       "    <tr>\n",
       "      <th>4</th>\n",
       "      <td>100</td>\n",
       "      <td>5</td>\n",
       "      <td>00025</td>\n",
       "      <td>23C00025-A1</td>\n",
       "      <td>3</td>\n",
       "      <td>24-mar-2023</td>\n",
       "      <td>Carcinoma pulmonar no microcítico</td>\n",
       "      <td>[CDK6, MET]</td>\n",
       "    </tr>\n",
       "    <tr>\n",
       "      <th>5</th>\n",
       "      <td>100</td>\n",
       "      <td>6</td>\n",
       "      <td>00026</td>\n",
       "      <td>23P00026</td>\n",
       "      <td>2</td>\n",
       "      <td>24-mar-2023</td>\n",
       "      <td>Carcinoma pulmonar no microcítico</td>\n",
       "      <td>[CTNNB1, EGFR]</td>\n",
       "    </tr>\n",
       "    <tr>\n",
       "      <th>6</th>\n",
       "      <td>100</td>\n",
       "      <td>7</td>\n",
       "      <td>00027</td>\n",
       "      <td>22B00027-C4</td>\n",
       "      <td>1</td>\n",
       "      <td>24-mar-2023</td>\n",
       "      <td>Cáncer tiroideo</td>\n",
       "      <td>[HRAS]</td>\n",
       "    </tr>\n",
       "    <tr>\n",
       "      <th>7</th>\n",
       "      <td>100</td>\n",
       "      <td>8</td>\n",
       "      <td>00028</td>\n",
       "      <td>23B00028-A2</td>\n",
       "      <td>1</td>\n",
       "      <td>24-mar-2023</td>\n",
       "      <td>Cáncer gástrico</td>\n",
       "      <td>[KIT, MYC]</td>\n",
       "    </tr>\n",
       "  </tbody>\n",
       "</table>\n",
       "</div>"
      ],
      "text/plain": [
       "  Número de chip Número de paciente    NHC Número de biopsia Biopsia sólida  \\\n",
       "0            100                  1  00021       23B00021-A1              1   \n",
       "1            100                  2  00022       22B00022-A2              1   \n",
       "2            100                  3  00023       21B00023-A1              1   \n",
       "3            100                  4  00024       23B00024-A1              1   \n",
       "4            100                  5  00025       23C00025-A1              3   \n",
       "5            100                  6  00026          23P00026              2   \n",
       "6            100                  7  00027       22B00027-C4              1   \n",
       "7            100                  8  00028       23B00028-A2              1   \n",
       "\n",
       "  Fecha de informe                        Diagnóstico Mutaciones detectadas  \n",
       "0      24-mar-2023  Carcinoma pulmonar no microcítico                 [MYC]  \n",
       "1      24-mar-2023  Carcinoma pulmonar no microcítico                [KRAS]  \n",
       "2      24-mar-2023  Carcinoma pulmonar no microcítico                    []  \n",
       "3      24-mar-2023  Carcinoma pulmonar no microcítico       [FGFR1, PIK3CA]  \n",
       "4      24-mar-2023  Carcinoma pulmonar no microcítico           [CDK6, MET]  \n",
       "5      24-mar-2023  Carcinoma pulmonar no microcítico        [CTNNB1, EGFR]  \n",
       "6      24-mar-2023                    Cáncer tiroideo                [HRAS]  \n",
       "7      24-mar-2023                    Cáncer gástrico            [KIT, MYC]  "
      ]
     },
     "execution_count": 224,
     "metadata": {},
     "output_type": "execute_result"
    }
   ],
   "source": [
    "Tabla1Pacientes"
   ]
  },
  {
   "cell_type": "code",
   "execution_count": 225,
   "metadata": {},
   "outputs": [],
   "source": [
    "Tabla2Diagnostico = pd.DataFrame({'Número de chip': chip2, 'Número de paciente': numero_paciente, 'Diagnóstico': textoDiag, 'Número del diagnóstico': numeroDiag})"
   ]
  },
  {
   "cell_type": "code",
   "execution_count": 226,
   "metadata": {},
   "outputs": [
    {
     "data": {
      "text/html": [
       "<div>\n",
       "<style scoped>\n",
       "    .dataframe tbody tr th:only-of-type {\n",
       "        vertical-align: middle;\n",
       "    }\n",
       "\n",
       "    .dataframe tbody tr th {\n",
       "        vertical-align: top;\n",
       "    }\n",
       "\n",
       "    .dataframe thead th {\n",
       "        text-align: right;\n",
       "    }\n",
       "</style>\n",
       "<table border=\"1\" class=\"dataframe\">\n",
       "  <thead>\n",
       "    <tr style=\"text-align: right;\">\n",
       "      <th></th>\n",
       "      <th>Número de chip</th>\n",
       "      <th>Número de paciente</th>\n",
       "      <th>Diagnóstico</th>\n",
       "      <th>Número del diagnóstico</th>\n",
       "    </tr>\n",
       "  </thead>\n",
       "  <tbody>\n",
       "    <tr>\n",
       "      <th>0</th>\n",
       "      <td>100</td>\n",
       "      <td>1</td>\n",
       "      <td>Carcinoma pulmonar no microcítico</td>\n",
       "      <td>15.1</td>\n",
       "    </tr>\n",
       "    <tr>\n",
       "      <th>1</th>\n",
       "      <td>100</td>\n",
       "      <td>2</td>\n",
       "      <td>Carcinoma pulmonar no microcítico</td>\n",
       "      <td>15.1</td>\n",
       "    </tr>\n",
       "    <tr>\n",
       "      <th>2</th>\n",
       "      <td>100</td>\n",
       "      <td>3</td>\n",
       "      <td>Carcinoma pulmonar no microcítico</td>\n",
       "      <td>15.1</td>\n",
       "    </tr>\n",
       "    <tr>\n",
       "      <th>3</th>\n",
       "      <td>100</td>\n",
       "      <td>4</td>\n",
       "      <td>Carcinoma pulmonar no microcítico</td>\n",
       "      <td>15.1</td>\n",
       "    </tr>\n",
       "    <tr>\n",
       "      <th>4</th>\n",
       "      <td>100</td>\n",
       "      <td>5</td>\n",
       "      <td>Carcinoma pulmonar no microcítico</td>\n",
       "      <td>15.1</td>\n",
       "    </tr>\n",
       "    <tr>\n",
       "      <th>5</th>\n",
       "      <td>100</td>\n",
       "      <td>6</td>\n",
       "      <td>Carcinoma pulmonar no microcítico</td>\n",
       "      <td>15.1</td>\n",
       "    </tr>\n",
       "    <tr>\n",
       "      <th>6</th>\n",
       "      <td>100</td>\n",
       "      <td>7</td>\n",
       "      <td>Cáncer tiroideo</td>\n",
       "      <td>30.0</td>\n",
       "    </tr>\n",
       "    <tr>\n",
       "      <th>7</th>\n",
       "      <td>100</td>\n",
       "      <td>8</td>\n",
       "      <td>Cáncer gástrico</td>\n",
       "      <td>11.0</td>\n",
       "    </tr>\n",
       "  </tbody>\n",
       "</table>\n",
       "</div>"
      ],
      "text/plain": [
       "  Número de chip Número de paciente                        Diagnóstico  \\\n",
       "0            100                  1  Carcinoma pulmonar no microcítico   \n",
       "1            100                  2  Carcinoma pulmonar no microcítico   \n",
       "2            100                  3  Carcinoma pulmonar no microcítico   \n",
       "3            100                  4  Carcinoma pulmonar no microcítico   \n",
       "4            100                  5  Carcinoma pulmonar no microcítico   \n",
       "5            100                  6  Carcinoma pulmonar no microcítico   \n",
       "6            100                  7                    Cáncer tiroideo   \n",
       "7            100                  8                    Cáncer gástrico   \n",
       "\n",
       "   Número del diagnóstico  \n",
       "0                    15.1  \n",
       "1                    15.1  \n",
       "2                    15.1  \n",
       "3                    15.1  \n",
       "4                    15.1  \n",
       "5                    15.1  \n",
       "6                    30.0  \n",
       "7                    11.0  "
      ]
     },
     "execution_count": 226,
     "metadata": {},
     "output_type": "execute_result"
    }
   ],
   "source": [
    "Tabla2Diagnostico"
   ]
  },
  {
   "cell_type": "code",
   "execution_count": 229,
   "metadata": {},
   "outputs": [],
   "source": [
    "Tabla4MutacionesEspecificas = pd.DataFrame({'Mutaciones detectadas':mut, 'Número de la mutación específica':numero_iden, 'Total del número de mutaciones': num_mutaciones, })"
   ]
  },
  {
   "cell_type": "code",
   "execution_count": 230,
   "metadata": {
    "scrolled": true
   },
   "outputs": [
    {
     "data": {
      "text/html": [
       "<div>\n",
       "<style scoped>\n",
       "    .dataframe tbody tr th:only-of-type {\n",
       "        vertical-align: middle;\n",
       "    }\n",
       "\n",
       "    .dataframe tbody tr th {\n",
       "        vertical-align: top;\n",
       "    }\n",
       "\n",
       "    .dataframe thead th {\n",
       "        text-align: right;\n",
       "    }\n",
       "</style>\n",
       "<table border=\"1\" class=\"dataframe\">\n",
       "  <thead>\n",
       "    <tr style=\"text-align: right;\">\n",
       "      <th></th>\n",
       "      <th>Mutaciones detectadas</th>\n",
       "      <th>Número de la mutación específica</th>\n",
       "      <th>Total del número de mutaciones</th>\n",
       "    </tr>\n",
       "  </thead>\n",
       "  <tbody>\n",
       "    <tr>\n",
       "      <th>0</th>\n",
       "      <td>[MYC]</td>\n",
       "      <td>[40]</td>\n",
       "      <td>1</td>\n",
       "    </tr>\n",
       "    <tr>\n",
       "      <th>1</th>\n",
       "      <td>[KRAS]</td>\n",
       "      <td>[35]</td>\n",
       "      <td>1</td>\n",
       "    </tr>\n",
       "    <tr>\n",
       "      <th>2</th>\n",
       "      <td>[]</td>\n",
       "      <td>[]</td>\n",
       "      <td>0</td>\n",
       "    </tr>\n",
       "    <tr>\n",
       "      <th>3</th>\n",
       "      <td>[FGFR1, PIK3CA]</td>\n",
       "      <td>[22, 47]</td>\n",
       "      <td>2</td>\n",
       "    </tr>\n",
       "    <tr>\n",
       "      <th>4</th>\n",
       "      <td>[CDK6, MET]</td>\n",
       "      <td>[10, 38]</td>\n",
       "      <td>2</td>\n",
       "    </tr>\n",
       "    <tr>\n",
       "      <th>5</th>\n",
       "      <td>[CTNNB1, EGFR]</td>\n",
       "      <td>[11, 13]</td>\n",
       "      <td>2</td>\n",
       "    </tr>\n",
       "    <tr>\n",
       "      <th>6</th>\n",
       "      <td>[HRAS]</td>\n",
       "      <td>[28]</td>\n",
       "      <td>1</td>\n",
       "    </tr>\n",
       "    <tr>\n",
       "      <th>7</th>\n",
       "      <td>[KIT, MYC]</td>\n",
       "      <td>[34, 40]</td>\n",
       "      <td>2</td>\n",
       "    </tr>\n",
       "  </tbody>\n",
       "</table>\n",
       "</div>"
      ],
      "text/plain": [
       "  Mutaciones detectadas Número de la mutación específica  \\\n",
       "0                 [MYC]                             [40]   \n",
       "1                [KRAS]                             [35]   \n",
       "2                    []                               []   \n",
       "3       [FGFR1, PIK3CA]                         [22, 47]   \n",
       "4           [CDK6, MET]                         [10, 38]   \n",
       "5        [CTNNB1, EGFR]                         [11, 13]   \n",
       "6                [HRAS]                             [28]   \n",
       "7            [KIT, MYC]                         [34, 40]   \n",
       "\n",
       "   Total del número de mutaciones  \n",
       "0                               1  \n",
       "1                               1  \n",
       "2                               0  \n",
       "3                               2  \n",
       "4                               2  \n",
       "5                               2  \n",
       "6                               1  \n",
       "7                               2  "
      ]
     },
     "execution_count": 230,
     "metadata": {},
     "output_type": "execute_result"
    }
   ],
   "source": [
    "Tabla4MutacionesEspecificas"
   ]
  },
  {
   "cell_type": "code",
   "execution_count": 258,
   "metadata": {},
   "outputs": [],
   "source": [
    "Tabla5Patologicas = pd.DataFrame({'Genes patológicos': patologicos, 'Número de la mutación específica':numero_iden_pato, '% frecuencia alélica':frecuenciasPato})"
   ]
  },
  {
   "cell_type": "code",
   "execution_count": 259,
   "metadata": {},
   "outputs": [
    {
     "data": {
      "text/html": [
       "<div>\n",
       "<style scoped>\n",
       "    .dataframe tbody tr th:only-of-type {\n",
       "        vertical-align: middle;\n",
       "    }\n",
       "\n",
       "    .dataframe tbody tr th {\n",
       "        vertical-align: top;\n",
       "    }\n",
       "\n",
       "    .dataframe thead th {\n",
       "        text-align: right;\n",
       "    }\n",
       "</style>\n",
       "<table border=\"1\" class=\"dataframe\">\n",
       "  <thead>\n",
       "    <tr style=\"text-align: right;\">\n",
       "      <th></th>\n",
       "      <th>Genes patológicos</th>\n",
       "      <th>Número de la mutación específica</th>\n",
       "      <th>% frecuencia alélica</th>\n",
       "    </tr>\n",
       "  </thead>\n",
       "  <tbody>\n",
       "    <tr>\n",
       "      <th>0</th>\n",
       "      <td>[]</td>\n",
       "      <td>[]</td>\n",
       "      <td>[]</td>\n",
       "    </tr>\n",
       "    <tr>\n",
       "      <th>1</th>\n",
       "      <td>[KRAS]</td>\n",
       "      <td>[35]</td>\n",
       "      <td>[66.50]</td>\n",
       "    </tr>\n",
       "    <tr>\n",
       "      <th>2</th>\n",
       "      <td>[]</td>\n",
       "      <td>[]</td>\n",
       "      <td>[]</td>\n",
       "    </tr>\n",
       "    <tr>\n",
       "      <th>3</th>\n",
       "      <td>[]</td>\n",
       "      <td>[]</td>\n",
       "      <td>[]</td>\n",
       "    </tr>\n",
       "    <tr>\n",
       "      <th>4</th>\n",
       "      <td>[]</td>\n",
       "      <td>[]</td>\n",
       "      <td>[]</td>\n",
       "    </tr>\n",
       "    <tr>\n",
       "      <th>5</th>\n",
       "      <td>[CTNNB1]</td>\n",
       "      <td>[11]</td>\n",
       "      <td>[27.51]</td>\n",
       "    </tr>\n",
       "    <tr>\n",
       "      <th>6</th>\n",
       "      <td>[]</td>\n",
       "      <td>[]</td>\n",
       "      <td>[]</td>\n",
       "    </tr>\n",
       "    <tr>\n",
       "      <th>7</th>\n",
       "      <td>[]</td>\n",
       "      <td>[]</td>\n",
       "      <td>[]</td>\n",
       "    </tr>\n",
       "  </tbody>\n",
       "</table>\n",
       "</div>"
      ],
      "text/plain": [
       "  Genes patológicos Número de la mutación específica % frecuencia alélica\n",
       "0                []                               []                   []\n",
       "1            [KRAS]                             [35]              [66.50]\n",
       "2                []                               []                   []\n",
       "3                []                               []                   []\n",
       "4                []                               []                   []\n",
       "5          [CTNNB1]                             [11]              [27.51]\n",
       "6                []                               []                   []\n",
       "7                []                               []                   []"
      ]
     },
     "execution_count": 259,
     "metadata": {},
     "output_type": "execute_result"
    }
   ],
   "source": [
    "Tabla5Patologicas"
   ]
  },
  {
   "cell_type": "code",
   "execution_count": 227,
   "metadata": {},
   "outputs": [],
   "source": [
    "Tabla6Informacion = pd.DataFrame({'Diagnóstico': textoDiag, 'Ensayos clínicos': lista_ensayos,'SI/NO ensayo':ensayos_finales, 'Fármaco aprobado': lista_tratamientos, 'SI/NO fármacos': tratamientos_finales})"
   ]
  },
  {
   "cell_type": "code",
   "execution_count": 228,
   "metadata": {},
   "outputs": [
    {
     "data": {
      "text/html": [
       "<div>\n",
       "<style scoped>\n",
       "    .dataframe tbody tr th:only-of-type {\n",
       "        vertical-align: middle;\n",
       "    }\n",
       "\n",
       "    .dataframe tbody tr th {\n",
       "        vertical-align: top;\n",
       "    }\n",
       "\n",
       "    .dataframe thead th {\n",
       "        text-align: right;\n",
       "    }\n",
       "</style>\n",
       "<table border=\"1\" class=\"dataframe\">\n",
       "  <thead>\n",
       "    <tr style=\"text-align: right;\">\n",
       "      <th></th>\n",
       "      <th>Diagnóstico</th>\n",
       "      <th>Ensayos clínicos</th>\n",
       "      <th>SI/NO ensayo</th>\n",
       "      <th>Fármaco aprobado</th>\n",
       "      <th>SI/NO fármacos</th>\n",
       "    </tr>\n",
       "  </thead>\n",
       "  <tbody>\n",
       "    <tr>\n",
       "      <th>0</th>\n",
       "      <td>Carcinoma pulmonar no microcítico</td>\n",
       "      <td>6</td>\n",
       "      <td>1</td>\n",
       "      <td>6</td>\n",
       "      <td>1</td>\n",
       "    </tr>\n",
       "    <tr>\n",
       "      <th>1</th>\n",
       "      <td>Carcinoma pulmonar no microcítico</td>\n",
       "      <td>5</td>\n",
       "      <td>1</td>\n",
       "      <td>1</td>\n",
       "      <td>1</td>\n",
       "    </tr>\n",
       "    <tr>\n",
       "      <th>2</th>\n",
       "      <td>Carcinoma pulmonar no microcítico</td>\n",
       "      <td>0</td>\n",
       "      <td>0</td>\n",
       "      <td>0</td>\n",
       "      <td>0</td>\n",
       "    </tr>\n",
       "    <tr>\n",
       "      <th>3</th>\n",
       "      <td>Carcinoma pulmonar no microcítico</td>\n",
       "      <td>0</td>\n",
       "      <td>0</td>\n",
       "      <td>0</td>\n",
       "      <td>0</td>\n",
       "    </tr>\n",
       "    <tr>\n",
       "      <th>4</th>\n",
       "      <td>Carcinoma pulmonar no microcítico</td>\n",
       "      <td>3</td>\n",
       "      <td>1</td>\n",
       "      <td>3</td>\n",
       "      <td>1</td>\n",
       "    </tr>\n",
       "    <tr>\n",
       "      <th>5</th>\n",
       "      <td>Carcinoma pulmonar no microcítico</td>\n",
       "      <td>5</td>\n",
       "      <td>1</td>\n",
       "      <td>0</td>\n",
       "      <td>0</td>\n",
       "    </tr>\n",
       "    <tr>\n",
       "      <th>6</th>\n",
       "      <td>Cáncer tiroideo</td>\n",
       "      <td>1</td>\n",
       "      <td>1</td>\n",
       "      <td>0</td>\n",
       "      <td>0</td>\n",
       "    </tr>\n",
       "    <tr>\n",
       "      <th>7</th>\n",
       "      <td>Cáncer gástrico</td>\n",
       "      <td>0</td>\n",
       "      <td>0</td>\n",
       "      <td>1</td>\n",
       "      <td>1</td>\n",
       "    </tr>\n",
       "  </tbody>\n",
       "</table>\n",
       "</div>"
      ],
      "text/plain": [
       "                         Diagnóstico  Ensayos clínicos  SI/NO ensayo  \\\n",
       "0  Carcinoma pulmonar no microcítico                 6             1   \n",
       "1  Carcinoma pulmonar no microcítico                 5             1   \n",
       "2  Carcinoma pulmonar no microcítico                 0             0   \n",
       "3  Carcinoma pulmonar no microcítico                 0             0   \n",
       "4  Carcinoma pulmonar no microcítico                 3             1   \n",
       "5  Carcinoma pulmonar no microcítico                 5             1   \n",
       "6                    Cáncer tiroideo                 1             1   \n",
       "7                    Cáncer gástrico                 0             0   \n",
       "\n",
       "   Fármaco aprobado  SI/NO fármacos  \n",
       "0                 6               1  \n",
       "1                 1               1  \n",
       "2                 0               0  \n",
       "3                 0               0  \n",
       "4                 3               1  \n",
       "5                 0               0  \n",
       "6                 0               0  \n",
       "7                 1               1  "
      ]
     },
     "execution_count": 228,
     "metadata": {},
     "output_type": "execute_result"
    }
   ],
   "source": [
    "Tabla6Informacion"
   ]
  },
  {
   "cell_type": "code",
   "execution_count": 262,
   "metadata": {},
   "outputs": [],
   "source": [
    "Tabla3Mutaciones = pd.DataFrame({'Mutaciones detectadas':mut,'Porcentaje de frecuencia alélica (ADN)': frecuencias_totales})"
   ]
  },
  {
   "cell_type": "code",
   "execution_count": 263,
   "metadata": {},
   "outputs": [
    {
     "data": {
      "text/html": [
       "<div>\n",
       "<style scoped>\n",
       "    .dataframe tbody tr th:only-of-type {\n",
       "        vertical-align: middle;\n",
       "    }\n",
       "\n",
       "    .dataframe tbody tr th {\n",
       "        vertical-align: top;\n",
       "    }\n",
       "\n",
       "    .dataframe thead th {\n",
       "        text-align: right;\n",
       "    }\n",
       "</style>\n",
       "<table border=\"1\" class=\"dataframe\">\n",
       "  <thead>\n",
       "    <tr style=\"text-align: right;\">\n",
       "      <th></th>\n",
       "      <th>Mutaciones detectadas</th>\n",
       "      <th>Porcentaje de frecuencia alélica (ADN)</th>\n",
       "    </tr>\n",
       "  </thead>\n",
       "  <tbody>\n",
       "    <tr>\n",
       "      <th>0</th>\n",
       "      <td>[MYC]</td>\n",
       "      <td>[49.56]</td>\n",
       "    </tr>\n",
       "    <tr>\n",
       "      <th>1</th>\n",
       "      <td>[KRAS]</td>\n",
       "      <td>[66.50]</td>\n",
       "    </tr>\n",
       "    <tr>\n",
       "      <th>2</th>\n",
       "      <td>[]</td>\n",
       "      <td>[]</td>\n",
       "    </tr>\n",
       "    <tr>\n",
       "      <th>3</th>\n",
       "      <td>[FGFR1, PIK3CA]</td>\n",
       "      <td>[]</td>\n",
       "    </tr>\n",
       "    <tr>\n",
       "      <th>4</th>\n",
       "      <td>[CDK6, MET]</td>\n",
       "      <td>[21.75, 21.75]</td>\n",
       "    </tr>\n",
       "    <tr>\n",
       "      <th>5</th>\n",
       "      <td>[CTNNB1, EGFR]</td>\n",
       "      <td>[27.51, 35.40]</td>\n",
       "    </tr>\n",
       "    <tr>\n",
       "      <th>6</th>\n",
       "      <td>[HRAS]</td>\n",
       "      <td>[46.17]</td>\n",
       "    </tr>\n",
       "    <tr>\n",
       "      <th>7</th>\n",
       "      <td>[KIT, MYC]</td>\n",
       "      <td>[53.12, 60.64]</td>\n",
       "    </tr>\n",
       "  </tbody>\n",
       "</table>\n",
       "</div>"
      ],
      "text/plain": [
       "  Mutaciones detectadas Porcentaje de frecuencia alélica (ADN)\n",
       "0                 [MYC]                                [49.56]\n",
       "1                [KRAS]                                [66.50]\n",
       "2                    []                                     []\n",
       "3       [FGFR1, PIK3CA]                                     []\n",
       "4           [CDK6, MET]                         [21.75, 21.75]\n",
       "5        [CTNNB1, EGFR]                         [27.51, 35.40]\n",
       "6                [HRAS]                                [46.17]\n",
       "7            [KIT, MYC]                         [53.12, 60.64]"
      ]
     },
     "execution_count": 263,
     "metadata": {},
     "output_type": "execute_result"
    }
   ],
   "source": [
    "Tabla3Mutaciones"
   ]
  },
  {
   "cell_type": "code",
   "execution_count": 126,
   "metadata": {},
   "outputs": [
    {
     "ename": "NameError",
     "evalue": "name 'todas_mutaciones' is not defined",
     "output_type": "error",
     "traceback": [
      "\u001b[1;31m---------------------------------------------------------------------------\u001b[0m",
      "\u001b[1;31mNameError\u001b[0m                                 Traceback (most recent call last)",
      "\u001b[1;32m<ipython-input-126-07f42f59378c>\u001b[0m in \u001b[0;36m<module>\u001b[1;34m\u001b[0m\n\u001b[0;32m      1\u001b[0m \u001b[1;31m#Tabla1Pacientes = pd.DataFrame({'Número de chip': chip, 'Número de paciente': paciente_Data, 'NHC': NHC_Data, 'Número de biopsia': Nbiopsia_Data, 'Biopsia sólida': Biopsia_solida, 'Fecha de informe': fecha_Data, 'Diagnóstico': texto_Data})\u001b[0m\u001b[1;33m\u001b[0m\u001b[1;33m\u001b[0m\u001b[1;33m\u001b[0m\u001b[0m\n\u001b[0;32m      2\u001b[0m \u001b[1;31m#Tabla2Diagnostico = pd.DataFrame({'Diagnóstico': texto_Data, 'Número de diagnóstico': Ndiagnostico_Data})\u001b[0m\u001b[1;33m\u001b[0m\u001b[1;33m\u001b[0m\u001b[1;33m\u001b[0m\u001b[0m\n\u001b[1;32m----> 3\u001b[1;33m \u001b[0mTabla3Mutaciones\u001b[0m \u001b[1;33m=\u001b[0m \u001b[0mpd\u001b[0m\u001b[1;33m.\u001b[0m\u001b[0mDataFrame\u001b[0m\u001b[1;33m(\u001b[0m\u001b[1;33m{\u001b[0m\u001b[1;34m'Mutaciones detectadas'\u001b[0m\u001b[1;33m:\u001b[0m\u001b[0mtodas_mutaciones\u001b[0m\u001b[1;33m,\u001b[0m\u001b[1;34m'Porcentaje de frecuencia alélica (ADN)'\u001b[0m\u001b[1;33m:\u001b[0m \u001b[0mfrecuencias_totales\u001b[0m\u001b[1;33m,\u001b[0m\u001b[1;34m'Variaciones del número de lecturas (ARN)'\u001b[0m\u001b[1;33m:\u001b[0m \u001b[0mvariaciones_Data\u001b[0m\u001b[1;33m,\u001b[0m\u001b[1;34m'Variaciones de copias'\u001b[0m\u001b[1;33m:\u001b[0m \u001b[0mcopias_Data\u001b[0m\u001b[1;33m}\u001b[0m\u001b[1;33m)\u001b[0m\u001b[1;33m\u001b[0m\u001b[1;33m\u001b[0m\u001b[0m\n\u001b[0m\u001b[0;32m      4\u001b[0m \u001b[1;31m#Tabla4Patologicas = pd.DataFrame({'Genes patológicos': patologicos, 'Número de la mutación específica':numero_iden)\u001b[0m\u001b[1;33m\u001b[0m\u001b[1;33m\u001b[0m\u001b[1;33m\u001b[0m\u001b[0m\n\u001b[0;32m      5\u001b[0m \u001b[1;31m#Tabla5MutacionesEspecificas = pd.DataFrame({'Mutaciones detectadas':mut, 'Total del número de mutaciones': num_mutaciones,'Nº de la mutación específica detectada': NmutacionEspecifica_Data})\u001b[0m\u001b[1;33m\u001b[0m\u001b[1;33m\u001b[0m\u001b[1;33m\u001b[0m\u001b[0m\n",
      "\u001b[1;31mNameError\u001b[0m: name 'todas_mutaciones' is not defined"
     ]
    }
   ],
   "source": [
    "#Tabla1Pacientes = pd.DataFrame({'Número de chip': chip, 'Número de paciente': paciente_Data, 'NHC': NHC_Data, 'Número de biopsia': Nbiopsia_Data, 'Biopsia sólida': Biopsia_solida, 'Fecha de informe': fecha_Data, 'Diagnóstico': texto_Data})\n",
    "#Tabla2Diagnostico = pd.DataFrame({'Diagnóstico': texto_Data, 'Número de diagnóstico': Ndiagnostico_Data})\n",
    "Tabla3Mutaciones = pd.DataFrame({'Mutaciones detectadas':mut,'Porcentaje de frecuencia alélica (ADN)': frecuencias_totales,'Variaciones del número de lecturas (ARN)': variaciones_Data,'Variaciones de copias': copias_Data})\n",
    "#Tabla4Patologicas = pd.DataFrame({'Genes patológicos': patologicos, 'Número de la mutación específica':numero_iden)\n",
    "#Tabla5MutacionesEspecificas = pd.DataFrame({'Mutaciones detectadas':mut, 'Total del número de mutaciones': num_mutaciones,'Nº de la mutación específica detectada': NmutacionEspecifica_Data})\n",
    "#Tabla6Informacion = pd.DataFrame({'Diagnóstico': texto_Data, 'Ensayos clínicos': ensayo_Data, 'Fármaco aprobado': farmaco_Data})"
   ]
  },
  {
   "cell_type": "code",
   "execution_count": 142,
   "metadata": {},
   "outputs": [
    {
     "name": "stderr",
     "output_type": "stream",
     "text": [
      "C:\\Users\\luciv\\Anaconda3\\lib\\site-packages\\ipykernel_launcher.py:1: FutureWarning: In a future version of pandas all arguments of DataFrame.set_index except for the argument 'keys' will be keyword-only\n",
      "  \"\"\"Entry point for launching an IPython kernel.\n"
     ]
    },
    {
     "ename": "TypeError",
     "evalue": "'<' not supported between instances of 'int' and 'str'",
     "output_type": "error",
     "traceback": [
      "\u001b[1;31m---------------------------------------------------------------------------\u001b[0m",
      "\u001b[1;31mTypeError\u001b[0m                                 Traceback (most recent call last)",
      "\u001b[1;32m<ipython-input-142-6c4a28d626de>\u001b[0m in \u001b[0;36m<module>\u001b[1;34m\u001b[0m\n\u001b[1;32m----> 1\u001b[1;33m \u001b[0mjoined_df\u001b[0m \u001b[1;33m=\u001b[0m \u001b[0mTabla1Pacientes\u001b[0m\u001b[1;33m.\u001b[0m\u001b[0mjoin\u001b[0m\u001b[1;33m(\u001b[0m\u001b[0mTabla2Diagnostico\u001b[0m\u001b[1;33m.\u001b[0m\u001b[0mset_index\u001b[0m\u001b[1;33m(\u001b[0m\u001b[1;34m'Número de chip'\u001b[0m\u001b[1;33m,\u001b[0m \u001b[1;34m'Número de paciente'\u001b[0m\u001b[1;33m)\u001b[0m\u001b[1;33m)\u001b[0m\u001b[1;33m\u001b[0m\u001b[1;33m\u001b[0m\u001b[0m\n\u001b[0m\u001b[0;32m      2\u001b[0m \u001b[0mjoined_df\u001b[0m\u001b[1;33m\u001b[0m\u001b[1;33m\u001b[0m\u001b[0m\n",
      "\u001b[1;32m~\\Anaconda3\\lib\\site-packages\\pandas\\core\\frame.py\u001b[0m in \u001b[0;36mjoin\u001b[1;34m(self, other, on, how, lsuffix, rsuffix, sort)\u001b[0m\n\u001b[0;32m   9098\u001b[0m         \"\"\"\n\u001b[0;32m   9099\u001b[0m         return self._join_compat(\n\u001b[1;32m-> 9100\u001b[1;33m             \u001b[0mother\u001b[0m\u001b[1;33m,\u001b[0m \u001b[0mon\u001b[0m\u001b[1;33m=\u001b[0m\u001b[0mon\u001b[0m\u001b[1;33m,\u001b[0m \u001b[0mhow\u001b[0m\u001b[1;33m=\u001b[0m\u001b[0mhow\u001b[0m\u001b[1;33m,\u001b[0m \u001b[0mlsuffix\u001b[0m\u001b[1;33m=\u001b[0m\u001b[0mlsuffix\u001b[0m\u001b[1;33m,\u001b[0m \u001b[0mrsuffix\u001b[0m\u001b[1;33m=\u001b[0m\u001b[0mrsuffix\u001b[0m\u001b[1;33m,\u001b[0m \u001b[0msort\u001b[0m\u001b[1;33m=\u001b[0m\u001b[0msort\u001b[0m\u001b[1;33m\u001b[0m\u001b[1;33m\u001b[0m\u001b[0m\n\u001b[0m\u001b[0;32m   9101\u001b[0m         )\n\u001b[0;32m   9102\u001b[0m \u001b[1;33m\u001b[0m\u001b[0m\n",
      "\u001b[1;32m~\\Anaconda3\\lib\\site-packages\\pandas\\core\\frame.py\u001b[0m in \u001b[0;36m_join_compat\u001b[1;34m(self, other, on, how, lsuffix, rsuffix, sort)\u001b[0m\n\u001b[0;32m   9136\u001b[0m                 \u001b[0mright_index\u001b[0m\u001b[1;33m=\u001b[0m\u001b[1;32mTrue\u001b[0m\u001b[1;33m,\u001b[0m\u001b[1;33m\u001b[0m\u001b[1;33m\u001b[0m\u001b[0m\n\u001b[0;32m   9137\u001b[0m                 \u001b[0msuffixes\u001b[0m\u001b[1;33m=\u001b[0m\u001b[1;33m(\u001b[0m\u001b[0mlsuffix\u001b[0m\u001b[1;33m,\u001b[0m \u001b[0mrsuffix\u001b[0m\u001b[1;33m)\u001b[0m\u001b[1;33m,\u001b[0m\u001b[1;33m\u001b[0m\u001b[1;33m\u001b[0m\u001b[0m\n\u001b[1;32m-> 9138\u001b[1;33m                 \u001b[0msort\u001b[0m\u001b[1;33m=\u001b[0m\u001b[0msort\u001b[0m\u001b[1;33m,\u001b[0m\u001b[1;33m\u001b[0m\u001b[1;33m\u001b[0m\u001b[0m\n\u001b[0m\u001b[0;32m   9139\u001b[0m             )\n\u001b[0;32m   9140\u001b[0m         \u001b[1;32melse\u001b[0m\u001b[1;33m:\u001b[0m\u001b[1;33m\u001b[0m\u001b[1;33m\u001b[0m\u001b[0m\n",
      "\u001b[1;32m~\\Anaconda3\\lib\\site-packages\\pandas\\core\\reshape\\merge.py\u001b[0m in \u001b[0;36mmerge\u001b[1;34m(left, right, how, on, left_on, right_on, left_index, right_index, sort, suffixes, copy, indicator, validate)\u001b[0m\n\u001b[0;32m    119\u001b[0m         \u001b[0mvalidate\u001b[0m\u001b[1;33m=\u001b[0m\u001b[0mvalidate\u001b[0m\u001b[1;33m,\u001b[0m\u001b[1;33m\u001b[0m\u001b[1;33m\u001b[0m\u001b[0m\n\u001b[0;32m    120\u001b[0m     )\n\u001b[1;32m--> 121\u001b[1;33m     \u001b[1;32mreturn\u001b[0m \u001b[0mop\u001b[0m\u001b[1;33m.\u001b[0m\u001b[0mget_result\u001b[0m\u001b[1;33m(\u001b[0m\u001b[1;33m)\u001b[0m\u001b[1;33m\u001b[0m\u001b[1;33m\u001b[0m\u001b[0m\n\u001b[0m\u001b[0;32m    122\u001b[0m \u001b[1;33m\u001b[0m\u001b[0m\n\u001b[0;32m    123\u001b[0m \u001b[1;33m\u001b[0m\u001b[0m\n",
      "\u001b[1;32m~\\Anaconda3\\lib\\site-packages\\pandas\\core\\reshape\\merge.py\u001b[0m in \u001b[0;36mget_result\u001b[1;34m(self)\u001b[0m\n\u001b[0;32m    713\u001b[0m             \u001b[0mself\u001b[0m\u001b[1;33m.\u001b[0m\u001b[0mleft\u001b[0m\u001b[1;33m,\u001b[0m \u001b[0mself\u001b[0m\u001b[1;33m.\u001b[0m\u001b[0mright\u001b[0m \u001b[1;33m=\u001b[0m \u001b[0mself\u001b[0m\u001b[1;33m.\u001b[0m\u001b[0m_indicator_pre_merge\u001b[0m\u001b[1;33m(\u001b[0m\u001b[0mself\u001b[0m\u001b[1;33m.\u001b[0m\u001b[0mleft\u001b[0m\u001b[1;33m,\u001b[0m \u001b[0mself\u001b[0m\u001b[1;33m.\u001b[0m\u001b[0mright\u001b[0m\u001b[1;33m)\u001b[0m\u001b[1;33m\u001b[0m\u001b[1;33m\u001b[0m\u001b[0m\n\u001b[0;32m    714\u001b[0m \u001b[1;33m\u001b[0m\u001b[0m\n\u001b[1;32m--> 715\u001b[1;33m         \u001b[0mjoin_index\u001b[0m\u001b[1;33m,\u001b[0m \u001b[0mleft_indexer\u001b[0m\u001b[1;33m,\u001b[0m \u001b[0mright_indexer\u001b[0m \u001b[1;33m=\u001b[0m \u001b[0mself\u001b[0m\u001b[1;33m.\u001b[0m\u001b[0m_get_join_info\u001b[0m\u001b[1;33m(\u001b[0m\u001b[1;33m)\u001b[0m\u001b[1;33m\u001b[0m\u001b[1;33m\u001b[0m\u001b[0m\n\u001b[0m\u001b[0;32m    716\u001b[0m \u001b[1;33m\u001b[0m\u001b[0m\n\u001b[0;32m    717\u001b[0m         llabels, rlabels = _items_overlap_with_suffix(\n",
      "\u001b[1;32m~\\Anaconda3\\lib\\site-packages\\pandas\\core\\reshape\\merge.py\u001b[0m in \u001b[0;36m_get_join_info\u001b[1;34m(self)\u001b[0m\n\u001b[0;32m    951\u001b[0m         \u001b[1;32mif\u001b[0m \u001b[0mself\u001b[0m\u001b[1;33m.\u001b[0m\u001b[0mleft_index\u001b[0m \u001b[1;32mand\u001b[0m \u001b[0mself\u001b[0m\u001b[1;33m.\u001b[0m\u001b[0mright_index\u001b[0m \u001b[1;32mand\u001b[0m \u001b[0mself\u001b[0m\u001b[1;33m.\u001b[0m\u001b[0mhow\u001b[0m \u001b[1;33m!=\u001b[0m \u001b[1;34m\"asof\"\u001b[0m\u001b[1;33m:\u001b[0m\u001b[1;33m\u001b[0m\u001b[1;33m\u001b[0m\u001b[0m\n\u001b[0;32m    952\u001b[0m             join_index, left_indexer, right_indexer = left_ax.join(\n\u001b[1;32m--> 953\u001b[1;33m                 \u001b[0mright_ax\u001b[0m\u001b[1;33m,\u001b[0m \u001b[0mhow\u001b[0m\u001b[1;33m=\u001b[0m\u001b[0mself\u001b[0m\u001b[1;33m.\u001b[0m\u001b[0mhow\u001b[0m\u001b[1;33m,\u001b[0m \u001b[0mreturn_indexers\u001b[0m\u001b[1;33m=\u001b[0m\u001b[1;32mTrue\u001b[0m\u001b[1;33m,\u001b[0m \u001b[0msort\u001b[0m\u001b[1;33m=\u001b[0m\u001b[0mself\u001b[0m\u001b[1;33m.\u001b[0m\u001b[0msort\u001b[0m\u001b[1;33m\u001b[0m\u001b[1;33m\u001b[0m\u001b[0m\n\u001b[0m\u001b[0;32m    954\u001b[0m             )\n\u001b[0;32m    955\u001b[0m \u001b[1;33m\u001b[0m\u001b[0m\n",
      "\u001b[1;32m~\\Anaconda3\\lib\\site-packages\\pandas\\core\\indexes\\base.py\u001b[0m in \u001b[0;36mjoin\u001b[1;34m(self, other, how, level, return_indexers, sort)\u001b[0m\n\u001b[0;32m    205\u001b[0m         \u001b[0msort\u001b[0m\u001b[1;33m:\u001b[0m \u001b[0mbool\u001b[0m \u001b[1;33m=\u001b[0m \u001b[1;32mFalse\u001b[0m\u001b[1;33m,\u001b[0m\u001b[1;33m\u001b[0m\u001b[1;33m\u001b[0m\u001b[0m\n\u001b[0;32m    206\u001b[0m     ):\n\u001b[1;32m--> 207\u001b[1;33m         \u001b[0mjoin_index\u001b[0m\u001b[1;33m,\u001b[0m \u001b[0mlidx\u001b[0m\u001b[1;33m,\u001b[0m \u001b[0mridx\u001b[0m \u001b[1;33m=\u001b[0m \u001b[0mmeth\u001b[0m\u001b[1;33m(\u001b[0m\u001b[0mself\u001b[0m\u001b[1;33m,\u001b[0m \u001b[0mother\u001b[0m\u001b[1;33m,\u001b[0m \u001b[0mhow\u001b[0m\u001b[1;33m=\u001b[0m\u001b[0mhow\u001b[0m\u001b[1;33m,\u001b[0m \u001b[0mlevel\u001b[0m\u001b[1;33m=\u001b[0m\u001b[0mlevel\u001b[0m\u001b[1;33m,\u001b[0m \u001b[0msort\u001b[0m\u001b[1;33m=\u001b[0m\u001b[0msort\u001b[0m\u001b[1;33m)\u001b[0m\u001b[1;33m\u001b[0m\u001b[1;33m\u001b[0m\u001b[0m\n\u001b[0m\u001b[0;32m    208\u001b[0m         \u001b[1;32mif\u001b[0m \u001b[1;32mnot\u001b[0m \u001b[0mreturn_indexers\u001b[0m\u001b[1;33m:\u001b[0m\u001b[1;33m\u001b[0m\u001b[1;33m\u001b[0m\u001b[0m\n\u001b[0;32m    209\u001b[0m             \u001b[1;32mreturn\u001b[0m \u001b[0mjoin_index\u001b[0m\u001b[1;33m\u001b[0m\u001b[1;33m\u001b[0m\u001b[0m\n",
      "\u001b[1;32m~\\Anaconda3\\lib\\site-packages\\pandas\\core\\indexes\\base.py\u001b[0m in \u001b[0;36mjoin\u001b[1;34m(self, other, how, level, return_indexers, sort)\u001b[0m\n\u001b[0;32m   3985\u001b[0m             \u001b[0mthis\u001b[0m \u001b[1;33m=\u001b[0m \u001b[0mself\u001b[0m\u001b[1;33m.\u001b[0m\u001b[0mastype\u001b[0m\u001b[1;33m(\u001b[0m\u001b[1;34m\"O\"\u001b[0m\u001b[1;33m)\u001b[0m\u001b[1;33m\u001b[0m\u001b[1;33m\u001b[0m\u001b[0m\n\u001b[0;32m   3986\u001b[0m             \u001b[0mother\u001b[0m \u001b[1;33m=\u001b[0m \u001b[0mother\u001b[0m\u001b[1;33m.\u001b[0m\u001b[0mastype\u001b[0m\u001b[1;33m(\u001b[0m\u001b[1;34m\"O\"\u001b[0m\u001b[1;33m)\u001b[0m\u001b[1;33m\u001b[0m\u001b[1;33m\u001b[0m\u001b[0m\n\u001b[1;32m-> 3987\u001b[1;33m             \u001b[1;32mreturn\u001b[0m \u001b[0mthis\u001b[0m\u001b[1;33m.\u001b[0m\u001b[0mjoin\u001b[0m\u001b[1;33m(\u001b[0m\u001b[0mother\u001b[0m\u001b[1;33m,\u001b[0m \u001b[0mhow\u001b[0m\u001b[1;33m=\u001b[0m\u001b[0mhow\u001b[0m\u001b[1;33m,\u001b[0m \u001b[0mreturn_indexers\u001b[0m\u001b[1;33m=\u001b[0m\u001b[1;32mTrue\u001b[0m\u001b[1;33m)\u001b[0m\u001b[1;33m\u001b[0m\u001b[1;33m\u001b[0m\u001b[0m\n\u001b[0m\u001b[0;32m   3988\u001b[0m \u001b[1;33m\u001b[0m\u001b[0m\n\u001b[0;32m   3989\u001b[0m         \u001b[0m_validate_join_method\u001b[0m\u001b[1;33m(\u001b[0m\u001b[0mhow\u001b[0m\u001b[1;33m)\u001b[0m\u001b[1;33m\u001b[0m\u001b[1;33m\u001b[0m\u001b[0m\n",
      "\u001b[1;32m~\\Anaconda3\\lib\\site-packages\\pandas\\core\\indexes\\base.py\u001b[0m in \u001b[0;36mjoin\u001b[1;34m(self, other, how, level, return_indexers, sort)\u001b[0m\n\u001b[0;32m    205\u001b[0m         \u001b[0msort\u001b[0m\u001b[1;33m:\u001b[0m \u001b[0mbool\u001b[0m \u001b[1;33m=\u001b[0m \u001b[1;32mFalse\u001b[0m\u001b[1;33m,\u001b[0m\u001b[1;33m\u001b[0m\u001b[1;33m\u001b[0m\u001b[0m\n\u001b[0;32m    206\u001b[0m     ):\n\u001b[1;32m--> 207\u001b[1;33m         \u001b[0mjoin_index\u001b[0m\u001b[1;33m,\u001b[0m \u001b[0mlidx\u001b[0m\u001b[1;33m,\u001b[0m \u001b[0mridx\u001b[0m \u001b[1;33m=\u001b[0m \u001b[0mmeth\u001b[0m\u001b[1;33m(\u001b[0m\u001b[0mself\u001b[0m\u001b[1;33m,\u001b[0m \u001b[0mother\u001b[0m\u001b[1;33m,\u001b[0m \u001b[0mhow\u001b[0m\u001b[1;33m=\u001b[0m\u001b[0mhow\u001b[0m\u001b[1;33m,\u001b[0m \u001b[0mlevel\u001b[0m\u001b[1;33m=\u001b[0m\u001b[0mlevel\u001b[0m\u001b[1;33m,\u001b[0m \u001b[0msort\u001b[0m\u001b[1;33m=\u001b[0m\u001b[0msort\u001b[0m\u001b[1;33m)\u001b[0m\u001b[1;33m\u001b[0m\u001b[1;33m\u001b[0m\u001b[0m\n\u001b[0m\u001b[0;32m    208\u001b[0m         \u001b[1;32mif\u001b[0m \u001b[1;32mnot\u001b[0m \u001b[0mreturn_indexers\u001b[0m\u001b[1;33m:\u001b[0m\u001b[1;33m\u001b[0m\u001b[1;33m\u001b[0m\u001b[0m\n\u001b[0;32m    209\u001b[0m             \u001b[1;32mreturn\u001b[0m \u001b[0mjoin_index\u001b[0m\u001b[1;33m\u001b[0m\u001b[1;33m\u001b[0m\u001b[0m\n",
      "\u001b[1;32m~\\Anaconda3\\lib\\site-packages\\pandas\\core\\indexes\\base.py\u001b[0m in \u001b[0;36mjoin\u001b[1;34m(self, other, how, level, return_indexers, sort)\u001b[0m\n\u001b[0;32m   3993\u001b[0m         \u001b[1;32melif\u001b[0m \u001b[1;32mnot\u001b[0m \u001b[0mself\u001b[0m\u001b[1;33m.\u001b[0m\u001b[0mis_unique\u001b[0m \u001b[1;32mor\u001b[0m \u001b[1;32mnot\u001b[0m \u001b[0mother\u001b[0m\u001b[1;33m.\u001b[0m\u001b[0mis_unique\u001b[0m\u001b[1;33m:\u001b[0m\u001b[1;33m\u001b[0m\u001b[1;33m\u001b[0m\u001b[0m\n\u001b[0;32m   3994\u001b[0m             \u001b[1;32mif\u001b[0m \u001b[0mself\u001b[0m\u001b[1;33m.\u001b[0m\u001b[0mis_monotonic\u001b[0m \u001b[1;32mand\u001b[0m \u001b[0mother\u001b[0m\u001b[1;33m.\u001b[0m\u001b[0mis_monotonic\u001b[0m\u001b[1;33m:\u001b[0m\u001b[1;33m\u001b[0m\u001b[1;33m\u001b[0m\u001b[0m\n\u001b[1;32m-> 3995\u001b[1;33m                 \u001b[1;32mreturn\u001b[0m \u001b[0mself\u001b[0m\u001b[1;33m.\u001b[0m\u001b[0m_join_monotonic\u001b[0m\u001b[1;33m(\u001b[0m\u001b[0mother\u001b[0m\u001b[1;33m,\u001b[0m \u001b[0mhow\u001b[0m\u001b[1;33m=\u001b[0m\u001b[0mhow\u001b[0m\u001b[1;33m)\u001b[0m\u001b[1;33m\u001b[0m\u001b[1;33m\u001b[0m\u001b[0m\n\u001b[0m\u001b[0;32m   3996\u001b[0m             \u001b[1;32melse\u001b[0m\u001b[1;33m:\u001b[0m\u001b[1;33m\u001b[0m\u001b[1;33m\u001b[0m\u001b[0m\n\u001b[0;32m   3997\u001b[0m                 \u001b[1;32mreturn\u001b[0m \u001b[0mself\u001b[0m\u001b[1;33m.\u001b[0m\u001b[0m_join_non_unique\u001b[0m\u001b[1;33m(\u001b[0m\u001b[0mother\u001b[0m\u001b[1;33m,\u001b[0m \u001b[0mhow\u001b[0m\u001b[1;33m=\u001b[0m\u001b[0mhow\u001b[0m\u001b[1;33m)\u001b[0m\u001b[1;33m\u001b[0m\u001b[1;33m\u001b[0m\u001b[0m\n",
      "\u001b[1;32m~\\Anaconda3\\lib\\site-packages\\pandas\\core\\indexes\\base.py\u001b[0m in \u001b[0;36m_join_monotonic\u001b[1;34m(self, other, how)\u001b[0m\n\u001b[0;32m   4319\u001b[0m         \u001b[1;32melse\u001b[0m\u001b[1;33m:\u001b[0m\u001b[1;33m\u001b[0m\u001b[1;33m\u001b[0m\u001b[0m\n\u001b[0;32m   4320\u001b[0m             \u001b[1;32mif\u001b[0m \u001b[0mhow\u001b[0m \u001b[1;33m==\u001b[0m \u001b[1;34m\"left\"\u001b[0m\u001b[1;33m:\u001b[0m\u001b[1;33m\u001b[0m\u001b[1;33m\u001b[0m\u001b[0m\n\u001b[1;32m-> 4321\u001b[1;33m                 \u001b[0mjoin_array\u001b[0m\u001b[1;33m,\u001b[0m \u001b[0mlidx\u001b[0m\u001b[1;33m,\u001b[0m \u001b[0mridx\u001b[0m \u001b[1;33m=\u001b[0m \u001b[0mself\u001b[0m\u001b[1;33m.\u001b[0m\u001b[0m_left_indexer\u001b[0m\u001b[1;33m(\u001b[0m\u001b[0mother\u001b[0m\u001b[1;33m)\u001b[0m\u001b[1;33m\u001b[0m\u001b[1;33m\u001b[0m\u001b[0m\n\u001b[0m\u001b[0;32m   4322\u001b[0m             \u001b[1;32melif\u001b[0m \u001b[0mhow\u001b[0m \u001b[1;33m==\u001b[0m \u001b[1;34m\"right\"\u001b[0m\u001b[1;33m:\u001b[0m\u001b[1;33m\u001b[0m\u001b[1;33m\u001b[0m\u001b[0m\n\u001b[0;32m   4323\u001b[0m                 \u001b[0mjoin_array\u001b[0m\u001b[1;33m,\u001b[0m \u001b[0mridx\u001b[0m\u001b[1;33m,\u001b[0m \u001b[0mlidx\u001b[0m \u001b[1;33m=\u001b[0m \u001b[0mother\u001b[0m\u001b[1;33m.\u001b[0m\u001b[0m_left_indexer\u001b[0m\u001b[1;33m(\u001b[0m\u001b[0mself\u001b[0m\u001b[1;33m)\u001b[0m\u001b[1;33m\u001b[0m\u001b[1;33m\u001b[0m\u001b[0m\n",
      "\u001b[1;32m~\\Anaconda3\\lib\\site-packages\\pandas\\core\\indexes\\base.py\u001b[0m in \u001b[0;36m_left_indexer\u001b[1;34m(self, other)\u001b[0m\n\u001b[0;32m    321\u001b[0m         \u001b[0msv\u001b[0m \u001b[1;33m=\u001b[0m \u001b[0mself\u001b[0m\u001b[1;33m.\u001b[0m\u001b[0m_get_join_target\u001b[0m\u001b[1;33m(\u001b[0m\u001b[1;33m)\u001b[0m\u001b[1;33m\u001b[0m\u001b[1;33m\u001b[0m\u001b[0m\n\u001b[0;32m    322\u001b[0m         \u001b[0mov\u001b[0m \u001b[1;33m=\u001b[0m \u001b[0mother\u001b[0m\u001b[1;33m.\u001b[0m\u001b[0m_get_join_target\u001b[0m\u001b[1;33m(\u001b[0m\u001b[1;33m)\u001b[0m\u001b[1;33m\u001b[0m\u001b[1;33m\u001b[0m\u001b[0m\n\u001b[1;32m--> 323\u001b[1;33m         \u001b[0mjoined_ndarray\u001b[0m\u001b[1;33m,\u001b[0m \u001b[0mlidx\u001b[0m\u001b[1;33m,\u001b[0m \u001b[0mridx\u001b[0m \u001b[1;33m=\u001b[0m \u001b[0mlibjoin\u001b[0m\u001b[1;33m.\u001b[0m\u001b[0mleft_join_indexer\u001b[0m\u001b[1;33m(\u001b[0m\u001b[0msv\u001b[0m\u001b[1;33m,\u001b[0m \u001b[0mov\u001b[0m\u001b[1;33m)\u001b[0m\u001b[1;33m\u001b[0m\u001b[1;33m\u001b[0m\u001b[0m\n\u001b[0m\u001b[0;32m    324\u001b[0m         \u001b[0mjoined\u001b[0m \u001b[1;33m=\u001b[0m \u001b[0mself\u001b[0m\u001b[1;33m.\u001b[0m\u001b[0m_from_join_target\u001b[0m\u001b[1;33m(\u001b[0m\u001b[0mjoined_ndarray\u001b[0m\u001b[1;33m)\u001b[0m\u001b[1;33m\u001b[0m\u001b[1;33m\u001b[0m\u001b[0m\n\u001b[0;32m    325\u001b[0m         \u001b[1;32mreturn\u001b[0m \u001b[0mjoined\u001b[0m\u001b[1;33m,\u001b[0m \u001b[0mlidx\u001b[0m\u001b[1;33m,\u001b[0m \u001b[0mridx\u001b[0m\u001b[1;33m\u001b[0m\u001b[1;33m\u001b[0m\u001b[0m\n",
      "\u001b[1;32m~\\Anaconda3\\lib\\site-packages\\pandas\\_libs\\join.pyx\u001b[0m in \u001b[0;36mpandas._libs.join.left_join_indexer\u001b[1;34m()\u001b[0m\n",
      "\u001b[1;31mTypeError\u001b[0m: '<' not supported between instances of 'int' and 'str'"
     ]
    }
   ],
   "source": [
    "joined_df = Tabla1Pacientes.join(Tabla2Diagnostico.set_index('Número de chip', 'Número de paciente'))\n",
    "joined_df"
   ]
  },
  {
   "cell_type": "code",
   "execution_count": 145,
   "metadata": {},
   "outputs": [
    {
     "ename": "ValueError",
     "evalue": "columns overlap but no suffix specified: Index(['Diagnóstico'], dtype='object')",
     "output_type": "error",
     "traceback": [
      "\u001b[1;31m---------------------------------------------------------------------------\u001b[0m",
      "\u001b[1;31mValueError\u001b[0m                                Traceback (most recent call last)",
      "\u001b[1;32m<ipython-input-145-844bfaf39b5e>\u001b[0m in \u001b[0;36m<module>\u001b[1;34m\u001b[0m\n\u001b[0;32m      1\u001b[0m \u001b[1;31m# Unir los dataframes utilizando dos columnas como clave primaria\u001b[0m\u001b[1;33m\u001b[0m\u001b[1;33m\u001b[0m\u001b[1;33m\u001b[0m\u001b[0m\n\u001b[1;32m----> 2\u001b[1;33m \u001b[0mdf_merged\u001b[0m \u001b[1;33m=\u001b[0m \u001b[0mTabla1Pacientes\u001b[0m\u001b[1;33m.\u001b[0m\u001b[0mjoin\u001b[0m\u001b[1;33m(\u001b[0m\u001b[0mTabla2Diagnostico\u001b[0m\u001b[1;33m.\u001b[0m\u001b[0mset_index\u001b[0m\u001b[1;33m(\u001b[0m\u001b[1;33m[\u001b[0m\u001b[1;34m'Número de chip'\u001b[0m\u001b[1;33m,\u001b[0m \u001b[1;34m'Número de paciente'\u001b[0m\u001b[1;33m]\u001b[0m\u001b[1;33m)\u001b[0m\u001b[1;33m,\u001b[0m \u001b[0mon\u001b[0m\u001b[1;33m=\u001b[0m\u001b[1;33m[\u001b[0m\u001b[1;34m'Número de chip'\u001b[0m\u001b[1;33m,\u001b[0m \u001b[1;34m'Número de paciente'\u001b[0m\u001b[1;33m]\u001b[0m\u001b[1;33m)\u001b[0m\u001b[1;33m\u001b[0m\u001b[1;33m\u001b[0m\u001b[0m\n\u001b[0m\u001b[0;32m      3\u001b[0m \u001b[1;33m\u001b[0m\u001b[0m\n\u001b[0;32m      4\u001b[0m \u001b[1;31m# Imprimir el dataframe resultante\u001b[0m\u001b[1;33m\u001b[0m\u001b[1;33m\u001b[0m\u001b[1;33m\u001b[0m\u001b[0m\n\u001b[0;32m      5\u001b[0m \u001b[0mprint\u001b[0m\u001b[1;33m(\u001b[0m\u001b[0mdf_merged\u001b[0m\u001b[1;33m)\u001b[0m\u001b[1;33m\u001b[0m\u001b[1;33m\u001b[0m\u001b[0m\n",
      "\u001b[1;32m~\\Anaconda3\\lib\\site-packages\\pandas\\core\\frame.py\u001b[0m in \u001b[0;36mjoin\u001b[1;34m(self, other, on, how, lsuffix, rsuffix, sort)\u001b[0m\n\u001b[0;32m   9098\u001b[0m         \"\"\"\n\u001b[0;32m   9099\u001b[0m         return self._join_compat(\n\u001b[1;32m-> 9100\u001b[1;33m             \u001b[0mother\u001b[0m\u001b[1;33m,\u001b[0m \u001b[0mon\u001b[0m\u001b[1;33m=\u001b[0m\u001b[0mon\u001b[0m\u001b[1;33m,\u001b[0m \u001b[0mhow\u001b[0m\u001b[1;33m=\u001b[0m\u001b[0mhow\u001b[0m\u001b[1;33m,\u001b[0m \u001b[0mlsuffix\u001b[0m\u001b[1;33m=\u001b[0m\u001b[0mlsuffix\u001b[0m\u001b[1;33m,\u001b[0m \u001b[0mrsuffix\u001b[0m\u001b[1;33m=\u001b[0m\u001b[0mrsuffix\u001b[0m\u001b[1;33m,\u001b[0m \u001b[0msort\u001b[0m\u001b[1;33m=\u001b[0m\u001b[0msort\u001b[0m\u001b[1;33m\u001b[0m\u001b[1;33m\u001b[0m\u001b[0m\n\u001b[0m\u001b[0;32m   9101\u001b[0m         )\n\u001b[0;32m   9102\u001b[0m \u001b[1;33m\u001b[0m\u001b[0m\n",
      "\u001b[1;32m~\\Anaconda3\\lib\\site-packages\\pandas\\core\\frame.py\u001b[0m in \u001b[0;36m_join_compat\u001b[1;34m(self, other, on, how, lsuffix, rsuffix, sort)\u001b[0m\n\u001b[0;32m   9136\u001b[0m                 \u001b[0mright_index\u001b[0m\u001b[1;33m=\u001b[0m\u001b[1;32mTrue\u001b[0m\u001b[1;33m,\u001b[0m\u001b[1;33m\u001b[0m\u001b[1;33m\u001b[0m\u001b[0m\n\u001b[0;32m   9137\u001b[0m                 \u001b[0msuffixes\u001b[0m\u001b[1;33m=\u001b[0m\u001b[1;33m(\u001b[0m\u001b[0mlsuffix\u001b[0m\u001b[1;33m,\u001b[0m \u001b[0mrsuffix\u001b[0m\u001b[1;33m)\u001b[0m\u001b[1;33m,\u001b[0m\u001b[1;33m\u001b[0m\u001b[1;33m\u001b[0m\u001b[0m\n\u001b[1;32m-> 9138\u001b[1;33m                 \u001b[0msort\u001b[0m\u001b[1;33m=\u001b[0m\u001b[0msort\u001b[0m\u001b[1;33m,\u001b[0m\u001b[1;33m\u001b[0m\u001b[1;33m\u001b[0m\u001b[0m\n\u001b[0m\u001b[0;32m   9139\u001b[0m             )\n\u001b[0;32m   9140\u001b[0m         \u001b[1;32melse\u001b[0m\u001b[1;33m:\u001b[0m\u001b[1;33m\u001b[0m\u001b[1;33m\u001b[0m\u001b[0m\n",
      "\u001b[1;32m~\\Anaconda3\\lib\\site-packages\\pandas\\core\\reshape\\merge.py\u001b[0m in \u001b[0;36mmerge\u001b[1;34m(left, right, how, on, left_on, right_on, left_index, right_index, sort, suffixes, copy, indicator, validate)\u001b[0m\n\u001b[0;32m    119\u001b[0m         \u001b[0mvalidate\u001b[0m\u001b[1;33m=\u001b[0m\u001b[0mvalidate\u001b[0m\u001b[1;33m,\u001b[0m\u001b[1;33m\u001b[0m\u001b[1;33m\u001b[0m\u001b[0m\n\u001b[0;32m    120\u001b[0m     )\n\u001b[1;32m--> 121\u001b[1;33m     \u001b[1;32mreturn\u001b[0m \u001b[0mop\u001b[0m\u001b[1;33m.\u001b[0m\u001b[0mget_result\u001b[0m\u001b[1;33m(\u001b[0m\u001b[1;33m)\u001b[0m\u001b[1;33m\u001b[0m\u001b[1;33m\u001b[0m\u001b[0m\n\u001b[0m\u001b[0;32m    122\u001b[0m \u001b[1;33m\u001b[0m\u001b[0m\n\u001b[0;32m    123\u001b[0m \u001b[1;33m\u001b[0m\u001b[0m\n",
      "\u001b[1;32m~\\Anaconda3\\lib\\site-packages\\pandas\\core\\reshape\\merge.py\u001b[0m in \u001b[0;36mget_result\u001b[1;34m(self)\u001b[0m\n\u001b[0;32m    716\u001b[0m \u001b[1;33m\u001b[0m\u001b[0m\n\u001b[0;32m    717\u001b[0m         llabels, rlabels = _items_overlap_with_suffix(\n\u001b[1;32m--> 718\u001b[1;33m             \u001b[0mself\u001b[0m\u001b[1;33m.\u001b[0m\u001b[0mleft\u001b[0m\u001b[1;33m.\u001b[0m\u001b[0m_info_axis\u001b[0m\u001b[1;33m,\u001b[0m \u001b[0mself\u001b[0m\u001b[1;33m.\u001b[0m\u001b[0mright\u001b[0m\u001b[1;33m.\u001b[0m\u001b[0m_info_axis\u001b[0m\u001b[1;33m,\u001b[0m \u001b[0mself\u001b[0m\u001b[1;33m.\u001b[0m\u001b[0msuffixes\u001b[0m\u001b[1;33m\u001b[0m\u001b[1;33m\u001b[0m\u001b[0m\n\u001b[0m\u001b[0;32m    719\u001b[0m         )\n\u001b[0;32m    720\u001b[0m \u001b[1;33m\u001b[0m\u001b[0m\n",
      "\u001b[1;32m~\\Anaconda3\\lib\\site-packages\\pandas\\core\\reshape\\merge.py\u001b[0m in \u001b[0;36m_items_overlap_with_suffix\u001b[1;34m(left, right, suffixes)\u001b[0m\n\u001b[0;32m   2312\u001b[0m \u001b[1;33m\u001b[0m\u001b[0m\n\u001b[0;32m   2313\u001b[0m     \u001b[1;32mif\u001b[0m \u001b[1;32mnot\u001b[0m \u001b[0mlsuffix\u001b[0m \u001b[1;32mand\u001b[0m \u001b[1;32mnot\u001b[0m \u001b[0mrsuffix\u001b[0m\u001b[1;33m:\u001b[0m\u001b[1;33m\u001b[0m\u001b[1;33m\u001b[0m\u001b[0m\n\u001b[1;32m-> 2314\u001b[1;33m         \u001b[1;32mraise\u001b[0m \u001b[0mValueError\u001b[0m\u001b[1;33m(\u001b[0m\u001b[1;34mf\"columns overlap but no suffix specified: {to_rename}\"\u001b[0m\u001b[1;33m)\u001b[0m\u001b[1;33m\u001b[0m\u001b[1;33m\u001b[0m\u001b[0m\n\u001b[0m\u001b[0;32m   2315\u001b[0m \u001b[1;33m\u001b[0m\u001b[0m\n\u001b[0;32m   2316\u001b[0m     \u001b[1;32mdef\u001b[0m \u001b[0mrenamer\u001b[0m\u001b[1;33m(\u001b[0m\u001b[0mx\u001b[0m\u001b[1;33m,\u001b[0m \u001b[0msuffix\u001b[0m\u001b[1;33m)\u001b[0m\u001b[1;33m:\u001b[0m\u001b[1;33m\u001b[0m\u001b[1;33m\u001b[0m\u001b[0m\n",
      "\u001b[1;31mValueError\u001b[0m: columns overlap but no suffix specified: Index(['Diagnóstico'], dtype='object')"
     ]
    }
   ],
   "source": [
    "# Unir los dataframes utilizando dos columnas como clave primaria\n",
    "df_merged = Tabla1Pacientes.join(Tabla2Diagnostico.set_index(['Número de chip', 'Número de paciente']), on=['Número de chip', 'Número de paciente'])\n",
    "\n",
    "# Imprimir el dataframe resultante\n",
    "print(df_merged)\n"
   ]
  },
  {
   "cell_type": "code",
   "execution_count": 96,
   "metadata": {},
   "outputs": [
    {
     "data": {
      "text/html": [
       "<div>\n",
       "<style scoped>\n",
       "    .dataframe tbody tr th:only-of-type {\n",
       "        vertical-align: middle;\n",
       "    }\n",
       "\n",
       "    .dataframe tbody tr th {\n",
       "        vertical-align: top;\n",
       "    }\n",
       "\n",
       "    .dataframe thead th {\n",
       "        text-align: right;\n",
       "    }\n",
       "</style>\n",
       "<table border=\"1\" class=\"dataframe\">\n",
       "  <thead>\n",
       "    <tr style=\"text-align: right;\">\n",
       "      <th></th>\n",
       "      <th>Número de chip</th>\n",
       "      <th>Número de paciente</th>\n",
       "      <th>NHC</th>\n",
       "      <th>Número de biopsia</th>\n",
       "      <th>Biopsia sólida</th>\n",
       "      <th>Fecha de informe</th>\n",
       "      <th>Diagnóstico</th>\n",
       "      <th>Mutaciones detectadas</th>\n",
       "      <th>Número del diagnóstico</th>\n",
       "    </tr>\n",
       "  </thead>\n",
       "  <tbody>\n",
       "    <tr>\n",
       "      <th>0</th>\n",
       "      <td>100</td>\n",
       "      <td>1</td>\n",
       "      <td>00021</td>\n",
       "      <td>23B00021-A1</td>\n",
       "      <td>1</td>\n",
       "      <td>24-mar-2023</td>\n",
       "      <td>Carcinoma pulmonar no microcítico</td>\n",
       "      <td>['MYC', 'EML4-ALK']</td>\n",
       "      <td>15.1</td>\n",
       "    </tr>\n",
       "    <tr>\n",
       "      <th>6</th>\n",
       "      <td>100</td>\n",
       "      <td>2</td>\n",
       "      <td>00022</td>\n",
       "      <td>22B00022-A2</td>\n",
       "      <td>1</td>\n",
       "      <td>24-mar-2023</td>\n",
       "      <td>Carcinoma pulmonar no microcítico</td>\n",
       "      <td>['KRAS']</td>\n",
       "      <td>15.1</td>\n",
       "    </tr>\n",
       "    <tr>\n",
       "      <th>12</th>\n",
       "      <td>100</td>\n",
       "      <td>3</td>\n",
       "      <td>00023</td>\n",
       "      <td>21B00023-A1</td>\n",
       "      <td>1</td>\n",
       "      <td>24-mar-2023</td>\n",
       "      <td>Carcinoma pulmonar no microcítico</td>\n",
       "      <td>[]</td>\n",
       "      <td>15.1</td>\n",
       "    </tr>\n",
       "    <tr>\n",
       "      <th>18</th>\n",
       "      <td>100</td>\n",
       "      <td>4</td>\n",
       "      <td>00024</td>\n",
       "      <td>23B00024-A1</td>\n",
       "      <td>1</td>\n",
       "      <td>24-mar-2023</td>\n",
       "      <td>Carcinoma pulmonar no microcítico</td>\n",
       "      <td>['FGFR1', 'PIK3CA']</td>\n",
       "      <td>15.1</td>\n",
       "    </tr>\n",
       "    <tr>\n",
       "      <th>24</th>\n",
       "      <td>100</td>\n",
       "      <td>5</td>\n",
       "      <td>00025</td>\n",
       "      <td>23C00025-A1</td>\n",
       "      <td>3</td>\n",
       "      <td>24-mar-2023</td>\n",
       "      <td>Carcinoma pulmonar no microcítico</td>\n",
       "      <td>['CDK6', 'MET']</td>\n",
       "      <td>15.1</td>\n",
       "    </tr>\n",
       "    <tr>\n",
       "      <th>30</th>\n",
       "      <td>100</td>\n",
       "      <td>6</td>\n",
       "      <td>00026</td>\n",
       "      <td>23P00026</td>\n",
       "      <td>2</td>\n",
       "      <td>24-mar-2023</td>\n",
       "      <td>Carcinoma pulmonar no microcítico</td>\n",
       "      <td>['CTNNB1', 'EGFR']</td>\n",
       "      <td>15.1</td>\n",
       "    </tr>\n",
       "    <tr>\n",
       "      <th>36</th>\n",
       "      <td>100</td>\n",
       "      <td>7</td>\n",
       "      <td>00027</td>\n",
       "      <td>22B00027-C4</td>\n",
       "      <td>1</td>\n",
       "      <td>24-mar-2023</td>\n",
       "      <td>Cáncer tiroideo</td>\n",
       "      <td>['HRAS']</td>\n",
       "      <td>30.0</td>\n",
       "    </tr>\n",
       "    <tr>\n",
       "      <th>37</th>\n",
       "      <td>100</td>\n",
       "      <td>8</td>\n",
       "      <td>00028</td>\n",
       "      <td>23B00028-A2</td>\n",
       "      <td>1</td>\n",
       "      <td>24-mar-2023</td>\n",
       "      <td>Cáncer gástrico</td>\n",
       "      <td>['KIT', 'MYC']</td>\n",
       "      <td>11.0</td>\n",
       "    </tr>\n",
       "  </tbody>\n",
       "</table>\n",
       "</div>"
      ],
      "text/plain": [
       "   Número de chip Número de paciente    NHC Número de biopsia Biopsia sólida  \\\n",
       "0             100                  1  00021       23B00021-A1              1   \n",
       "6             100                  2  00022       22B00022-A2              1   \n",
       "12            100                  3  00023       21B00023-A1              1   \n",
       "18            100                  4  00024       23B00024-A1              1   \n",
       "24            100                  5  00025       23C00025-A1              3   \n",
       "30            100                  6  00026          23P00026              2   \n",
       "36            100                  7  00027       22B00027-C4              1   \n",
       "37            100                  8  00028       23B00028-A2              1   \n",
       "\n",
       "   Fecha de informe                        Diagnóstico Mutaciones detectadas  \\\n",
       "0       24-mar-2023  Carcinoma pulmonar no microcítico   ['MYC', 'EML4-ALK']   \n",
       "6       24-mar-2023  Carcinoma pulmonar no microcítico              ['KRAS']   \n",
       "12      24-mar-2023  Carcinoma pulmonar no microcítico                    []   \n",
       "18      24-mar-2023  Carcinoma pulmonar no microcítico   ['FGFR1', 'PIK3CA']   \n",
       "24      24-mar-2023  Carcinoma pulmonar no microcítico       ['CDK6', 'MET']   \n",
       "30      24-mar-2023  Carcinoma pulmonar no microcítico    ['CTNNB1', 'EGFR']   \n",
       "36      24-mar-2023                    Cáncer tiroideo              ['HRAS']   \n",
       "37      24-mar-2023                    Cáncer gástrico        ['KIT', 'MYC']   \n",
       "\n",
       "    Número del diagnóstico  \n",
       "0                     15.1  \n",
       "6                     15.1  \n",
       "12                    15.1  \n",
       "18                    15.1  \n",
       "24                    15.1  \n",
       "30                    15.1  \n",
       "36                    30.0  \n",
       "37                    11.0  "
      ]
     },
     "execution_count": 96,
     "metadata": {},
     "output_type": "execute_result"
    }
   ],
   "source": [
    "TablaFinal3 = pd.merge(Tabla1Pacientes, Tabla2Diagnostico, on='Diagnóstico', how='outer')\n",
    "TablaFinal3.drop_duplicates()"
   ]
  },
  {
   "cell_type": "code",
   "execution_count": 85,
   "metadata": {},
   "outputs": [
    {
     "data": {
      "text/html": [
       "<div>\n",
       "<style scoped>\n",
       "    .dataframe tbody tr th:only-of-type {\n",
       "        vertical-align: middle;\n",
       "    }\n",
       "\n",
       "    .dataframe tbody tr th {\n",
       "        vertical-align: top;\n",
       "    }\n",
       "\n",
       "    .dataframe thead th {\n",
       "        text-align: right;\n",
       "    }\n",
       "</style>\n",
       "<table border=\"1\" class=\"dataframe\">\n",
       "  <thead>\n",
       "    <tr style=\"text-align: right;\">\n",
       "      <th></th>\n",
       "      <th>Número de chip</th>\n",
       "      <th>Núme de paciente</th>\n",
       "      <th>NHC</th>\n",
       "      <th>Número de biopsia</th>\n",
       "      <th>Biopsia sólida</th>\n",
       "      <th>Fecha de informe</th>\n",
       "      <th>Diagnóstico</th>\n",
       "      <th>Mutaciones detectadas</th>\n",
       "      <th>Número del diagnóstico</th>\n",
       "      <th>Ensayos clínicos</th>\n",
       "      <th>SI/NO ensayo</th>\n",
       "      <th>Fármaco aprobado</th>\n",
       "      <th>SI/NO fármacos</th>\n",
       "    </tr>\n",
       "  </thead>\n",
       "  <tbody>\n",
       "    <tr>\n",
       "      <th>0</th>\n",
       "      <td>100</td>\n",
       "      <td>1</td>\n",
       "      <td>00021</td>\n",
       "      <td>23B00021-A1</td>\n",
       "      <td>1</td>\n",
       "      <td>24-mar-2023</td>\n",
       "      <td>Carcinoma pulmonar no microcítico</td>\n",
       "      <td>[MYC, EML4-ALK]</td>\n",
       "      <td>15.1</td>\n",
       "      <td>6</td>\n",
       "      <td>1</td>\n",
       "      <td>6</td>\n",
       "      <td>1</td>\n",
       "    </tr>\n",
       "    <tr>\n",
       "      <th>1</th>\n",
       "      <td>100</td>\n",
       "      <td>2</td>\n",
       "      <td>00022</td>\n",
       "      <td>22B00022-A2</td>\n",
       "      <td>1</td>\n",
       "      <td>24-mar-2023</td>\n",
       "      <td>Carcinoma pulmonar no microcítico</td>\n",
       "      <td>[KRAS]</td>\n",
       "      <td>15.1</td>\n",
       "      <td>5</td>\n",
       "      <td>1</td>\n",
       "      <td>1</td>\n",
       "      <td>1</td>\n",
       "    </tr>\n",
       "    <tr>\n",
       "      <th>2</th>\n",
       "      <td>100</td>\n",
       "      <td>3</td>\n",
       "      <td>00023</td>\n",
       "      <td>21B00023-A1</td>\n",
       "      <td>1</td>\n",
       "      <td>24-mar-2023</td>\n",
       "      <td>Carcinoma pulmonar no microcítico</td>\n",
       "      <td>[]</td>\n",
       "      <td>15.1</td>\n",
       "      <td>0</td>\n",
       "      <td>0</td>\n",
       "      <td>0</td>\n",
       "      <td>0</td>\n",
       "    </tr>\n",
       "    <tr>\n",
       "      <th>3</th>\n",
       "      <td>100</td>\n",
       "      <td>4</td>\n",
       "      <td>00024</td>\n",
       "      <td>23B00024-A1</td>\n",
       "      <td>1</td>\n",
       "      <td>24-mar-2023</td>\n",
       "      <td>Carcinoma pulmonar no microcítico</td>\n",
       "      <td>[FGFR1, PIK3CA]</td>\n",
       "      <td>15.1</td>\n",
       "      <td>0</td>\n",
       "      <td>0</td>\n",
       "      <td>0</td>\n",
       "      <td>0</td>\n",
       "    </tr>\n",
       "    <tr>\n",
       "      <th>4</th>\n",
       "      <td>100</td>\n",
       "      <td>5</td>\n",
       "      <td>00025</td>\n",
       "      <td>23C00025-A1</td>\n",
       "      <td>3</td>\n",
       "      <td>24-mar-2023</td>\n",
       "      <td>Carcinoma pulmonar no microcítico</td>\n",
       "      <td>[CDK6, MET]</td>\n",
       "      <td>15.1</td>\n",
       "      <td>3</td>\n",
       "      <td>1</td>\n",
       "      <td>3</td>\n",
       "      <td>1</td>\n",
       "    </tr>\n",
       "    <tr>\n",
       "      <th>5</th>\n",
       "      <td>100</td>\n",
       "      <td>6</td>\n",
       "      <td>00026</td>\n",
       "      <td>23P00026</td>\n",
       "      <td>2</td>\n",
       "      <td>24-mar-2023</td>\n",
       "      <td>Carcinoma pulmonar no microcítico</td>\n",
       "      <td>[CTNNB1, EGFR]</td>\n",
       "      <td>15.1</td>\n",
       "      <td>5</td>\n",
       "      <td>1</td>\n",
       "      <td>0</td>\n",
       "      <td>0</td>\n",
       "    </tr>\n",
       "    <tr>\n",
       "      <th>6</th>\n",
       "      <td>100</td>\n",
       "      <td>7</td>\n",
       "      <td>00027</td>\n",
       "      <td>22B00027-C4</td>\n",
       "      <td>1</td>\n",
       "      <td>24-mar-2023</td>\n",
       "      <td>Cáncer tiroideo</td>\n",
       "      <td>[HRAS]</td>\n",
       "      <td>30.0</td>\n",
       "      <td>1</td>\n",
       "      <td>1</td>\n",
       "      <td>0</td>\n",
       "      <td>0</td>\n",
       "    </tr>\n",
       "    <tr>\n",
       "      <th>7</th>\n",
       "      <td>100</td>\n",
       "      <td>8</td>\n",
       "      <td>00028</td>\n",
       "      <td>23B00028-A2</td>\n",
       "      <td>1</td>\n",
       "      <td>24-mar-2023</td>\n",
       "      <td>Cáncer gástrico</td>\n",
       "      <td>[KIT, MYC]</td>\n",
       "      <td>11.0</td>\n",
       "      <td>0</td>\n",
       "      <td>0</td>\n",
       "      <td>1</td>\n",
       "      <td>1</td>\n",
       "    </tr>\n",
       "  </tbody>\n",
       "</table>\n",
       "</div>"
      ],
      "text/plain": [
       "  Número de chip Núme de paciente    NHC Número de biopsia Biopsia sólida  \\\n",
       "0            100                1  00021       23B00021-A1              1   \n",
       "1            100                2  00022       22B00022-A2              1   \n",
       "2            100                3  00023       21B00023-A1              1   \n",
       "3            100                4  00024       23B00024-A1              1   \n",
       "4            100                5  00025       23C00025-A1              3   \n",
       "5            100                6  00026          23P00026              2   \n",
       "6            100                7  00027       22B00027-C4              1   \n",
       "7            100                8  00028       23B00028-A2              1   \n",
       "\n",
       "  Fecha de informe                        Diagnóstico Mutaciones detectadas  \\\n",
       "0      24-mar-2023  Carcinoma pulmonar no microcítico       [MYC, EML4-ALK]   \n",
       "1      24-mar-2023  Carcinoma pulmonar no microcítico                [KRAS]   \n",
       "2      24-mar-2023  Carcinoma pulmonar no microcítico                    []   \n",
       "3      24-mar-2023  Carcinoma pulmonar no microcítico       [FGFR1, PIK3CA]   \n",
       "4      24-mar-2023  Carcinoma pulmonar no microcítico           [CDK6, MET]   \n",
       "5      24-mar-2023  Carcinoma pulmonar no microcítico        [CTNNB1, EGFR]   \n",
       "6      24-mar-2023                    Cáncer tiroideo                [HRAS]   \n",
       "7      24-mar-2023                    Cáncer gástrico            [KIT, MYC]   \n",
       "\n",
       "   Número del diagnóstico  Ensayos clínicos  SI/NO ensayo  Fármaco aprobado  \\\n",
       "0                    15.1                 6             1                 6   \n",
       "1                    15.1                 5             1                 1   \n",
       "2                    15.1                 0             0                 0   \n",
       "3                    15.1                 0             0                 0   \n",
       "4                    15.1                 3             1                 3   \n",
       "5                    15.1                 5             1                 0   \n",
       "6                    30.0                 1             1                 0   \n",
       "7                    11.0                 0             0                 1   \n",
       "\n",
       "   SI/NO fármacos  \n",
       "0               1  \n",
       "1               1  \n",
       "2               0  \n",
       "3               0  \n",
       "4               1  \n",
       "5               0  \n",
       "6               0  \n",
       "7               1  "
      ]
     },
     "execution_count": 85,
     "metadata": {},
     "output_type": "execute_result"
    }
   ],
   "source": [
    "tablaIdeal = pd.DataFrame({'Número de chip': chip2, 'Núme de paciente': numero_paciente, 'NHC': NHC_final, 'Número de biopsia': NB_values, 'Biopsia sólida': Biopsia_solida, 'Fecha de informe': fechas, 'Diagnóstico': textoDiag, 'Mutaciones detectadas':mut,'Diagnóstico': textoDiag, 'Número del diagnóstico': numeroDiag, 'Diagnóstico': textoDiag, 'Ensayos clínicos': lista_ensayos,'SI/NO ensayo':ensayos_finales, 'Fármaco aprobado': lista_tratamientos, 'SI/NO fármacos': tratamientos_finales })\n",
    "tablaIdeal"
   ]
  },
  {
   "cell_type": "code",
   "execution_count": 86,
   "metadata": {},
   "outputs": [
    {
     "data": {
      "text/html": [
       "<div>\n",
       "<style scoped>\n",
       "    .dataframe tbody tr th:only-of-type {\n",
       "        vertical-align: middle;\n",
       "    }\n",
       "\n",
       "    .dataframe tbody tr th {\n",
       "        vertical-align: top;\n",
       "    }\n",
       "\n",
       "    .dataframe thead th {\n",
       "        text-align: right;\n",
       "    }\n",
       "</style>\n",
       "<table border=\"1\" class=\"dataframe\">\n",
       "  <thead>\n",
       "    <tr style=\"text-align: right;\">\n",
       "      <th></th>\n",
       "      <th>Número de chip</th>\n",
       "      <th>Número de paciente</th>\n",
       "      <th>NHC</th>\n",
       "      <th>Número de biopsia</th>\n",
       "      <th>Biopsia sólida</th>\n",
       "      <th>Fecha de informe</th>\n",
       "      <th>Diagnóstico</th>\n",
       "      <th>Mutaciones detectadas</th>\n",
       "      <th>Número del diagnóstico</th>\n",
       "    </tr>\n",
       "  </thead>\n",
       "  <tbody>\n",
       "    <tr>\n",
       "      <th>0</th>\n",
       "      <td>100</td>\n",
       "      <td>1</td>\n",
       "      <td>00021</td>\n",
       "      <td>23B00021-A1</td>\n",
       "      <td>1</td>\n",
       "      <td>24-mar-2023</td>\n",
       "      <td>Carcinoma pulmonar no microcítico</td>\n",
       "      <td>['MYC', 'EML4-ALK']</td>\n",
       "      <td>15.1</td>\n",
       "    </tr>\n",
       "    <tr>\n",
       "      <th>6</th>\n",
       "      <td>100</td>\n",
       "      <td>2</td>\n",
       "      <td>00022</td>\n",
       "      <td>22B00022-A2</td>\n",
       "      <td>1</td>\n",
       "      <td>24-mar-2023</td>\n",
       "      <td>Carcinoma pulmonar no microcítico</td>\n",
       "      <td>['KRAS']</td>\n",
       "      <td>15.1</td>\n",
       "    </tr>\n",
       "    <tr>\n",
       "      <th>12</th>\n",
       "      <td>100</td>\n",
       "      <td>3</td>\n",
       "      <td>00023</td>\n",
       "      <td>21B00023-A1</td>\n",
       "      <td>1</td>\n",
       "      <td>24-mar-2023</td>\n",
       "      <td>Carcinoma pulmonar no microcítico</td>\n",
       "      <td>[]</td>\n",
       "      <td>15.1</td>\n",
       "    </tr>\n",
       "    <tr>\n",
       "      <th>18</th>\n",
       "      <td>100</td>\n",
       "      <td>4</td>\n",
       "      <td>00024</td>\n",
       "      <td>23B00024-A1</td>\n",
       "      <td>1</td>\n",
       "      <td>24-mar-2023</td>\n",
       "      <td>Carcinoma pulmonar no microcítico</td>\n",
       "      <td>['FGFR1', 'PIK3CA']</td>\n",
       "      <td>15.1</td>\n",
       "    </tr>\n",
       "    <tr>\n",
       "      <th>24</th>\n",
       "      <td>100</td>\n",
       "      <td>5</td>\n",
       "      <td>00025</td>\n",
       "      <td>23C00025-A1</td>\n",
       "      <td>3</td>\n",
       "      <td>24-mar-2023</td>\n",
       "      <td>Carcinoma pulmonar no microcítico</td>\n",
       "      <td>['CDK6', 'MET']</td>\n",
       "      <td>15.1</td>\n",
       "    </tr>\n",
       "    <tr>\n",
       "      <th>30</th>\n",
       "      <td>100</td>\n",
       "      <td>6</td>\n",
       "      <td>00026</td>\n",
       "      <td>23P00026</td>\n",
       "      <td>2</td>\n",
       "      <td>24-mar-2023</td>\n",
       "      <td>Carcinoma pulmonar no microcítico</td>\n",
       "      <td>['CTNNB1', 'EGFR']</td>\n",
       "      <td>15.1</td>\n",
       "    </tr>\n",
       "    <tr>\n",
       "      <th>36</th>\n",
       "      <td>100</td>\n",
       "      <td>7</td>\n",
       "      <td>00027</td>\n",
       "      <td>22B00027-C4</td>\n",
       "      <td>1</td>\n",
       "      <td>24-mar-2023</td>\n",
       "      <td>Cáncer tiroideo</td>\n",
       "      <td>['HRAS']</td>\n",
       "      <td>30.0</td>\n",
       "    </tr>\n",
       "    <tr>\n",
       "      <th>37</th>\n",
       "      <td>100</td>\n",
       "      <td>8</td>\n",
       "      <td>00028</td>\n",
       "      <td>23B00028-A2</td>\n",
       "      <td>1</td>\n",
       "      <td>24-mar-2023</td>\n",
       "      <td>Cáncer gástrico</td>\n",
       "      <td>['KIT', 'MYC']</td>\n",
       "      <td>11.0</td>\n",
       "    </tr>\n",
       "  </tbody>\n",
       "</table>\n",
       "</div>"
      ],
      "text/plain": [
       "   Número de chip Número de paciente    NHC Número de biopsia Biopsia sólida  \\\n",
       "0             100                  1  00021       23B00021-A1              1   \n",
       "6             100                  2  00022       22B00022-A2              1   \n",
       "12            100                  3  00023       21B00023-A1              1   \n",
       "18            100                  4  00024       23B00024-A1              1   \n",
       "24            100                  5  00025       23C00025-A1              3   \n",
       "30            100                  6  00026          23P00026              2   \n",
       "36            100                  7  00027       22B00027-C4              1   \n",
       "37            100                  8  00028       23B00028-A2              1   \n",
       "\n",
       "   Fecha de informe                        Diagnóstico Mutaciones detectadas  \\\n",
       "0       24-mar-2023  Carcinoma pulmonar no microcítico   ['MYC', 'EML4-ALK']   \n",
       "6       24-mar-2023  Carcinoma pulmonar no microcítico              ['KRAS']   \n",
       "12      24-mar-2023  Carcinoma pulmonar no microcítico                    []   \n",
       "18      24-mar-2023  Carcinoma pulmonar no microcítico   ['FGFR1', 'PIK3CA']   \n",
       "24      24-mar-2023  Carcinoma pulmonar no microcítico       ['CDK6', 'MET']   \n",
       "30      24-mar-2023  Carcinoma pulmonar no microcítico    ['CTNNB1', 'EGFR']   \n",
       "36      24-mar-2023                    Cáncer tiroideo              ['HRAS']   \n",
       "37      24-mar-2023                    Cáncer gástrico        ['KIT', 'MYC']   \n",
       "\n",
       "    Número del diagnóstico  \n",
       "0                     15.1  \n",
       "6                     15.1  \n",
       "12                    15.1  \n",
       "18                    15.1  \n",
       "24                    15.1  \n",
       "30                    15.1  \n",
       "36                    30.0  \n",
       "37                    11.0  "
      ]
     },
     "execution_count": 86,
     "metadata": {},
     "output_type": "execute_result"
    }
   ],
   "source": [
    "Tabla1Pacientes['Mutaciones detectadas'] = Tabla1Pacientes['Mutaciones detectadas'].astype(str)\n",
    "tabla_final = pd.merge(Tabla1Pacientes, Tabla2Diagnostico, on='Diagnóstico', how='outer')\n",
    "tabla_final = tabla_final[~tabla_final.duplicated()]\n",
    "tabla_final"
   ]
  }
 ],
 "metadata": {
  "kernelspec": {
   "display_name": "Python 3",
   "language": "python",
   "name": "python3"
  },
  "language_info": {
   "codemirror_mode": {
    "name": "ipython",
    "version": 3
   },
   "file_extension": ".py",
   "mimetype": "text/x-python",
   "name": "python",
   "nbconvert_exporter": "python",
   "pygments_lexer": "ipython3",
   "version": "3.7.4"
  }
 },
 "nbformat": 4,
 "nbformat_minor": 2
}
