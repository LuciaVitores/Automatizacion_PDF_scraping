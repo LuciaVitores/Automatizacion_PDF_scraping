{
  "nbformat": 4,
  "nbformat_minor": 0,
  "metadata": {
    "colab": {
      "provenance": [],
      "authorship_tag": "ABX9TyMvM1vY1ZzxwLHe+QPmiIn8",
      "include_colab_link": true
    },
    "kernelspec": {
      "name": "ir",
      "display_name": "R"
    },
    "language_info": {
      "name": "R"
    }
  },
  "cells": [
    {
      "cell_type": "markdown",
      "metadata": {
        "id": "view-in-github",
        "colab_type": "text"
      },
      "source": [
        "<a href=\"https://colab.research.google.com/github/LuciaVitores/Automatizacion_PDF_scraping/blob/main/CodigoR.ipynb\" target=\"_parent\"><img src=\"https://colab.research.google.com/assets/colab-badge.svg\" alt=\"Open In Colab\"/></a>"
      ]
    },
    {
      "cell_type": "code",
      "execution_count": null,
      "metadata": {
        "colab": {
          "base_uri": "https://localhost:8080/"
        },
        "id": "64W4H8Xl0iBb",
        "outputId": "c8ab4913-13a7-4cb7-88c8-659a7cf40173"
      },
      "outputs": [
        {
          "output_type": "stream",
          "name": "stdout",
          "text": [
            "[1] 1.27\n"
          ]
        }
      ],
      "source": [
        "x <- c(1.27)\n",
        "print(x)"
      ]
    },
    {
      "cell_type": "markdown",
      "source": [
        "## **Funciones**"
      ],
      "metadata": {
        "id": "vFz_XpSCLdXn"
      }
    },
    {
      "cell_type": "code",
      "source": [
        "LeerFicherosPDF <- function(ruta) {\n",
        "  ficheros <- list()\n",
        "  #ficheros <- vector(\"list\", length = 0)\n",
        "  contenido <- list.files(ruta)\n",
        "  for (fichero in contenido) {\n",
        "    if (isTRUE(file.info(file.path(ruta, fichero))$isfile) && tolower(file_ext(fichero)) == \"pdf\") {\n",
        "      ficheros <- c(ficheros, fichero)\n",
        "    }\n",
        "  }\n",
        "  return(ficheros)\n",
        "}\n",
        "# Definimos la función que nos va a leer los ficheros de una ruta. \n",
        "# Usamos la función list para crear una lista vacía de elementos a la que vamos a añadir los elementos encontrados en la carpeta. \n",
        "# No usamos vector porque habría que identificar la longitud aproximada de la lista nueva."
      ],
      "metadata": {
        "id": "GF0NYhUcLe01"
      },
      "execution_count": 3,
      "outputs": []
    },
    {
      "cell_type": "code",
      "source": [
        "# library(pdftools)\n",
        "LeerDocumento <- function(nombreFichero){\n",
        "  doc <- pdf_render_page(nombreFichero)\n",
        "  text <- \"\"\n",
        "  for (page in doc) {\n",
        "    info <- pdf_text(nombreFichero)\n",
        "    text <- paste(text, info, sep = \"\")\n",
        "  } \n",
        "  return(strsplit(text, \"\\n\"))\n",
        "}\n"
      ],
      "metadata": {
        "id": "DQ6UUYF8LfLi"
      },
      "execution_count": 12,
      "outputs": []
    },
    {
      "cell_type": "code",
      "source": [
        "BuscarValos<- function(textoBuscar, lines){\n",
        "  Encontrados <- list()\n",
        "  valores <- ifelse(grepl(textoBuscar, lines), 1, 0)\n",
        "  valores <- which(valores == 1)\n",
        "  posiciones <- length(textoBuscar)\n",
        "  for (i in which(valores == 1)){\n",
        "    Encontrados <- c(Encontrados, substr(lines[i],regextr(textoBuscar, lines[i]) + posiciones, nchar(lines[i])))\n",
        "  }\n",
        "  return (Encontrados)\n",
        "}\n",
        "# Valores crea un if para saber si textoBuscar está en la cadena de texto lines. Para ello usa la función grepl().\n",
        "# En caso de encontrarlo pone un 1, sino 0. Ifelse (1, 0): if = 1, else = 0.\n",
        "# Which nos permite obtener los índices de aquellos elementos que cumplen la condicion ( == 1)\n",
        "# Substr nos deja obtener una subcadena \n",
        "# Regexpr() devuelve la posición de la última búsqueda de la palabra de interés (textoBuscar)\n",
        "# Nchar() la longitud de la cadena (el número de letras que forman un texto) Lenght devolvería el número de palabras que tiene un texto"
      ],
      "metadata": {
        "id": "b2YUCHPWjShQ"
      },
      "execution_count": 15,
      "outputs": []
    },
    {
      "cell_type": "markdown",
      "source": [
        "## **Lectura de ficheros Excel**"
      ],
      "metadata": {
        "id": "UPaTcOXWscDb"
      }
    },
    {
      "cell_type": "markdown",
      "source": [
        "Para la importación de los ficheros ha sido necesario cargarlos previamente en Colab. Para ello existe una función dentro de Archivos que nos permite subir los ficheros necesarios al almacenamiento de la sesión y copiar esa ruta para la lectura e importación de los datos. "
      ],
      "metadata": {
        "id": "0ve6IiC9w25k"
      }
    },
    {
      "cell_type": "code",
      "source": [],
      "metadata": {
        "id": "3dcIdOV_sZKf"
      },
      "execution_count": 21,
      "outputs": []
    },
    {
      "cell_type": "code",
      "source": [
        "Genes <- read_excel(\"/content/Diagnostico.xlsx\")\n",
        "View(Genes)\n"
      ],
      "metadata": {
        "id": "OdQJFdQ1vsze",
        "outputId": "97355ede-db54-4f81-9b77-166194cb6138",
        "colab": {
          "base_uri": "https://localhost:8080/",
          "height": 1000
        }
      },
      "execution_count": 22,
      "outputs": [
        {
          "output_type": "display_data",
          "data": {
            "text/plain": [
              "   DIAGNÓSTICO                                       NÚMERO DIAGNÓSTICO\n",
              "1  Carcinoma del tracto biliar                       1                 \n",
              "2  Colangiocarcinoma                                 1.1               \n",
              "3  Carcinoma de la vesícula biliar                   1.2               \n",
              "4  Cáncer de vejiga                                  2                 \n",
              "5  Carcinoma vesicular uroterial                     2.1               \n",
              "6  Cáncer de mama                                    3                 \n",
              "7  Triple negativo de mama                           3.1               \n",
              "8  Neoplasia del sistema nervioso central            4                 \n",
              "9  Glioma                                            4.1               \n",
              "10 Cáncer cervical                                   5                 \n",
              "11 Condrosarcoma                                     6                 \n",
              "12 Cáncer colorrectal                                7                 \n",
              "13 Carcinoma de células escamosas cutáneas           8                 \n",
              "14 Carcinoma endometrial                             9                 \n",
              "15 Cáncer esofágico                                  10                \n",
              "16 Cáncer gástrico                                   11                \n",
              "17 Tumor del estroma gastrointestinal                11.1              \n",
              "18 Cáncer de cabeza y cuello                         12                \n",
              "19 Cáncer de riñón                                   13                \n",
              "20 Cáncer de hígado                                  14                \n",
              "21 Carcinoma hepatocelular                           14.1              \n",
              "22 Cáncer de pulmón/pulmonar                         15                \n",
              "23 Carcinoma pulmonar no microcítico                 15.1              \n",
              "24 Carcinoma pulmonar microcítico                    15.2              \n",
              "25 Melanoma                                          16                \n",
              "26 Carcinoma de células Merkel                       17                \n",
              "27 Mesotelioma                                       18                \n",
              "28 Neoplasia mixto neuroendocrino no- neuroendocrino 19                \n",
              "29 Carcinoma neuroendocrino                          20                \n",
              "30 Carcinoma neuroendocrino de células pequeñas      20.1              \n",
              "31 Tumor neuroendocrino                              21                \n",
              "32 Osteosarcoma                                      22                \n",
              "33 Cáncer de ovario                                  23                \n",
              "34 Cáncer de páncreas                                24                \n",
              "35 Paraganglioma                                     25                \n",
              "36 Cáncer de próstata                                26                \n",
              "37 Carcinoma de células basales de la piel           27                \n",
              "38 Sarcoma de tejidos blandos                        28                \n",
              "39 Cáncer testicular                                 29                \n",
              "40 Cáncer tiroideo                                   30                \n",
              "41 Sarcoma uterino                                   31                \n",
              "42 Melanoma uveal                                    32                \n",
              "43 Origen primario desconocido                       33                \n",
              "44 Otro tumor sólido                                 34                \n",
              "45 Linfoma                                           35                "
            ],
            "text/html": [
              "<table class=\"dataframe\">\n",
              "<caption>A tibble: 45 × 2</caption>\n",
              "<thead>\n",
              "\t<tr><th scope=col>DIAGNÓSTICO</th><th scope=col>NÚMERO DIAGNÓSTICO</th></tr>\n",
              "\t<tr><th scope=col>&lt;chr&gt;</th><th scope=col>&lt;chr&gt;</th></tr>\n",
              "</thead>\n",
              "<tbody>\n",
              "\t<tr><td>Carcinoma del tracto biliar                      </td><td>1   </td></tr>\n",
              "\t<tr><td>Colangiocarcinoma                                </td><td>1.1 </td></tr>\n",
              "\t<tr><td>Carcinoma de la vesícula biliar                  </td><td>1.2 </td></tr>\n",
              "\t<tr><td>Cáncer de vejiga                                 </td><td>2   </td></tr>\n",
              "\t<tr><td>Carcinoma vesicular uroterial                    </td><td>2.1 </td></tr>\n",
              "\t<tr><td>Cáncer de mama                                   </td><td>3   </td></tr>\n",
              "\t<tr><td>Triple negativo de mama                          </td><td>3.1 </td></tr>\n",
              "\t<tr><td>Neoplasia del sistema nervioso central           </td><td>4   </td></tr>\n",
              "\t<tr><td>Glioma                                           </td><td>4.1 </td></tr>\n",
              "\t<tr><td>Cáncer cervical                                  </td><td>5   </td></tr>\n",
              "\t<tr><td>Condrosarcoma                                    </td><td>6   </td></tr>\n",
              "\t<tr><td>Cáncer colorrectal                               </td><td>7   </td></tr>\n",
              "\t<tr><td>Carcinoma de células escamosas cutáneas          </td><td>8   </td></tr>\n",
              "\t<tr><td>Carcinoma endometrial                            </td><td>9   </td></tr>\n",
              "\t<tr><td>Cáncer esofágico                                 </td><td>10  </td></tr>\n",
              "\t<tr><td>Cáncer gástrico                                  </td><td>11  </td></tr>\n",
              "\t<tr><td>Tumor del estroma gastrointestinal               </td><td>11.1</td></tr>\n",
              "\t<tr><td>Cáncer de cabeza y cuello                        </td><td>12  </td></tr>\n",
              "\t<tr><td>Cáncer de riñón                                  </td><td>13  </td></tr>\n",
              "\t<tr><td>Cáncer de hígado                                 </td><td>14  </td></tr>\n",
              "\t<tr><td>Carcinoma hepatocelular                          </td><td>14.1</td></tr>\n",
              "\t<tr><td>Cáncer de pulmón/pulmonar                        </td><td>15  </td></tr>\n",
              "\t<tr><td>Carcinoma pulmonar no microcítico                </td><td>15.1</td></tr>\n",
              "\t<tr><td>Carcinoma pulmonar microcítico                   </td><td>15.2</td></tr>\n",
              "\t<tr><td>Melanoma                                         </td><td>16  </td></tr>\n",
              "\t<tr><td>Carcinoma de células Merkel                      </td><td>17  </td></tr>\n",
              "\t<tr><td>Mesotelioma                                      </td><td>18  </td></tr>\n",
              "\t<tr><td>Neoplasia mixto neuroendocrino no- neuroendocrino</td><td>19  </td></tr>\n",
              "\t<tr><td>Carcinoma neuroendocrino                         </td><td>20  </td></tr>\n",
              "\t<tr><td>Carcinoma neuroendocrino de células pequeñas     </td><td>20.1</td></tr>\n",
              "\t<tr><td>Tumor neuroendocrino                             </td><td>21  </td></tr>\n",
              "\t<tr><td>Osteosarcoma                                     </td><td>22  </td></tr>\n",
              "\t<tr><td>Cáncer de ovario                                 </td><td>23  </td></tr>\n",
              "\t<tr><td>Cáncer de páncreas                               </td><td>24  </td></tr>\n",
              "\t<tr><td>Paraganglioma                                    </td><td>25  </td></tr>\n",
              "\t<tr><td>Cáncer de próstata                               </td><td>26  </td></tr>\n",
              "\t<tr><td>Carcinoma de células basales de la piel          </td><td>27  </td></tr>\n",
              "\t<tr><td>Sarcoma de tejidos blandos                       </td><td>28  </td></tr>\n",
              "\t<tr><td>Cáncer testicular                                </td><td>29  </td></tr>\n",
              "\t<tr><td>Cáncer tiroideo                                  </td><td>30  </td></tr>\n",
              "\t<tr><td>Sarcoma uterino                                  </td><td>31  </td></tr>\n",
              "\t<tr><td>Melanoma uveal                                   </td><td>32  </td></tr>\n",
              "\t<tr><td>Origen primario desconocido                      </td><td>33  </td></tr>\n",
              "\t<tr><td>Otro tumor sólido                                </td><td>34  </td></tr>\n",
              "\t<tr><td>Linfoma                                          </td><td>35  </td></tr>\n",
              "</tbody>\n",
              "</table>\n"
            ],
            "text/markdown": "\nA tibble: 45 × 2\n\n| DIAGNÓSTICO &lt;chr&gt; | NÚMERO DIAGNÓSTICO &lt;chr&gt; |\n|---|---|\n| Carcinoma del tracto biliar                       | 1    |\n| Colangiocarcinoma                                 | 1.1  |\n| Carcinoma de la vesícula biliar                   | 1.2  |\n| Cáncer de vejiga                                  | 2    |\n| Carcinoma vesicular uroterial                     | 2.1  |\n| Cáncer de mama                                    | 3    |\n| Triple negativo de mama                           | 3.1  |\n| Neoplasia del sistema nervioso central            | 4    |\n| Glioma                                            | 4.1  |\n| Cáncer cervical                                   | 5    |\n| Condrosarcoma                                     | 6    |\n| Cáncer colorrectal                                | 7    |\n| Carcinoma de células escamosas cutáneas           | 8    |\n| Carcinoma endometrial                             | 9    |\n| Cáncer esofágico                                  | 10   |\n| Cáncer gástrico                                   | 11   |\n| Tumor del estroma gastrointestinal                | 11.1 |\n| Cáncer de cabeza y cuello                         | 12   |\n| Cáncer de riñón                                   | 13   |\n| Cáncer de hígado                                  | 14   |\n| Carcinoma hepatocelular                           | 14.1 |\n| Cáncer de pulmón/pulmonar                         | 15   |\n| Carcinoma pulmonar no microcítico                 | 15.1 |\n| Carcinoma pulmonar microcítico                    | 15.2 |\n| Melanoma                                          | 16   |\n| Carcinoma de células Merkel                       | 17   |\n| Mesotelioma                                       | 18   |\n| Neoplasia mixto neuroendocrino no- neuroendocrino | 19   |\n| Carcinoma neuroendocrino                          | 20   |\n| Carcinoma neuroendocrino de células pequeñas      | 20.1 |\n| Tumor neuroendocrino                              | 21   |\n| Osteosarcoma                                      | 22   |\n| Cáncer de ovario                                  | 23   |\n| Cáncer de páncreas                                | 24   |\n| Paraganglioma                                     | 25   |\n| Cáncer de próstata                                | 26   |\n| Carcinoma de células basales de la piel           | 27   |\n| Sarcoma de tejidos blandos                        | 28   |\n| Cáncer testicular                                 | 29   |\n| Cáncer tiroideo                                   | 30   |\n| Sarcoma uterino                                   | 31   |\n| Melanoma uveal                                    | 32   |\n| Origen primario desconocido                       | 33   |\n| Otro tumor sólido                                 | 34   |\n| Linfoma                                           | 35   |\n\n",
            "text/latex": "A tibble: 45 × 2\n\\begin{tabular}{ll}\n DIAGNÓSTICO & NÚMERO DIAGNÓSTICO\\\\\n <chr> & <chr>\\\\\n\\hline\n\t Carcinoma del tracto biliar                       & 1   \\\\\n\t Colangiocarcinoma                                 & 1.1 \\\\\n\t Carcinoma de la vesícula biliar                   & 1.2 \\\\\n\t Cáncer de vejiga                                  & 2   \\\\\n\t Carcinoma vesicular uroterial                     & 2.1 \\\\\n\t Cáncer de mama                                    & 3   \\\\\n\t Triple negativo de mama                           & 3.1 \\\\\n\t Neoplasia del sistema nervioso central            & 4   \\\\\n\t Glioma                                            & 4.1 \\\\\n\t Cáncer cervical                                   & 5   \\\\\n\t Condrosarcoma                                     & 6   \\\\\n\t Cáncer colorrectal                                & 7   \\\\\n\t Carcinoma de células escamosas cutáneas           & 8   \\\\\n\t Carcinoma endometrial                             & 9   \\\\\n\t Cáncer esofágico                                  & 10  \\\\\n\t Cáncer gástrico                                   & 11  \\\\\n\t Tumor del estroma gastrointestinal                & 11.1\\\\\n\t Cáncer de cabeza y cuello                         & 12  \\\\\n\t Cáncer de riñón                                   & 13  \\\\\n\t Cáncer de hígado                                  & 14  \\\\\n\t Carcinoma hepatocelular                           & 14.1\\\\\n\t Cáncer de pulmón/pulmonar                         & 15  \\\\\n\t Carcinoma pulmonar no microcítico                 & 15.1\\\\\n\t Carcinoma pulmonar microcítico                    & 15.2\\\\\n\t Melanoma                                          & 16  \\\\\n\t Carcinoma de células Merkel                       & 17  \\\\\n\t Mesotelioma                                       & 18  \\\\\n\t Neoplasia mixto neuroendocrino no- neuroendocrino & 19  \\\\\n\t Carcinoma neuroendocrino                          & 20  \\\\\n\t Carcinoma neuroendocrino de células pequeñas      & 20.1\\\\\n\t Tumor neuroendocrino                              & 21  \\\\\n\t Osteosarcoma                                      & 22  \\\\\n\t Cáncer de ovario                                  & 23  \\\\\n\t Cáncer de páncreas                                & 24  \\\\\n\t Paraganglioma                                     & 25  \\\\\n\t Cáncer de próstata                                & 26  \\\\\n\t Carcinoma de células basales de la piel           & 27  \\\\\n\t Sarcoma de tejidos blandos                        & 28  \\\\\n\t Cáncer testicular                                 & 29  \\\\\n\t Cáncer tiroideo                                   & 30  \\\\\n\t Sarcoma uterino                                   & 31  \\\\\n\t Melanoma uveal                                    & 32  \\\\\n\t Origen primario desconocido                       & 33  \\\\\n\t Otro tumor sólido                                 & 34  \\\\\n\t Linfoma                                           & 35  \\\\\n\\end{tabular}\n"
          },
          "metadata": {}
        }
      ]
    },
    {
      "cell_type": "code",
      "source": [],
      "metadata": {
        "id": "4MgmtFzbvspu"
      },
      "execution_count": null,
      "outputs": []
    }
  ]
}