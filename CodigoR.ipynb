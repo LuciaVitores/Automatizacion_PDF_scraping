{
  "nbformat": 4,
  "nbformat_minor": 0,
  "metadata": {
    "colab": {
      "provenance": [],
      "authorship_tag": "ABX9TyOAf7MfwOA+6rRGOWnWB4pM",
      "include_colab_link": true
    },
    "kernelspec": {
      "name": "ir",
      "display_name": "R"
    },
    "language_info": {
      "name": "R"
    }
  },
  "cells": [
    {
      "cell_type": "markdown",
      "metadata": {
        "id": "view-in-github",
        "colab_type": "text"
      },
      "source": [
        "<a href=\"https://colab.research.google.com/github/LuciaVitores/Automatizacion_PDF_scraping/blob/main/CodigoR.ipynb\" target=\"_parent\"><img src=\"https://colab.research.google.com/assets/colab-badge.svg\" alt=\"Open In Colab\"/></a>"
      ]
    },
    {
      "cell_type": "markdown",
      "source": [
        "## **Funciones**"
      ],
      "metadata": {
        "id": "vFz_XpSCLdXn"
      }
    },
    {
      "cell_type": "code",
      "source": [
        "LeerFicherosPDF <- function(ruta) {\n",
        "  ficheros <- list()\n",
        "  #ficheros <- vector(\"list\", length = 0)\n",
        "  contenido <- list.files(ruta)\n",
        "  for (fichero in contenido) {\n",
        "    if (isTRUE(file.info(file.path(ruta, fichero))$isfile) && tolower(file_ext(fichero)) == \"pdf\") {\n",
        "      ficheros <- c(ficheros, fichero)\n",
        "    }\n",
        "  }\n",
        "  return(ficheros)\n",
        "}\n",
        "# Definimos la función que nos va a leer los ficheros de una ruta. \n",
        "# Usamos la función list para crear una lista vacía de elementos a la que vamos a añadir los elementos encontrados en la carpeta. \n",
        "# No usamos vector porque habría que identificar la longitud aproximada de la lista nueva."
      ],
      "metadata": {
        "id": "GF0NYhUcLe01"
      },
      "execution_count": 3,
      "outputs": []
    },
    {
      "cell_type": "code",
      "source": [
        "# library(pdftools)\n",
        "LeerDocumento <- function(nombreFichero){\n",
        "  doc <- pdf_render_page(nombreFichero)\n",
        "  text <- \"\"\n",
        "  for (page in doc) {\n",
        "    info <- pdf_text(nombreFichero)\n",
        "    text <- paste(text, info, sep = \"\")\n",
        "  } \n",
        "  return(strsplit(text, \"\\n\"))\n",
        "}\n"
      ],
      "metadata": {
        "id": "DQ6UUYF8LfLi"
      },
      "execution_count": 4,
      "outputs": []
    },
    {
      "cell_type": "code",
      "source": [
        "BuscarValos<- function(textoBuscar, lines){\n",
        "  Encontrados <- list()\n",
        "  valores <- ifelse(grepl(textoBuscar, lines), 1, 0)\n",
        "  valores <- which(valores == 1)\n",
        "  posiciones <- length(textoBuscar)\n",
        "  for (i in which(valores == 1)){\n",
        "    Encontrados <- c(Encontrados, substr(lines[i],regextr(textoBuscar, lines[i]) + posiciones, nchar(lines[i])))\n",
        "  }\n",
        "  return (Encontrados)\n",
        "}\n",
        "# Valores crea un if para saber si textoBuscar está en la cadena de texto lines. Para ello usa la función grepl().\n",
        "# En caso de encontrarlo pone un 1, sino 0. Ifelse (1, 0): if = 1, else = 0.\n",
        "# Which nos permite obtener los índices de aquellos elementos que cumplen la condicion ( == 1)\n",
        "# Substr nos deja obtener una subcadena \n",
        "# Regexpr() devuelve la posición de la última búsqueda de la palabra de interés (textoBuscar)\n",
        "# Nchar() la longitud de la cadena (el número de letras que forman un texto) Lenght devolvería el número de palabras que tiene un texto"
      ],
      "metadata": {
        "id": "b2YUCHPWjShQ"
      },
      "execution_count": 5,
      "outputs": []
    },
    {
      "cell_type": "markdown",
      "source": [
        "## **Lectura de ficheros Excel**"
      ],
      "metadata": {
        "id": "UPaTcOXWscDb"
      }
    },
    {
      "cell_type": "markdown",
      "source": [
        "Para la importación de los ficheros ha sido necesario cargarlos previamente en Colab. Para ello existe una función dentro de Archivos que nos permite subir los ficheros necesarios al almacenamiento de la sesión y copiar esa ruta para la lectura e importación de los datos. "
      ],
      "metadata": {
        "id": "0ve6IiC9w25k"
      }
    },
    {
      "cell_type": "code",
      "source": [
        "# Funciona sin dicha importación.\n",
        "library(readxl)"
      ],
      "metadata": {
        "id": "3dcIdOV_sZKf"
      },
      "execution_count": 6,
      "outputs": []
    },
    {
      "cell_type": "code",
      "source": [
        "Diagnostico <- read_excel(\"/content/Diagnostico.xlsx\")\n",
        "View(Diagnostico)"
      ],
      "metadata": {
        "id": "OdQJFdQ1vsze",
        "outputId": "606c77ff-2d37-4107-f017-5333961b6a33",
        "colab": {
          "base_uri": "https://localhost:8080/",
          "height": 1000
        }
      },
      "execution_count": 8,
      "outputs": [
        {
          "output_type": "display_data",
          "data": {
            "text/plain": [
              "   DIAGNÓSTICO                                       NÚMERO DIAGNÓSTICO\n",
              "1  Carcinoma del tracto biliar                       1                 \n",
              "2  Colangiocarcinoma                                 1.1               \n",
              "3  Carcinoma de la vesícula biliar                   1.2               \n",
              "4  Cáncer de vejiga                                  2                 \n",
              "5  Carcinoma vesicular uroterial                     2.1               \n",
              "6  Cáncer de mama                                    3                 \n",
              "7  Triple negativo de mama                           3.1               \n",
              "8  Neoplasia del sistema nervioso central            4                 \n",
              "9  Glioma                                            4.1               \n",
              "10 Cáncer cervical                                   5                 \n",
              "11 Condrosarcoma                                     6                 \n",
              "12 Cáncer colorrectal                                7                 \n",
              "13 Carcinoma de células escamosas cutáneas           8                 \n",
              "14 Carcinoma endometrial                             9                 \n",
              "15 Cáncer esofágico                                  10                \n",
              "16 Cáncer gástrico                                   11                \n",
              "17 Tumor del estroma gastrointestinal                11.1              \n",
              "18 Cáncer de cabeza y cuello                         12                \n",
              "19 Cáncer de riñón                                   13                \n",
              "20 Cáncer de hígado                                  14                \n",
              "21 Carcinoma hepatocelular                           14.1              \n",
              "22 Cáncer de pulmón/pulmonar                         15                \n",
              "23 Carcinoma pulmonar no microcítico                 15.1              \n",
              "24 Carcinoma pulmonar microcítico                    15.2              \n",
              "25 Melanoma                                          16                \n",
              "26 Carcinoma de células Merkel                       17                \n",
              "27 Mesotelioma                                       18                \n",
              "28 Neoplasia mixto neuroendocrino no- neuroendocrino 19                \n",
              "29 Carcinoma neuroendocrino                          20                \n",
              "30 Carcinoma neuroendocrino de células pequeñas      20.1              \n",
              "31 Tumor neuroendocrino                              21                \n",
              "32 Osteosarcoma                                      22                \n",
              "33 Cáncer de ovario                                  23                \n",
              "34 Cáncer de páncreas                                24                \n",
              "35 Paraganglioma                                     25                \n",
              "36 Cáncer de próstata                                26                \n",
              "37 Carcinoma de células basales de la piel           27                \n",
              "38 Sarcoma de tejidos blandos                        28                \n",
              "39 Cáncer testicular                                 29                \n",
              "40 Cáncer tiroideo                                   30                \n",
              "41 Sarcoma uterino                                   31                \n",
              "42 Melanoma uveal                                    32                \n",
              "43 Origen primario desconocido                       33                \n",
              "44 Otro tumor sólido                                 34                \n",
              "45 Linfoma                                           35                "
            ],
            "text/html": [
              "<table class=\"dataframe\">\n",
              "<caption>A tibble: 45 × 2</caption>\n",
              "<thead>\n",
              "\t<tr><th scope=col>DIAGNÓSTICO</th><th scope=col>NÚMERO DIAGNÓSTICO</th></tr>\n",
              "\t<tr><th scope=col>&lt;chr&gt;</th><th scope=col>&lt;chr&gt;</th></tr>\n",
              "</thead>\n",
              "<tbody>\n",
              "\t<tr><td>Carcinoma del tracto biliar                      </td><td>1   </td></tr>\n",
              "\t<tr><td>Colangiocarcinoma                                </td><td>1.1 </td></tr>\n",
              "\t<tr><td>Carcinoma de la vesícula biliar                  </td><td>1.2 </td></tr>\n",
              "\t<tr><td>Cáncer de vejiga                                 </td><td>2   </td></tr>\n",
              "\t<tr><td>Carcinoma vesicular uroterial                    </td><td>2.1 </td></tr>\n",
              "\t<tr><td>Cáncer de mama                                   </td><td>3   </td></tr>\n",
              "\t<tr><td>Triple negativo de mama                          </td><td>3.1 </td></tr>\n",
              "\t<tr><td>Neoplasia del sistema nervioso central           </td><td>4   </td></tr>\n",
              "\t<tr><td>Glioma                                           </td><td>4.1 </td></tr>\n",
              "\t<tr><td>Cáncer cervical                                  </td><td>5   </td></tr>\n",
              "\t<tr><td>Condrosarcoma                                    </td><td>6   </td></tr>\n",
              "\t<tr><td>Cáncer colorrectal                               </td><td>7   </td></tr>\n",
              "\t<tr><td>Carcinoma de células escamosas cutáneas          </td><td>8   </td></tr>\n",
              "\t<tr><td>Carcinoma endometrial                            </td><td>9   </td></tr>\n",
              "\t<tr><td>Cáncer esofágico                                 </td><td>10  </td></tr>\n",
              "\t<tr><td>Cáncer gástrico                                  </td><td>11  </td></tr>\n",
              "\t<tr><td>Tumor del estroma gastrointestinal               </td><td>11.1</td></tr>\n",
              "\t<tr><td>Cáncer de cabeza y cuello                        </td><td>12  </td></tr>\n",
              "\t<tr><td>Cáncer de riñón                                  </td><td>13  </td></tr>\n",
              "\t<tr><td>Cáncer de hígado                                 </td><td>14  </td></tr>\n",
              "\t<tr><td>Carcinoma hepatocelular                          </td><td>14.1</td></tr>\n",
              "\t<tr><td>Cáncer de pulmón/pulmonar                        </td><td>15  </td></tr>\n",
              "\t<tr><td>Carcinoma pulmonar no microcítico                </td><td>15.1</td></tr>\n",
              "\t<tr><td>Carcinoma pulmonar microcítico                   </td><td>15.2</td></tr>\n",
              "\t<tr><td>Melanoma                                         </td><td>16  </td></tr>\n",
              "\t<tr><td>Carcinoma de células Merkel                      </td><td>17  </td></tr>\n",
              "\t<tr><td>Mesotelioma                                      </td><td>18  </td></tr>\n",
              "\t<tr><td>Neoplasia mixto neuroendocrino no- neuroendocrino</td><td>19  </td></tr>\n",
              "\t<tr><td>Carcinoma neuroendocrino                         </td><td>20  </td></tr>\n",
              "\t<tr><td>Carcinoma neuroendocrino de células pequeñas     </td><td>20.1</td></tr>\n",
              "\t<tr><td>Tumor neuroendocrino                             </td><td>21  </td></tr>\n",
              "\t<tr><td>Osteosarcoma                                     </td><td>22  </td></tr>\n",
              "\t<tr><td>Cáncer de ovario                                 </td><td>23  </td></tr>\n",
              "\t<tr><td>Cáncer de páncreas                               </td><td>24  </td></tr>\n",
              "\t<tr><td>Paraganglioma                                    </td><td>25  </td></tr>\n",
              "\t<tr><td>Cáncer de próstata                               </td><td>26  </td></tr>\n",
              "\t<tr><td>Carcinoma de células basales de la piel          </td><td>27  </td></tr>\n",
              "\t<tr><td>Sarcoma de tejidos blandos                       </td><td>28  </td></tr>\n",
              "\t<tr><td>Cáncer testicular                                </td><td>29  </td></tr>\n",
              "\t<tr><td>Cáncer tiroideo                                  </td><td>30  </td></tr>\n",
              "\t<tr><td>Sarcoma uterino                                  </td><td>31  </td></tr>\n",
              "\t<tr><td>Melanoma uveal                                   </td><td>32  </td></tr>\n",
              "\t<tr><td>Origen primario desconocido                      </td><td>33  </td></tr>\n",
              "\t<tr><td>Otro tumor sólido                                </td><td>34  </td></tr>\n",
              "\t<tr><td>Linfoma                                          </td><td>35  </td></tr>\n",
              "</tbody>\n",
              "</table>\n"
            ],
            "text/markdown": "\nA tibble: 45 × 2\n\n| DIAGNÓSTICO &lt;chr&gt; | NÚMERO DIAGNÓSTICO &lt;chr&gt; |\n|---|---|\n| Carcinoma del tracto biliar                       | 1    |\n| Colangiocarcinoma                                 | 1.1  |\n| Carcinoma de la vesícula biliar                   | 1.2  |\n| Cáncer de vejiga                                  | 2    |\n| Carcinoma vesicular uroterial                     | 2.1  |\n| Cáncer de mama                                    | 3    |\n| Triple negativo de mama                           | 3.1  |\n| Neoplasia del sistema nervioso central            | 4    |\n| Glioma                                            | 4.1  |\n| Cáncer cervical                                   | 5    |\n| Condrosarcoma                                     | 6    |\n| Cáncer colorrectal                                | 7    |\n| Carcinoma de células escamosas cutáneas           | 8    |\n| Carcinoma endometrial                             | 9    |\n| Cáncer esofágico                                  | 10   |\n| Cáncer gástrico                                   | 11   |\n| Tumor del estroma gastrointestinal                | 11.1 |\n| Cáncer de cabeza y cuello                         | 12   |\n| Cáncer de riñón                                   | 13   |\n| Cáncer de hígado                                  | 14   |\n| Carcinoma hepatocelular                           | 14.1 |\n| Cáncer de pulmón/pulmonar                         | 15   |\n| Carcinoma pulmonar no microcítico                 | 15.1 |\n| Carcinoma pulmonar microcítico                    | 15.2 |\n| Melanoma                                          | 16   |\n| Carcinoma de células Merkel                       | 17   |\n| Mesotelioma                                       | 18   |\n| Neoplasia mixto neuroendocrino no- neuroendocrino | 19   |\n| Carcinoma neuroendocrino                          | 20   |\n| Carcinoma neuroendocrino de células pequeñas      | 20.1 |\n| Tumor neuroendocrino                              | 21   |\n| Osteosarcoma                                      | 22   |\n| Cáncer de ovario                                  | 23   |\n| Cáncer de páncreas                                | 24   |\n| Paraganglioma                                     | 25   |\n| Cáncer de próstata                                | 26   |\n| Carcinoma de células basales de la piel           | 27   |\n| Sarcoma de tejidos blandos                        | 28   |\n| Cáncer testicular                                 | 29   |\n| Cáncer tiroideo                                   | 30   |\n| Sarcoma uterino                                   | 31   |\n| Melanoma uveal                                    | 32   |\n| Origen primario desconocido                       | 33   |\n| Otro tumor sólido                                 | 34   |\n| Linfoma                                           | 35   |\n\n",
            "text/latex": "A tibble: 45 × 2\n\\begin{tabular}{ll}\n DIAGNÓSTICO & NÚMERO DIAGNÓSTICO\\\\\n <chr> & <chr>\\\\\n\\hline\n\t Carcinoma del tracto biliar                       & 1   \\\\\n\t Colangiocarcinoma                                 & 1.1 \\\\\n\t Carcinoma de la vesícula biliar                   & 1.2 \\\\\n\t Cáncer de vejiga                                  & 2   \\\\\n\t Carcinoma vesicular uroterial                     & 2.1 \\\\\n\t Cáncer de mama                                    & 3   \\\\\n\t Triple negativo de mama                           & 3.1 \\\\\n\t Neoplasia del sistema nervioso central            & 4   \\\\\n\t Glioma                                            & 4.1 \\\\\n\t Cáncer cervical                                   & 5   \\\\\n\t Condrosarcoma                                     & 6   \\\\\n\t Cáncer colorrectal                                & 7   \\\\\n\t Carcinoma de células escamosas cutáneas           & 8   \\\\\n\t Carcinoma endometrial                             & 9   \\\\\n\t Cáncer esofágico                                  & 10  \\\\\n\t Cáncer gástrico                                   & 11  \\\\\n\t Tumor del estroma gastrointestinal                & 11.1\\\\\n\t Cáncer de cabeza y cuello                         & 12  \\\\\n\t Cáncer de riñón                                   & 13  \\\\\n\t Cáncer de hígado                                  & 14  \\\\\n\t Carcinoma hepatocelular                           & 14.1\\\\\n\t Cáncer de pulmón/pulmonar                         & 15  \\\\\n\t Carcinoma pulmonar no microcítico                 & 15.1\\\\\n\t Carcinoma pulmonar microcítico                    & 15.2\\\\\n\t Melanoma                                          & 16  \\\\\n\t Carcinoma de células Merkel                       & 17  \\\\\n\t Mesotelioma                                       & 18  \\\\\n\t Neoplasia mixto neuroendocrino no- neuroendocrino & 19  \\\\\n\t Carcinoma neuroendocrino                          & 20  \\\\\n\t Carcinoma neuroendocrino de células pequeñas      & 20.1\\\\\n\t Tumor neuroendocrino                              & 21  \\\\\n\t Osteosarcoma                                      & 22  \\\\\n\t Cáncer de ovario                                  & 23  \\\\\n\t Cáncer de páncreas                                & 24  \\\\\n\t Paraganglioma                                     & 25  \\\\\n\t Cáncer de próstata                                & 26  \\\\\n\t Carcinoma de células basales de la piel           & 27  \\\\\n\t Sarcoma de tejidos blandos                        & 28  \\\\\n\t Cáncer testicular                                 & 29  \\\\\n\t Cáncer tiroideo                                   & 30  \\\\\n\t Sarcoma uterino                                   & 31  \\\\\n\t Melanoma uveal                                    & 32  \\\\\n\t Origen primario desconocido                       & 33  \\\\\n\t Otro tumor sólido                                 & 34  \\\\\n\t Linfoma                                           & 35  \\\\\n\\end{tabular}\n"
          },
          "metadata": {}
        }
      ]
    },
    {
      "cell_type": "code",
      "source": [
        "Genes <- read_excel(\"/content/Genes.xlsx\")\n",
        "View(Genes)"
      ],
      "metadata": {
        "id": "4MgmtFzbvspu",
        "outputId": "5cd2f605-8478-4625-b24f-e3945f6c41ec",
        "colab": {
          "base_uri": "https://localhost:8080/",
          "height": 1000
        }
      },
      "execution_count": 9,
      "outputs": [
        {
          "output_type": "display_data",
          "data": {
            "text/plain": [
              "   GEN    Número gen\n",
              "1  ABL1    1        \n",
              "2  AKT1    2        \n",
              "3  AKT3    3        \n",
              "4  ALK     4        \n",
              "5  AR      5        \n",
              "6  AXL     6        \n",
              "7  BRAF    7        \n",
              "8  CCND1   8        \n",
              "9  CDK4    9        \n",
              "10 CDK6   10        \n",
              "11 CTNNB1 11        \n",
              "12 DDR2   12        \n",
              "13 EGFR   13        \n",
              "14 ERBB2  14        \n",
              "15 ERBB3  15        \n",
              "16 ERBB4  16        \n",
              "17 ERG    17        \n",
              "18 ESR1   18        \n",
              "19 ETV1   19        \n",
              "20 ETV4   20        \n",
              "21 ETV5   21        \n",
              "22 FGFR1  22        \n",
              "23 FGFR2  23        \n",
              "24 FGFR3  24        \n",
              "25 FGFR4  25        \n",
              "26 GNA11  26        \n",
              "27 GNAQ   27        \n",
              "28 HRAS   28        \n",
              "29 IDH1   29        \n",
              "30 IDH2   30        \n",
              "31 JAK1   31        \n",
              "32 JAK2   32        \n",
              "33 JAK3   33        \n",
              "34 KIT    34        \n",
              "35 KRAS   35        \n",
              "36 MAP2K1 36        \n",
              "37 MAP2K2 37        \n",
              "38 MET    38        \n",
              "39 MTOR   39        \n",
              "40 MYC    40        \n",
              "41 MYCN   41        \n",
              "42 NRAS   42        \n",
              "43 NTRK1  43        \n",
              "44 NTRK2  44        \n",
              "45 NTRK3  45        \n",
              "46 PDGFRA 46        \n",
              "47 PIK3CA 47        \n",
              "48 PPARG  48        \n",
              "49 RAF1   49        \n",
              "50 RET    50        \n",
              "51 ROS1   51        \n",
              "52 SMO    52        "
            ],
            "text/html": [
              "<table class=\"dataframe\">\n",
              "<caption>A tibble: 52 × 2</caption>\n",
              "<thead>\n",
              "\t<tr><th scope=col>GEN</th><th scope=col>Número gen</th></tr>\n",
              "\t<tr><th scope=col>&lt;chr&gt;</th><th scope=col>&lt;dbl&gt;</th></tr>\n",
              "</thead>\n",
              "<tbody>\n",
              "\t<tr><td>ABL1  </td><td> 1</td></tr>\n",
              "\t<tr><td>AKT1  </td><td> 2</td></tr>\n",
              "\t<tr><td>AKT3  </td><td> 3</td></tr>\n",
              "\t<tr><td>ALK   </td><td> 4</td></tr>\n",
              "\t<tr><td>AR    </td><td> 5</td></tr>\n",
              "\t<tr><td>AXL   </td><td> 6</td></tr>\n",
              "\t<tr><td>BRAF  </td><td> 7</td></tr>\n",
              "\t<tr><td>CCND1 </td><td> 8</td></tr>\n",
              "\t<tr><td>CDK4  </td><td> 9</td></tr>\n",
              "\t<tr><td>CDK6  </td><td>10</td></tr>\n",
              "\t<tr><td>CTNNB1</td><td>11</td></tr>\n",
              "\t<tr><td>DDR2  </td><td>12</td></tr>\n",
              "\t<tr><td>EGFR  </td><td>13</td></tr>\n",
              "\t<tr><td>ERBB2 </td><td>14</td></tr>\n",
              "\t<tr><td>ERBB3 </td><td>15</td></tr>\n",
              "\t<tr><td>ERBB4 </td><td>16</td></tr>\n",
              "\t<tr><td>ERG   </td><td>17</td></tr>\n",
              "\t<tr><td>ESR1  </td><td>18</td></tr>\n",
              "\t<tr><td>ETV1  </td><td>19</td></tr>\n",
              "\t<tr><td>ETV4  </td><td>20</td></tr>\n",
              "\t<tr><td>ETV5  </td><td>21</td></tr>\n",
              "\t<tr><td>FGFR1 </td><td>22</td></tr>\n",
              "\t<tr><td>FGFR2 </td><td>23</td></tr>\n",
              "\t<tr><td>FGFR3 </td><td>24</td></tr>\n",
              "\t<tr><td>FGFR4 </td><td>25</td></tr>\n",
              "\t<tr><td>GNA11 </td><td>26</td></tr>\n",
              "\t<tr><td>GNAQ  </td><td>27</td></tr>\n",
              "\t<tr><td>HRAS  </td><td>28</td></tr>\n",
              "\t<tr><td>IDH1  </td><td>29</td></tr>\n",
              "\t<tr><td>IDH2  </td><td>30</td></tr>\n",
              "\t<tr><td>JAK1  </td><td>31</td></tr>\n",
              "\t<tr><td>JAK2  </td><td>32</td></tr>\n",
              "\t<tr><td>JAK3  </td><td>33</td></tr>\n",
              "\t<tr><td>KIT   </td><td>34</td></tr>\n",
              "\t<tr><td>KRAS  </td><td>35</td></tr>\n",
              "\t<tr><td>MAP2K1</td><td>36</td></tr>\n",
              "\t<tr><td>MAP2K2</td><td>37</td></tr>\n",
              "\t<tr><td>MET   </td><td>38</td></tr>\n",
              "\t<tr><td>MTOR  </td><td>39</td></tr>\n",
              "\t<tr><td>MYC   </td><td>40</td></tr>\n",
              "\t<tr><td>MYCN  </td><td>41</td></tr>\n",
              "\t<tr><td>NRAS  </td><td>42</td></tr>\n",
              "\t<tr><td>NTRK1 </td><td>43</td></tr>\n",
              "\t<tr><td>NTRK2 </td><td>44</td></tr>\n",
              "\t<tr><td>NTRK3 </td><td>45</td></tr>\n",
              "\t<tr><td>PDGFRA</td><td>46</td></tr>\n",
              "\t<tr><td>PIK3CA</td><td>47</td></tr>\n",
              "\t<tr><td>PPARG </td><td>48</td></tr>\n",
              "\t<tr><td>RAF1  </td><td>49</td></tr>\n",
              "\t<tr><td>RET   </td><td>50</td></tr>\n",
              "\t<tr><td>ROS1  </td><td>51</td></tr>\n",
              "\t<tr><td>SMO   </td><td>52</td></tr>\n",
              "</tbody>\n",
              "</table>\n"
            ],
            "text/markdown": "\nA tibble: 52 × 2\n\n| GEN &lt;chr&gt; | Número gen &lt;dbl&gt; |\n|---|---|\n| ABL1   |  1 |\n| AKT1   |  2 |\n| AKT3   |  3 |\n| ALK    |  4 |\n| AR     |  5 |\n| AXL    |  6 |\n| BRAF   |  7 |\n| CCND1  |  8 |\n| CDK4   |  9 |\n| CDK6   | 10 |\n| CTNNB1 | 11 |\n| DDR2   | 12 |\n| EGFR   | 13 |\n| ERBB2  | 14 |\n| ERBB3  | 15 |\n| ERBB4  | 16 |\n| ERG    | 17 |\n| ESR1   | 18 |\n| ETV1   | 19 |\n| ETV4   | 20 |\n| ETV5   | 21 |\n| FGFR1  | 22 |\n| FGFR2  | 23 |\n| FGFR3  | 24 |\n| FGFR4  | 25 |\n| GNA11  | 26 |\n| GNAQ   | 27 |\n| HRAS   | 28 |\n| IDH1   | 29 |\n| IDH2   | 30 |\n| JAK1   | 31 |\n| JAK2   | 32 |\n| JAK3   | 33 |\n| KIT    | 34 |\n| KRAS   | 35 |\n| MAP2K1 | 36 |\n| MAP2K2 | 37 |\n| MET    | 38 |\n| MTOR   | 39 |\n| MYC    | 40 |\n| MYCN   | 41 |\n| NRAS   | 42 |\n| NTRK1  | 43 |\n| NTRK2  | 44 |\n| NTRK3  | 45 |\n| PDGFRA | 46 |\n| PIK3CA | 47 |\n| PPARG  | 48 |\n| RAF1   | 49 |\n| RET    | 50 |\n| ROS1   | 51 |\n| SMO    | 52 |\n\n",
            "text/latex": "A tibble: 52 × 2\n\\begin{tabular}{ll}\n GEN & Número gen\\\\\n <chr> & <dbl>\\\\\n\\hline\n\t ABL1   &  1\\\\\n\t AKT1   &  2\\\\\n\t AKT3   &  3\\\\\n\t ALK    &  4\\\\\n\t AR     &  5\\\\\n\t AXL    &  6\\\\\n\t BRAF   &  7\\\\\n\t CCND1  &  8\\\\\n\t CDK4   &  9\\\\\n\t CDK6   & 10\\\\\n\t CTNNB1 & 11\\\\\n\t DDR2   & 12\\\\\n\t EGFR   & 13\\\\\n\t ERBB2  & 14\\\\\n\t ERBB3  & 15\\\\\n\t ERBB4  & 16\\\\\n\t ERG    & 17\\\\\n\t ESR1   & 18\\\\\n\t ETV1   & 19\\\\\n\t ETV4   & 20\\\\\n\t ETV5   & 21\\\\\n\t FGFR1  & 22\\\\\n\t FGFR2  & 23\\\\\n\t FGFR3  & 24\\\\\n\t FGFR4  & 25\\\\\n\t GNA11  & 26\\\\\n\t GNAQ   & 27\\\\\n\t HRAS   & 28\\\\\n\t IDH1   & 29\\\\\n\t IDH2   & 30\\\\\n\t JAK1   & 31\\\\\n\t JAK2   & 32\\\\\n\t JAK3   & 33\\\\\n\t KIT    & 34\\\\\n\t KRAS   & 35\\\\\n\t MAP2K1 & 36\\\\\n\t MAP2K2 & 37\\\\\n\t MET    & 38\\\\\n\t MTOR   & 39\\\\\n\t MYC    & 40\\\\\n\t MYCN   & 41\\\\\n\t NRAS   & 42\\\\\n\t NTRK1  & 43\\\\\n\t NTRK2  & 44\\\\\n\t NTRK3  & 45\\\\\n\t PDGFRA & 46\\\\\n\t PIK3CA & 47\\\\\n\t PPARG  & 48\\\\\n\t RAF1   & 49\\\\\n\t RET    & 50\\\\\n\t ROS1   & 51\\\\\n\t SMO    & 52\\\\\n\\end{tabular}\n"
          },
          "metadata": {}
        }
      ]
    },
    {
      "cell_type": "markdown",
      "source": [
        "## **Creación de diccionarios partiendo de Excel**"
      ],
      "metadata": {
        "id": "29bWB4P31DnD"
      }
    },
    {
      "cell_type": "code",
      "source": [
        "diagnosticos_dic <- setNames(Diagnostico$`NÚMERO DIAGNÓSTICO`, Diagnostico$DIAGNÓSTICO)\n",
        "diagnosticos_dic\n",
        "# Primero se define el valor y luego la clave"
      ],
      "metadata": {
        "id": "nnZFeCZ76jKY",
        "outputId": "434c6f4b-c19a-4645-b868-ae98d3362463",
        "colab": {
          "base_uri": "https://localhost:8080/",
          "height": 312
        }
      },
      "execution_count": 52,
      "outputs": [
        {
          "output_type": "display_data",
          "data": {
            "text/html": [
              "<style>\n",
              ".dl-inline {width: auto; margin:0; padding: 0}\n",
              ".dl-inline>dt, .dl-inline>dd {float: none; width: auto; display: inline-block}\n",
              ".dl-inline>dt::after {content: \":\\0020\"; padding-right: .5ex}\n",
              ".dl-inline>dt:not(:first-of-type) {padding-left: .5ex}\n",
              "</style><dl class=dl-inline><dt>Carcinoma del tracto biliar</dt><dd>'1'</dd><dt>Colangiocarcinoma</dt><dd>'1.1'</dd><dt>Carcinoma de la vesícula biliar</dt><dd>'1.2'</dd><dt>Cáncer de vejiga</dt><dd>'2'</dd><dt>Carcinoma vesicular uroterial</dt><dd>'2.1'</dd><dt>Cáncer de mama</dt><dd>'3'</dd><dt>Triple negativo de mama</dt><dd>'3.1'</dd><dt>Neoplasia del sistema nervioso central</dt><dd>'4'</dd><dt>Glioma</dt><dd>'4.1'</dd><dt>Cáncer cervical</dt><dd>'5'</dd><dt>Condrosarcoma</dt><dd>'6'</dd><dt>Cáncer colorrectal</dt><dd>'7'</dd><dt>Carcinoma de células escamosas cutáneas</dt><dd>'8'</dd><dt>Carcinoma endometrial</dt><dd>'9'</dd><dt>Cáncer esofágico</dt><dd>'10'</dd><dt>Cáncer gástrico</dt><dd>'11'</dd><dt>Tumor del estroma gastrointestinal</dt><dd>'11.1'</dd><dt>Cáncer de cabeza y cuello</dt><dd>'12'</dd><dt>Cáncer de riñón</dt><dd>'13'</dd><dt>Cáncer de hígado</dt><dd>'14'</dd><dt>Carcinoma hepatocelular</dt><dd>'14.1'</dd><dt>Cáncer de pulmón/pulmonar</dt><dd>'15'</dd><dt>Carcinoma pulmonar no microcítico</dt><dd>'15.1'</dd><dt>Carcinoma pulmonar microcítico</dt><dd>'15.2'</dd><dt>Melanoma</dt><dd>'16'</dd><dt>Carcinoma de células Merkel</dt><dd>'17'</dd><dt>Mesotelioma</dt><dd>'18'</dd><dt>Neoplasia mixto neuroendocrino no- neuroendocrino</dt><dd>'19'</dd><dt>Carcinoma neuroendocrino</dt><dd>'20'</dd><dt>Carcinoma neuroendocrino de células pequeñas</dt><dd>'20.1'</dd><dt>Tumor neuroendocrino</dt><dd>'21'</dd><dt>Osteosarcoma</dt><dd>'22'</dd><dt>Cáncer de ovario</dt><dd>'23'</dd><dt>Cáncer de páncreas</dt><dd>'24'</dd><dt>Paraganglioma</dt><dd>'25'</dd><dt>Cáncer de próstata</dt><dd>'26'</dd><dt>Carcinoma de células basales de la piel</dt><dd>'27'</dd><dt>Sarcoma de tejidos blandos</dt><dd>'28'</dd><dt>Cáncer testicular</dt><dd>'29'</dd><dt>Cáncer tiroideo</dt><dd>'30'</dd><dt>Sarcoma uterino</dt><dd>'31'</dd><dt>Melanoma uveal</dt><dd>'32'</dd><dt>Origen primario desconocido</dt><dd>'33'</dd><dt>Otro tumor sólido</dt><dd>'34'</dd><dt>Linfoma</dt><dd>'35'</dd></dl>\n"
            ],
            "text/markdown": "Carcinoma del tracto biliar\n:   '1'Colangiocarcinoma\n:   '1.1'Carcinoma de la vesícula biliar\n:   '1.2'Cáncer de vejiga\n:   '2'Carcinoma vesicular uroterial\n:   '2.1'Cáncer de mama\n:   '3'Triple negativo de mama\n:   '3.1'Neoplasia del sistema nervioso central\n:   '4'Glioma\n:   '4.1'Cáncer cervical\n:   '5'Condrosarcoma\n:   '6'Cáncer colorrectal\n:   '7'Carcinoma de células escamosas cutáneas\n:   '8'Carcinoma endometrial\n:   '9'Cáncer esofágico\n:   '10'Cáncer gástrico\n:   '11'Tumor del estroma gastrointestinal\n:   '11.1'Cáncer de cabeza y cuello\n:   '12'Cáncer de riñón\n:   '13'Cáncer de hígado\n:   '14'Carcinoma hepatocelular\n:   '14.1'Cáncer de pulmón/pulmonar\n:   '15'Carcinoma pulmonar no microcítico\n:   '15.1'Carcinoma pulmonar microcítico\n:   '15.2'Melanoma\n:   '16'Carcinoma de células Merkel\n:   '17'Mesotelioma\n:   '18'Neoplasia mixto neuroendocrino no- neuroendocrino\n:   '19'Carcinoma neuroendocrino\n:   '20'Carcinoma neuroendocrino de células pequeñas\n:   '20.1'Tumor neuroendocrino\n:   '21'Osteosarcoma\n:   '22'Cáncer de ovario\n:   '23'Cáncer de páncreas\n:   '24'Paraganglioma\n:   '25'Cáncer de próstata\n:   '26'Carcinoma de células basales de la piel\n:   '27'Sarcoma de tejidos blandos\n:   '28'Cáncer testicular\n:   '29'Cáncer tiroideo\n:   '30'Sarcoma uterino\n:   '31'Melanoma uveal\n:   '32'Origen primario desconocido\n:   '33'Otro tumor sólido\n:   '34'Linfoma\n:   '35'\n\n",
            "text/latex": "\\begin{description*}\n\\item[Carcinoma del tracto biliar] '1'\n\\item[Colangiocarcinoma] '1.1'\n\\item[Carcinoma de la vesícula biliar] '1.2'\n\\item[Cáncer de vejiga] '2'\n\\item[Carcinoma vesicular uroterial] '2.1'\n\\item[Cáncer de mama] '3'\n\\item[Triple negativo de mama] '3.1'\n\\item[Neoplasia del sistema nervioso central] '4'\n\\item[Glioma] '4.1'\n\\item[Cáncer cervical] '5'\n\\item[Condrosarcoma] '6'\n\\item[Cáncer colorrectal] '7'\n\\item[Carcinoma de células escamosas cutáneas] '8'\n\\item[Carcinoma endometrial] '9'\n\\item[Cáncer esofágico] '10'\n\\item[Cáncer gástrico] '11'\n\\item[Tumor del estroma gastrointestinal] '11.1'\n\\item[Cáncer de cabeza y cuello] '12'\n\\item[Cáncer de riñón] '13'\n\\item[Cáncer de hígado] '14'\n\\item[Carcinoma hepatocelular] '14.1'\n\\item[Cáncer de pulmón/pulmonar] '15'\n\\item[Carcinoma pulmonar no microcítico] '15.1'\n\\item[Carcinoma pulmonar microcítico] '15.2'\n\\item[Melanoma] '16'\n\\item[Carcinoma de células Merkel] '17'\n\\item[Mesotelioma] '18'\n\\item[Neoplasia mixto neuroendocrino no- neuroendocrino] '19'\n\\item[Carcinoma neuroendocrino] '20'\n\\item[Carcinoma neuroendocrino de células pequeñas] '20.1'\n\\item[Tumor neuroendocrino] '21'\n\\item[Osteosarcoma] '22'\n\\item[Cáncer de ovario] '23'\n\\item[Cáncer de páncreas] '24'\n\\item[Paraganglioma] '25'\n\\item[Cáncer de próstata] '26'\n\\item[Carcinoma de células basales de la piel] '27'\n\\item[Sarcoma de tejidos blandos] '28'\n\\item[Cáncer testicular] '29'\n\\item[Cáncer tiroideo] '30'\n\\item[Sarcoma uterino] '31'\n\\item[Melanoma uveal] '32'\n\\item[Origen primario desconocido] '33'\n\\item[Otro tumor sólido] '34'\n\\item[Linfoma] '35'\n\\end{description*}\n",
            "text/plain": [
              "                      Carcinoma del tracto biliar \n",
              "                                              \"1\" \n",
              "                                Colangiocarcinoma \n",
              "                                            \"1.1\" \n",
              "                  Carcinoma de la vesícula biliar \n",
              "                                            \"1.2\" \n",
              "                                 Cáncer de vejiga \n",
              "                                              \"2\" \n",
              "                    Carcinoma vesicular uroterial \n",
              "                                            \"2.1\" \n",
              "                                   Cáncer de mama \n",
              "                                              \"3\" \n",
              "                          Triple negativo de mama \n",
              "                                            \"3.1\" \n",
              "           Neoplasia del sistema nervioso central \n",
              "                                              \"4\" \n",
              "                                           Glioma \n",
              "                                            \"4.1\" \n",
              "                                  Cáncer cervical \n",
              "                                              \"5\" \n",
              "                                    Condrosarcoma \n",
              "                                              \"6\" \n",
              "                               Cáncer colorrectal \n",
              "                                              \"7\" \n",
              "          Carcinoma de células escamosas cutáneas \n",
              "                                              \"8\" \n",
              "                            Carcinoma endometrial \n",
              "                                              \"9\" \n",
              "                                 Cáncer esofágico \n",
              "                                             \"10\" \n",
              "                                  Cáncer gástrico \n",
              "                                             \"11\" \n",
              "               Tumor del estroma gastrointestinal \n",
              "                                           \"11.1\" \n",
              "                        Cáncer de cabeza y cuello \n",
              "                                             \"12\" \n",
              "                                  Cáncer de riñón \n",
              "                                             \"13\" \n",
              "                                 Cáncer de hígado \n",
              "                                             \"14\" \n",
              "                          Carcinoma hepatocelular \n",
              "                                           \"14.1\" \n",
              "                        Cáncer de pulmón/pulmonar \n",
              "                                             \"15\" \n",
              "                Carcinoma pulmonar no microcítico \n",
              "                                           \"15.1\" \n",
              "                   Carcinoma pulmonar microcítico \n",
              "                                           \"15.2\" \n",
              "                                         Melanoma \n",
              "                                             \"16\" \n",
              "                      Carcinoma de células Merkel \n",
              "                                             \"17\" \n",
              "                                      Mesotelioma \n",
              "                                             \"18\" \n",
              "Neoplasia mixto neuroendocrino no- neuroendocrino \n",
              "                                             \"19\" \n",
              "                         Carcinoma neuroendocrino \n",
              "                                             \"20\" \n",
              "     Carcinoma neuroendocrino de células pequeñas \n",
              "                                           \"20.1\" \n",
              "                             Tumor neuroendocrino \n",
              "                                             \"21\" \n",
              "                                     Osteosarcoma \n",
              "                                             \"22\" \n",
              "                                 Cáncer de ovario \n",
              "                                             \"23\" \n",
              "                               Cáncer de páncreas \n",
              "                                             \"24\" \n",
              "                                    Paraganglioma \n",
              "                                             \"25\" \n",
              "                               Cáncer de próstata \n",
              "                                             \"26\" \n",
              "          Carcinoma de células basales de la piel \n",
              "                                             \"27\" \n",
              "                       Sarcoma de tejidos blandos \n",
              "                                             \"28\" \n",
              "                                Cáncer testicular \n",
              "                                             \"29\" \n",
              "                                  Cáncer tiroideo \n",
              "                                             \"30\" \n",
              "                                  Sarcoma uterino \n",
              "                                             \"31\" \n",
              "                                   Melanoma uveal \n",
              "                                             \"32\" \n",
              "                      Origen primario desconocido \n",
              "                                             \"33\" \n",
              "                                Otro tumor sólido \n",
              "                                             \"34\" \n",
              "                                          Linfoma \n",
              "                                             \"35\" "
            ]
          },
          "metadata": {}
        }
      ]
    },
    {
      "cell_type": "code",
      "source": [
        "for (diag in names(diagnosticos_dic)) {\n",
        "  valor <- unname(diagnosticos_dic[diag])\n",
        "  cat(diag, \":\", valor, \"\\n\")\n",
        "}\n",
        "# La función names nos permite recorrer las claves del diccionario y unname() obtiene dicho valor. \n",
        "# Cat() permite imprimirlo en formato clave:valor"
      ],
      "metadata": {
        "id": "LBpJXVhj7Xga",
        "outputId": "03ec39aa-2407-40a5-e873-47c72aba9077",
        "colab": {
          "base_uri": "https://localhost:8080/"
        }
      },
      "execution_count": 62,
      "outputs": [
        {
          "output_type": "stream",
          "name": "stdout",
          "text": [
            "Carcinoma del tracto biliar : 1 \n",
            "Colangiocarcinoma : 1.1 \n",
            "Carcinoma de la vesícula biliar : 1.2 \n",
            "Cáncer de vejiga : 2 \n",
            "Carcinoma vesicular uroterial : 2.1 \n",
            "Cáncer de mama : 3 \n",
            "Triple negativo de mama : 3.1 \n",
            "Neoplasia del sistema nervioso central : 4 \n",
            "Glioma : 4.1 \n",
            "Cáncer cervical : 5 \n",
            "Condrosarcoma : 6 \n",
            "Cáncer colorrectal : 7 \n",
            "Carcinoma de células escamosas cutáneas : 8 \n",
            "Carcinoma endometrial : 9 \n",
            "Cáncer esofágico : 10 \n",
            "Cáncer gástrico : 11 \n",
            "Tumor del estroma gastrointestinal : 11.1 \n",
            "Cáncer de cabeza y cuello : 12 \n",
            "Cáncer de riñón : 13 \n",
            "Cáncer de hígado : 14 \n",
            "Carcinoma hepatocelular : 14.1 \n",
            "Cáncer de pulmón/pulmonar : 15 \n",
            "Carcinoma pulmonar no microcítico : 15.1 \n",
            "Carcinoma pulmonar microcítico : 15.2 \n",
            "Melanoma : 16 \n",
            "Carcinoma de células Merkel : 17 \n",
            "Mesotelioma : 18 \n",
            "Neoplasia mixto neuroendocrino no- neuroendocrino : 19 \n",
            "Carcinoma neuroendocrino : 20 \n",
            "Carcinoma neuroendocrino de células pequeñas : 20.1 \n",
            "Tumor neuroendocrino : 21 \n",
            "Osteosarcoma : 22 \n",
            "Cáncer de ovario : 23 \n",
            "Cáncer de páncreas : 24 \n",
            "Paraganglioma : 25 \n",
            "Cáncer de próstata : 26 \n",
            "Carcinoma de células basales de la piel : 27 \n",
            "Sarcoma de tejidos blandos : 28 \n",
            "Cáncer testicular : 29 \n",
            "Cáncer tiroideo : 30 \n",
            "Sarcoma uterino : 31 \n",
            "Melanoma uveal : 32 \n",
            "Origen primario desconocido : 33 \n",
            "Otro tumor sólido : 34 \n",
            "Linfoma : 35 \n"
          ]
        }
      ]
    },
    {
      "cell_type": "code",
      "source": [
        "mutaciones_dic <- setNames(Genes$`Número gen`, Genes$GEN)\n",
        "mutaciones_dic"
      ],
      "metadata": {
        "id": "oTVowgGYDDvT",
        "outputId": "16148448-cce9-4ebe-f100-100bdff95c8b",
        "colab": {
          "base_uri": "https://localhost:8080/",
          "height": 191
        }
      },
      "execution_count": 59,
      "outputs": [
        {
          "output_type": "display_data",
          "data": {
            "text/html": [
              "<style>\n",
              ".dl-inline {width: auto; margin:0; padding: 0}\n",
              ".dl-inline>dt, .dl-inline>dd {float: none; width: auto; display: inline-block}\n",
              ".dl-inline>dt::after {content: \":\\0020\"; padding-right: .5ex}\n",
              ".dl-inline>dt:not(:first-of-type) {padding-left: .5ex}\n",
              "</style><dl class=dl-inline><dt>ABL1</dt><dd>1</dd><dt>AKT1</dt><dd>2</dd><dt>AKT3</dt><dd>3</dd><dt>ALK</dt><dd>4</dd><dt>AR</dt><dd>5</dd><dt>AXL</dt><dd>6</dd><dt>BRAF</dt><dd>7</dd><dt>CCND1</dt><dd>8</dd><dt>CDK4</dt><dd>9</dd><dt>CDK6</dt><dd>10</dd><dt>CTNNB1</dt><dd>11</dd><dt>DDR2</dt><dd>12</dd><dt>EGFR</dt><dd>13</dd><dt>ERBB2</dt><dd>14</dd><dt>ERBB3</dt><dd>15</dd><dt>ERBB4</dt><dd>16</dd><dt>ERG</dt><dd>17</dd><dt>ESR1</dt><dd>18</dd><dt>ETV1</dt><dd>19</dd><dt>ETV4</dt><dd>20</dd><dt>ETV5</dt><dd>21</dd><dt>FGFR1</dt><dd>22</dd><dt>FGFR2</dt><dd>23</dd><dt>FGFR3</dt><dd>24</dd><dt>FGFR4</dt><dd>25</dd><dt>GNA11</dt><dd>26</dd><dt>GNAQ</dt><dd>27</dd><dt>HRAS</dt><dd>28</dd><dt>IDH1</dt><dd>29</dd><dt>IDH2</dt><dd>30</dd><dt>JAK1</dt><dd>31</dd><dt>JAK2</dt><dd>32</dd><dt>JAK3</dt><dd>33</dd><dt>KIT</dt><dd>34</dd><dt>KRAS</dt><dd>35</dd><dt>MAP2K1</dt><dd>36</dd><dt>MAP2K2</dt><dd>37</dd><dt>MET</dt><dd>38</dd><dt>MTOR</dt><dd>39</dd><dt>MYC</dt><dd>40</dd><dt>MYCN</dt><dd>41</dd><dt>NRAS</dt><dd>42</dd><dt>NTRK1</dt><dd>43</dd><dt>NTRK2</dt><dd>44</dd><dt>NTRK3</dt><dd>45</dd><dt>PDGFRA</dt><dd>46</dd><dt>PIK3CA</dt><dd>47</dd><dt>PPARG</dt><dd>48</dd><dt>RAF1</dt><dd>49</dd><dt>RET</dt><dd>50</dd><dt>ROS1</dt><dd>51</dd><dt>SMO</dt><dd>52</dd></dl>\n"
            ],
            "text/markdown": "ABL1\n:   1AKT1\n:   2AKT3\n:   3ALK\n:   4AR\n:   5AXL\n:   6BRAF\n:   7CCND1\n:   8CDK4\n:   9CDK6\n:   10CTNNB1\n:   11DDR2\n:   12EGFR\n:   13ERBB2\n:   14ERBB3\n:   15ERBB4\n:   16ERG\n:   17ESR1\n:   18ETV1\n:   19ETV4\n:   20ETV5\n:   21FGFR1\n:   22FGFR2\n:   23FGFR3\n:   24FGFR4\n:   25GNA11\n:   26GNAQ\n:   27HRAS\n:   28IDH1\n:   29IDH2\n:   30JAK1\n:   31JAK2\n:   32JAK3\n:   33KIT\n:   34KRAS\n:   35MAP2K1\n:   36MAP2K2\n:   37MET\n:   38MTOR\n:   39MYC\n:   40MYCN\n:   41NRAS\n:   42NTRK1\n:   43NTRK2\n:   44NTRK3\n:   45PDGFRA\n:   46PIK3CA\n:   47PPARG\n:   48RAF1\n:   49RET\n:   50ROS1\n:   51SMO\n:   52\n\n",
            "text/latex": "\\begin{description*}\n\\item[ABL1] 1\n\\item[AKT1] 2\n\\item[AKT3] 3\n\\item[ALK] 4\n\\item[AR] 5\n\\item[AXL] 6\n\\item[BRAF] 7\n\\item[CCND1] 8\n\\item[CDK4] 9\n\\item[CDK6] 10\n\\item[CTNNB1] 11\n\\item[DDR2] 12\n\\item[EGFR] 13\n\\item[ERBB2] 14\n\\item[ERBB3] 15\n\\item[ERBB4] 16\n\\item[ERG] 17\n\\item[ESR1] 18\n\\item[ETV1] 19\n\\item[ETV4] 20\n\\item[ETV5] 21\n\\item[FGFR1] 22\n\\item[FGFR2] 23\n\\item[FGFR3] 24\n\\item[FGFR4] 25\n\\item[GNA11] 26\n\\item[GNAQ] 27\n\\item[HRAS] 28\n\\item[IDH1] 29\n\\item[IDH2] 30\n\\item[JAK1] 31\n\\item[JAK2] 32\n\\item[JAK3] 33\n\\item[KIT] 34\n\\item[KRAS] 35\n\\item[MAP2K1] 36\n\\item[MAP2K2] 37\n\\item[MET] 38\n\\item[MTOR] 39\n\\item[MYC] 40\n\\item[MYCN] 41\n\\item[NRAS] 42\n\\item[NTRK1] 43\n\\item[NTRK2] 44\n\\item[NTRK3] 45\n\\item[PDGFRA] 46\n\\item[PIK3CA] 47\n\\item[PPARG] 48\n\\item[RAF1] 49\n\\item[RET] 50\n\\item[ROS1] 51\n\\item[SMO] 52\n\\end{description*}\n",
            "text/plain": [
              "  ABL1   AKT1   AKT3    ALK     AR    AXL   BRAF  CCND1   CDK4   CDK6 CTNNB1 \n",
              "     1      2      3      4      5      6      7      8      9     10     11 \n",
              "  DDR2   EGFR  ERBB2  ERBB3  ERBB4    ERG   ESR1   ETV1   ETV4   ETV5  FGFR1 \n",
              "    12     13     14     15     16     17     18     19     20     21     22 \n",
              " FGFR2  FGFR3  FGFR4  GNA11   GNAQ   HRAS   IDH1   IDH2   JAK1   JAK2   JAK3 \n",
              "    23     24     25     26     27     28     29     30     31     32     33 \n",
              "   KIT   KRAS MAP2K1 MAP2K2    MET   MTOR    MYC   MYCN   NRAS  NTRK1  NTRK2 \n",
              "    34     35     36     37     38     39     40     41     42     43     44 \n",
              " NTRK3 PDGFRA PIK3CA  PPARG   RAF1    RET   ROS1    SMO \n",
              "    45     46     47     48     49     50     51     52 "
            ]
          },
          "metadata": {}
        }
      ]
    },
    {
      "cell_type": "code",
      "source": [
        "mutaciones <- unique(Genes$GEN)\n",
        "mutaciones"
      ],
      "metadata": {
        "id": "2hsm9TUqwtGb",
        "outputId": "9de67606-9b9d-4268-8bf9-936dc963068b",
        "colab": {
          "base_uri": "https://localhost:8080/",
          "height": 104
        }
      },
      "execution_count": 60,
      "outputs": [
        {
          "output_type": "display_data",
          "data": {
            "text/html": [
              "<style>\n",
              ".list-inline {list-style: none; margin:0; padding: 0}\n",
              ".list-inline>li {display: inline-block}\n",
              ".list-inline>li:not(:last-child)::after {content: \"\\00b7\"; padding: 0 .5ex}\n",
              "</style>\n",
              "<ol class=list-inline><li>'ABL1'</li><li>'AKT1'</li><li>'AKT3'</li><li>'ALK'</li><li>'AR'</li><li>'AXL'</li><li>'BRAF'</li><li>'CCND1'</li><li>'CDK4'</li><li>'CDK6'</li><li>'CTNNB1'</li><li>'DDR2'</li><li>'EGFR'</li><li>'ERBB2'</li><li>'ERBB3'</li><li>'ERBB4'</li><li>'ERG'</li><li>'ESR1'</li><li>'ETV1'</li><li>'ETV4'</li><li>'ETV5'</li><li>'FGFR1'</li><li>'FGFR2'</li><li>'FGFR3'</li><li>'FGFR4'</li><li>'GNA11'</li><li>'GNAQ'</li><li>'HRAS'</li><li>'IDH1'</li><li>'IDH2'</li><li>'JAK1'</li><li>'JAK2'</li><li>'JAK3'</li><li>'KIT'</li><li>'KRAS'</li><li>'MAP2K1'</li><li>'MAP2K2'</li><li>'MET'</li><li>'MTOR'</li><li>'MYC'</li><li>'MYCN'</li><li>'NRAS'</li><li>'NTRK1'</li><li>'NTRK2'</li><li>'NTRK3'</li><li>'PDGFRA'</li><li>'PIK3CA'</li><li>'PPARG'</li><li>'RAF1'</li><li>'RET'</li><li>'ROS1'</li><li>'SMO'</li></ol>\n"
            ],
            "text/markdown": "1. 'ABL1'\n2. 'AKT1'\n3. 'AKT3'\n4. 'ALK'\n5. 'AR'\n6. 'AXL'\n7. 'BRAF'\n8. 'CCND1'\n9. 'CDK4'\n10. 'CDK6'\n11. 'CTNNB1'\n12. 'DDR2'\n13. 'EGFR'\n14. 'ERBB2'\n15. 'ERBB3'\n16. 'ERBB4'\n17. 'ERG'\n18. 'ESR1'\n19. 'ETV1'\n20. 'ETV4'\n21. 'ETV5'\n22. 'FGFR1'\n23. 'FGFR2'\n24. 'FGFR3'\n25. 'FGFR4'\n26. 'GNA11'\n27. 'GNAQ'\n28. 'HRAS'\n29. 'IDH1'\n30. 'IDH2'\n31. 'JAK1'\n32. 'JAK2'\n33. 'JAK3'\n34. 'KIT'\n35. 'KRAS'\n36. 'MAP2K1'\n37. 'MAP2K2'\n38. 'MET'\n39. 'MTOR'\n40. 'MYC'\n41. 'MYCN'\n42. 'NRAS'\n43. 'NTRK1'\n44. 'NTRK2'\n45. 'NTRK3'\n46. 'PDGFRA'\n47. 'PIK3CA'\n48. 'PPARG'\n49. 'RAF1'\n50. 'RET'\n51. 'ROS1'\n52. 'SMO'\n\n\n",
            "text/latex": "\\begin{enumerate*}\n\\item 'ABL1'\n\\item 'AKT1'\n\\item 'AKT3'\n\\item 'ALK'\n\\item 'AR'\n\\item 'AXL'\n\\item 'BRAF'\n\\item 'CCND1'\n\\item 'CDK4'\n\\item 'CDK6'\n\\item 'CTNNB1'\n\\item 'DDR2'\n\\item 'EGFR'\n\\item 'ERBB2'\n\\item 'ERBB3'\n\\item 'ERBB4'\n\\item 'ERG'\n\\item 'ESR1'\n\\item 'ETV1'\n\\item 'ETV4'\n\\item 'ETV5'\n\\item 'FGFR1'\n\\item 'FGFR2'\n\\item 'FGFR3'\n\\item 'FGFR4'\n\\item 'GNA11'\n\\item 'GNAQ'\n\\item 'HRAS'\n\\item 'IDH1'\n\\item 'IDH2'\n\\item 'JAK1'\n\\item 'JAK2'\n\\item 'JAK3'\n\\item 'KIT'\n\\item 'KRAS'\n\\item 'MAP2K1'\n\\item 'MAP2K2'\n\\item 'MET'\n\\item 'MTOR'\n\\item 'MYC'\n\\item 'MYCN'\n\\item 'NRAS'\n\\item 'NTRK1'\n\\item 'NTRK2'\n\\item 'NTRK3'\n\\item 'PDGFRA'\n\\item 'PIK3CA'\n\\item 'PPARG'\n\\item 'RAF1'\n\\item 'RET'\n\\item 'ROS1'\n\\item 'SMO'\n\\end{enumerate*}\n",
            "text/plain": [
              " [1] \"ABL1\"   \"AKT1\"   \"AKT3\"   \"ALK\"    \"AR\"     \"AXL\"    \"BRAF\"   \"CCND1\" \n",
              " [9] \"CDK4\"   \"CDK6\"   \"CTNNB1\" \"DDR2\"   \"EGFR\"   \"ERBB2\"  \"ERBB3\"  \"ERBB4\" \n",
              "[17] \"ERG\"    \"ESR1\"   \"ETV1\"   \"ETV4\"   \"ETV5\"   \"FGFR1\"  \"FGFR2\"  \"FGFR3\" \n",
              "[25] \"FGFR4\"  \"GNA11\"  \"GNAQ\"   \"HRAS\"   \"IDH1\"   \"IDH2\"   \"JAK1\"   \"JAK2\"  \n",
              "[33] \"JAK3\"   \"KIT\"    \"KRAS\"   \"MAP2K1\" \"MAP2K2\" \"MET\"    \"MTOR\"   \"MYC\"   \n",
              "[41] \"MYCN\"   \"NRAS\"   \"NTRK1\"  \"NTRK2\"  \"NTRK3\"  \"PDGFRA\" \"PIK3CA\" \"PPARG\" \n",
              "[49] \"RAF1\"   \"RET\"    \"ROS1\"   \"SMO\"   "
            ]
          },
          "metadata": {}
        }
      ]
    },
    {
      "cell_type": "code",
      "source": [
        "for (gen in names(mutaciones_dic)) {\n",
        "  valor <- unname(mutaciones_dic[gen])\n",
        "  cat(gen, \":\", valor, \"\\n\")\n",
        "}"
      ],
      "metadata": {
        "id": "X3ZKBtIoFJ-0",
        "outputId": "d85a94d7-c970-4f8e-eef3-a9d77da6dbb4",
        "colab": {
          "base_uri": "https://localhost:8080/"
        }
      },
      "execution_count": 61,
      "outputs": [
        {
          "output_type": "stream",
          "name": "stdout",
          "text": [
            "ABL1 : 1 \n",
            "AKT1 : 2 \n",
            "AKT3 : 3 \n",
            "ALK : 4 \n",
            "AR : 5 \n",
            "AXL : 6 \n",
            "BRAF : 7 \n",
            "CCND1 : 8 \n",
            "CDK4 : 9 \n",
            "CDK6 : 10 \n",
            "CTNNB1 : 11 \n",
            "DDR2 : 12 \n",
            "EGFR : 13 \n",
            "ERBB2 : 14 \n",
            "ERBB3 : 15 \n",
            "ERBB4 : 16 \n",
            "ERG : 17 \n",
            "ESR1 : 18 \n",
            "ETV1 : 19 \n",
            "ETV4 : 20 \n",
            "ETV5 : 21 \n",
            "FGFR1 : 22 \n",
            "FGFR2 : 23 \n",
            "FGFR3 : 24 \n",
            "FGFR4 : 25 \n",
            "GNA11 : 26 \n",
            "GNAQ : 27 \n",
            "HRAS : 28 \n",
            "IDH1 : 29 \n",
            "IDH2 : 30 \n",
            "JAK1 : 31 \n",
            "JAK2 : 32 \n",
            "JAK3 : 33 \n",
            "KIT : 34 \n",
            "KRAS : 35 \n",
            "MAP2K1 : 36 \n",
            "MAP2K2 : 37 \n",
            "MET : 38 \n",
            "MTOR : 39 \n",
            "MYC : 40 \n",
            "MYCN : 41 \n",
            "NRAS : 42 \n",
            "NTRK1 : 43 \n",
            "NTRK2 : 44 \n",
            "NTRK3 : 45 \n",
            "PDGFRA : 46 \n",
            "PIK3CA : 47 \n",
            "PPARG : 48 \n",
            "RAF1 : 49 \n",
            "RET : 50 \n",
            "ROS1 : 51 \n",
            "SMO : 52 \n"
          ]
        }
      ]
    },
    {
      "cell_type": "markdown",
      "source": [
        "## **Desarrollo del código**"
      ],
      "metadata": {
        "id": "X_TP7ddJ8-pY"
      }
    },
    {
      "cell_type": "markdown",
      "source": [
        "Ensayos clinicos y tratamientos disponibles. "
      ],
      "metadata": {
        "id": "eJkbpvOT9IEI"
      }
    },
    {
      "cell_type": "code",
      "source": [
        "lista_ensayos <- list()\n",
        "ensayos_finales <- list()\n",
        "\n",
        "for (ficheroPDF in ficheros) {\n",
        "  lines <- \n",
        "}"
      ],
      "metadata": {
        "id": "ZU9Kn1Yk8ylz"
      },
      "execution_count": null,
      "outputs": []
    },
    {
      "cell_type": "code",
      "source": [],
      "metadata": {
        "id": "adtA651-8yip"
      },
      "execution_count": null,
      "outputs": []
    },
    {
      "cell_type": "code",
      "source": [],
      "metadata": {
        "id": "UkwHbjrj8ygd"
      },
      "execution_count": null,
      "outputs": []
    }
  ]
}