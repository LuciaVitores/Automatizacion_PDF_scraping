{
  "nbformat": 4,
  "nbformat_minor": 0,
  "metadata": {
    "colab": {
      "provenance": [],
      "toc_visible": true,
      "authorship_tag": "ABX9TyMmsYfyAss7BwZXWgDsXSLc",
      "include_colab_link": true
    },
    "kernelspec": {
      "name": "ir",
      "display_name": "R"
    },
    "language_info": {
      "name": "R"
    }
  },
  "cells": [
    {
      "cell_type": "markdown",
      "metadata": {
        "id": "view-in-github",
        "colab_type": "text"
      },
      "source": [
        "<a href=\"https://colab.research.google.com/github/LuciaVitores/Automatizacion_PDF_scraping/blob/main/CodigoR.ipynb\" target=\"_parent\"><img src=\"https://colab.research.google.com/assets/colab-badge.svg\" alt=\"Open In Colab\"/></a>"
      ]
    },
    {
      "cell_type": "code",
      "execution_count": null,
      "metadata": {
        "colab": {
          "base_uri": "https://localhost:8080/"
        },
        "id": "64W4H8Xl0iBb",
        "outputId": "c8ab4913-13a7-4cb7-88c8-659a7cf40173"
      },
      "outputs": [
        {
          "output_type": "stream",
          "name": "stdout",
          "text": [
            "[1] 1.27\n"
          ]
        }
      ],
      "source": [
        "x <- c(1.27)\n",
        "print(x)"
      ]
    },
    {
      "cell_type": "markdown",
      "source": [
        "## **Funciones**"
      ],
      "metadata": {
        "id": "vFz_XpSCLdXn"
      }
    },
    {
      "cell_type": "code",
      "source": [
        "LeerFicherosPDF <- function(ruta) {\n",
        "  ficheros <- list()\n",
        "  #ficheros <- vector(\"list\", length = 0)\n",
        "  contenido <- list.files(ruta)\n",
        "  for (fichero in contenido) {\n",
        "    if (isTRUE(file.info(file.path(ruta, fichero))$isfile) && tolower(file_ext(fichero)) == \"pdf\") {\n",
        "      ficheros <- c(ficheros, fichero)\n",
        "    }\n",
        "  }\n",
        "  return(ficheros)\n",
        "}\n",
        "# Definimos la función que nos va a leer los ficheros de una ruta. \n",
        "# Usamos la función list para crear una lista vacía de elementos a la que vamos a añadir los elementos encontrados en la carpeta. \n",
        "# No usamos vector porque habría que identificar la longitud aproximada de la lista nueva."
      ],
      "metadata": {
        "id": "GF0NYhUcLe01"
      },
      "execution_count": 3,
      "outputs": []
    },
    {
      "cell_type": "code",
      "source": [
        "# library(pdftools)\n",
        "LeerDocumento <- function(nombreFichero){\n",
        "  doc <- pdf_render_page(nombreFichero)\n",
        "  text <- \"\"\n",
        "  for (page in doc) {\n",
        "    info <- pdf_text(nombreFichero)\n",
        "    text <- paste(text, info, sep = \"\")\n",
        "  } \n",
        "  return(strsplit(text, \"\\n\"))\n",
        "}\n"
      ],
      "metadata": {
        "id": "DQ6UUYF8LfLi"
      },
      "execution_count": 12,
      "outputs": []
    },
    {
      "cell_type": "code",
      "source": [
        "BuscarValos<- function(textoBuscar, lines){\n",
        "  Encontrados <- list()\n",
        "  valores <- ifelse(grepl(textoBuscar, lines), 1, 0)\n",
        "  valores <- which(valores == 1)\n",
        "  posiciones <- length(textoBuscar)\n",
        "  for (i in which(valores == 1)){\n",
        "    Encontrados <- c(Encontrados, substr(lines[i],regextr(textoBuscar, lines[i]) + posiciones, nchar(lines[i])))\n",
        "  }\n",
        "  return (Encontrados)\n",
        "}\n",
        "# Valores crea un if para saber si textoBuscar está en la cadena de texto lines. Para ello usa la función grepl().\n",
        "# En caso de encontrarlo pone un 1, sino 0. Ifelse (1, 0): if = 1, else = 0.\n",
        "# Which nos permite obtener los índices de aquellos elementos que cumplen la condicion ( == 1)\n",
        "# Substr nos deja obtener una subcadena \n",
        "# Regexpr() devuelve la posición de la última búsqueda de la palabra de interés (textoBuscar)\n",
        "# Nchar() la longitud de la cadena (el número de letras que forman un texto) Lenght devolvería el número de palabras que tiene un texto"
      ],
      "metadata": {
        "id": "b2YUCHPWjShQ"
      },
      "execution_count": 15,
      "outputs": []
    },
    {
      "cell_type": "markdown",
      "source": [
        "## **Lectura de ficheros Excel**"
      ],
      "metadata": {
        "id": "UPaTcOXWscDb"
      }
    },
    {
      "cell_type": "code",
      "source": [],
      "metadata": {
        "id": "3dcIdOV_sZKf"
      },
      "execution_count": null,
      "outputs": []
    }
  ]
}